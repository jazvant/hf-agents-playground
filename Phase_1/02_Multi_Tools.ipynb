{
 "cells": [
  {
   "cell_type": "code",
   "execution_count": null,
   "id": "02a6d3b6",
   "metadata": {},
   "outputs": [],
   "source": [
    "'''! pip install langchain_openai\n",
    "! pip install langchain_community\n",
    "! pip install langchain'''"
   ]
  },
  {
   "cell_type": "code",
   "execution_count": 1,
   "id": "60260111",
   "metadata": {},
   "outputs": [],
   "source": [
    "import os\n",
    "OPENROUTER_API_KEY = os.environ[\"OPENROUTER_API_KEY\"]"
   ]
  },
  {
   "cell_type": "code",
   "execution_count": 2,
   "id": "76faba6b",
   "metadata": {},
   "outputs": [
    {
     "name": "stderr",
     "output_type": "stream",
     "text": [
      "/tmp/ipykernel_15806/3266447783.py:19: LangChainDeprecationWarning: The class `LLMChain` was deprecated in LangChain 0.1.17 and will be removed in 1.0. Use :meth:`~RunnableSequence, e.g., `prompt | llm`` instead.\n",
      "  llm_chain = LLMChain(prompt=prompt, llm=llm)\n",
      "/tmp/ipykernel_15806/3266447783.py:23: LangChainDeprecationWarning: The method `Chain.run` was deprecated in langchain 0.1.0 and will be removed in 1.0. Use :meth:`~invoke` instead.\n",
      "  print(llm_chain.run(question))\n"
     ]
    },
    {
     "name": "stdout",
     "output_type": "stream",
     "text": [
      "Justin Bieber was born on March 1, 1994. \n",
      "\n",
      "The Super Bowl that took place in 1994 was Super Bowl XXVIII, which occurred on January 30, 1994. \n",
      "\n",
      "The Dallas Cowboys won Super Bowl XXVIII by defeating the Buffalo Bills 30-13.\n",
      "\n",
      "So, the NFL team that won the Super Bowl in the year Justin Bieber was born was the Dallas Cowboys.\n"
     ]
    }
   ],
   "source": [
    "from langchain_openai import ChatOpenAI\n",
    "from langchain_core.prompts import PromptTemplate\n",
    "from langchain.chains import LLMChain\n",
    "import os\n",
    "\n",
    "OPENROUTER_API_KEY = os.environ[\"OPENROUTER_API_KEY\"]\n",
    "\n",
    "template = \"\"\"Question: {question}\"\"\"\n",
    "\n",
    "prompt = PromptTemplate(template=template, input_variables=[\"question\"])\n",
    "\n",
    "llm = ChatOpenAI(\n",
    "  openai_api_base=\"https://openrouter.ai/api/v1\",\n",
    "  openai_api_key=OPENROUTER_API_KEY,\n",
    "  model=\"meta-llama/llama-4-scout:free\"\n",
    "  #model=\"openai/gpt-oss-20b:free\"\n",
    ")\n",
    "\n",
    "llm_chain = LLMChain(prompt=prompt, llm=llm)\n",
    "\n",
    "question = \"What NFL team won the Super Bowl in the year Justin Beiber was born?\"\n",
    "\n",
    "print(llm_chain.run(question))\n"
   ]
  },
  {
   "cell_type": "code",
   "execution_count": 9,
   "id": "803d3a9c",
   "metadata": {},
   "outputs": [
    {
     "data": {
      "text/html": [
       "<pre style=\"white-space:pre;overflow-x:auto;line-height:normal;font-family:Menlo,'DejaVu Sans Mono',consolas,'Courier New',monospace\"><span style=\"color: #d4b702; text-decoration-color: #d4b702\">╭──────────────────────────────────────────────────── </span><span style=\"color: #d4b702; text-decoration-color: #d4b702; font-weight: bold\">New run</span><span style=\"color: #d4b702; text-decoration-color: #d4b702\"> ────────────────────────────────────────────────────╮</span>\n",
       "<span style=\"color: #d4b702; text-decoration-color: #d4b702\">│</span>                                                                                                                 <span style=\"color: #d4b702; text-decoration-color: #d4b702\">│</span>\n",
       "<span style=\"color: #d4b702; text-decoration-color: #d4b702\">│</span> <span style=\"font-weight: bold\">What do you know about Narendra Modi ?</span>                                                                          <span style=\"color: #d4b702; text-decoration-color: #d4b702\">│</span>\n",
       "<span style=\"color: #d4b702; text-decoration-color: #d4b702\">│</span>                                                                                                                 <span style=\"color: #d4b702; text-decoration-color: #d4b702\">│</span>\n",
       "<span style=\"color: #d4b702; text-decoration-color: #d4b702\">╰─ OpenAIServerModel - meta-llama/llama-4-scout:free ─────────────────────────────────────────────────────────────╯</span>\n",
       "</pre>\n"
      ],
      "text/plain": [
       "\u001b[38;2;212;183;2m╭─\u001b[0m\u001b[38;2;212;183;2m───────────────────────────────────────────────────\u001b[0m\u001b[38;2;212;183;2m \u001b[0m\u001b[1;38;2;212;183;2mNew run\u001b[0m\u001b[38;2;212;183;2m \u001b[0m\u001b[38;2;212;183;2m───────────────────────────────────────────────────\u001b[0m\u001b[38;2;212;183;2m─╮\u001b[0m\n",
       "\u001b[38;2;212;183;2m│\u001b[0m                                                                                                                 \u001b[38;2;212;183;2m│\u001b[0m\n",
       "\u001b[38;2;212;183;2m│\u001b[0m \u001b[1mWhat do you know about Narendra Modi ?\u001b[0m                                                                          \u001b[38;2;212;183;2m│\u001b[0m\n",
       "\u001b[38;2;212;183;2m│\u001b[0m                                                                                                                 \u001b[38;2;212;183;2m│\u001b[0m\n",
       "\u001b[38;2;212;183;2m╰─\u001b[0m\u001b[38;2;212;183;2m OpenAIServerModel - meta-llama/llama-4-scout:free \u001b[0m\u001b[38;2;212;183;2m────────────────────────────────────────────────────────────\u001b[0m\u001b[38;2;212;183;2m─╯\u001b[0m\n"
      ]
     },
     "metadata": {},
     "output_type": "display_data"
    },
    {
     "data": {
      "text/html": [
       "<pre style=\"white-space:pre;overflow-x:auto;line-height:normal;font-family:Menlo,'DejaVu Sans Mono',consolas,'Courier New',monospace\"><span style=\"color: #d4b702; text-decoration-color: #d4b702\">━━━━━━━━━━━━━━━━━━━━━━━━━━━━━━━━━━━━━━━━━━━━━━━━━━━━━ </span><span style=\"font-weight: bold\">Step 1</span><span style=\"color: #d4b702; text-decoration-color: #d4b702\"> ━━━━━━━━━━━━━━━━━━━━━━━━━━━━━━━━━━━━━━━━━━━━━━━━━━━━━━</span>\n",
       "</pre>\n"
      ],
      "text/plain": [
       "\u001b[38;2;212;183;2m━━━━━━━━━━━━━━━━━━━━━━━━━━━━━━━━━━━━━━━━━━━━━━━━━━━━━ \u001b[0m\u001b[1mStep 1\u001b[0m\u001b[38;2;212;183;2m ━━━━━━━━━━━━━━━━━━━━━━━━━━━━━━━━━━━━━━━━━━━━━━━━━━━━━━\u001b[0m\n"
      ]
     },
     "metadata": {},
     "output_type": "display_data"
    },
    {
     "data": {
      "text/html": [
       "<pre style=\"white-space:pre;overflow-x:auto;line-height:normal;font-family:Menlo,'DejaVu Sans Mono',consolas,'Courier New',monospace\">╭─────────────────────────────────────────────────────────────────────────────────────────────────────────────────╮\n",
       "│ Calling tool: 'web_search' with arguments: {'query': 'Narendra Modi biography'}                                 │\n",
       "╰─────────────────────────────────────────────────────────────────────────────────────────────────────────────────╯\n",
       "</pre>\n"
      ],
      "text/plain": [
       "╭─────────────────────────────────────────────────────────────────────────────────────────────────────────────────╮\n",
       "│ Calling tool: 'web_search' with arguments: {'query': 'Narendra Modi biography'}                                 │\n",
       "╰─────────────────────────────────────────────────────────────────────────────────────────────────────────────────╯\n"
      ]
     },
     "metadata": {},
     "output_type": "display_data"
    },
    {
     "data": {
      "text/html": [
       "<pre style=\"white-space:pre;overflow-x:auto;line-height:normal;font-family:Menlo,'DejaVu Sans Mono',consolas,'Courier New',monospace\">Observations: ## Search Results\n",
       "\n",
       "|Wikipedia Narendra Modi - Wikipedia](https://en.wikipedia.org/wiki/Narendra_Modi)\n",
       "5 days ago - He remains a highly controversial ... Narendra Damodardas Modi was born on 17 September 1950 to a \n",
       "Gujarati family of Other Backward Class (OBC) background and Hindu faith in Vadnagar, Mehsana district, Bombay \n",
       "State (present-day Gujarat). ...\n",
       "\n",
       "|Simple English Wikipedia Narendra Modi - Simple English Wikipedia, the free \n",
       "encyclopedia](https://simple.wikipedia.org/wiki/Narendra_Modi)\n",
       "2 weeks ago - Narendra Damodardas Modi ( born: 17 September, 1950) is an Indian politician who is the 14th and \n",
       "current Prime Minister of India since 2014. He was previously the Chief Minister of the state of Gujarat from 2001 \n",
       "to 2014. He was elected prime minister in May 2014.\n",
       "\n",
       "|Encyclopedia Britannica Narendra Modi | Biography, Career, &amp; Facts | \n",
       "Britannica](https://www.britannica.com/biography/Narendra-Modi)\n",
       "1 week ago - Narendra Modi is the 14th prime minister of India . His Hindu nationalist policies and some of his \n",
       "economic reforms have proved controversial to many within and outside India.\n",
       "\n",
       "|PW Live Narendra Modi Biography, Full Name, Date of Birth, Education, Age and Birth \n",
       "Place](https://www.pw.live/upsc/exams/narendra-modi-biography)\n",
       "August 6, 2025 - Narendra Modi Biography: Shri Narendra Modi is the 14th and current prime minister of India, \n",
       "serving since May 26, 2014. His Date of Birth is 17 September 1950, and his Birth Place is Vadnagar, Gujarat. He is\n",
       "a leader who has reshaped the political and economic landscape of India.\n",
       "\n",
       "|Bharatiya Janata Party Shri Narendra Modi | Bharatiya Janata Party](https://www.bjp.org/shri-narendra-modi)\n",
       "August 10, 2025 - On 26th May 2014 Narendra Modi took oath as the Prime Minister of India, becoming the first ever \n",
       "PM to be born after India attained Independence . Dynamic, dedicated and determined, Narendra Modi reflects the \n",
       "aspiration and hope of over a billion Indians. Ever since he assumed office in May ...\n",
       "\n",
       "|PWOnlyIAS PM Narendra Modi Biography: Early Life, Education, Political Journey, Achievements, \n",
       "Birthday](https://pwonlyias.com/narendra-modi/)\n",
       "3 weeks ago - Prime Minister Narendra Modi Biography: ... PM Modi’s birthday will be celebrated on September 17. He\n",
       "was born in 1950, in Vadnagar, Gujarat, Modi rose from humble beginnings to become a key political figure ....\n",
       "\n",
       "|Amazon Narendra Modi: The Man, The Times : Mukhopadhyay, Nilanjan: Amazon.in: \n",
       "Books](https://www.amazon.in/Narendra-Modi-Times-Nilanjan-Mukhopadhyay/dp/9383260483)\n",
       "Written by veteran journalist and writer, Nilanjan Mukhopadhyay , after several in-depth interviews, meticulous \n",
       "research and extensive travel through Gujarat, this book reveals hitherto unknown aspects of Narendra Modi's \n",
       "psyche: as a six year- old boy selling tea to help out his father and ...\n",
       "\n",
       "|India Elections Narendra Modi Biography - About Family, Political life, News and \n",
       "Updates](https://www.elections.in/political-leaders/narendra-modi.html)\n",
       "Narendra Modi Biography - Read about Family, Age, Caste, Married Life, Political Career, Early Political Life, \n",
       "Religion, Net Worth and many key facts.\n",
       "\n",
       "|Jagran Josh Narendra Modi Biography: Early Life, Family, Political Life, Net Worth &amp; Key \n",
       "Facts](https://www.jagranjosh.com/general-knowledge/narendra-modi-biography-1554300449-1)\n",
       "February 3, 2022 - Narendra Modi Biography: He is a dynamic, determined, and dedicated Prime Minister of India who \n",
       "was born on 17 September 1950 at Vadnagar, India . On 30 May 2019, he was sworn in as India's Prime Minister \n",
       "marking the start of his second term in office. He is also the longest-serving Chief Minister ...\n",
       "\n",
       "|Narendra Modi Narendra Modi | NarendraModi.in Official Website of Prime Minister of India | PM Narendra \n",
       "Modi](https://www.narendramodi.in/)\n",
       "Prime Minister Narendra Modi , Get all the information news, updates, speeches on the official website on \n",
       "narendramodi.in\n",
       "</pre>\n"
      ],
      "text/plain": [
       "Observations: ## Search Results\n",
       "\n",
       "|Wikipedia Narendra Modi - Wikipedia](https://en.wikipedia.org/wiki/Narendra_Modi)\n",
       "5 days ago - He remains a highly controversial ... Narendra Damodardas Modi was born on 17 September 1950 to a \n",
       "Gujarati family of Other Backward Class (OBC) background and Hindu faith in Vadnagar, Mehsana district, Bombay \n",
       "State (present-day Gujarat). ...\n",
       "\n",
       "|Simple English Wikipedia Narendra Modi - Simple English Wikipedia, the free \n",
       "encyclopedia](https://simple.wikipedia.org/wiki/Narendra_Modi)\n",
       "2 weeks ago - Narendra Damodardas Modi ( born: 17 September, 1950) is an Indian politician who is the 14th and \n",
       "current Prime Minister of India since 2014. He was previously the Chief Minister of the state of Gujarat from 2001 \n",
       "to 2014. He was elected prime minister in May 2014.\n",
       "\n",
       "|Encyclopedia Britannica Narendra Modi | Biography, Career, & Facts | \n",
       "Britannica](https://www.britannica.com/biography/Narendra-Modi)\n",
       "1 week ago - Narendra Modi is the 14th prime minister of India . His Hindu nationalist policies and some of his \n",
       "economic reforms have proved controversial to many within and outside India.\n",
       "\n",
       "|PW Live Narendra Modi Biography, Full Name, Date of Birth, Education, Age and Birth \n",
       "Place](https://www.pw.live/upsc/exams/narendra-modi-biography)\n",
       "August 6, 2025 - Narendra Modi Biography: Shri Narendra Modi is the 14th and current prime minister of India, \n",
       "serving since May 26, 2014. His Date of Birth is 17 September 1950, and his Birth Place is Vadnagar, Gujarat. He is\n",
       "a leader who has reshaped the political and economic landscape of India.\n",
       "\n",
       "|Bharatiya Janata Party Shri Narendra Modi | Bharatiya Janata Party](https://www.bjp.org/shri-narendra-modi)\n",
       "August 10, 2025 - On 26th May 2014 Narendra Modi took oath as the Prime Minister of India, becoming the first ever \n",
       "PM to be born after India attained Independence . Dynamic, dedicated and determined, Narendra Modi reflects the \n",
       "aspiration and hope of over a billion Indians. Ever since he assumed office in May ...\n",
       "\n",
       "|PWOnlyIAS PM Narendra Modi Biography: Early Life, Education, Political Journey, Achievements, \n",
       "Birthday](https://pwonlyias.com/narendra-modi/)\n",
       "3 weeks ago - Prime Minister Narendra Modi Biography: ... PM Modi’s birthday will be celebrated on September 17. He\n",
       "was born in 1950, in Vadnagar, Gujarat, Modi rose from humble beginnings to become a key political figure ....\n",
       "\n",
       "|Amazon Narendra Modi: The Man, The Times : Mukhopadhyay, Nilanjan: Amazon.in: \n",
       "Books](https://www.amazon.in/Narendra-Modi-Times-Nilanjan-Mukhopadhyay/dp/9383260483)\n",
       "Written by veteran journalist and writer, Nilanjan Mukhopadhyay , after several in-depth interviews, meticulous \n",
       "research and extensive travel through Gujarat, this book reveals hitherto unknown aspects of Narendra Modi's \n",
       "psyche: as a six year- old boy selling tea to help out his father and ...\n",
       "\n",
       "|India Elections Narendra Modi Biography - About Family, Political life, News and \n",
       "Updates](https://www.elections.in/political-leaders/narendra-modi.html)\n",
       "Narendra Modi Biography - Read about Family, Age, Caste, Married Life, Political Career, Early Political Life, \n",
       "Religion, Net Worth and many key facts.\n",
       "\n",
       "|Jagran Josh Narendra Modi Biography: Early Life, Family, Political Life, Net Worth & Key \n",
       "Facts](https://www.jagranjosh.com/general-knowledge/narendra-modi-biography-1554300449-1)\n",
       "February 3, 2022 - Narendra Modi Biography: He is a dynamic, determined, and dedicated Prime Minister of India who \n",
       "was born on 17 September 1950 at Vadnagar, India . On 30 May 2019, he was sworn in as India's Prime Minister \n",
       "marking the start of his second term in office. He is also the longest-serving Chief Minister ...\n",
       "\n",
       "|Narendra Modi Narendra Modi | NarendraModi.in Official Website of Prime Minister of India | PM Narendra \n",
       "Modi](https://www.narendramodi.in/)\n",
       "Prime Minister Narendra Modi , Get all the information news, updates, speeches on the official website on \n",
       "narendramodi.in\n"
      ]
     },
     "metadata": {},
     "output_type": "display_data"
    },
    {
     "data": {
      "text/html": [
       "<pre style=\"white-space:pre;overflow-x:auto;line-height:normal;font-family:Menlo,'DejaVu Sans Mono',consolas,'Courier New',monospace\"><span style=\"color: #7f7f7f; text-decoration-color: #7f7f7f\">[Step 1: Duration 5.66 seconds| Input tokens: 1,505 | Output tokens: 26]</span>\n",
       "</pre>\n"
      ],
      "text/plain": [
       "\u001b[2m[Step 1: Duration 5.66 seconds| Input tokens: 1,505 | Output tokens: 26]\u001b[0m\n"
      ]
     },
     "metadata": {},
     "output_type": "display_data"
    },
    {
     "data": {
      "text/html": [
       "<pre style=\"white-space:pre;overflow-x:auto;line-height:normal;font-family:Menlo,'DejaVu Sans Mono',consolas,'Courier New',monospace\"><span style=\"color: #d4b702; text-decoration-color: #d4b702\">━━━━━━━━━━━━━━━━━━━━━━━━━━━━━━━━━━━━━━━━━━━━━━━━━━━━━ </span><span style=\"font-weight: bold\">Step 2</span><span style=\"color: #d4b702; text-decoration-color: #d4b702\"> ━━━━━━━━━━━━━━━━━━━━━━━━━━━━━━━━━━━━━━━━━━━━━━━━━━━━━━</span>\n",
       "</pre>\n"
      ],
      "text/plain": [
       "\u001b[38;2;212;183;2m━━━━━━━━━━━━━━━━━━━━━━━━━━━━━━━━━━━━━━━━━━━━━━━━━━━━━ \u001b[0m\u001b[1mStep 2\u001b[0m\u001b[38;2;212;183;2m ━━━━━━━━━━━━━━━━━━━━━━━━━━━━━━━━━━━━━━━━━━━━━━━━━━━━━━\u001b[0m\n"
      ]
     },
     "metadata": {},
     "output_type": "display_data"
    },
    {
     "data": {
      "text/html": [
       "<pre style=\"white-space:pre;overflow-x:auto;line-height:normal;font-family:Menlo,'DejaVu Sans Mono',consolas,'Courier New',monospace\">╭─────────────────────────────────────────────────────────────────────────────────────────────────────────────────╮\n",
       "│ Calling tool: 'final_answer' with arguments: {'answer': \"Narendra Damodardas Modi is the 14th and current Prime │\n",
       "│ Minister of India, serving since May 26, 2014. He was born on September 17, 1950, in Vadnagar, Gujarat, India.  │\n",
       "│ Modi is a member of the Bharatiya Janata Party (BJP) and has been a key figure in Indian politics for over two  │\n",
       "│ decades. Before becoming Prime Minister, he served as the Chief Minister of Gujarat from 2001 to 2014. Modi's   │\n",
       "│ tenure as Prime Minister has been marked by several significant initiatives, including economic reforms,        │\n",
       "│ infrastructure development, and social welfare programs. However, his policies and leadership have also been    │\n",
       "│ subject to controversy and criticism, particularly with regards to his Hindu nationalist agenda and handling of │\n",
       "│ various social and economic issues.\"}                                                                           │\n",
       "╰─────────────────────────────────────────────────────────────────────────────────────────────────────────────────╯\n",
       "</pre>\n"
      ],
      "text/plain": [
       "╭─────────────────────────────────────────────────────────────────────────────────────────────────────────────────╮\n",
       "│ Calling tool: 'final_answer' with arguments: {'answer': \"Narendra Damodardas Modi is the 14th and current Prime │\n",
       "│ Minister of India, serving since May 26, 2014. He was born on September 17, 1950, in Vadnagar, Gujarat, India.  │\n",
       "│ Modi is a member of the Bharatiya Janata Party (BJP) and has been a key figure in Indian politics for over two  │\n",
       "│ decades. Before becoming Prime Minister, he served as the Chief Minister of Gujarat from 2001 to 2014. Modi's   │\n",
       "│ tenure as Prime Minister has been marked by several significant initiatives, including economic reforms,        │\n",
       "│ infrastructure development, and social welfare programs. However, his policies and leadership have also been    │\n",
       "│ subject to controversy and criticism, particularly with regards to his Hindu nationalist agenda and handling of │\n",
       "│ various social and economic issues.\"}                                                                           │\n",
       "╰─────────────────────────────────────────────────────────────────────────────────────────────────────────────────╯\n"
      ]
     },
     "metadata": {},
     "output_type": "display_data"
    },
    {
     "data": {
      "text/html": [
       "<pre style=\"white-space:pre;overflow-x:auto;line-height:normal;font-family:Menlo,'DejaVu Sans Mono',consolas,'Courier New',monospace\">Observations: Narendra Damodardas Modi is the 14th and current Prime Minister of India, serving since May 26, 2014.\n",
       "He was born on September 17, 1950, in Vadnagar, Gujarat, India. Modi is a member of the Bharatiya Janata Party \n",
       "(BJP) and has been a key figure in Indian politics for over two decades. Before becoming Prime Minister, he served \n",
       "as the Chief Minister of Gujarat from 2001 to 2014. Modi's tenure as Prime Minister has been marked by several \n",
       "significant initiatives, including economic reforms, infrastructure development, and social welfare programs. \n",
       "However, his policies and leadership have also been subject to controversy and criticism, particularly with regards\n",
       "to his Hindu nationalist agenda and handling of various social and economic issues.\n",
       "</pre>\n"
      ],
      "text/plain": [
       "Observations: Narendra Damodardas Modi is the 14th and current Prime Minister of India, serving since May 26, 2014.\n",
       "He was born on September 17, 1950, in Vadnagar, Gujarat, India. Modi is a member of the Bharatiya Janata Party \n",
       "(BJP) and has been a key figure in Indian politics for over two decades. Before becoming Prime Minister, he served \n",
       "as the Chief Minister of Gujarat from 2001 to 2014. Modi's tenure as Prime Minister has been marked by several \n",
       "significant initiatives, including economic reforms, infrastructure development, and social welfare programs. \n",
       "However, his policies and leadership have also been subject to controversy and criticism, particularly with regards\n",
       "to his Hindu nationalist agenda and handling of various social and economic issues.\n"
      ]
     },
     "metadata": {},
     "output_type": "display_data"
    },
    {
     "data": {
      "text/html": [
       "<pre style=\"white-space:pre;overflow-x:auto;line-height:normal;font-family:Menlo,'DejaVu Sans Mono',consolas,'Courier New',monospace\"><span style=\"color: #d4b702; text-decoration-color: #d4b702; font-weight: bold\">Final answer: Narendra Damodardas Modi is the 14th and current Prime Minister of India, serving since May 26, 2014.</span>\n",
       "<span style=\"color: #d4b702; text-decoration-color: #d4b702; font-weight: bold\">He was born on September 17, 1950, in Vadnagar, Gujarat, India. Modi is a member of the Bharatiya Janata Party </span>\n",
       "<span style=\"color: #d4b702; text-decoration-color: #d4b702; font-weight: bold\">(BJP) and has been a key figure in Indian politics for over two decades. Before becoming Prime Minister, he served </span>\n",
       "<span style=\"color: #d4b702; text-decoration-color: #d4b702; font-weight: bold\">as the Chief Minister of Gujarat from 2001 to 2014. Modi's tenure as Prime Minister has been marked by several </span>\n",
       "<span style=\"color: #d4b702; text-decoration-color: #d4b702; font-weight: bold\">significant initiatives, including economic reforms, infrastructure development, and social welfare programs. </span>\n",
       "<span style=\"color: #d4b702; text-decoration-color: #d4b702; font-weight: bold\">However, his policies and leadership have also been subject to controversy and criticism, particularly with regards</span>\n",
       "<span style=\"color: #d4b702; text-decoration-color: #d4b702; font-weight: bold\">to his Hindu nationalist agenda and handling of various social and economic issues.</span>\n",
       "</pre>\n"
      ],
      "text/plain": [
       "\u001b[1;38;2;212;183;2mFinal answer: Narendra Damodardas Modi is the 14th and current Prime Minister of India, serving since May 26, 2014.\u001b[0m\n",
       "\u001b[1;38;2;212;183;2mHe was born on September 17, 1950, in Vadnagar, Gujarat, India. Modi is a member of the Bharatiya Janata Party \u001b[0m\n",
       "\u001b[1;38;2;212;183;2m(BJP) and has been a key figure in Indian politics for over two decades. Before becoming Prime Minister, he served \u001b[0m\n",
       "\u001b[1;38;2;212;183;2mas the Chief Minister of Gujarat from 2001 to 2014. Modi's tenure as Prime Minister has been marked by several \u001b[0m\n",
       "\u001b[1;38;2;212;183;2msignificant initiatives, including economic reforms, infrastructure development, and social welfare programs. \u001b[0m\n",
       "\u001b[1;38;2;212;183;2mHowever, his policies and leadership have also been subject to controversy and criticism, particularly with regards\u001b[0m\n",
       "\u001b[1;38;2;212;183;2mto his Hindu nationalist agenda and handling of various social and economic issues.\u001b[0m\n"
      ]
     },
     "metadata": {},
     "output_type": "display_data"
    },
    {
     "data": {
      "text/html": [
       "<pre style=\"white-space:pre;overflow-x:auto;line-height:normal;font-family:Menlo,'DejaVu Sans Mono',consolas,'Courier New',monospace\"><span style=\"color: #7f7f7f; text-decoration-color: #7f7f7f\">[Step 2: Duration 5.90 seconds| Input tokens: 4,046 | Output tokens: 210]</span>\n",
       "</pre>\n"
      ],
      "text/plain": [
       "\u001b[2m[Step 2: Duration 5.90 seconds| Input tokens: 4,046 | Output tokens: 210]\u001b[0m\n"
      ]
     },
     "metadata": {},
     "output_type": "display_data"
    },
    {
     "name": "stdout",
     "output_type": "stream",
     "text": [
      "Narendra Damodardas Modi is the 14th and current Prime Minister of India, serving since May 26, 2014. He was born on September 17, 1950, in Vadnagar, Gujarat, India. Modi is a member of the Bharatiya Janata Party (BJP) and has been a key figure in Indian politics for over two decades. Before becoming Prime Minister, he served as the Chief Minister of Gujarat from 2001 to 2014. Modi's tenure as Prime Minister has been marked by several significant initiatives, including economic reforms, infrastructure development, and social welfare programs. However, his policies and leadership have also been subject to controversy and criticism, particularly with regards to his Hindu nationalist agenda and handling of various social and economic issues.\n"
     ]
    }
   ],
   "source": [
    "from smolagents import ToolCallingAgent, OpenAIServerModel, DuckDuckGoSearchTool\n",
    "\n",
    "llm = OpenAIServerModel(\n",
    "    model_id=\"meta-llama/llama-4-scout:free\",\n",
    "    api_key=OPENROUTER_API_KEY,\n",
    "    api_base=\"https://openrouter.ai/api/v1\"\n",
    ")\n",
    "\n",
    "agent = ToolCallingAgent(tools=[DuckDuckGoSearchTool()], model=llm)\n",
    "print(agent.run(\"What do you know about Narendra Modi ?\"))\n"
   ]
  },
  {
   "cell_type": "markdown",
   "id": "7b6c3aad",
   "metadata": {},
   "source": [
    "# 🧩 Problem 5: Multi-Tool Reasoning Agent\n",
    "\n",
    "## Objective\n",
    "Build an agent that can intelligently use multiple tools — a **web search tool** and a **unit conversion tool** — to answer composite questions.\n",
    "\n",
    "---\n",
    "\n",
    "## Problem Statement\n",
    "Create a `ToolCallingAgent` that can handle user queries requiring **both information retrieval and computation**.\n",
    "\n",
    "### Examples\n",
    "- “What is the current price of gold per ounce and convert it to grams?”\n",
    "- “Search the distance between Earth and Moon and convert it to miles.”\n",
    "\n",
    "The agent should:\n",
    "1. Use the **DuckDuckGoSearchTool** to search and extract the required numeric data.\n",
    "2. Parse the **value** and **unit** from the retrieved text.\n",
    "3. Use the **UnitConversionTool** (you built earlier) to convert the unit appropriately.\n",
    "4. Return a clean and concise final answer.\n",
    "\n",
    "---"
   ]
  },
  {
   "cell_type": "markdown",
   "id": "19f5789c",
   "metadata": {},
   "source": [
    "# Algorithmic steps\n",
    "Step 1 : Define the tools \n",
    "* Import both tools \n",
    "* Define the logic for the custom unitconversion tool\n",
    "\n",
    "Step 2 : Implement the UnitConversionTool\n",
    "* Parse the input string\n",
    "* Normalize the units via alias mapping\n",
    "* Apply conversion factor\n",
    "* Return output string\n",
    "\n",
    "Step 3 : Create the ToolCallingAgent\n",
    "* Initialize the agent with both tools and the model\n",
    "\n",
    "Step 4 : Run and observe\n",
    "* Pass different queries and note the results\n",
    "* Verify if both tools are used\n"
   ]
  },
  {
   "cell_type": "code",
   "execution_count": 15,
   "id": "680c1c13",
   "metadata": {},
   "outputs": [
    {
     "data": {
      "text/html": [
       "<pre style=\"white-space:pre;overflow-x:auto;line-height:normal;font-family:Menlo,'DejaVu Sans Mono',consolas,'Courier New',monospace\"><span style=\"color: #d4b702; text-decoration-color: #d4b702\">╭──────────────────────────────────────────────────── </span><span style=\"color: #d4b702; text-decoration-color: #d4b702; font-weight: bold\">New run</span><span style=\"color: #d4b702; text-decoration-color: #d4b702\"> ────────────────────────────────────────────────────╮</span>\n",
       "<span style=\"color: #d4b702; text-decoration-color: #d4b702\">│</span>                                                                                                                 <span style=\"color: #d4b702; text-decoration-color: #d4b702\">│</span>\n",
       "<span style=\"color: #d4b702; text-decoration-color: #d4b702\">│</span> <span style=\"font-weight: bold\">\"Who is the founder of Hugging Face?\"</span>                                                                           <span style=\"color: #d4b702; text-decoration-color: #d4b702\">│</span>\n",
       "<span style=\"color: #d4b702; text-decoration-color: #d4b702\">│</span>                                                                                                                 <span style=\"color: #d4b702; text-decoration-color: #d4b702\">│</span>\n",
       "<span style=\"color: #d4b702; text-decoration-color: #d4b702\">╰─ OpenAIServerModel - meta-llama/llama-4-scout:free ─────────────────────────────────────────────────────────────╯</span>\n",
       "</pre>\n"
      ],
      "text/plain": [
       "\u001b[38;2;212;183;2m╭─\u001b[0m\u001b[38;2;212;183;2m───────────────────────────────────────────────────\u001b[0m\u001b[38;2;212;183;2m \u001b[0m\u001b[1;38;2;212;183;2mNew run\u001b[0m\u001b[38;2;212;183;2m \u001b[0m\u001b[38;2;212;183;2m───────────────────────────────────────────────────\u001b[0m\u001b[38;2;212;183;2m─╮\u001b[0m\n",
       "\u001b[38;2;212;183;2m│\u001b[0m                                                                                                                 \u001b[38;2;212;183;2m│\u001b[0m\n",
       "\u001b[38;2;212;183;2m│\u001b[0m \u001b[1m\"Who is the founder of Hugging Face?\"\u001b[0m                                                                           \u001b[38;2;212;183;2m│\u001b[0m\n",
       "\u001b[38;2;212;183;2m│\u001b[0m                                                                                                                 \u001b[38;2;212;183;2m│\u001b[0m\n",
       "\u001b[38;2;212;183;2m╰─\u001b[0m\u001b[38;2;212;183;2m OpenAIServerModel - meta-llama/llama-4-scout:free \u001b[0m\u001b[38;2;212;183;2m────────────────────────────────────────────────────────────\u001b[0m\u001b[38;2;212;183;2m─╯\u001b[0m\n"
      ]
     },
     "metadata": {},
     "output_type": "display_data"
    },
    {
     "data": {
      "text/html": [
       "<pre style=\"white-space:pre;overflow-x:auto;line-height:normal;font-family:Menlo,'DejaVu Sans Mono',consolas,'Courier New',monospace\"><span style=\"color: #d4b702; text-decoration-color: #d4b702\">━━━━━━━━━━━━━━━━━━━━━━━━━━━━━━━━━━━━━━━━━━━━━━━━━━━━━ </span><span style=\"font-weight: bold\">Step 1</span><span style=\"color: #d4b702; text-decoration-color: #d4b702\"> ━━━━━━━━━━━━━━━━━━━━━━━━━━━━━━━━━━━━━━━━━━━━━━━━━━━━━━</span>\n",
       "</pre>\n"
      ],
      "text/plain": [
       "\u001b[38;2;212;183;2m━━━━━━━━━━━━━━━━━━━━━━━━━━━━━━━━━━━━━━━━━━━━━━━━━━━━━ \u001b[0m\u001b[1mStep 1\u001b[0m\u001b[38;2;212;183;2m ━━━━━━━━━━━━━━━━━━━━━━━━━━━━━━━━━━━━━━━━━━━━━━━━━━━━━━\u001b[0m\n"
      ]
     },
     "metadata": {},
     "output_type": "display_data"
    },
    {
     "data": {
      "text/html": [
       "<pre style=\"white-space:pre;overflow-x:auto;line-height:normal;font-family:Menlo,'DejaVu Sans Mono',consolas,'Courier New',monospace\">╭─────────────────────────────────────────────────────────────────────────────────────────────────────────────────╮\n",
       "│ Calling tool: 'web_search' with arguments: {'query': 'Who is the founder of Hugging Face?'}                     │\n",
       "╰─────────────────────────────────────────────────────────────────────────────────────────────────────────────────╯\n",
       "</pre>\n"
      ],
      "text/plain": [
       "╭─────────────────────────────────────────────────────────────────────────────────────────────────────────────────╮\n",
       "│ Calling tool: 'web_search' with arguments: {'query': 'Who is the founder of Hugging Face?'}                     │\n",
       "╰─────────────────────────────────────────────────────────────────────────────────────────────────────────────────╯\n"
      ]
     },
     "metadata": {},
     "output_type": "display_data"
    },
    {
     "data": {
      "text/html": [
       "<pre style=\"white-space:pre;overflow-x:auto;line-height:normal;font-family:Menlo,'DejaVu Sans Mono',consolas,'Courier New',monospace\">Observations: ## Search Results\n",
       "\n",
       "|The Inspiring Journey of Clément Delangue, Hugging Face 's \n",
       "founder](https://kitrum.com/blog/the-inspiring-journey-of-clement-delangue-hugging-faces-founder/)\n",
       "Who is Clément Delangue, and what's Hugging Face up to now?What is the history of Hugging Face ? As previously \n",
       "pointed out, Clement Delaunge, Julien Chaumond, and Thomas Wolf shared a common vision and love of open sources. \n",
       "So, together, they funded Hugging Face .\n",
       "\n",
       "|Who is the CEO of Hugging Face ? Clem Delangue ’s Bio | Clay](https://www.clay.com/dossier/hugging-face-ceo)\n",
       "Clément Delangue is the CEO and co- founder of Hugging Face , an open and collaborative platform for AI builders.\n",
       "\n",
       "|Clem Delangue - Founder of Hugging Face | Analytics India \n",
       "Magazine](https://analyticsindiamag.com/people/clem-delangue/)\n",
       "Hugging Face , is all about democratising AI through open-source initiatives. Today, it has become the most-used \n",
       "open platform for AI, often described as the ‘GitHub for AI’, allowing researchers and developers worldwide to \n",
       "share AI models, datasets, and best practices.\n",
       "\n",
       "|The Essential NLP, AI, and ML Classics Shared by Thom Wolf...](https://www.turingpost.com/p/thom-wolf-resources)\n",
       "Thom Wolf, a co- founder of Hugging Face , started his career in Physics rather than Computer Science. Hugging Face\n",
       "'s Chief of Science @Thom_Wolf shared the resources he used to join the fields of NLP, AI, and ML! Here is the list\n",
       "with the links h...\n",
       "\n",
       "|Revolutionizing AI: Clément Delangue’s Vision and Impact on Hugging \n",
       "...](https://julienflorkin.com/personalities/clement-delangue/)\n",
       "Clément Delangue and Hugging Face have made substantial contributions to the fields of artificial intelligence (AI)\n",
       "and natural language processing (NLP).\n",
       "\n",
       "|Top 10 AI Leaders in the US | AI Magazine](https://aimagazine.com/articles/top-10-ai-leaders-in-the-us)\n",
       "Clément Delangue, CEO and Co- Founder of Hugging Face , has played a pivotal role in advancing natural language \n",
       "processing (NLP) and democratising access to state-of-the-art language models.\n",
       "\n",
       "|\" Hugging Face ,\" the \"Smiling Assassin\": Valued at $4.5 billi...](https://longportapp.com/en/news/97305875)\n",
       "Clem Delangue, CEO and co- founder of Hugging Face , grew up in a small town in France and had a leisurely \n",
       "childhood before owning his first computer at the age of 12.Around the same time, they also met Thomas Wolf, who \n",
       "later became the third co- founder of Hugging Face .\n",
       "\n",
       "|We discuss Hugging Face , Open Source, and AI](https://blog.eladgil.com/p/video-and-transcript-fireside-chat)\n",
       "We're going to be talking about Clem's background and origins and so I'll keep the intro really brief, which is \n",
       "Clem is the CEO and co founder of Hugging Face , which is really one of the main pieces of infrastructure that \n",
       "everybody uses in the AI industry.\n",
       "\n",
       "|Watch Hugging Face CEO on Company Momentum - \n",
       "Bloomberg](https://www.bloomberg.com/news/videos/2024-05-09/hugging-face-ceo-on-company-momentum-video)\n",
       "Clem Delangue, CEO and co- founder of Hugging Face , joins Caroline Hyde and Ed Ludlow on the sidelines of the \n",
       "Bloomberg Tech live event to discuss the company's momentum and how open-source LLMs are reaching the level of the \n",
       "best closed-source LLMs.\n",
       "\n",
       "|Clément Delangue - CEO &amp; Co- Founder @ Hugging Face](https://www.crunchbase.com/person/clement-delangue)\n",
       "Clément Delangue is the CEO &amp; Co- Founder at Hugging Face . Additionally, Clément Delangue has had 5 past jobs \n",
       "including Evangelist at Milaap. Hugging Face CEO &amp; Co-FounderJul 2016. Organization Name.\n",
       "</pre>\n"
      ],
      "text/plain": [
       "Observations: ## Search Results\n",
       "\n",
       "|The Inspiring Journey of Clément Delangue, Hugging Face 's \n",
       "founder](https://kitrum.com/blog/the-inspiring-journey-of-clement-delangue-hugging-faces-founder/)\n",
       "Who is Clément Delangue, and what's Hugging Face up to now?What is the history of Hugging Face ? As previously \n",
       "pointed out, Clement Delaunge, Julien Chaumond, and Thomas Wolf shared a common vision and love of open sources. \n",
       "So, together, they funded Hugging Face .\n",
       "\n",
       "|Who is the CEO of Hugging Face ? Clem Delangue ’s Bio | Clay](https://www.clay.com/dossier/hugging-face-ceo)\n",
       "Clément Delangue is the CEO and co- founder of Hugging Face , an open and collaborative platform for AI builders.\n",
       "\n",
       "|Clem Delangue - Founder of Hugging Face | Analytics India \n",
       "Magazine](https://analyticsindiamag.com/people/clem-delangue/)\n",
       "Hugging Face , is all about democratising AI through open-source initiatives. Today, it has become the most-used \n",
       "open platform for AI, often described as the ‘GitHub for AI’, allowing researchers and developers worldwide to \n",
       "share AI models, datasets, and best practices.\n",
       "\n",
       "|The Essential NLP, AI, and ML Classics Shared by Thom Wolf...](https://www.turingpost.com/p/thom-wolf-resources)\n",
       "Thom Wolf, a co- founder of Hugging Face , started his career in Physics rather than Computer Science. Hugging Face\n",
       "'s Chief of Science @Thom_Wolf shared the resources he used to join the fields of NLP, AI, and ML! Here is the list\n",
       "with the links h...\n",
       "\n",
       "|Revolutionizing AI: Clément Delangue’s Vision and Impact on Hugging \n",
       "...](https://julienflorkin.com/personalities/clement-delangue/)\n",
       "Clément Delangue and Hugging Face have made substantial contributions to the fields of artificial intelligence (AI)\n",
       "and natural language processing (NLP).\n",
       "\n",
       "|Top 10 AI Leaders in the US | AI Magazine](https://aimagazine.com/articles/top-10-ai-leaders-in-the-us)\n",
       "Clément Delangue, CEO and Co- Founder of Hugging Face , has played a pivotal role in advancing natural language \n",
       "processing (NLP) and democratising access to state-of-the-art language models.\n",
       "\n",
       "|\" Hugging Face ,\" the \"Smiling Assassin\": Valued at $4.5 billi...](https://longportapp.com/en/news/97305875)\n",
       "Clem Delangue, CEO and co- founder of Hugging Face , grew up in a small town in France and had a leisurely \n",
       "childhood before owning his first computer at the age of 12.Around the same time, they also met Thomas Wolf, who \n",
       "later became the third co- founder of Hugging Face .\n",
       "\n",
       "|We discuss Hugging Face , Open Source, and AI](https://blog.eladgil.com/p/video-and-transcript-fireside-chat)\n",
       "We're going to be talking about Clem's background and origins and so I'll keep the intro really brief, which is \n",
       "Clem is the CEO and co founder of Hugging Face , which is really one of the main pieces of infrastructure that \n",
       "everybody uses in the AI industry.\n",
       "\n",
       "|Watch Hugging Face CEO on Company Momentum - \n",
       "Bloomberg](https://www.bloomberg.com/news/videos/2024-05-09/hugging-face-ceo-on-company-momentum-video)\n",
       "Clem Delangue, CEO and co- founder of Hugging Face , joins Caroline Hyde and Ed Ludlow on the sidelines of the \n",
       "Bloomberg Tech live event to discuss the company's momentum and how open-source LLMs are reaching the level of the \n",
       "best closed-source LLMs.\n",
       "\n",
       "|Clément Delangue - CEO & Co- Founder @ Hugging Face](https://www.crunchbase.com/person/clement-delangue)\n",
       "Clément Delangue is the CEO & Co- Founder at Hugging Face . Additionally, Clément Delangue has had 5 past jobs \n",
       "including Evangelist at Milaap. Hugging Face CEO & Co-FounderJul 2016. Organization Name.\n"
      ]
     },
     "metadata": {},
     "output_type": "display_data"
    },
    {
     "data": {
      "text/html": [
       "<pre style=\"white-space:pre;overflow-x:auto;line-height:normal;font-family:Menlo,'DejaVu Sans Mono',consolas,'Courier New',monospace\"><span style=\"color: #7f7f7f; text-decoration-color: #7f7f7f\">[Step 1: Duration 4.21 seconds| Input tokens: 1,607 | Output tokens: 31]</span>\n",
       "</pre>\n"
      ],
      "text/plain": [
       "\u001b[2m[Step 1: Duration 4.21 seconds| Input tokens: 1,607 | Output tokens: 31]\u001b[0m\n"
      ]
     },
     "metadata": {},
     "output_type": "display_data"
    },
    {
     "data": {
      "text/html": [
       "<pre style=\"white-space:pre;overflow-x:auto;line-height:normal;font-family:Menlo,'DejaVu Sans Mono',consolas,'Courier New',monospace\"><span style=\"color: #d4b702; text-decoration-color: #d4b702\">━━━━━━━━━━━━━━━━━━━━━━━━━━━━━━━━━━━━━━━━━━━━━━━━━━━━━ </span><span style=\"font-weight: bold\">Step 2</span><span style=\"color: #d4b702; text-decoration-color: #d4b702\"> ━━━━━━━━━━━━━━━━━━━━━━━━━━━━━━━━━━━━━━━━━━━━━━━━━━━━━━</span>\n",
       "</pre>\n"
      ],
      "text/plain": [
       "\u001b[38;2;212;183;2m━━━━━━━━━━━━━━━━━━━━━━━━━━━━━━━━━━━━━━━━━━━━━━━━━━━━━ \u001b[0m\u001b[1mStep 2\u001b[0m\u001b[38;2;212;183;2m ━━━━━━━━━━━━━━━━━━━━━━━━━━━━━━━━━━━━━━━━━━━━━━━━━━━━━━\u001b[0m\n"
      ]
     },
     "metadata": {},
     "output_type": "display_data"
    },
    {
     "data": {
      "text/html": [
       "<pre style=\"white-space:pre;overflow-x:auto;line-height:normal;font-family:Menlo,'DejaVu Sans Mono',consolas,'Courier New',monospace\">╭─────────────────────────────────────────────────────────────────────────────────────────────────────────────────╮\n",
       "│ Calling tool: 'final_answer' with arguments: {'answer': 'Clément Delangue is the founder of Hugging Face. He    │\n",
       "│ co-founded the company with Julien Chaumond and Thomas Wolf. Clément Delangue is also the CEO of Hugging Face,  │\n",
       "│ which is an open and collaborative platform for AI builders that aims to democratize AI through open-source     │\n",
       "│ initiatives.'}                                                                                                  │\n",
       "╰─────────────────────────────────────────────────────────────────────────────────────────────────────────────────╯\n",
       "</pre>\n"
      ],
      "text/plain": [
       "╭─────────────────────────────────────────────────────────────────────────────────────────────────────────────────╮\n",
       "│ Calling tool: 'final_answer' with arguments: {'answer': 'Clément Delangue is the founder of Hugging Face. He    │\n",
       "│ co-founded the company with Julien Chaumond and Thomas Wolf. Clément Delangue is also the CEO of Hugging Face,  │\n",
       "│ which is an open and collaborative platform for AI builders that aims to democratize AI through open-source     │\n",
       "│ initiatives.'}                                                                                                  │\n",
       "╰─────────────────────────────────────────────────────────────────────────────────────────────────────────────────╯\n"
      ]
     },
     "metadata": {},
     "output_type": "display_data"
    },
    {
     "data": {
      "text/html": [
       "<pre style=\"white-space:pre;overflow-x:auto;line-height:normal;font-family:Menlo,'DejaVu Sans Mono',consolas,'Courier New',monospace\">Observations: Clément Delangue is the founder of Hugging Face. He co-founded the company with Julien Chaumond and \n",
       "Thomas Wolf. Clément Delangue is also the CEO of Hugging Face, which is an open and collaborative platform for AI \n",
       "builders that aims to democratize AI through open-source initiatives.\n",
       "</pre>\n"
      ],
      "text/plain": [
       "Observations: Clément Delangue is the founder of Hugging Face. He co-founded the company with Julien Chaumond and \n",
       "Thomas Wolf. Clément Delangue is also the CEO of Hugging Face, which is an open and collaborative platform for AI \n",
       "builders that aims to democratize AI through open-source initiatives.\n"
      ]
     },
     "metadata": {},
     "output_type": "display_data"
    },
    {
     "data": {
      "text/html": [
       "<pre style=\"white-space:pre;overflow-x:auto;line-height:normal;font-family:Menlo,'DejaVu Sans Mono',consolas,'Courier New',monospace\"><span style=\"color: #d4b702; text-decoration-color: #d4b702; font-weight: bold\">Final answer: Clément Delangue is the founder of Hugging Face. He co-founded the company with Julien Chaumond and </span>\n",
       "<span style=\"color: #d4b702; text-decoration-color: #d4b702; font-weight: bold\">Thomas Wolf. Clément Delangue is also the CEO of Hugging Face, which is an open and collaborative platform for AI </span>\n",
       "<span style=\"color: #d4b702; text-decoration-color: #d4b702; font-weight: bold\">builders that aims to democratize AI through open-source initiatives.</span>\n",
       "</pre>\n"
      ],
      "text/plain": [
       "\u001b[1;38;2;212;183;2mFinal answer: Clément Delangue is the founder of Hugging Face. He co-founded the company with Julien Chaumond and \u001b[0m\n",
       "\u001b[1;38;2;212;183;2mThomas Wolf. Clément Delangue is also the CEO of Hugging Face, which is an open and collaborative platform for AI \u001b[0m\n",
       "\u001b[1;38;2;212;183;2mbuilders that aims to democratize AI through open-source initiatives.\u001b[0m\n"
      ]
     },
     "metadata": {},
     "output_type": "display_data"
    },
    {
     "data": {
      "text/html": [
       "<pre style=\"white-space:pre;overflow-x:auto;line-height:normal;font-family:Menlo,'DejaVu Sans Mono',consolas,'Courier New',monospace\"><span style=\"color: #7f7f7f; text-decoration-color: #7f7f7f\">[Step 2: Duration 3.28 seconds| Input tokens: 4,161 | Output tokens: 116]</span>\n",
       "</pre>\n"
      ],
      "text/plain": [
       "\u001b[2m[Step 2: Duration 3.28 seconds| Input tokens: 4,161 | Output tokens: 116]\u001b[0m\n"
      ]
     },
     "metadata": {},
     "output_type": "display_data"
    },
    {
     "data": {
      "text/plain": [
       "'Clément Delangue is the founder of Hugging Face. He co-founded the company with Julien Chaumond and Thomas Wolf. Clément Delangue is also the CEO of Hugging Face, which is an open and collaborative platform for AI builders that aims to democratize AI through open-source initiatives.'"
      ]
     },
     "execution_count": 15,
     "metadata": {},
     "output_type": "execute_result"
    }
   ],
   "source": [
    "from smolagents import Tool, ToolCallingAgent, DuckDuckGoSearchTool, OpenAIServerModel\n",
    "import os\n",
    "import re\n",
    "\n",
    "OPENROUTER_API_KEY = os.environ[\"OPENROUTER_API_KEY\"]\n",
    "\n",
    "class UnitConversionTool(Tool):\n",
    "    name = \"UnitConversionTool\"\n",
    "    description = \"Converts units of length, weight\"\n",
    "    inputs = {\n",
    "        \"query\": {\n",
    "            \"type\":\"string\",\n",
    "            \"description\":\"Conversion query, e.g, '5km to miles\"\n",
    "        }\n",
    "    }\n",
    "    output_type = \"string\"\n",
    "\n",
    "    def forward(self, query: str)-> str:\n",
    "        query = query.lower().replace(\"convert\",\"\").strip() #Normalize the query\n",
    "        pattern = r\"([\\d\\.]+)\\s*([a-zA-Z]+)\\s*(?:to|in)\\s*([a-zA-Z]+)\"\n",
    "        match = re.match(pattern,query)\n",
    "\n",
    "        if not match:\n",
    "            return \"Invalid query format. Use like '5km to miles\"\n",
    "        \n",
    "        value, from_unit, to_unit = match.groups()\n",
    "        value = float(value)\n",
    "\n",
    "        # Map aliases\n",
    "        aliases = {\"meters\": \"m\", \"meter\": \"m\", \"kilometers\": \"km\", \"km\": \"km\",\n",
    "                    \"miles\": \"mi\", \"mile\": \"mi\", \"grams\": \"g\", \"kilograms\": \"kg\",\n",
    "                    \"kg\": \"kg\", \"pounds\": \"lb\", \"lb\": \"lb\", \"ounces\": \"oz\", \"oz\": \"oz\"}\n",
    "        \n",
    "        from_unit = aliases.get(from_unit)\n",
    "        to_unit = aliases.get(to_unit)\n",
    "\n",
    "        # Conversion factors\n",
    "        factors = {\n",
    "                (\"m\", \"km\"): 0.001, (\"km\", \"m\"): 1000,\n",
    "                (\"m\", \"mi\"): 0.000621371, (\"mi\", \"m\"): 1609.34,\n",
    "                (\"km\", \"mi\"): 0.621371, (\"mi\", \"km\"): 1.60934,\n",
    "                (\"kg\", \"lb\"): 2.20462, (\"lb\", \"kg\"): 0.453592,\n",
    "                (\"kg\", \"g\"): 1000, (\"g\", \"kg\"): 0.001,\n",
    "                (\"lb\", \"g\"): 453.592, (\"g\", \"lb\"): 0.00220462,\n",
    "                (\"oz\", \"g\"): 28.3495, (\"g\", \"oz\"): 0.035274\n",
    "            }\n",
    "\n",
    "        if (from_unit, to_unit) not in factors :\n",
    "            return f\"Conversion from {from_unit} to {to_unit} is not supported.\"\n",
    "        \n",
    "        result = value * factors[(from_unit, to_unit)]\n",
    "        return f\"{value} {from_unit} = {result:.4f} {to_unit}\"\n",
    "\n",
    "#unit_converter = UnitConversionTool()\n",
    "llm_model = OpenAIServerModel(\n",
    "    model_id=\"meta-llama/llama-4-scout:free\",\n",
    "    api_base=\"https://openrouter.ai/api/v1\",\n",
    "    api_key=OPENROUTER_API_KEY\n",
    ")\n",
    "\n",
    "agent1 = ToolCallingAgent(tools=[DuckDuckGoSearchTool(), UnitConversionTool()],model=llm_model)\n",
    "\n",
    "query = input(\"User Query : \")\n",
    "agent1.run(query)\n"
   ]
  },
  {
   "cell_type": "code",
   "execution_count": null,
   "id": "f9822f95",
   "metadata": {},
   "outputs": [],
   "source": []
  }
 ],
 "metadata": {
  "kernelspec": {
   "display_name": "Python 3",
   "language": "python",
   "name": "python3"
  },
  "language_info": {
   "codemirror_mode": {
    "name": "ipython",
    "version": 3
   },
   "file_extension": ".py",
   "mimetype": "text/x-python",
   "name": "python",
   "nbconvert_exporter": "python",
   "pygments_lexer": "ipython3",
   "version": "3.12.1"
  }
 },
 "nbformat": 4,
 "nbformat_minor": 5
}
