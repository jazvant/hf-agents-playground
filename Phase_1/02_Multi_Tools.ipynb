{
 "cells": [
  {
   "cell_type": "code",
   "execution_count": 4,
   "id": "02a6d3b6",
   "metadata": {},
   "outputs": [
    {
     "name": "stdout",
     "output_type": "stream",
     "text": [
      "Collecting langchain_openai\n",
      "  Downloading langchain_openai-0.3.35-py3-none-any.whl.metadata (2.4 kB)\n",
      "Collecting langchain-core<1.0.0,>=0.3.78 (from langchain_openai)\n",
      "  Downloading langchain_core-0.3.78-py3-none-any.whl.metadata (3.2 kB)\n",
      "Requirement already satisfied: openai<3.0.0,>=1.104.2 in /usr/local/python/3.12.1/lib/python3.12/site-packages (from langchain_openai) (1.108.2)\n",
      "Requirement already satisfied: tiktoken<1.0.0,>=0.7.0 in /usr/local/python/3.12.1/lib/python3.12/site-packages (from langchain_openai) (0.11.0)\n",
      "Collecting langsmith<1.0.0,>=0.3.45 (from langchain-core<1.0.0,>=0.3.78->langchain_openai)\n",
      "  Downloading langsmith-0.4.33-py3-none-any.whl.metadata (14 kB)\n",
      "Collecting tenacity!=8.4.0,<10.0.0,>=8.1.0 (from langchain-core<1.0.0,>=0.3.78->langchain_openai)\n",
      "  Downloading tenacity-9.1.2-py3-none-any.whl.metadata (1.2 kB)\n",
      "Collecting jsonpatch<2.0.0,>=1.33.0 (from langchain-core<1.0.0,>=0.3.78->langchain_openai)\n",
      "  Downloading jsonpatch-1.33-py2.py3-none-any.whl.metadata (3.0 kB)\n",
      "Requirement already satisfied: PyYAML<7.0.0,>=5.3.0 in /home/codespace/.local/lib/python3.12/site-packages (from langchain-core<1.0.0,>=0.3.78->langchain_openai) (6.0.2)\n",
      "Requirement already satisfied: typing-extensions<5.0.0,>=4.7.0 in /home/codespace/.local/lib/python3.12/site-packages (from langchain-core<1.0.0,>=0.3.78->langchain_openai) (4.14.1)\n",
      "Requirement already satisfied: packaging<26.0.0,>=23.2.0 in /home/codespace/.local/lib/python3.12/site-packages (from langchain-core<1.0.0,>=0.3.78->langchain_openai) (25.0)\n",
      "Requirement already satisfied: pydantic<3.0.0,>=2.7.4 in /usr/local/python/3.12.1/lib/python3.12/site-packages (from langchain-core<1.0.0,>=0.3.78->langchain_openai) (2.11.9)\n",
      "Requirement already satisfied: jsonpointer>=1.9 in /home/codespace/.local/lib/python3.12/site-packages (from jsonpatch<2.0.0,>=1.33.0->langchain-core<1.0.0,>=0.3.78->langchain_openai) (3.0.0)\n",
      "Requirement already satisfied: httpx<1,>=0.23.0 in /home/codespace/.local/lib/python3.12/site-packages (from langsmith<1.0.0,>=0.3.45->langchain-core<1.0.0,>=0.3.78->langchain_openai) (0.28.1)\n",
      "Requirement already satisfied: orjson>=3.9.14 in /usr/local/python/3.12.1/lib/python3.12/site-packages (from langsmith<1.0.0,>=0.3.45->langchain-core<1.0.0,>=0.3.78->langchain_openai) (3.11.3)\n",
      "Collecting requests-toolbelt>=1.0.0 (from langsmith<1.0.0,>=0.3.45->langchain-core<1.0.0,>=0.3.78->langchain_openai)\n",
      "  Downloading requests_toolbelt-1.0.0-py2.py3-none-any.whl.metadata (14 kB)\n",
      "Requirement already satisfied: requests>=2.0.0 in /home/codespace/.local/lib/python3.12/site-packages (from langsmith<1.0.0,>=0.3.45->langchain-core<1.0.0,>=0.3.78->langchain_openai) (2.32.4)\n",
      "Collecting zstandard>=0.23.0 (from langsmith<1.0.0,>=0.3.45->langchain-core<1.0.0,>=0.3.78->langchain_openai)\n",
      "  Downloading zstandard-0.25.0-cp312-cp312-manylinux2014_x86_64.manylinux_2_17_x86_64.whl.metadata (3.3 kB)\n",
      "Requirement already satisfied: anyio in /home/codespace/.local/lib/python3.12/site-packages (from httpx<1,>=0.23.0->langsmith<1.0.0,>=0.3.45->langchain-core<1.0.0,>=0.3.78->langchain_openai) (4.9.0)\n",
      "Requirement already satisfied: certifi in /home/codespace/.local/lib/python3.12/site-packages (from httpx<1,>=0.23.0->langsmith<1.0.0,>=0.3.45->langchain-core<1.0.0,>=0.3.78->langchain_openai) (2025.7.9)\n",
      "Requirement already satisfied: httpcore==1.* in /home/codespace/.local/lib/python3.12/site-packages (from httpx<1,>=0.23.0->langsmith<1.0.0,>=0.3.45->langchain-core<1.0.0,>=0.3.78->langchain_openai) (1.0.9)\n",
      "Requirement already satisfied: idna in /home/codespace/.local/lib/python3.12/site-packages (from httpx<1,>=0.23.0->langsmith<1.0.0,>=0.3.45->langchain-core<1.0.0,>=0.3.78->langchain_openai) (3.10)\n",
      "Requirement already satisfied: h11>=0.16 in /home/codespace/.local/lib/python3.12/site-packages (from httpcore==1.*->httpx<1,>=0.23.0->langsmith<1.0.0,>=0.3.45->langchain-core<1.0.0,>=0.3.78->langchain_openai) (0.16.0)\n",
      "Requirement already satisfied: distro<2,>=1.7.0 in /usr/local/python/3.12.1/lib/python3.12/site-packages (from openai<3.0.0,>=1.104.2->langchain_openai) (1.9.0)\n",
      "Requirement already satisfied: jiter<1,>=0.4.0 in /usr/local/python/3.12.1/lib/python3.12/site-packages (from openai<3.0.0,>=1.104.2->langchain_openai) (0.11.0)\n",
      "Requirement already satisfied: sniffio in /home/codespace/.local/lib/python3.12/site-packages (from openai<3.0.0,>=1.104.2->langchain_openai) (1.3.1)\n",
      "Requirement already satisfied: tqdm>4 in /usr/local/python/3.12.1/lib/python3.12/site-packages (from openai<3.0.0,>=1.104.2->langchain_openai) (4.67.1)\n",
      "Requirement already satisfied: annotated-types>=0.6.0 in /usr/local/python/3.12.1/lib/python3.12/site-packages (from pydantic<3.0.0,>=2.7.4->langchain-core<1.0.0,>=0.3.78->langchain_openai) (0.7.0)\n",
      "Requirement already satisfied: pydantic-core==2.33.2 in /usr/local/python/3.12.1/lib/python3.12/site-packages (from pydantic<3.0.0,>=2.7.4->langchain-core<1.0.0,>=0.3.78->langchain_openai) (2.33.2)\n",
      "Requirement already satisfied: typing-inspection>=0.4.0 in /usr/local/python/3.12.1/lib/python3.12/site-packages (from pydantic<3.0.0,>=2.7.4->langchain-core<1.0.0,>=0.3.78->langchain_openai) (0.4.1)\n",
      "Requirement already satisfied: regex>=2022.1.18 in /usr/local/python/3.12.1/lib/python3.12/site-packages (from tiktoken<1.0.0,>=0.7.0->langchain_openai) (2025.9.18)\n",
      "Requirement already satisfied: charset_normalizer<4,>=2 in /home/codespace/.local/lib/python3.12/site-packages (from requests>=2.0.0->langsmith<1.0.0,>=0.3.45->langchain-core<1.0.0,>=0.3.78->langchain_openai) (3.4.2)\n",
      "Requirement already satisfied: urllib3<3,>=1.21.1 in /home/codespace/.local/lib/python3.12/site-packages (from requests>=2.0.0->langsmith<1.0.0,>=0.3.45->langchain-core<1.0.0,>=0.3.78->langchain_openai) (2.5.0)\n",
      "Downloading langchain_openai-0.3.35-py3-none-any.whl (75 kB)\n",
      "Downloading langchain_core-0.3.78-py3-none-any.whl (449 kB)\n",
      "Downloading jsonpatch-1.33-py2.py3-none-any.whl (12 kB)\n",
      "Downloading langsmith-0.4.33-py3-none-any.whl (387 kB)\n",
      "Downloading tenacity-9.1.2-py3-none-any.whl (28 kB)\n",
      "Downloading requests_toolbelt-1.0.0-py2.py3-none-any.whl (54 kB)\n",
      "Downloading zstandard-0.25.0-cp312-cp312-manylinux2014_x86_64.manylinux_2_17_x86_64.whl (5.5 MB)\n",
      "\u001b[2K   \u001b[90m━━━━━━━━━━━━━━━━━━━━━━━━━━━━━━━━━━━━━━━━\u001b[0m \u001b[32m5.5/5.5 MB\u001b[0m \u001b[31m22.6 MB/s\u001b[0m  \u001b[33m0:00:00\u001b[0mm0:00:01\u001b[0m\n",
      "\u001b[?25hInstalling collected packages: zstandard, tenacity, jsonpatch, requests-toolbelt, langsmith, langchain-core, langchain_openai\n",
      "\u001b[2K   \u001b[90m━━━━━━━━━━━━━━━━━━━━━━━━━━━━━━━━━━━━━━━━\u001b[0m \u001b[32m7/7\u001b[0m [langchain_openai][langchain-core]lt]\n",
      "\u001b[1A\u001b[2KSuccessfully installed jsonpatch-1.33 langchain-core-0.3.78 langchain_openai-0.3.35 langsmith-0.4.33 requests-toolbelt-1.0.0 tenacity-9.1.2 zstandard-0.25.0\n",
      "Collecting langchain_community\n",
      "  Downloading langchain_community-0.3.31-py3-none-any.whl.metadata (3.0 kB)\n",
      "Requirement already satisfied: langchain-core<2.0.0,>=0.3.78 in /usr/local/python/3.12.1/lib/python3.12/site-packages (from langchain_community) (0.3.78)\n",
      "Collecting langchain<2.0.0,>=0.3.27 (from langchain_community)\n",
      "  Downloading langchain-0.3.27-py3-none-any.whl.metadata (7.8 kB)\n",
      "Requirement already satisfied: SQLAlchemy<3.0.0,>=1.4.0 in /usr/local/python/3.12.1/lib/python3.12/site-packages (from langchain_community) (2.0.43)\n",
      "Collecting requests<3.0.0,>=2.32.5 (from langchain_community)\n",
      "  Downloading requests-2.32.5-py3-none-any.whl.metadata (4.9 kB)\n",
      "Requirement already satisfied: PyYAML<7.0.0,>=5.3.0 in /home/codespace/.local/lib/python3.12/site-packages (from langchain_community) (6.0.2)\n",
      "Requirement already satisfied: aiohttp<4.0.0,>=3.8.3 in /usr/local/python/3.12.1/lib/python3.12/site-packages (from langchain_community) (3.12.15)\n",
      "Requirement already satisfied: tenacity!=8.4.0,<10.0.0,>=8.1.0 in /usr/local/python/3.12.1/lib/python3.12/site-packages (from langchain_community) (9.1.2)\n",
      "Collecting dataclasses-json<0.7.0,>=0.6.7 (from langchain_community)\n",
      "  Downloading dataclasses_json-0.6.7-py3-none-any.whl.metadata (25 kB)\n",
      "Requirement already satisfied: pydantic-settings<3.0.0,>=2.10.1 in /usr/local/python/3.12.1/lib/python3.12/site-packages (from langchain_community) (2.10.1)\n",
      "Requirement already satisfied: langsmith<1.0.0,>=0.1.125 in /usr/local/python/3.12.1/lib/python3.12/site-packages (from langchain_community) (0.4.33)\n",
      "Requirement already satisfied: httpx-sse<1.0.0,>=0.4.0 in /usr/local/python/3.12.1/lib/python3.12/site-packages (from langchain_community) (0.4.1)\n",
      "Requirement already satisfied: numpy>=1.26.2 in /home/codespace/.local/lib/python3.12/site-packages (from langchain_community) (2.3.1)\n",
      "Requirement already satisfied: aiohappyeyeballs>=2.5.0 in /usr/local/python/3.12.1/lib/python3.12/site-packages (from aiohttp<4.0.0,>=3.8.3->langchain_community) (2.6.1)\n",
      "Requirement already satisfied: aiosignal>=1.4.0 in /usr/local/python/3.12.1/lib/python3.12/site-packages (from aiohttp<4.0.0,>=3.8.3->langchain_community) (1.4.0)\n",
      "Requirement already satisfied: attrs>=17.3.0 in /home/codespace/.local/lib/python3.12/site-packages (from aiohttp<4.0.0,>=3.8.3->langchain_community) (25.3.0)\n",
      "Requirement already satisfied: frozenlist>=1.1.1 in /usr/local/python/3.12.1/lib/python3.12/site-packages (from aiohttp<4.0.0,>=3.8.3->langchain_community) (1.7.0)\n",
      "Requirement already satisfied: multidict<7.0,>=4.5 in /usr/local/python/3.12.1/lib/python3.12/site-packages (from aiohttp<4.0.0,>=3.8.3->langchain_community) (6.6.4)\n",
      "Requirement already satisfied: propcache>=0.2.0 in /usr/local/python/3.12.1/lib/python3.12/site-packages (from aiohttp<4.0.0,>=3.8.3->langchain_community) (0.3.2)\n",
      "Requirement already satisfied: yarl<2.0,>=1.17.0 in /usr/local/python/3.12.1/lib/python3.12/site-packages (from aiohttp<4.0.0,>=3.8.3->langchain_community) (1.20.1)\n",
      "Collecting marshmallow<4.0.0,>=3.18.0 (from dataclasses-json<0.7.0,>=0.6.7->langchain_community)\n",
      "  Downloading marshmallow-3.26.1-py3-none-any.whl.metadata (7.3 kB)\n",
      "Collecting typing-inspect<1,>=0.4.0 (from dataclasses-json<0.7.0,>=0.6.7->langchain_community)\n",
      "  Downloading typing_inspect-0.9.0-py3-none-any.whl.metadata (1.5 kB)\n",
      "Collecting langchain-text-splitters<1.0.0,>=0.3.9 (from langchain<2.0.0,>=0.3.27->langchain_community)\n",
      "  Downloading langchain_text_splitters-0.3.11-py3-none-any.whl.metadata (1.8 kB)\n",
      "Requirement already satisfied: pydantic<3.0.0,>=2.7.4 in /usr/local/python/3.12.1/lib/python3.12/site-packages (from langchain<2.0.0,>=0.3.27->langchain_community) (2.11.9)\n",
      "Requirement already satisfied: jsonpatch<2.0.0,>=1.33.0 in /usr/local/python/3.12.1/lib/python3.12/site-packages (from langchain-core<2.0.0,>=0.3.78->langchain_community) (1.33)\n",
      "Requirement already satisfied: typing-extensions<5.0.0,>=4.7.0 in /home/codespace/.local/lib/python3.12/site-packages (from langchain-core<2.0.0,>=0.3.78->langchain_community) (4.14.1)\n",
      "Requirement already satisfied: packaging<26.0.0,>=23.2.0 in /home/codespace/.local/lib/python3.12/site-packages (from langchain-core<2.0.0,>=0.3.78->langchain_community) (25.0)\n",
      "Requirement already satisfied: jsonpointer>=1.9 in /home/codespace/.local/lib/python3.12/site-packages (from jsonpatch<2.0.0,>=1.33.0->langchain-core<2.0.0,>=0.3.78->langchain_community) (3.0.0)\n",
      "Requirement already satisfied: httpx<1,>=0.23.0 in /home/codespace/.local/lib/python3.12/site-packages (from langsmith<1.0.0,>=0.1.125->langchain_community) (0.28.1)\n",
      "Requirement already satisfied: orjson>=3.9.14 in /usr/local/python/3.12.1/lib/python3.12/site-packages (from langsmith<1.0.0,>=0.1.125->langchain_community) (3.11.3)\n",
      "Requirement already satisfied: requests-toolbelt>=1.0.0 in /usr/local/python/3.12.1/lib/python3.12/site-packages (from langsmith<1.0.0,>=0.1.125->langchain_community) (1.0.0)\n",
      "Requirement already satisfied: zstandard>=0.23.0 in /usr/local/python/3.12.1/lib/python3.12/site-packages (from langsmith<1.0.0,>=0.1.125->langchain_community) (0.25.0)\n",
      "Requirement already satisfied: anyio in /home/codespace/.local/lib/python3.12/site-packages (from httpx<1,>=0.23.0->langsmith<1.0.0,>=0.1.125->langchain_community) (4.9.0)\n",
      "Requirement already satisfied: certifi in /home/codespace/.local/lib/python3.12/site-packages (from httpx<1,>=0.23.0->langsmith<1.0.0,>=0.1.125->langchain_community) (2025.7.9)\n",
      "Requirement already satisfied: httpcore==1.* in /home/codespace/.local/lib/python3.12/site-packages (from httpx<1,>=0.23.0->langsmith<1.0.0,>=0.1.125->langchain_community) (1.0.9)\n",
      "Requirement already satisfied: idna in /home/codespace/.local/lib/python3.12/site-packages (from httpx<1,>=0.23.0->langsmith<1.0.0,>=0.1.125->langchain_community) (3.10)\n",
      "Requirement already satisfied: h11>=0.16 in /home/codespace/.local/lib/python3.12/site-packages (from httpcore==1.*->httpx<1,>=0.23.0->langsmith<1.0.0,>=0.1.125->langchain_community) (0.16.0)\n",
      "Requirement already satisfied: annotated-types>=0.6.0 in /usr/local/python/3.12.1/lib/python3.12/site-packages (from pydantic<3.0.0,>=2.7.4->langchain<2.0.0,>=0.3.27->langchain_community) (0.7.0)\n",
      "Requirement already satisfied: pydantic-core==2.33.2 in /usr/local/python/3.12.1/lib/python3.12/site-packages (from pydantic<3.0.0,>=2.7.4->langchain<2.0.0,>=0.3.27->langchain_community) (2.33.2)\n",
      "Requirement already satisfied: typing-inspection>=0.4.0 in /usr/local/python/3.12.1/lib/python3.12/site-packages (from pydantic<3.0.0,>=2.7.4->langchain<2.0.0,>=0.3.27->langchain_community) (0.4.1)\n",
      "Requirement already satisfied: python-dotenv>=0.21.0 in /usr/local/python/3.12.1/lib/python3.12/site-packages (from pydantic-settings<3.0.0,>=2.10.1->langchain_community) (1.1.1)\n",
      "Requirement already satisfied: charset_normalizer<4,>=2 in /home/codespace/.local/lib/python3.12/site-packages (from requests<3.0.0,>=2.32.5->langchain_community) (3.4.2)\n",
      "Requirement already satisfied: urllib3<3,>=1.21.1 in /home/codespace/.local/lib/python3.12/site-packages (from requests<3.0.0,>=2.32.5->langchain_community) (2.5.0)\n",
      "Requirement already satisfied: greenlet>=1 in /usr/local/python/3.12.1/lib/python3.12/site-packages (from SQLAlchemy<3.0.0,>=1.4.0->langchain_community) (3.2.4)\n",
      "Collecting mypy-extensions>=0.3.0 (from typing-inspect<1,>=0.4.0->dataclasses-json<0.7.0,>=0.6.7->langchain_community)\n",
      "  Downloading mypy_extensions-1.1.0-py3-none-any.whl.metadata (1.1 kB)\n",
      "Requirement already satisfied: sniffio>=1.1 in /home/codespace/.local/lib/python3.12/site-packages (from anyio->httpx<1,>=0.23.0->langsmith<1.0.0,>=0.1.125->langchain_community) (1.3.1)\n",
      "Downloading langchain_community-0.3.31-py3-none-any.whl (2.5 MB)\n",
      "\u001b[2K   \u001b[90m━━━━━━━━━━━━━━━━━━━━━━━━━━━━━━━━━━━━━━━━\u001b[0m \u001b[32m2.5/2.5 MB\u001b[0m \u001b[31m11.6 MB/s\u001b[0m  \u001b[33m0:00:00\u001b[0meta \u001b[36m0:00:01\u001b[0m\n",
      "\u001b[?25hDownloading dataclasses_json-0.6.7-py3-none-any.whl (28 kB)\n",
      "Downloading langchain-0.3.27-py3-none-any.whl (1.0 MB)\n",
      "\u001b[2K   \u001b[90m━━━━━━━━━━━━━━━━━━━━━━━━━━━━━━━━━━━━━━━━\u001b[0m \u001b[32m1.0/1.0 MB\u001b[0m \u001b[31m31.8 MB/s\u001b[0m  \u001b[33m0:00:00\u001b[0m\n",
      "\u001b[?25hDownloading langchain_text_splitters-0.3.11-py3-none-any.whl (33 kB)\n",
      "Downloading marshmallow-3.26.1-py3-none-any.whl (50 kB)\n",
      "Downloading requests-2.32.5-py3-none-any.whl (64 kB)\n",
      "Downloading typing_inspect-0.9.0-py3-none-any.whl (8.8 kB)\n",
      "Downloading mypy_extensions-1.1.0-py3-none-any.whl (5.0 kB)\n",
      "Installing collected packages: requests, mypy-extensions, marshmallow, typing-inspect, dataclasses-json, langchain-text-splitters, langchain, langchain_community\n",
      "\u001b[2K  Attempting uninstall: requests\n",
      "\u001b[2K    Found existing installation: requests 2.32.4\n",
      "\u001b[2K    Uninstalling requests-2.32.4:\n",
      "\u001b[2K      Successfully uninstalled requests-2.32.4\n",
      "\u001b[2K   \u001b[90m━━━━━━━━━━━━━━━━━━━━━━━━━━━━━━━━━━━━━━━━\u001b[0m \u001b[32m8/8\u001b[0m [langchain_community]ngchain_community]\n",
      "\u001b[1A\u001b[2KSuccessfully installed dataclasses-json-0.6.7 langchain-0.3.27 langchain-text-splitters-0.3.11 langchain_community-0.3.31 marshmallow-3.26.1 mypy-extensions-1.1.0 requests-2.32.5 typing-inspect-0.9.0\n",
      "Requirement already satisfied: langchain in /usr/local/python/3.12.1/lib/python3.12/site-packages (0.3.27)\n",
      "Requirement already satisfied: langchain-core<1.0.0,>=0.3.72 in /usr/local/python/3.12.1/lib/python3.12/site-packages (from langchain) (0.3.78)\n",
      "Requirement already satisfied: langchain-text-splitters<1.0.0,>=0.3.9 in /usr/local/python/3.12.1/lib/python3.12/site-packages (from langchain) (0.3.11)\n",
      "Requirement already satisfied: langsmith>=0.1.17 in /usr/local/python/3.12.1/lib/python3.12/site-packages (from langchain) (0.4.33)\n",
      "Requirement already satisfied: pydantic<3.0.0,>=2.7.4 in /usr/local/python/3.12.1/lib/python3.12/site-packages (from langchain) (2.11.9)\n",
      "Requirement already satisfied: SQLAlchemy<3,>=1.4 in /usr/local/python/3.12.1/lib/python3.12/site-packages (from langchain) (2.0.43)\n",
      "Requirement already satisfied: requests<3,>=2 in /usr/local/python/3.12.1/lib/python3.12/site-packages (from langchain) (2.32.5)\n",
      "Requirement already satisfied: PyYAML>=5.3 in /home/codespace/.local/lib/python3.12/site-packages (from langchain) (6.0.2)\n",
      "Requirement already satisfied: tenacity!=8.4.0,<10.0.0,>=8.1.0 in /usr/local/python/3.12.1/lib/python3.12/site-packages (from langchain-core<1.0.0,>=0.3.72->langchain) (9.1.2)\n",
      "Requirement already satisfied: jsonpatch<2.0.0,>=1.33.0 in /usr/local/python/3.12.1/lib/python3.12/site-packages (from langchain-core<1.0.0,>=0.3.72->langchain) (1.33)\n",
      "Requirement already satisfied: typing-extensions<5.0.0,>=4.7.0 in /home/codespace/.local/lib/python3.12/site-packages (from langchain-core<1.0.0,>=0.3.72->langchain) (4.14.1)\n",
      "Requirement already satisfied: packaging<26.0.0,>=23.2.0 in /home/codespace/.local/lib/python3.12/site-packages (from langchain-core<1.0.0,>=0.3.72->langchain) (25.0)\n",
      "Requirement already satisfied: jsonpointer>=1.9 in /home/codespace/.local/lib/python3.12/site-packages (from jsonpatch<2.0.0,>=1.33.0->langchain-core<1.0.0,>=0.3.72->langchain) (3.0.0)\n",
      "Requirement already satisfied: httpx<1,>=0.23.0 in /home/codespace/.local/lib/python3.12/site-packages (from langsmith>=0.1.17->langchain) (0.28.1)\n",
      "Requirement already satisfied: orjson>=3.9.14 in /usr/local/python/3.12.1/lib/python3.12/site-packages (from langsmith>=0.1.17->langchain) (3.11.3)\n",
      "Requirement already satisfied: requests-toolbelt>=1.0.0 in /usr/local/python/3.12.1/lib/python3.12/site-packages (from langsmith>=0.1.17->langchain) (1.0.0)\n",
      "Requirement already satisfied: zstandard>=0.23.0 in /usr/local/python/3.12.1/lib/python3.12/site-packages (from langsmith>=0.1.17->langchain) (0.25.0)\n",
      "Requirement already satisfied: anyio in /home/codespace/.local/lib/python3.12/site-packages (from httpx<1,>=0.23.0->langsmith>=0.1.17->langchain) (4.9.0)\n",
      "Requirement already satisfied: certifi in /home/codespace/.local/lib/python3.12/site-packages (from httpx<1,>=0.23.0->langsmith>=0.1.17->langchain) (2025.7.9)\n",
      "Requirement already satisfied: httpcore==1.* in /home/codespace/.local/lib/python3.12/site-packages (from httpx<1,>=0.23.0->langsmith>=0.1.17->langchain) (1.0.9)\n",
      "Requirement already satisfied: idna in /home/codespace/.local/lib/python3.12/site-packages (from httpx<1,>=0.23.0->langsmith>=0.1.17->langchain) (3.10)\n",
      "Requirement already satisfied: h11>=0.16 in /home/codespace/.local/lib/python3.12/site-packages (from httpcore==1.*->httpx<1,>=0.23.0->langsmith>=0.1.17->langchain) (0.16.0)\n",
      "Requirement already satisfied: annotated-types>=0.6.0 in /usr/local/python/3.12.1/lib/python3.12/site-packages (from pydantic<3.0.0,>=2.7.4->langchain) (0.7.0)\n",
      "Requirement already satisfied: pydantic-core==2.33.2 in /usr/local/python/3.12.1/lib/python3.12/site-packages (from pydantic<3.0.0,>=2.7.4->langchain) (2.33.2)\n",
      "Requirement already satisfied: typing-inspection>=0.4.0 in /usr/local/python/3.12.1/lib/python3.12/site-packages (from pydantic<3.0.0,>=2.7.4->langchain) (0.4.1)\n",
      "Requirement already satisfied: charset_normalizer<4,>=2 in /home/codespace/.local/lib/python3.12/site-packages (from requests<3,>=2->langchain) (3.4.2)\n",
      "Requirement already satisfied: urllib3<3,>=1.21.1 in /home/codespace/.local/lib/python3.12/site-packages (from requests<3,>=2->langchain) (2.5.0)\n",
      "Requirement already satisfied: greenlet>=1 in /usr/local/python/3.12.1/lib/python3.12/site-packages (from SQLAlchemy<3,>=1.4->langchain) (3.2.4)\n",
      "Requirement already satisfied: sniffio>=1.1 in /home/codespace/.local/lib/python3.12/site-packages (from anyio->httpx<1,>=0.23.0->langsmith>=0.1.17->langchain) (1.3.1)\n"
     ]
    }
   ],
   "source": [
    "! pip install langchain_openai\n",
    "! pip install langchain_community\n",
    "! pip install langchain"
   ]
  },
  {
   "cell_type": "code",
   "execution_count": 1,
   "id": "60260111",
   "metadata": {},
   "outputs": [],
   "source": [
    "import os\n",
    "OPENROUTER_API_KEY = os.environ[\"OPENROUTER_API_KEY\"]"
   ]
  },
  {
   "cell_type": "code",
   "execution_count": 2,
   "id": "76faba6b",
   "metadata": {},
   "outputs": [
    {
     "name": "stderr",
     "output_type": "stream",
     "text": [
      "/tmp/ipykernel_15806/3266447783.py:19: LangChainDeprecationWarning: The class `LLMChain` was deprecated in LangChain 0.1.17 and will be removed in 1.0. Use :meth:`~RunnableSequence, e.g., `prompt | llm`` instead.\n",
      "  llm_chain = LLMChain(prompt=prompt, llm=llm)\n",
      "/tmp/ipykernel_15806/3266447783.py:23: LangChainDeprecationWarning: The method `Chain.run` was deprecated in langchain 0.1.0 and will be removed in 1.0. Use :meth:`~invoke` instead.\n",
      "  print(llm_chain.run(question))\n"
     ]
    },
    {
     "name": "stdout",
     "output_type": "stream",
     "text": [
      "Justin Bieber was born on March 1, 1994. \n",
      "\n",
      "The Super Bowl that took place in 1994 was Super Bowl XXVIII, which occurred on January 30, 1994. \n",
      "\n",
      "The Dallas Cowboys won Super Bowl XXVIII by defeating the Buffalo Bills 30-13.\n",
      "\n",
      "So, the NFL team that won the Super Bowl in the year Justin Bieber was born was the Dallas Cowboys.\n"
     ]
    }
   ],
   "source": [
    "from langchain_openai import ChatOpenAI\n",
    "from langchain_core.prompts import PromptTemplate\n",
    "from langchain.chains import LLMChain\n",
    "import os\n",
    "\n",
    "OPENROUTER_API_KEY = os.environ[\"OPENROUTER_API_KEY\"]\n",
    "\n",
    "template = \"\"\"Question: {question}\"\"\"\n",
    "\n",
    "prompt = PromptTemplate(template=template, input_variables=[\"question\"])\n",
    "\n",
    "llm = ChatOpenAI(\n",
    "  openai_api_base=\"https://openrouter.ai/api/v1\",\n",
    "  openai_api_key=OPENROUTER_API_KEY,\n",
    "  model=\"meta-llama/llama-4-scout:free\"\n",
    "  #model=\"openai/gpt-oss-20b:free\"\n",
    ")\n",
    "\n",
    "llm_chain = LLMChain(prompt=prompt, llm=llm)\n",
    "\n",
    "question = \"What NFL team won the Super Bowl in the year Justin Beiber was born?\"\n",
    "\n",
    "print(llm_chain.run(question))\n"
   ]
  },
  {
   "cell_type": "code",
   "execution_count": 9,
   "id": "803d3a9c",
   "metadata": {},
   "outputs": [
    {
     "data": {
      "text/html": [
       "<pre style=\"white-space:pre;overflow-x:auto;line-height:normal;font-family:Menlo,'DejaVu Sans Mono',consolas,'Courier New',monospace\"><span style=\"color: #d4b702; text-decoration-color: #d4b702\">╭──────────────────────────────────────────────────── </span><span style=\"color: #d4b702; text-decoration-color: #d4b702; font-weight: bold\">New run</span><span style=\"color: #d4b702; text-decoration-color: #d4b702\"> ────────────────────────────────────────────────────╮</span>\n",
       "<span style=\"color: #d4b702; text-decoration-color: #d4b702\">│</span>                                                                                                                 <span style=\"color: #d4b702; text-decoration-color: #d4b702\">│</span>\n",
       "<span style=\"color: #d4b702; text-decoration-color: #d4b702\">│</span> <span style=\"font-weight: bold\">What do you know about Narendra Modi ?</span>                                                                          <span style=\"color: #d4b702; text-decoration-color: #d4b702\">│</span>\n",
       "<span style=\"color: #d4b702; text-decoration-color: #d4b702\">│</span>                                                                                                                 <span style=\"color: #d4b702; text-decoration-color: #d4b702\">│</span>\n",
       "<span style=\"color: #d4b702; text-decoration-color: #d4b702\">╰─ OpenAIServerModel - meta-llama/llama-4-scout:free ─────────────────────────────────────────────────────────────╯</span>\n",
       "</pre>\n"
      ],
      "text/plain": [
       "\u001b[38;2;212;183;2m╭─\u001b[0m\u001b[38;2;212;183;2m───────────────────────────────────────────────────\u001b[0m\u001b[38;2;212;183;2m \u001b[0m\u001b[1;38;2;212;183;2mNew run\u001b[0m\u001b[38;2;212;183;2m \u001b[0m\u001b[38;2;212;183;2m───────────────────────────────────────────────────\u001b[0m\u001b[38;2;212;183;2m─╮\u001b[0m\n",
       "\u001b[38;2;212;183;2m│\u001b[0m                                                                                                                 \u001b[38;2;212;183;2m│\u001b[0m\n",
       "\u001b[38;2;212;183;2m│\u001b[0m \u001b[1mWhat do you know about Narendra Modi ?\u001b[0m                                                                          \u001b[38;2;212;183;2m│\u001b[0m\n",
       "\u001b[38;2;212;183;2m│\u001b[0m                                                                                                                 \u001b[38;2;212;183;2m│\u001b[0m\n",
       "\u001b[38;2;212;183;2m╰─\u001b[0m\u001b[38;2;212;183;2m OpenAIServerModel - meta-llama/llama-4-scout:free \u001b[0m\u001b[38;2;212;183;2m────────────────────────────────────────────────────────────\u001b[0m\u001b[38;2;212;183;2m─╯\u001b[0m\n"
      ]
     },
     "metadata": {},
     "output_type": "display_data"
    },
    {
     "data": {
      "text/html": [
       "<pre style=\"white-space:pre;overflow-x:auto;line-height:normal;font-family:Menlo,'DejaVu Sans Mono',consolas,'Courier New',monospace\"><span style=\"color: #d4b702; text-decoration-color: #d4b702\">━━━━━━━━━━━━━━━━━━━━━━━━━━━━━━━━━━━━━━━━━━━━━━━━━━━━━ </span><span style=\"font-weight: bold\">Step 1</span><span style=\"color: #d4b702; text-decoration-color: #d4b702\"> ━━━━━━━━━━━━━━━━━━━━━━━━━━━━━━━━━━━━━━━━━━━━━━━━━━━━━━</span>\n",
       "</pre>\n"
      ],
      "text/plain": [
       "\u001b[38;2;212;183;2m━━━━━━━━━━━━━━━━━━━━━━━━━━━━━━━━━━━━━━━━━━━━━━━━━━━━━ \u001b[0m\u001b[1mStep 1\u001b[0m\u001b[38;2;212;183;2m ━━━━━━━━━━━━━━━━━━━━━━━━━━━━━━━━━━━━━━━━━━━━━━━━━━━━━━\u001b[0m\n"
      ]
     },
     "metadata": {},
     "output_type": "display_data"
    },
    {
     "data": {
      "text/html": [
       "<pre style=\"white-space:pre;overflow-x:auto;line-height:normal;font-family:Menlo,'DejaVu Sans Mono',consolas,'Courier New',monospace\">╭─────────────────────────────────────────────────────────────────────────────────────────────────────────────────╮\n",
       "│ Calling tool: 'web_search' with arguments: {'query': 'Narendra Modi biography'}                                 │\n",
       "╰─────────────────────────────────────────────────────────────────────────────────────────────────────────────────╯\n",
       "</pre>\n"
      ],
      "text/plain": [
       "╭─────────────────────────────────────────────────────────────────────────────────────────────────────────────────╮\n",
       "│ Calling tool: 'web_search' with arguments: {'query': 'Narendra Modi biography'}                                 │\n",
       "╰─────────────────────────────────────────────────────────────────────────────────────────────────────────────────╯\n"
      ]
     },
     "metadata": {},
     "output_type": "display_data"
    },
    {
     "data": {
      "text/html": [
       "<pre style=\"white-space:pre;overflow-x:auto;line-height:normal;font-family:Menlo,'DejaVu Sans Mono',consolas,'Courier New',monospace\">Observations: ## Search Results\n",
       "\n",
       "|Wikipedia Narendra Modi - Wikipedia](https://en.wikipedia.org/wiki/Narendra_Modi)\n",
       "5 days ago - He remains a highly controversial ... Narendra Damodardas Modi was born on 17 September 1950 to a \n",
       "Gujarati family of Other Backward Class (OBC) background and Hindu faith in Vadnagar, Mehsana district, Bombay \n",
       "State (present-day Gujarat). ...\n",
       "\n",
       "|Simple English Wikipedia Narendra Modi - Simple English Wikipedia, the free \n",
       "encyclopedia](https://simple.wikipedia.org/wiki/Narendra_Modi)\n",
       "2 weeks ago - Narendra Damodardas Modi ( born: 17 September, 1950) is an Indian politician who is the 14th and \n",
       "current Prime Minister of India since 2014. He was previously the Chief Minister of the state of Gujarat from 2001 \n",
       "to 2014. He was elected prime minister in May 2014.\n",
       "\n",
       "|Encyclopedia Britannica Narendra Modi | Biography, Career, &amp; Facts | \n",
       "Britannica](https://www.britannica.com/biography/Narendra-Modi)\n",
       "1 week ago - Narendra Modi is the 14th prime minister of India . His Hindu nationalist policies and some of his \n",
       "economic reforms have proved controversial to many within and outside India.\n",
       "\n",
       "|PW Live Narendra Modi Biography, Full Name, Date of Birth, Education, Age and Birth \n",
       "Place](https://www.pw.live/upsc/exams/narendra-modi-biography)\n",
       "August 6, 2025 - Narendra Modi Biography: Shri Narendra Modi is the 14th and current prime minister of India, \n",
       "serving since May 26, 2014. His Date of Birth is 17 September 1950, and his Birth Place is Vadnagar, Gujarat. He is\n",
       "a leader who has reshaped the political and economic landscape of India.\n",
       "\n",
       "|Bharatiya Janata Party Shri Narendra Modi | Bharatiya Janata Party](https://www.bjp.org/shri-narendra-modi)\n",
       "August 10, 2025 - On 26th May 2014 Narendra Modi took oath as the Prime Minister of India, becoming the first ever \n",
       "PM to be born after India attained Independence . Dynamic, dedicated and determined, Narendra Modi reflects the \n",
       "aspiration and hope of over a billion Indians. Ever since he assumed office in May ...\n",
       "\n",
       "|PWOnlyIAS PM Narendra Modi Biography: Early Life, Education, Political Journey, Achievements, \n",
       "Birthday](https://pwonlyias.com/narendra-modi/)\n",
       "3 weeks ago - Prime Minister Narendra Modi Biography: ... PM Modi’s birthday will be celebrated on September 17. He\n",
       "was born in 1950, in Vadnagar, Gujarat, Modi rose from humble beginnings to become a key political figure ....\n",
       "\n",
       "|Amazon Narendra Modi: The Man, The Times : Mukhopadhyay, Nilanjan: Amazon.in: \n",
       "Books](https://www.amazon.in/Narendra-Modi-Times-Nilanjan-Mukhopadhyay/dp/9383260483)\n",
       "Written by veteran journalist and writer, Nilanjan Mukhopadhyay , after several in-depth interviews, meticulous \n",
       "research and extensive travel through Gujarat, this book reveals hitherto unknown aspects of Narendra Modi's \n",
       "psyche: as a six year- old boy selling tea to help out his father and ...\n",
       "\n",
       "|India Elections Narendra Modi Biography - About Family, Political life, News and \n",
       "Updates](https://www.elections.in/political-leaders/narendra-modi.html)\n",
       "Narendra Modi Biography - Read about Family, Age, Caste, Married Life, Political Career, Early Political Life, \n",
       "Religion, Net Worth and many key facts.\n",
       "\n",
       "|Jagran Josh Narendra Modi Biography: Early Life, Family, Political Life, Net Worth &amp; Key \n",
       "Facts](https://www.jagranjosh.com/general-knowledge/narendra-modi-biography-1554300449-1)\n",
       "February 3, 2022 - Narendra Modi Biography: He is a dynamic, determined, and dedicated Prime Minister of India who \n",
       "was born on 17 September 1950 at Vadnagar, India . On 30 May 2019, he was sworn in as India's Prime Minister \n",
       "marking the start of his second term in office. He is also the longest-serving Chief Minister ...\n",
       "\n",
       "|Narendra Modi Narendra Modi | NarendraModi.in Official Website of Prime Minister of India | PM Narendra \n",
       "Modi](https://www.narendramodi.in/)\n",
       "Prime Minister Narendra Modi , Get all the information news, updates, speeches on the official website on \n",
       "narendramodi.in\n",
       "</pre>\n"
      ],
      "text/plain": [
       "Observations: ## Search Results\n",
       "\n",
       "|Wikipedia Narendra Modi - Wikipedia](https://en.wikipedia.org/wiki/Narendra_Modi)\n",
       "5 days ago - He remains a highly controversial ... Narendra Damodardas Modi was born on 17 September 1950 to a \n",
       "Gujarati family of Other Backward Class (OBC) background and Hindu faith in Vadnagar, Mehsana district, Bombay \n",
       "State (present-day Gujarat). ...\n",
       "\n",
       "|Simple English Wikipedia Narendra Modi - Simple English Wikipedia, the free \n",
       "encyclopedia](https://simple.wikipedia.org/wiki/Narendra_Modi)\n",
       "2 weeks ago - Narendra Damodardas Modi ( born: 17 September, 1950) is an Indian politician who is the 14th and \n",
       "current Prime Minister of India since 2014. He was previously the Chief Minister of the state of Gujarat from 2001 \n",
       "to 2014. He was elected prime minister in May 2014.\n",
       "\n",
       "|Encyclopedia Britannica Narendra Modi | Biography, Career, & Facts | \n",
       "Britannica](https://www.britannica.com/biography/Narendra-Modi)\n",
       "1 week ago - Narendra Modi is the 14th prime minister of India . His Hindu nationalist policies and some of his \n",
       "economic reforms have proved controversial to many within and outside India.\n",
       "\n",
       "|PW Live Narendra Modi Biography, Full Name, Date of Birth, Education, Age and Birth \n",
       "Place](https://www.pw.live/upsc/exams/narendra-modi-biography)\n",
       "August 6, 2025 - Narendra Modi Biography: Shri Narendra Modi is the 14th and current prime minister of India, \n",
       "serving since May 26, 2014. His Date of Birth is 17 September 1950, and his Birth Place is Vadnagar, Gujarat. He is\n",
       "a leader who has reshaped the political and economic landscape of India.\n",
       "\n",
       "|Bharatiya Janata Party Shri Narendra Modi | Bharatiya Janata Party](https://www.bjp.org/shri-narendra-modi)\n",
       "August 10, 2025 - On 26th May 2014 Narendra Modi took oath as the Prime Minister of India, becoming the first ever \n",
       "PM to be born after India attained Independence . Dynamic, dedicated and determined, Narendra Modi reflects the \n",
       "aspiration and hope of over a billion Indians. Ever since he assumed office in May ...\n",
       "\n",
       "|PWOnlyIAS PM Narendra Modi Biography: Early Life, Education, Political Journey, Achievements, \n",
       "Birthday](https://pwonlyias.com/narendra-modi/)\n",
       "3 weeks ago - Prime Minister Narendra Modi Biography: ... PM Modi’s birthday will be celebrated on September 17. He\n",
       "was born in 1950, in Vadnagar, Gujarat, Modi rose from humble beginnings to become a key political figure ....\n",
       "\n",
       "|Amazon Narendra Modi: The Man, The Times : Mukhopadhyay, Nilanjan: Amazon.in: \n",
       "Books](https://www.amazon.in/Narendra-Modi-Times-Nilanjan-Mukhopadhyay/dp/9383260483)\n",
       "Written by veteran journalist and writer, Nilanjan Mukhopadhyay , after several in-depth interviews, meticulous \n",
       "research and extensive travel through Gujarat, this book reveals hitherto unknown aspects of Narendra Modi's \n",
       "psyche: as a six year- old boy selling tea to help out his father and ...\n",
       "\n",
       "|India Elections Narendra Modi Biography - About Family, Political life, News and \n",
       "Updates](https://www.elections.in/political-leaders/narendra-modi.html)\n",
       "Narendra Modi Biography - Read about Family, Age, Caste, Married Life, Political Career, Early Political Life, \n",
       "Religion, Net Worth and many key facts.\n",
       "\n",
       "|Jagran Josh Narendra Modi Biography: Early Life, Family, Political Life, Net Worth & Key \n",
       "Facts](https://www.jagranjosh.com/general-knowledge/narendra-modi-biography-1554300449-1)\n",
       "February 3, 2022 - Narendra Modi Biography: He is a dynamic, determined, and dedicated Prime Minister of India who \n",
       "was born on 17 September 1950 at Vadnagar, India . On 30 May 2019, he was sworn in as India's Prime Minister \n",
       "marking the start of his second term in office. He is also the longest-serving Chief Minister ...\n",
       "\n",
       "|Narendra Modi Narendra Modi | NarendraModi.in Official Website of Prime Minister of India | PM Narendra \n",
       "Modi](https://www.narendramodi.in/)\n",
       "Prime Minister Narendra Modi , Get all the information news, updates, speeches on the official website on \n",
       "narendramodi.in\n"
      ]
     },
     "metadata": {},
     "output_type": "display_data"
    },
    {
     "data": {
      "text/html": [
       "<pre style=\"white-space:pre;overflow-x:auto;line-height:normal;font-family:Menlo,'DejaVu Sans Mono',consolas,'Courier New',monospace\"><span style=\"color: #7f7f7f; text-decoration-color: #7f7f7f\">[Step 1: Duration 5.66 seconds| Input tokens: 1,505 | Output tokens: 26]</span>\n",
       "</pre>\n"
      ],
      "text/plain": [
       "\u001b[2m[Step 1: Duration 5.66 seconds| Input tokens: 1,505 | Output tokens: 26]\u001b[0m\n"
      ]
     },
     "metadata": {},
     "output_type": "display_data"
    },
    {
     "data": {
      "text/html": [
       "<pre style=\"white-space:pre;overflow-x:auto;line-height:normal;font-family:Menlo,'DejaVu Sans Mono',consolas,'Courier New',monospace\"><span style=\"color: #d4b702; text-decoration-color: #d4b702\">━━━━━━━━━━━━━━━━━━━━━━━━━━━━━━━━━━━━━━━━━━━━━━━━━━━━━ </span><span style=\"font-weight: bold\">Step 2</span><span style=\"color: #d4b702; text-decoration-color: #d4b702\"> ━━━━━━━━━━━━━━━━━━━━━━━━━━━━━━━━━━━━━━━━━━━━━━━━━━━━━━</span>\n",
       "</pre>\n"
      ],
      "text/plain": [
       "\u001b[38;2;212;183;2m━━━━━━━━━━━━━━━━━━━━━━━━━━━━━━━━━━━━━━━━━━━━━━━━━━━━━ \u001b[0m\u001b[1mStep 2\u001b[0m\u001b[38;2;212;183;2m ━━━━━━━━━━━━━━━━━━━━━━━━━━━━━━━━━━━━━━━━━━━━━━━━━━━━━━\u001b[0m\n"
      ]
     },
     "metadata": {},
     "output_type": "display_data"
    },
    {
     "data": {
      "text/html": [
       "<pre style=\"white-space:pre;overflow-x:auto;line-height:normal;font-family:Menlo,'DejaVu Sans Mono',consolas,'Courier New',monospace\">╭─────────────────────────────────────────────────────────────────────────────────────────────────────────────────╮\n",
       "│ Calling tool: 'final_answer' with arguments: {'answer': \"Narendra Damodardas Modi is the 14th and current Prime │\n",
       "│ Minister of India, serving since May 26, 2014. He was born on September 17, 1950, in Vadnagar, Gujarat, India.  │\n",
       "│ Modi is a member of the Bharatiya Janata Party (BJP) and has been a key figure in Indian politics for over two  │\n",
       "│ decades. Before becoming Prime Minister, he served as the Chief Minister of Gujarat from 2001 to 2014. Modi's   │\n",
       "│ tenure as Prime Minister has been marked by several significant initiatives, including economic reforms,        │\n",
       "│ infrastructure development, and social welfare programs. However, his policies and leadership have also been    │\n",
       "│ subject to controversy and criticism, particularly with regards to his Hindu nationalist agenda and handling of │\n",
       "│ various social and economic issues.\"}                                                                           │\n",
       "╰─────────────────────────────────────────────────────────────────────────────────────────────────────────────────╯\n",
       "</pre>\n"
      ],
      "text/plain": [
       "╭─────────────────────────────────────────────────────────────────────────────────────────────────────────────────╮\n",
       "│ Calling tool: 'final_answer' with arguments: {'answer': \"Narendra Damodardas Modi is the 14th and current Prime │\n",
       "│ Minister of India, serving since May 26, 2014. He was born on September 17, 1950, in Vadnagar, Gujarat, India.  │\n",
       "│ Modi is a member of the Bharatiya Janata Party (BJP) and has been a key figure in Indian politics for over two  │\n",
       "│ decades. Before becoming Prime Minister, he served as the Chief Minister of Gujarat from 2001 to 2014. Modi's   │\n",
       "│ tenure as Prime Minister has been marked by several significant initiatives, including economic reforms,        │\n",
       "│ infrastructure development, and social welfare programs. However, his policies and leadership have also been    │\n",
       "│ subject to controversy and criticism, particularly with regards to his Hindu nationalist agenda and handling of │\n",
       "│ various social and economic issues.\"}                                                                           │\n",
       "╰─────────────────────────────────────────────────────────────────────────────────────────────────────────────────╯\n"
      ]
     },
     "metadata": {},
     "output_type": "display_data"
    },
    {
     "data": {
      "text/html": [
       "<pre style=\"white-space:pre;overflow-x:auto;line-height:normal;font-family:Menlo,'DejaVu Sans Mono',consolas,'Courier New',monospace\">Observations: Narendra Damodardas Modi is the 14th and current Prime Minister of India, serving since May 26, 2014.\n",
       "He was born on September 17, 1950, in Vadnagar, Gujarat, India. Modi is a member of the Bharatiya Janata Party \n",
       "(BJP) and has been a key figure in Indian politics for over two decades. Before becoming Prime Minister, he served \n",
       "as the Chief Minister of Gujarat from 2001 to 2014. Modi's tenure as Prime Minister has been marked by several \n",
       "significant initiatives, including economic reforms, infrastructure development, and social welfare programs. \n",
       "However, his policies and leadership have also been subject to controversy and criticism, particularly with regards\n",
       "to his Hindu nationalist agenda and handling of various social and economic issues.\n",
       "</pre>\n"
      ],
      "text/plain": [
       "Observations: Narendra Damodardas Modi is the 14th and current Prime Minister of India, serving since May 26, 2014.\n",
       "He was born on September 17, 1950, in Vadnagar, Gujarat, India. Modi is a member of the Bharatiya Janata Party \n",
       "(BJP) and has been a key figure in Indian politics for over two decades. Before becoming Prime Minister, he served \n",
       "as the Chief Minister of Gujarat from 2001 to 2014. Modi's tenure as Prime Minister has been marked by several \n",
       "significant initiatives, including economic reforms, infrastructure development, and social welfare programs. \n",
       "However, his policies and leadership have also been subject to controversy and criticism, particularly with regards\n",
       "to his Hindu nationalist agenda and handling of various social and economic issues.\n"
      ]
     },
     "metadata": {},
     "output_type": "display_data"
    },
    {
     "data": {
      "text/html": [
       "<pre style=\"white-space:pre;overflow-x:auto;line-height:normal;font-family:Menlo,'DejaVu Sans Mono',consolas,'Courier New',monospace\"><span style=\"color: #d4b702; text-decoration-color: #d4b702; font-weight: bold\">Final answer: Narendra Damodardas Modi is the 14th and current Prime Minister of India, serving since May 26, 2014.</span>\n",
       "<span style=\"color: #d4b702; text-decoration-color: #d4b702; font-weight: bold\">He was born on September 17, 1950, in Vadnagar, Gujarat, India. Modi is a member of the Bharatiya Janata Party </span>\n",
       "<span style=\"color: #d4b702; text-decoration-color: #d4b702; font-weight: bold\">(BJP) and has been a key figure in Indian politics for over two decades. Before becoming Prime Minister, he served </span>\n",
       "<span style=\"color: #d4b702; text-decoration-color: #d4b702; font-weight: bold\">as the Chief Minister of Gujarat from 2001 to 2014. Modi's tenure as Prime Minister has been marked by several </span>\n",
       "<span style=\"color: #d4b702; text-decoration-color: #d4b702; font-weight: bold\">significant initiatives, including economic reforms, infrastructure development, and social welfare programs. </span>\n",
       "<span style=\"color: #d4b702; text-decoration-color: #d4b702; font-weight: bold\">However, his policies and leadership have also been subject to controversy and criticism, particularly with regards</span>\n",
       "<span style=\"color: #d4b702; text-decoration-color: #d4b702; font-weight: bold\">to his Hindu nationalist agenda and handling of various social and economic issues.</span>\n",
       "</pre>\n"
      ],
      "text/plain": [
       "\u001b[1;38;2;212;183;2mFinal answer: Narendra Damodardas Modi is the 14th and current Prime Minister of India, serving since May 26, 2014.\u001b[0m\n",
       "\u001b[1;38;2;212;183;2mHe was born on September 17, 1950, in Vadnagar, Gujarat, India. Modi is a member of the Bharatiya Janata Party \u001b[0m\n",
       "\u001b[1;38;2;212;183;2m(BJP) and has been a key figure in Indian politics for over two decades. Before becoming Prime Minister, he served \u001b[0m\n",
       "\u001b[1;38;2;212;183;2mas the Chief Minister of Gujarat from 2001 to 2014. Modi's tenure as Prime Minister has been marked by several \u001b[0m\n",
       "\u001b[1;38;2;212;183;2msignificant initiatives, including economic reforms, infrastructure development, and social welfare programs. \u001b[0m\n",
       "\u001b[1;38;2;212;183;2mHowever, his policies and leadership have also been subject to controversy and criticism, particularly with regards\u001b[0m\n",
       "\u001b[1;38;2;212;183;2mto his Hindu nationalist agenda and handling of various social and economic issues.\u001b[0m\n"
      ]
     },
     "metadata": {},
     "output_type": "display_data"
    },
    {
     "data": {
      "text/html": [
       "<pre style=\"white-space:pre;overflow-x:auto;line-height:normal;font-family:Menlo,'DejaVu Sans Mono',consolas,'Courier New',monospace\"><span style=\"color: #7f7f7f; text-decoration-color: #7f7f7f\">[Step 2: Duration 5.90 seconds| Input tokens: 4,046 | Output tokens: 210]</span>\n",
       "</pre>\n"
      ],
      "text/plain": [
       "\u001b[2m[Step 2: Duration 5.90 seconds| Input tokens: 4,046 | Output tokens: 210]\u001b[0m\n"
      ]
     },
     "metadata": {},
     "output_type": "display_data"
    },
    {
     "name": "stdout",
     "output_type": "stream",
     "text": [
      "Narendra Damodardas Modi is the 14th and current Prime Minister of India, serving since May 26, 2014. He was born on September 17, 1950, in Vadnagar, Gujarat, India. Modi is a member of the Bharatiya Janata Party (BJP) and has been a key figure in Indian politics for over two decades. Before becoming Prime Minister, he served as the Chief Minister of Gujarat from 2001 to 2014. Modi's tenure as Prime Minister has been marked by several significant initiatives, including economic reforms, infrastructure development, and social welfare programs. However, his policies and leadership have also been subject to controversy and criticism, particularly with regards to his Hindu nationalist agenda and handling of various social and economic issues.\n"
     ]
    }
   ],
   "source": [
    "from smolagents import ToolCallingAgent, OpenAIServerModel, DuckDuckGoSearchTool\n",
    "\n",
    "llm = OpenAIServerModel(\n",
    "    model_id=\"meta-llama/llama-4-scout:free\",\n",
    "    api_key=OPENROUTER_API_KEY,\n",
    "    api_base=\"https://openrouter.ai/api/v1\"\n",
    ")\n",
    "\n",
    "agent = ToolCallingAgent(tools=[DuckDuckGoSearchTool()], model=llm)\n",
    "print(agent.run(\"What do you know about Narendra Modi ?\"))\n"
   ]
  },
  {
   "cell_type": "markdown",
   "id": "7b6c3aad",
   "metadata": {},
   "source": [
    "# 🧩 Problem 5: Multi-Tool Reasoning Agent\n",
    "\n",
    "## Objective\n",
    "Build an agent that can intelligently use multiple tools — a **web search tool** and a **unit conversion tool** — to answer composite questions.\n",
    "\n",
    "---\n",
    "\n",
    "## Problem Statement\n",
    "Create a `ToolCallingAgent` that can handle user queries requiring **both information retrieval and computation**.\n",
    "\n",
    "### Examples\n",
    "- “What is the current price of gold per ounce and convert it to grams?”\n",
    "- “Search the distance between Earth and Moon and convert it to miles.”\n",
    "\n",
    "The agent should:\n",
    "1. Use the **DuckDuckGoSearchTool** to search and extract the required numeric data.\n",
    "2. Parse the **value** and **unit** from the retrieved text.\n",
    "3. Use the **UnitConversionTool** (you built earlier) to convert the unit appropriately.\n",
    "4. Return a clean and concise final answer.\n",
    "\n",
    "---"
   ]
  },
  {
   "cell_type": "markdown",
   "id": "19f5789c",
   "metadata": {},
   "source": [
    "# Algorithmic steps\n",
    "Step 1 : Define the tools \n",
    "* Import both tools \n",
    "* Define the logic for the custom unitconversion tool\n",
    "\n",
    "Step 2 : Implement the UnitConversionTool\n",
    "* Parse the input string\n",
    "* Normalize the units via alias mapping\n",
    "* Apply conversion factor\n",
    "* Return output string\n",
    "\n",
    "Step 3 : Create the ToolCallingAgent\n",
    "* Initialize the agent with both tools and the model\n",
    "\n",
    "Step 4 : Run and observe\n",
    "* Pass different queries and note the results\n",
    "* Verify if both tools are used\n"
   ]
  },
  {
   "cell_type": "code",
   "execution_count": 13,
   "id": "680c1c13",
   "metadata": {},
   "outputs": [
    {
     "data": {
      "text/html": [
       "<pre style=\"white-space:pre;overflow-x:auto;line-height:normal;font-family:Menlo,'DejaVu Sans Mono',consolas,'Courier New',monospace\"><span style=\"color: #d4b702; text-decoration-color: #d4b702\">╭──────────────────────────────────────────────────── </span><span style=\"color: #d4b702; text-decoration-color: #d4b702; font-weight: bold\">New run</span><span style=\"color: #d4b702; text-decoration-color: #d4b702\"> ────────────────────────────────────────────────────╮</span>\n",
       "<span style=\"color: #d4b702; text-decoration-color: #d4b702\">│</span>                                                                                                                 <span style=\"color: #d4b702; text-decoration-color: #d4b702\">│</span>\n",
       "<span style=\"color: #d4b702; text-decoration-color: #d4b702\">│</span> <span style=\"font-weight: bold\">Search the distance between Earth and Moon and convert it to miles.</span>                                             <span style=\"color: #d4b702; text-decoration-color: #d4b702\">│</span>\n",
       "<span style=\"color: #d4b702; text-decoration-color: #d4b702\">│</span>                                                                                                                 <span style=\"color: #d4b702; text-decoration-color: #d4b702\">│</span>\n",
       "<span style=\"color: #d4b702; text-decoration-color: #d4b702\">╰─ OpenAIServerModel - meta-llama/llama-4-scout:free ─────────────────────────────────────────────────────────────╯</span>\n",
       "</pre>\n"
      ],
      "text/plain": [
       "\u001b[38;2;212;183;2m╭─\u001b[0m\u001b[38;2;212;183;2m───────────────────────────────────────────────────\u001b[0m\u001b[38;2;212;183;2m \u001b[0m\u001b[1;38;2;212;183;2mNew run\u001b[0m\u001b[38;2;212;183;2m \u001b[0m\u001b[38;2;212;183;2m───────────────────────────────────────────────────\u001b[0m\u001b[38;2;212;183;2m─╮\u001b[0m\n",
       "\u001b[38;2;212;183;2m│\u001b[0m                                                                                                                 \u001b[38;2;212;183;2m│\u001b[0m\n",
       "\u001b[38;2;212;183;2m│\u001b[0m \u001b[1mSearch the distance between Earth and Moon and convert it to miles.\u001b[0m                                             \u001b[38;2;212;183;2m│\u001b[0m\n",
       "\u001b[38;2;212;183;2m│\u001b[0m                                                                                                                 \u001b[38;2;212;183;2m│\u001b[0m\n",
       "\u001b[38;2;212;183;2m╰─\u001b[0m\u001b[38;2;212;183;2m OpenAIServerModel - meta-llama/llama-4-scout:free \u001b[0m\u001b[38;2;212;183;2m────────────────────────────────────────────────────────────\u001b[0m\u001b[38;2;212;183;2m─╯\u001b[0m\n"
      ]
     },
     "metadata": {},
     "output_type": "display_data"
    },
    {
     "data": {
      "text/html": [
       "<pre style=\"white-space:pre;overflow-x:auto;line-height:normal;font-family:Menlo,'DejaVu Sans Mono',consolas,'Courier New',monospace\"><span style=\"color: #d4b702; text-decoration-color: #d4b702\">━━━━━━━━━━━━━━━━━━━━━━━━━━━━━━━━━━━━━━━━━━━━━━━━━━━━━ </span><span style=\"font-weight: bold\">Step 1</span><span style=\"color: #d4b702; text-decoration-color: #d4b702\"> ━━━━━━━━━━━━━━━━━━━━━━━━━━━━━━━━━━━━━━━━━━━━━━━━━━━━━━</span>\n",
       "</pre>\n"
      ],
      "text/plain": [
       "\u001b[38;2;212;183;2m━━━━━━━━━━━━━━━━━━━━━━━━━━━━━━━━━━━━━━━━━━━━━━━━━━━━━ \u001b[0m\u001b[1mStep 1\u001b[0m\u001b[38;2;212;183;2m ━━━━━━━━━━━━━━━━━━━━━━━━━━━━━━━━━━━━━━━━━━━━━━━━━━━━━━\u001b[0m\n"
      ]
     },
     "metadata": {},
     "output_type": "display_data"
    },
    {
     "data": {
      "text/html": [
       "<pre style=\"white-space:pre;overflow-x:auto;line-height:normal;font-family:Menlo,'DejaVu Sans Mono',consolas,'Courier New',monospace\">╭─────────────────────────────────────────────────────────────────────────────────────────────────────────────────╮\n",
       "│ Calling tool: 'web_search' with arguments: {'query': 'distance between Earth and Moon in kilometers'}           │\n",
       "╰─────────────────────────────────────────────────────────────────────────────────────────────────────────────────╯\n",
       "</pre>\n"
      ],
      "text/plain": [
       "╭─────────────────────────────────────────────────────────────────────────────────────────────────────────────────╮\n",
       "│ Calling tool: 'web_search' with arguments: {'query': 'distance between Earth and Moon in kilometers'}           │\n",
       "╰─────────────────────────────────────────────────────────────────────────────────────────────────────────────────╯\n"
      ]
     },
     "metadata": {},
     "output_type": "display_data"
    },
    {
     "data": {
      "text/html": [
       "<pre style=\"white-space:pre;overflow-x:auto;line-height:normal;font-family:Menlo,'DejaVu Sans Mono',consolas,'Courier New',monospace\">╭─────────────────────────────────────────────────────────────────────────────────────────────────────────────────╮\n",
       "│ Calling tool: 'UnitConversionTool' with arguments: {'query': '384400 km to miles'}                              │\n",
       "╰─────────────────────────────────────────────────────────────────────────────────────────────────────────────────╯\n",
       "</pre>\n"
      ],
      "text/plain": [
       "╭─────────────────────────────────────────────────────────────────────────────────────────────────────────────────╮\n",
       "│ Calling tool: 'UnitConversionTool' with arguments: {'query': '384400 km to miles'}                              │\n",
       "╰─────────────────────────────────────────────────────────────────────────────────────────────────────────────────╯\n"
      ]
     },
     "metadata": {},
     "output_type": "display_data"
    },
    {
     "data": {
      "text/html": [
       "<pre style=\"white-space:pre;overflow-x:auto;line-height:normal;font-family:Menlo,'DejaVu Sans Mono',consolas,'Courier New',monospace\">Observations: 384400.0 km = 238855.0124 mi\n",
       "</pre>\n"
      ],
      "text/plain": [
       "Observations: 384400.0 km = 238855.0124 mi\n"
      ]
     },
     "metadata": {},
     "output_type": "display_data"
    },
    {
     "data": {
      "text/html": [
       "<pre style=\"white-space:pre;overflow-x:auto;line-height:normal;font-family:Menlo,'DejaVu Sans Mono',consolas,'Courier New',monospace\">Observations: ## Search Results\n",
       "\n",
       "|Lunar distance - Wikipedia](https://en.wikipedia.org/wiki/Lunar_distance)\n",
       "The instantaneous Earth - Moon distance , or distance to the Moon , is the distance from the center of Earth to the\n",
       "center of the Moon . In contrast, the Lunar distance (LD or ), or Earth - Moon characteristic distance , is a unit \n",
       "of measure in astronomy. More technically, it is the semi-major axis of the geocentric lunar orbit. The average \n",
       "lunar distance is approximately 385,000 km (239,000 mi ...\n",
       "\n",
       "|How far is the moon from Earth? | Space](https://www.space.com/18145-how-far-is-the-moon.html)\n",
       "Greatest distance between the moon and Earth : Apogee When the moon is at its farthest distance from Earth , known \n",
       "as apogee, it is about 251,000 miles (405,500 km) from our planet. One of the ...\n",
       "\n",
       "|How Far Is the Moon From Earth? | Miles, Km, Gravitational Pull \n",
       "...](https://www.britannica.com/science/How-Far-Is-the-Moon-From-Earth)\n",
       "When the Moon is at its farthest point from Earth , known as its apogee, it can be as far as 406,700 km (252,700 \n",
       "miles) away. Conversely, when it is at its closest point, or perigee, the distance decreases to about 356,500 km \n",
       "(221,500 miles). These variations are due to gravitational forces between the Moon and the Earth , Sun, and other \n",
       "planets.\n",
       "\n",
       "|Moon Distance Calculator - How Close is Moon to Earth?](https://www.timeanddate.com/astronomy/moon/distance.html)\n",
       "The Moon Distance Calculator shows approximate times for when the Moon is closest to the Earth (perigee) and \n",
       "furthest from the Earth (apogee).\n",
       "\n",
       "|How Far Is The Moon From Earth? - \n",
       "WorldAtlas](https://www.worldatlas.com/space/how-far-is-the-moon-from-earth.html)\n",
       "The average distance of the Moon from Earth is 384,400 km, varying between 363,300 km at perigee and 405,500 km at \n",
       "apogee.\n",
       "\n",
       "|How far away is the Moon? - Royal Museums \n",
       "Greenwich](https://www.rmg.co.uk/stories/space-astronomy/how-far-away-moon)\n",
       "The Moon is the most recognisable object in the night sky, and has an enormous impact on life here on Earth . But \n",
       "what is the exact distance between the Earth and the Moon ? And why is that question not as simple as it sounds? \n",
       "Royal Observatory astronomer Affelia Wibisono explains all... How far away is the Moon from the Earth ? The average\n",
       "distance between the Earth and the Moon is 384 400 km ...\n",
       "\n",
       "|What's the Distance Between the Earth and the \n",
       "Moon?](https://iere.org/whats-the-distance-between-the-earth-and-the-moon/)\n",
       "The distance between the Earth and the Moon isn't a fixed number; it's constantly changing due to the Moon's \n",
       "elliptical orbit. On average, the distance is approximately 238,900 miles (384,400 kilometers ).\n",
       "\n",
       "|How far away is the Moon? - Telescope Nerd](https://www.telescopenerd.com/celestial-objects/moon-distance.htm)\n",
       "The distance between Earth and the Moon is 238,855 miles (384,400 kilometers ). The Moon reaches its point nearest \n",
       "to Earth , called perigee, at 225,623 miles (363,104 kilometers ).\n",
       "\n",
       "|The distance between Earth and Moon | \n",
       "Supermoon](https://geographyhost.com/the-distance-between-earth-and-moon-supermoon/)\n",
       "The average distance between earth and moon is 384,400 km (238,855 miles). To get your imagination going, this \n",
       "distance is 86 times the distance between New York and Las vegas.\n",
       "\n",
       "|The Distance from Earth to Moon - Scale of \n",
       "Universe](https://scaleofuniverse.com/universe/distance-from-earth-to-moon)\n",
       "How big is the Distance from Earth to Moon ? Find out on Scale of the Universe, an interactive, educational tool \n",
       "that puts our world into perspective. Compare the Distance from Earth to Moon to other similar objects.\n",
       "</pre>\n"
      ],
      "text/plain": [
       "Observations: ## Search Results\n",
       "\n",
       "|Lunar distance - Wikipedia](https://en.wikipedia.org/wiki/Lunar_distance)\n",
       "The instantaneous Earth - Moon distance , or distance to the Moon , is the distance from the center of Earth to the\n",
       "center of the Moon . In contrast, the Lunar distance (LD or ), or Earth - Moon characteristic distance , is a unit \n",
       "of measure in astronomy. More technically, it is the semi-major axis of the geocentric lunar orbit. The average \n",
       "lunar distance is approximately 385,000 km (239,000 mi ...\n",
       "\n",
       "|How far is the moon from Earth? | Space](https://www.space.com/18145-how-far-is-the-moon.html)\n",
       "Greatest distance between the moon and Earth : Apogee When the moon is at its farthest distance from Earth , known \n",
       "as apogee, it is about 251,000 miles (405,500 km) from our planet. One of the ...\n",
       "\n",
       "|How Far Is the Moon From Earth? | Miles, Km, Gravitational Pull \n",
       "...](https://www.britannica.com/science/How-Far-Is-the-Moon-From-Earth)\n",
       "When the Moon is at its farthest point from Earth , known as its apogee, it can be as far as 406,700 km (252,700 \n",
       "miles) away. Conversely, when it is at its closest point, or perigee, the distance decreases to about 356,500 km \n",
       "(221,500 miles). These variations are due to gravitational forces between the Moon and the Earth , Sun, and other \n",
       "planets.\n",
       "\n",
       "|Moon Distance Calculator - How Close is Moon to Earth?](https://www.timeanddate.com/astronomy/moon/distance.html)\n",
       "The Moon Distance Calculator shows approximate times for when the Moon is closest to the Earth (perigee) and \n",
       "furthest from the Earth (apogee).\n",
       "\n",
       "|How Far Is The Moon From Earth? - \n",
       "WorldAtlas](https://www.worldatlas.com/space/how-far-is-the-moon-from-earth.html)\n",
       "The average distance of the Moon from Earth is 384,400 km, varying between 363,300 km at perigee and 405,500 km at \n",
       "apogee.\n",
       "\n",
       "|How far away is the Moon? - Royal Museums \n",
       "Greenwich](https://www.rmg.co.uk/stories/space-astronomy/how-far-away-moon)\n",
       "The Moon is the most recognisable object in the night sky, and has an enormous impact on life here on Earth . But \n",
       "what is the exact distance between the Earth and the Moon ? And why is that question not as simple as it sounds? \n",
       "Royal Observatory astronomer Affelia Wibisono explains all... How far away is the Moon from the Earth ? The average\n",
       "distance between the Earth and the Moon is 384 400 km ...\n",
       "\n",
       "|What's the Distance Between the Earth and the \n",
       "Moon?](https://iere.org/whats-the-distance-between-the-earth-and-the-moon/)\n",
       "The distance between the Earth and the Moon isn't a fixed number; it's constantly changing due to the Moon's \n",
       "elliptical orbit. On average, the distance is approximately 238,900 miles (384,400 kilometers ).\n",
       "\n",
       "|How far away is the Moon? - Telescope Nerd](https://www.telescopenerd.com/celestial-objects/moon-distance.htm)\n",
       "The distance between Earth and the Moon is 238,855 miles (384,400 kilometers ). The Moon reaches its point nearest \n",
       "to Earth , called perigee, at 225,623 miles (363,104 kilometers ).\n",
       "\n",
       "|The distance between Earth and Moon | \n",
       "Supermoon](https://geographyhost.com/the-distance-between-earth-and-moon-supermoon/)\n",
       "The average distance between earth and moon is 384,400 km (238,855 miles). To get your imagination going, this \n",
       "distance is 86 times the distance between New York and Las vegas.\n",
       "\n",
       "|The Distance from Earth to Moon - Scale of \n",
       "Universe](https://scaleofuniverse.com/universe/distance-from-earth-to-moon)\n",
       "How big is the Distance from Earth to Moon ? Find out on Scale of the Universe, an interactive, educational tool \n",
       "that puts our world into perspective. Compare the Distance from Earth to Moon to other similar objects.\n"
      ]
     },
     "metadata": {},
     "output_type": "display_data"
    },
    {
     "data": {
      "text/html": [
       "<pre style=\"white-space:pre;overflow-x:auto;line-height:normal;font-family:Menlo,'DejaVu Sans Mono',consolas,'Courier New',monospace\"><span style=\"color: #7f7f7f; text-decoration-color: #7f7f7f\">[Step 1: Duration 3.94 seconds| Input tokens: 1,610 | Output tokens: 25]</span>\n",
       "</pre>\n"
      ],
      "text/plain": [
       "\u001b[2m[Step 1: Duration 3.94 seconds| Input tokens: 1,610 | Output tokens: 25]\u001b[0m\n"
      ]
     },
     "metadata": {},
     "output_type": "display_data"
    },
    {
     "data": {
      "text/html": [
       "<pre style=\"white-space:pre;overflow-x:auto;line-height:normal;font-family:Menlo,'DejaVu Sans Mono',consolas,'Courier New',monospace\"><span style=\"color: #d4b702; text-decoration-color: #d4b702\">━━━━━━━━━━━━━━━━━━━━━━━━━━━━━━━━━━━━━━━━━━━━━━━━━━━━━ </span><span style=\"font-weight: bold\">Step 2</span><span style=\"color: #d4b702; text-decoration-color: #d4b702\"> ━━━━━━━━━━━━━━━━━━━━━━━━━━━━━━━━━━━━━━━━━━━━━━━━━━━━━━</span>\n",
       "</pre>\n"
      ],
      "text/plain": [
       "\u001b[38;2;212;183;2m━━━━━━━━━━━━━━━━━━━━━━━━━━━━━━━━━━━━━━━━━━━━━━━━━━━━━ \u001b[0m\u001b[1mStep 2\u001b[0m\u001b[38;2;212;183;2m ━━━━━━━━━━━━━━━━━━━━━━━━━━━━━━━━━━━━━━━━━━━━━━━━━━━━━━\u001b[0m\n"
      ]
     },
     "metadata": {},
     "output_type": "display_data"
    },
    {
     "data": {
      "text/html": [
       "<pre style=\"white-space:pre;overflow-x:auto;line-height:normal;font-family:Menlo,'DejaVu Sans Mono',consolas,'Courier New',monospace\">╭─────────────────────────────────────────────────────────────────────────────────────────────────────────────────╮\n",
       "│ Calling tool: 'final_answer' with arguments: {'answer': 'The distance between Earth and Moon is approximately   │\n",
       "│ 384,400 km, which is equivalent to 238,855 miles.'}                                                             │\n",
       "╰─────────────────────────────────────────────────────────────────────────────────────────────────────────────────╯\n",
       "</pre>\n"
      ],
      "text/plain": [
       "╭─────────────────────────────────────────────────────────────────────────────────────────────────────────────────╮\n",
       "│ Calling tool: 'final_answer' with arguments: {'answer': 'The distance between Earth and Moon is approximately   │\n",
       "│ 384,400 km, which is equivalent to 238,855 miles.'}                                                             │\n",
       "╰─────────────────────────────────────────────────────────────────────────────────────────────────────────────────╯\n"
      ]
     },
     "metadata": {},
     "output_type": "display_data"
    },
    {
     "data": {
      "text/html": [
       "<pre style=\"white-space:pre;overflow-x:auto;line-height:normal;font-family:Menlo,'DejaVu Sans Mono',consolas,'Courier New',monospace\">Observations: The distance between Earth and Moon is approximately 384,400 km, which is equivalent to 238,855 \n",
       "miles.\n",
       "</pre>\n"
      ],
      "text/plain": [
       "Observations: The distance between Earth and Moon is approximately 384,400 km, which is equivalent to 238,855 \n",
       "miles.\n"
      ]
     },
     "metadata": {},
     "output_type": "display_data"
    },
    {
     "data": {
      "text/html": [
       "<pre style=\"white-space:pre;overflow-x:auto;line-height:normal;font-family:Menlo,'DejaVu Sans Mono',consolas,'Courier New',monospace\"><span style=\"color: #d4b702; text-decoration-color: #d4b702; font-weight: bold\">Final answer: The distance between Earth and Moon is approximately 384,400 km, which is equivalent to 238,855 </span>\n",
       "<span style=\"color: #d4b702; text-decoration-color: #d4b702; font-weight: bold\">miles.</span>\n",
       "</pre>\n"
      ],
      "text/plain": [
       "\u001b[1;38;2;212;183;2mFinal answer: The distance between Earth and Moon is approximately 384,400 km, which is equivalent to 238,855 \u001b[0m\n",
       "\u001b[1;38;2;212;183;2mmiles.\u001b[0m\n"
      ]
     },
     "metadata": {},
     "output_type": "display_data"
    },
    {
     "data": {
      "text/html": [
       "<pre style=\"white-space:pre;overflow-x:auto;line-height:normal;font-family:Menlo,'DejaVu Sans Mono',consolas,'Courier New',monospace\"><span style=\"color: #7f7f7f; text-decoration-color: #7f7f7f\">[Step 2: Duration 3.32 seconds| Input tokens: 4,214 | Output tokens: 71]</span>\n",
       "</pre>\n"
      ],
      "text/plain": [
       "\u001b[2m[Step 2: Duration 3.32 seconds| Input tokens: 4,214 | Output tokens: 71]\u001b[0m\n"
      ]
     },
     "metadata": {},
     "output_type": "display_data"
    },
    {
     "data": {
      "text/plain": [
       "'The distance between Earth and Moon is approximately 384,400 km, which is equivalent to 238,855 miles.'"
      ]
     },
     "execution_count": 13,
     "metadata": {},
     "output_type": "execute_result"
    }
   ],
   "source": [
    "from smolagents import Tool, ToolCallingAgent, DuckDuckGoSearchTool, OpenAIServerModel\n",
    "import os\n",
    "import re\n",
    "\n",
    "OPENROUTER_API_KEY = os.environ[\"OPENROUTER_API_KEY\"]\n",
    "\n",
    "class UnitConversionTool(Tool):\n",
    "    name = \"UnitConversionTool\"\n",
    "    description = \"Converts units of length, weight\"\n",
    "    inputs = {\n",
    "        \"query\": {\n",
    "            \"type\":\"string\",\n",
    "            \"description\":\"Conversion query, e.g, '5km to miles\"\n",
    "        }\n",
    "    }\n",
    "    output_type = \"string\"\n",
    "\n",
    "    def forward(self, query: str)-> str:\n",
    "        query = query.lower().replace(\"convert\",\"\").strip() #Normalize the query\n",
    "        pattern = r\"([\\d\\.]+)\\s*([a-zA-Z]+)\\s*(?:to|in)\\s*([a-zA-Z]+)\"\n",
    "        match = re.match(pattern,query)\n",
    "\n",
    "        if not match:\n",
    "            return \"Invalid query format. Use like '5km to miles\"\n",
    "        \n",
    "        value, from_unit, to_unit = match.groups()\n",
    "        value = float(value)\n",
    "\n",
    "        # Map aliases\n",
    "        aliases = {\"meters\": \"m\", \"meter\": \"m\", \"kilometers\": \"km\", \"km\": \"km\",\n",
    "                    \"miles\": \"mi\", \"mile\": \"mi\", \"grams\": \"g\", \"kilograms\": \"kg\",\n",
    "                    \"kg\": \"kg\", \"pounds\": \"lb\", \"lb\": \"lb\", \"ounces\": \"oz\", \"oz\": \"oz\"}\n",
    "        \n",
    "        from_unit = aliases.get(from_unit)\n",
    "        to_unit = aliases.get(to_unit)\n",
    "\n",
    "        # Conversion factors\n",
    "        factors = {\n",
    "                (\"m\", \"km\"): 0.001, (\"km\", \"m\"): 1000,\n",
    "                (\"m\", \"mi\"): 0.000621371, (\"mi\", \"m\"): 1609.34,\n",
    "                (\"km\", \"mi\"): 0.621371, (\"mi\", \"km\"): 1.60934,\n",
    "                (\"kg\", \"lb\"): 2.20462, (\"lb\", \"kg\"): 0.453592,\n",
    "                (\"kg\", \"g\"): 1000, (\"g\", \"kg\"): 0.001,\n",
    "                (\"lb\", \"g\"): 453.592, (\"g\", \"lb\"): 0.00220462,\n",
    "                (\"oz\", \"g\"): 28.3495, (\"g\", \"oz\"): 0.035274\n",
    "            }\n",
    "\n",
    "        if (from_unit, to_unit) not in factors :\n",
    "            return f\"Conversion from {from_unit} to {to_unit} is not supported.\"\n",
    "        \n",
    "        result = value * factors[(from_unit, to_unit)]\n",
    "        return f\"{value} {from_unit} = {result:.4f} {to_unit}\"\n",
    "\n",
    "#unit_converter = UnitConversionTool()\n",
    "llm_model = OpenAIServerModel(\n",
    "    model_id=\"meta-llama/llama-4-scout:free\",\n",
    "    api_base=\"https://openrouter.ai/api/v1\",\n",
    "    api_key=OPENROUTER_API_KEY\n",
    ")\n",
    "\n",
    "agent1 = ToolCallingAgent(tools=[DuckDuckGoSearchTool(), UnitConversionTool()],model=llm_model)\n",
    "\n",
    "query = input(\"User Query : \")\n",
    "agent1.run(query)\n"
   ]
  },
  {
   "cell_type": "code",
   "execution_count": null,
   "id": "f9822f95",
   "metadata": {},
   "outputs": [],
   "source": []
  }
 ],
 "metadata": {
  "kernelspec": {
   "display_name": "Python 3",
   "language": "python",
   "name": "python3"
  },
  "language_info": {
   "codemirror_mode": {
    "name": "ipython",
    "version": 3
   },
   "file_extension": ".py",
   "mimetype": "text/x-python",
   "name": "python",
   "nbconvert_exporter": "python",
   "pygments_lexer": "ipython3",
   "version": "3.12.1"
  }
 },
 "nbformat": 4,
 "nbformat_minor": 5
}
