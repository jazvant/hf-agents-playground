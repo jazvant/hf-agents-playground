{
 "cells": [
  {
   "cell_type": "code",
   "execution_count": 2,
   "id": "794b7c03",
   "metadata": {},
   "outputs": [],
   "source": [
    "import os\n",
    "HF_TOKEN = os.environ[\"HF_TOKEN\"]\n",
    "OPENROUTER_API_KEY = os.environ[\"OPENROUTER_API_KEY\"]"
   ]
  },
  {
   "cell_type": "code",
   "execution_count": 2,
   "id": "3b5e8f38",
   "metadata": {},
   "outputs": [
    {
     "data": {
      "text/html": [
       "<pre style=\"white-space:pre;overflow-x:auto;line-height:normal;font-family:Menlo,'DejaVu Sans Mono',consolas,'Courier New',monospace\"><span style=\"color: #d4b702; text-decoration-color: #d4b702\">╭──────────────────────────────────────────────────── </span><span style=\"color: #d4b702; text-decoration-color: #d4b702; font-weight: bold\">New run</span><span style=\"color: #d4b702; text-decoration-color: #d4b702\"> ────────────────────────────────────────────────────╮</span>\n",
       "<span style=\"color: #d4b702; text-decoration-color: #d4b702\">│</span>                                                                                                                 <span style=\"color: #d4b702; text-decoration-color: #d4b702\">│</span>\n",
       "<span style=\"color: #d4b702; text-decoration-color: #d4b702\">│</span> <span style=\"font-weight: bold\">Is it true about the Trump's Gold Card, Platinum Card, etc in the US for immigrants ?</span>                           <span style=\"color: #d4b702; text-decoration-color: #d4b702\">│</span>\n",
       "<span style=\"color: #d4b702; text-decoration-color: #d4b702\">│</span>                                                                                                                 <span style=\"color: #d4b702; text-decoration-color: #d4b702\">│</span>\n",
       "<span style=\"color: #d4b702; text-decoration-color: #d4b702\">╰─ InferenceClientModel - Qwen/Qwen2.5-Coder-32B-Instruct ────────────────────────────────────────────────────────╯</span>\n",
       "</pre>\n"
      ],
      "text/plain": [
       "\u001b[38;2;212;183;2m╭─\u001b[0m\u001b[38;2;212;183;2m───────────────────────────────────────────────────\u001b[0m\u001b[38;2;212;183;2m \u001b[0m\u001b[1;38;2;212;183;2mNew run\u001b[0m\u001b[38;2;212;183;2m \u001b[0m\u001b[38;2;212;183;2m───────────────────────────────────────────────────\u001b[0m\u001b[38;2;212;183;2m─╮\u001b[0m\n",
       "\u001b[38;2;212;183;2m│\u001b[0m                                                                                                                 \u001b[38;2;212;183;2m│\u001b[0m\n",
       "\u001b[38;2;212;183;2m│\u001b[0m \u001b[1mIs it true about the Trump's Gold Card, Platinum Card, etc in the US for immigrants ?\u001b[0m                           \u001b[38;2;212;183;2m│\u001b[0m\n",
       "\u001b[38;2;212;183;2m│\u001b[0m                                                                                                                 \u001b[38;2;212;183;2m│\u001b[0m\n",
       "\u001b[38;2;212;183;2m╰─\u001b[0m\u001b[38;2;212;183;2m InferenceClientModel - Qwen/Qwen2.5-Coder-32B-Instruct \u001b[0m\u001b[38;2;212;183;2m───────────────────────────────────────────────────────\u001b[0m\u001b[38;2;212;183;2m─╯\u001b[0m\n"
      ]
     },
     "metadata": {},
     "output_type": "display_data"
    },
    {
     "data": {
      "text/html": [
       "<pre style=\"white-space:pre;overflow-x:auto;line-height:normal;font-family:Menlo,'DejaVu Sans Mono',consolas,'Courier New',monospace\"><span style=\"color: #d4b702; text-decoration-color: #d4b702\">━━━━━━━━━━━━━━━━━━━━━━━━━━━━━━━━━━━━━━━━━━━━━━━━━━━━━ </span><span style=\"font-weight: bold\">Step 1</span><span style=\"color: #d4b702; text-decoration-color: #d4b702\"> ━━━━━━━━━━━━━━━━━━━━━━━━━━━━━━━━━━━━━━━━━━━━━━━━━━━━━━</span>\n",
       "</pre>\n"
      ],
      "text/plain": [
       "\u001b[38;2;212;183;2m━━━━━━━━━━━━━━━━━━━━━━━━━━━━━━━━━━━━━━━━━━━━━━━━━━━━━ \u001b[0m\u001b[1mStep 1\u001b[0m\u001b[38;2;212;183;2m ━━━━━━━━━━━━━━━━━━━━━━━━━━━━━━━━━━━━━━━━━━━━━━━━━━━━━━\u001b[0m\n"
      ]
     },
     "metadata": {},
     "output_type": "display_data"
    },
    {
     "data": {
      "text/html": [
       "<pre style=\"white-space:pre;overflow-x:auto;line-height:normal;font-family:Menlo,'DejaVu Sans Mono',consolas,'Courier New',monospace\">╭─────────────────────────────────────────────────────────────────────────────────────────────────────────────────╮\n",
       "│ Calling tool: 'web_search' with arguments: {'query': \"Trump's Gold Card Platinum Card for immigrants\"}          │\n",
       "╰─────────────────────────────────────────────────────────────────────────────────────────────────────────────────╯\n",
       "</pre>\n"
      ],
      "text/plain": [
       "╭─────────────────────────────────────────────────────────────────────────────────────────────────────────────────╮\n",
       "│ Calling tool: 'web_search' with arguments: {'query': \"Trump's Gold Card Platinum Card for immigrants\"}          │\n",
       "╰─────────────────────────────────────────────────────────────────────────────────────────────────────────────────╯\n"
      ]
     },
     "metadata": {},
     "output_type": "display_data"
    },
    {
     "data": {
      "text/html": [
       "<pre style=\"white-space:pre;overflow-x:auto;line-height:normal;font-family:Menlo,'DejaVu Sans Mono',consolas,'Courier New',monospace\">Observations: ## Search Results\n",
       "\n",
       "|Trump Gold Card - Wikipedia](https://en.wikipedia.org/wiki/Trump_Gold_Card)\n",
       "A Trump Gold Card is a type of investor visa leading to a residency permit for the United States, created by United\n",
       "States president Donald Trump , that allows investors a path to residency and citizenship if they commit at least \n",
       "$1 million USD to pro...\n",
       "\n",
       "|Trump Gold Card](https://trumpcard.gov/)\n",
       "The Trump Platinum Card will allow individual applicants to reside in the United States for up to 270 days per year\n",
       "without being subject to tax on non-U.S. ...\n",
       "\n",
       "|Trump creates Gold Card program to sell access \n",
       "...](https://www.epi.org/policywatch/trump-creates-gold-card-program-to-sell-access-to-employment-based-green-cards\n",
       "-announces-platinum-card-program-with-few-details/)\n",
       "3 days ago — Trump creates Gold Card program to sell access to employment-based green cards , announces Platinum \n",
       "Card program with few details ... On September ...\n",
       "\n",
       "|Trump Administration Unveils the “Gold Card” Visa \n",
       "Program](https://www.pillsburylaw.com/en/news-and-insights/gold-card-visa-trump.html)\n",
       "3 days ago — The Gold Card allows individuals and corporations to fast-track the U.S. residency process by making a\n",
       "financial contribution to the United ...\n",
       "\n",
       "|Global wealthy are lining up for Trump's $1 million Gold \n",
       "Card](https://www.cnbc.com/2025/09/26/trump-gold-card-visa-wealthy.html)\n",
       "26 Sept 2025 — President Donald Trump slashed the price of his Gold Card immigration plan from $5 million to $1 \n",
       "million. · He promised it will grant residency ...\n",
       "\n",
       "|President Trump Launches “Trump Gold Card” Residency \n",
       "...](https://www.jw.com/news/insights-trump-gold-card-residency-program/)\n",
       "24 Sept 2025 — The Trump Gold Card is designed for high-net-worth individuals seeking U.S. residency . After a \n",
       "non-refundable processing fee and Department of ...\n",
       "\n",
       "|Trump's $1M “Gold Card” Visa Has Been \n",
       "Launched](https://www.jeelani-law.com/trumps-1m-gold-card-visa-has-been-launched/)\n",
       "7 days ago — Gold Card ($1 million): Offers a green card and a path to citizenship for a direct $1 million \n",
       "contribution to the U.S. government. Corporate ...\n",
       "\n",
       "|Trump Issues Gold Card EO](https://www.bhfs.com/insight/trump-issues-gold-card-eo/)\n",
       "2 days ago — Under the Gold Card program, individuals making a $1 million gift to the Department of Commerce will \n",
       "become eligible for an immigrant visa using ...\n",
       "\n",
       "|Trump's $1M 'Gold Card' Visa Is Now Available](https://www.boundless.com/blog/trump-administration-gold-card)\n",
       "23 Sept 2025 — The Trump administration launched the $1M “ Gold Card ” visa program that grants applicants U.S. \n",
       "permanent residency and a path to citizenship.\n",
       "\n",
       "|Initial Thoughts on President Trump's Gold and Platinum \n",
       "...](https://www.linkedin.com/pulse/initial-thoughts-president-trumps-gold-platinum-card-order-barnett-7q6oc)\n",
       "The stated purpose of the Gold Card program is twofold. First, to attract immigrants who can make a significant \n",
       "financial contribution to ...\n",
       "</pre>\n"
      ],
      "text/plain": [
       "Observations: ## Search Results\n",
       "\n",
       "|Trump Gold Card - Wikipedia](https://en.wikipedia.org/wiki/Trump_Gold_Card)\n",
       "A Trump Gold Card is a type of investor visa leading to a residency permit for the United States, created by United\n",
       "States president Donald Trump , that allows investors a path to residency and citizenship if they commit at least \n",
       "$1 million USD to pro...\n",
       "\n",
       "|Trump Gold Card](https://trumpcard.gov/)\n",
       "The Trump Platinum Card will allow individual applicants to reside in the United States for up to 270 days per year\n",
       "without being subject to tax on non-U.S. ...\n",
       "\n",
       "|Trump creates Gold Card program to sell access \n",
       "...](https://www.epi.org/policywatch/trump-creates-gold-card-program-to-sell-access-to-employment-based-green-cards\n",
       "-announces-platinum-card-program-with-few-details/)\n",
       "3 days ago — Trump creates Gold Card program to sell access to employment-based green cards , announces Platinum \n",
       "Card program with few details ... On September ...\n",
       "\n",
       "|Trump Administration Unveils the “Gold Card” Visa \n",
       "Program](https://www.pillsburylaw.com/en/news-and-insights/gold-card-visa-trump.html)\n",
       "3 days ago — The Gold Card allows individuals and corporations to fast-track the U.S. residency process by making a\n",
       "financial contribution to the United ...\n",
       "\n",
       "|Global wealthy are lining up for Trump's $1 million Gold \n",
       "Card](https://www.cnbc.com/2025/09/26/trump-gold-card-visa-wealthy.html)\n",
       "26 Sept 2025 — President Donald Trump slashed the price of his Gold Card immigration plan from $5 million to $1 \n",
       "million. · He promised it will grant residency ...\n",
       "\n",
       "|President Trump Launches “Trump Gold Card” Residency \n",
       "...](https://www.jw.com/news/insights-trump-gold-card-residency-program/)\n",
       "24 Sept 2025 — The Trump Gold Card is designed for high-net-worth individuals seeking U.S. residency . After a \n",
       "non-refundable processing fee and Department of ...\n",
       "\n",
       "|Trump's $1M “Gold Card” Visa Has Been \n",
       "Launched](https://www.jeelani-law.com/trumps-1m-gold-card-visa-has-been-launched/)\n",
       "7 days ago — Gold Card ($1 million): Offers a green card and a path to citizenship for a direct $1 million \n",
       "contribution to the U.S. government. Corporate ...\n",
       "\n",
       "|Trump Issues Gold Card EO](https://www.bhfs.com/insight/trump-issues-gold-card-eo/)\n",
       "2 days ago — Under the Gold Card program, individuals making a $1 million gift to the Department of Commerce will \n",
       "become eligible for an immigrant visa using ...\n",
       "\n",
       "|Trump's $1M 'Gold Card' Visa Is Now Available](https://www.boundless.com/blog/trump-administration-gold-card)\n",
       "23 Sept 2025 — The Trump administration launched the $1M “ Gold Card ” visa program that grants applicants U.S. \n",
       "permanent residency and a path to citizenship.\n",
       "\n",
       "|Initial Thoughts on President Trump's Gold and Platinum \n",
       "...](https://www.linkedin.com/pulse/initial-thoughts-president-trumps-gold-platinum-card-order-barnett-7q6oc)\n",
       "The stated purpose of the Gold Card program is twofold. First, to attract immigrants who can make a significant \n",
       "financial contribution to ...\n"
      ]
     },
     "metadata": {},
     "output_type": "display_data"
    },
    {
     "data": {
      "text/html": [
       "<pre style=\"white-space:pre;overflow-x:auto;line-height:normal;font-family:Menlo,'DejaVu Sans Mono',consolas,'Courier New',monospace\"><span style=\"color: #7f7f7f; text-decoration-color: #7f7f7f\">[Step 1: Duration 3.97 seconds| Input tokens: 1,195 | Output tokens: 26]</span>\n",
       "</pre>\n"
      ],
      "text/plain": [
       "\u001b[2m[Step 1: Duration 3.97 seconds| Input tokens: 1,195 | Output tokens: 26]\u001b[0m\n"
      ]
     },
     "metadata": {},
     "output_type": "display_data"
    },
    {
     "data": {
      "text/html": [
       "<pre style=\"white-space:pre;overflow-x:auto;line-height:normal;font-family:Menlo,'DejaVu Sans Mono',consolas,'Courier New',monospace\"><span style=\"color: #d4b702; text-decoration-color: #d4b702\">━━━━━━━━━━━━━━━━━━━━━━━━━━━━━━━━━━━━━━━━━━━━━━━━━━━━━ </span><span style=\"font-weight: bold\">Step 2</span><span style=\"color: #d4b702; text-decoration-color: #d4b702\"> ━━━━━━━━━━━━━━━━━━━━━━━━━━━━━━━━━━━━━━━━━━━━━━━━━━━━━━</span>\n",
       "</pre>\n"
      ],
      "text/plain": [
       "\u001b[38;2;212;183;2m━━━━━━━━━━━━━━━━━━━━━━━━━━━━━━━━━━━━━━━━━━━━━━━━━━━━━ \u001b[0m\u001b[1mStep 2\u001b[0m\u001b[38;2;212;183;2m ━━━━━━━━━━━━━━━━━━━━━━━━━━━━━━━━━━━━━━━━━━━━━━━━━━━━━━\u001b[0m\n"
      ]
     },
     "metadata": {},
     "output_type": "display_data"
    },
    {
     "data": {
      "text/html": [
       "<pre style=\"white-space:pre;overflow-x:auto;line-height:normal;font-family:Menlo,'DejaVu Sans Mono',consolas,'Courier New',monospace\">╭─────────────────────────────────────────────────────────────────────────────────────────────────────────────────╮\n",
       "│ Calling tool: 'web_search' with arguments: {'query': \"Trump's Platinum Card for immigrants\"}                    │\n",
       "╰─────────────────────────────────────────────────────────────────────────────────────────────────────────────────╯\n",
       "</pre>\n"
      ],
      "text/plain": [
       "╭─────────────────────────────────────────────────────────────────────────────────────────────────────────────────╮\n",
       "│ Calling tool: 'web_search' with arguments: {'query': \"Trump's Platinum Card for immigrants\"}                    │\n",
       "╰─────────────────────────────────────────────────────────────────────────────────────────────────────────────────╯\n"
      ]
     },
     "metadata": {},
     "output_type": "display_data"
    },
    {
     "data": {
      "text/html": [
       "<pre style=\"white-space:pre;overflow-x:auto;line-height:normal;font-family:Menlo,'DejaVu Sans Mono',consolas,'Courier New',monospace\">Observations: ## Search Results\n",
       "\n",
       "|Wikipedia Trump Gold Card - Wikipedia](https://en.wikipedia.org/wiki/Trump_Gold_Card)\n",
       "2 weeks ago - There are constitutional questions ... to immigration and tax law without express approval from the \n",
       "US Congress. It is unclear what would happen to the US federal taxability of a Gold Card holder' s non-US income if\n",
       "the holder becomes a US citizen. On June 12, 2025, Trump posted on ...\n",
       "\n",
       "|Trump Card Trump Gold Card](https://trumpcard.gov/)\n",
       "Sign up now and secure your place ... Trump Platinum Card . For a processing fee and, after DHS vetting, a $5 \n",
       "million contribution, you will have the ability to spend up to 270 days in the United States without being subject \n",
       "to U. S . taxes on non-U. S . income. ... Your opportunity begins here, with your application and a nonrefundable \n",
       "processing fee. This is the first step to securing the Trump Gold Card . United States Citizenship and Immigration \n",
       "Services ...\n",
       "\n",
       "|The Atlantic Trump Offers a Golden Ticket - The \n",
       "Atlantic](https://www.theatlantic.com/newsletters/archive/2025/09/trump-gold-card-immigration/684304/)\n",
       "2 weeks ago - Enter the Trump Gold Card —not ... United States. Launched on Friday by executive order alongside a \n",
       "restrictive new update to the H-1B program, the Trump Gold Card offers potential immigrants a trade: In exchange \n",
       "for $1 million plus processing fees, the government will give you an EB-1 or EB-2 visa. The administration is \n",
       "hoping to add an even more exclusive tier in the form of the $5 million Trump Platinum Card , which ...\n",
       "\n",
       "|POLITICO Trump rolls out $1M gold card, a visa fast-track for wealthy foreigners - \n",
       "POLITICO](https://www.politico.com/news/2025/09/19/trump-gold-card-visa-00573494)\n",
       "2 weeks ago - Another type of visa — the “ Trump Platinum Card ” — is likely not coming any time soon. This one, \n",
       "according to the · government website, would cost $5 million and allow holders to spend up to 270 days in the \n",
       "United States without being taxed on non-U. S . income. Trump made no mention of it on Friday, and Lutnick told \n",
       "reporters this would require approval from Congress. The gold card comes as the Trump administration cracks down on\n",
       "other forms of immigration ...\n",
       "\n",
       "|Visum Gold Card for the USA | Legal Advice by U.S. Visa Lawyer](https://www.visum-usa.com/en/gold-card.html)\n",
       "4 days ago - The Gold Card , sometimes referred ... is a new immigration plan introduced by U. S . President Donald\n",
       "Trump to give wealthy foreigners an easier path to U. S . citizenship. The main features of this plan are: ... The \n",
       "acquisition of a Trump Gold Card is expected to cost around USD 1 million. A planned Trump Platinum Card , on the \n",
       "...\n",
       "\n",
       "|The White House Fact Sheet: President Donald J. Trump Launches the Gold Card Program – The White \n",
       "House](https://www.whitehouse.gov/fact-sheets/2025/09/fact-sheet-president-donald-j-trump-launches-the-gold-card-pr\n",
       "ogram/)\n",
       "2 weeks ago - ESTABLISHING THE GOLD CARD : Today, President Donald J. Trump signed an Executive Order to create the\n",
       "Gold Card visa program, facilitating expedited\n",
       "\n",
       "|Forbes Want To Be American? For $1 Million, The ‘Trump Gold Card’ Visa Will Now Allow \n",
       "Entry](https://www.forbes.com/sites/dougmelville/2025/09/20/want-to-be-american-for-1-million-the-trump-gold-card-v\n",
       "isa-will-now-allow-entry/)\n",
       "2 weeks ago - The Platinum Card is designed to attract wealthy foreign residents while shielding global earnings \n",
       "from domestic taxation. For high-net-worth individuals, the Platinum tier transforms the program from a pure \n",
       "residency play into a tax strategy. Legal questions remain, while existing U. S . immigration ...\n",
       "\n",
       "|Washington Examiner Trump signs order creating $1m 'Gold Card,' $5m 'Platinum \n",
       "Card'](https://www.washingtonexaminer.com/policy/immigration/3816656/trump-order-gold-card-million-dollars-platinum\n",
       "-card/)\n",
       "President Donald Trump signed an executive order on Friday officially creating the ‘Gold’ and ‘ Platinum ’ cards \n",
       "for heavy-pocketed immigrants wanting to get into the country.\n",
       "\n",
       "|Economic Policy Institute Trump creates Gold Card program to sell access to employment-based green cards, \n",
       "announces Platinum Card program with few \n",
       "details](https://www.epi.org/policywatch/trump-creates-gold-card-program-to-sell-access-to-employment-based-green-c\n",
       "ards-announces-platinum-card-program-with-few-details/)\n",
       "On September 19, 2025, President Trump issued an Executive Order (EO) titled “The Gold Card .\" The EO states that \n",
       "the order is intended as a way to “realign” immigration policy with the national interest, through the creation of \n",
       "a new “Gold Card ” visa program “prioritizing the admission ...\n",
       "\n",
       "|Newsweek Trump’s Platinum Card Gives Tax Break on Non-US Income to Foreigners - \n",
       "Newsweek](https://www.newsweek.com/trump-platinum-card-gold-card-2133682)\n",
       "2 weeks ago - The Platinum and Gold Cards have been introduced as the Trump administration cracks down on other \n",
       "forms of immigration , both legal and illegal.\n",
       "</pre>\n"
      ],
      "text/plain": [
       "Observations: ## Search Results\n",
       "\n",
       "|Wikipedia Trump Gold Card - Wikipedia](https://en.wikipedia.org/wiki/Trump_Gold_Card)\n",
       "2 weeks ago - There are constitutional questions ... to immigration and tax law without express approval from the \n",
       "US Congress. It is unclear what would happen to the US federal taxability of a Gold Card holder' s non-US income if\n",
       "the holder becomes a US citizen. On June 12, 2025, Trump posted on ...\n",
       "\n",
       "|Trump Card Trump Gold Card](https://trumpcard.gov/)\n",
       "Sign up now and secure your place ... Trump Platinum Card . For a processing fee and, after DHS vetting, a $5 \n",
       "million contribution, you will have the ability to spend up to 270 days in the United States without being subject \n",
       "to U. S . taxes on non-U. S . income. ... Your opportunity begins here, with your application and a nonrefundable \n",
       "processing fee. This is the first step to securing the Trump Gold Card . United States Citizenship and Immigration \n",
       "Services ...\n",
       "\n",
       "|The Atlantic Trump Offers a Golden Ticket - The \n",
       "Atlantic](https://www.theatlantic.com/newsletters/archive/2025/09/trump-gold-card-immigration/684304/)\n",
       "2 weeks ago - Enter the Trump Gold Card —not ... United States. Launched on Friday by executive order alongside a \n",
       "restrictive new update to the H-1B program, the Trump Gold Card offers potential immigrants a trade: In exchange \n",
       "for $1 million plus processing fees, the government will give you an EB-1 or EB-2 visa. The administration is \n",
       "hoping to add an even more exclusive tier in the form of the $5 million Trump Platinum Card , which ...\n",
       "\n",
       "|POLITICO Trump rolls out $1M gold card, a visa fast-track for wealthy foreigners - \n",
       "POLITICO](https://www.politico.com/news/2025/09/19/trump-gold-card-visa-00573494)\n",
       "2 weeks ago - Another type of visa — the “ Trump Platinum Card ” — is likely not coming any time soon. This one, \n",
       "according to the · government website, would cost $5 million and allow holders to spend up to 270 days in the \n",
       "United States without being taxed on non-U. S . income. Trump made no mention of it on Friday, and Lutnick told \n",
       "reporters this would require approval from Congress. The gold card comes as the Trump administration cracks down on\n",
       "other forms of immigration ...\n",
       "\n",
       "|Visum Gold Card for the USA | Legal Advice by U.S. Visa Lawyer](https://www.visum-usa.com/en/gold-card.html)\n",
       "4 days ago - The Gold Card , sometimes referred ... is a new immigration plan introduced by U. S . President Donald\n",
       "Trump to give wealthy foreigners an easier path to U. S . citizenship. The main features of this plan are: ... The \n",
       "acquisition of a Trump Gold Card is expected to cost around USD 1 million. A planned Trump Platinum Card , on the \n",
       "...\n",
       "\n",
       "|The White House Fact Sheet: President Donald J. Trump Launches the Gold Card Program – The White \n",
       "House](https://www.whitehouse.gov/fact-sheets/2025/09/fact-sheet-president-donald-j-trump-launches-the-gold-card-pr\n",
       "ogram/)\n",
       "2 weeks ago - ESTABLISHING THE GOLD CARD : Today, President Donald J. Trump signed an Executive Order to create the\n",
       "Gold Card visa program, facilitating expedited\n",
       "\n",
       "|Forbes Want To Be American? For $1 Million, The ‘Trump Gold Card’ Visa Will Now Allow \n",
       "Entry](https://www.forbes.com/sites/dougmelville/2025/09/20/want-to-be-american-for-1-million-the-trump-gold-card-v\n",
       "isa-will-now-allow-entry/)\n",
       "2 weeks ago - The Platinum Card is designed to attract wealthy foreign residents while shielding global earnings \n",
       "from domestic taxation. For high-net-worth individuals, the Platinum tier transforms the program from a pure \n",
       "residency play into a tax strategy. Legal questions remain, while existing U. S . immigration ...\n",
       "\n",
       "|Washington Examiner Trump signs order creating $1m 'Gold Card,' $5m 'Platinum \n",
       "Card'](https://www.washingtonexaminer.com/policy/immigration/3816656/trump-order-gold-card-million-dollars-platinum\n",
       "-card/)\n",
       "President Donald Trump signed an executive order on Friday officially creating the ‘Gold’ and ‘ Platinum ’ cards \n",
       "for heavy-pocketed immigrants wanting to get into the country.\n",
       "\n",
       "|Economic Policy Institute Trump creates Gold Card program to sell access to employment-based green cards, \n",
       "announces Platinum Card program with few \n",
       "details](https://www.epi.org/policywatch/trump-creates-gold-card-program-to-sell-access-to-employment-based-green-c\n",
       "ards-announces-platinum-card-program-with-few-details/)\n",
       "On September 19, 2025, President Trump issued an Executive Order (EO) titled “The Gold Card .\" The EO states that \n",
       "the order is intended as a way to “realign” immigration policy with the national interest, through the creation of \n",
       "a new “Gold Card ” visa program “prioritizing the admission ...\n",
       "\n",
       "|Newsweek Trump’s Platinum Card Gives Tax Break on Non-US Income to Foreigners - \n",
       "Newsweek](https://www.newsweek.com/trump-platinum-card-gold-card-2133682)\n",
       "2 weeks ago - The Platinum and Gold Cards have been introduced as the Trump administration cracks down on other \n",
       "forms of immigration , both legal and illegal.\n"
      ]
     },
     "metadata": {},
     "output_type": "display_data"
    },
    {
     "data": {
      "text/html": [
       "<pre style=\"white-space:pre;overflow-x:auto;line-height:normal;font-family:Menlo,'DejaVu Sans Mono',consolas,'Courier New',monospace\"><span style=\"color: #7f7f7f; text-decoration-color: #7f7f7f\">[Step 2: Duration 2.32 seconds| Input tokens: 3,152 | Output tokens: 50]</span>\n",
       "</pre>\n"
      ],
      "text/plain": [
       "\u001b[2m[Step 2: Duration 2.32 seconds| Input tokens: 3,152 | Output tokens: 50]\u001b[0m\n"
      ]
     },
     "metadata": {},
     "output_type": "display_data"
    },
    {
     "data": {
      "text/html": [
       "<pre style=\"white-space:pre;overflow-x:auto;line-height:normal;font-family:Menlo,'DejaVu Sans Mono',consolas,'Courier New',monospace\"><span style=\"color: #d4b702; text-decoration-color: #d4b702\">━━━━━━━━━━━━━━━━━━━━━━━━━━━━━━━━━━━━━━━━━━━━━━━━━━━━━ </span><span style=\"font-weight: bold\">Step 3</span><span style=\"color: #d4b702; text-decoration-color: #d4b702\"> ━━━━━━━━━━━━━━━━━━━━━━━━━━━━━━━━━━━━━━━━━━━━━━━━━━━━━━</span>\n",
       "</pre>\n"
      ],
      "text/plain": [
       "\u001b[38;2;212;183;2m━━━━━━━━━━━━━━━━━━━━━━━━━━━━━━━━━━━━━━━━━━━━━━━━━━━━━ \u001b[0m\u001b[1mStep 3\u001b[0m\u001b[38;2;212;183;2m ━━━━━━━━━━━━━━━━━━━━━━━━━━━━━━━━━━━━━━━━━━━━━━━━━━━━━━\u001b[0m\n"
      ]
     },
     "metadata": {},
     "output_type": "display_data"
    },
    {
     "data": {
      "text/html": [
       "<pre style=\"white-space:pre;overflow-x:auto;line-height:normal;font-family:Menlo,'DejaVu Sans Mono',consolas,'Courier New',monospace\">╭─────────────────────────────────────────────────────────────────────────────────────────────────────────────────╮\n",
       "│ Calling tool: 'final_answer' with arguments: {'answer': 'The information provided indicates that there was a    │\n",
       "│ Trump Gold Card and a Trump Platinum Card program announced by President Donald Trump. The Trump Gold Card      │\n",
       "│ required a $1 million contribution and offered a path to U.S. residency and citizenship. The Trump Platinum     │\n",
       "│ Card, which was less detailed, required a $5 million contribution and allowed holders to spend up to 270 days   │\n",
       "│ in the United States without being taxed on non-U.S. income. However, it is important to note that these        │\n",
       "│ programs faced legal and constitutional challenges and were not officially implemented.'}                       │\n",
       "╰─────────────────────────────────────────────────────────────────────────────────────────────────────────────────╯\n",
       "</pre>\n"
      ],
      "text/plain": [
       "╭─────────────────────────────────────────────────────────────────────────────────────────────────────────────────╮\n",
       "│ Calling tool: 'final_answer' with arguments: {'answer': 'The information provided indicates that there was a    │\n",
       "│ Trump Gold Card and a Trump Platinum Card program announced by President Donald Trump. The Trump Gold Card      │\n",
       "│ required a $1 million contribution and offered a path to U.S. residency and citizenship. The Trump Platinum     │\n",
       "│ Card, which was less detailed, required a $5 million contribution and allowed holders to spend up to 270 days   │\n",
       "│ in the United States without being taxed on non-U.S. income. However, it is important to note that these        │\n",
       "│ programs faced legal and constitutional challenges and were not officially implemented.'}                       │\n",
       "╰─────────────────────────────────────────────────────────────────────────────────────────────────────────────────╯\n"
      ]
     },
     "metadata": {},
     "output_type": "display_data"
    },
    {
     "data": {
      "text/html": [
       "<pre style=\"white-space:pre;overflow-x:auto;line-height:normal;font-family:Menlo,'DejaVu Sans Mono',consolas,'Courier New',monospace\">Observations: The information provided indicates that there was a Trump Gold Card and a Trump Platinum Card program\n",
       "announced by President Donald Trump. The Trump Gold Card required a $1 million contribution and offered a path to \n",
       "U.S. residency and citizenship. The Trump Platinum Card, which was less detailed, required a $5 million \n",
       "contribution and allowed holders to spend up to 270 days in the United States without being taxed on non-U.S. \n",
       "income. However, it is important to note that these programs faced legal and constitutional challenges and were not\n",
       "officially implemented.\n",
       "</pre>\n"
      ],
      "text/plain": [
       "Observations: The information provided indicates that there was a Trump Gold Card and a Trump Platinum Card program\n",
       "announced by President Donald Trump. The Trump Gold Card required a $1 million contribution and offered a path to \n",
       "U.S. residency and citizenship. The Trump Platinum Card, which was less detailed, required a $5 million \n",
       "contribution and allowed holders to spend up to 270 days in the United States without being taxed on non-U.S. \n",
       "income. However, it is important to note that these programs faced legal and constitutional challenges and were not\n",
       "officially implemented.\n"
      ]
     },
     "metadata": {},
     "output_type": "display_data"
    },
    {
     "data": {
      "text/html": [
       "<pre style=\"white-space:pre;overflow-x:auto;line-height:normal;font-family:Menlo,'DejaVu Sans Mono',consolas,'Courier New',monospace\"><span style=\"color: #d4b702; text-decoration-color: #d4b702; font-weight: bold\">Final answer: The information provided indicates that there was a Trump Gold Card and a Trump Platinum Card program</span>\n",
       "<span style=\"color: #d4b702; text-decoration-color: #d4b702; font-weight: bold\">announced by President Donald Trump. The Trump Gold Card required a $1 million contribution and offered a path to </span>\n",
       "<span style=\"color: #d4b702; text-decoration-color: #d4b702; font-weight: bold\">U.S. residency and citizenship. The Trump Platinum Card, which was less detailed, required a $5 million </span>\n",
       "<span style=\"color: #d4b702; text-decoration-color: #d4b702; font-weight: bold\">contribution and allowed holders to spend up to 270 days in the United States without being taxed on non-U.S. </span>\n",
       "<span style=\"color: #d4b702; text-decoration-color: #d4b702; font-weight: bold\">income. However, it is important to note that these programs faced legal and constitutional challenges and were not</span>\n",
       "<span style=\"color: #d4b702; text-decoration-color: #d4b702; font-weight: bold\">officially implemented.</span>\n",
       "</pre>\n"
      ],
      "text/plain": [
       "\u001b[1;38;2;212;183;2mFinal answer: The information provided indicates that there was a Trump Gold Card and a Trump Platinum Card program\u001b[0m\n",
       "\u001b[1;38;2;212;183;2mannounced by President Donald Trump. The Trump Gold Card required a $1 million contribution and offered a path to \u001b[0m\n",
       "\u001b[1;38;2;212;183;2mU.S. residency and citizenship. The Trump Platinum Card, which was less detailed, required a $5 million \u001b[0m\n",
       "\u001b[1;38;2;212;183;2mcontribution and allowed holders to spend up to 270 days in the United States without being taxed on non-U.S. \u001b[0m\n",
       "\u001b[1;38;2;212;183;2mincome. However, it is important to note that these programs faced legal and constitutional challenges and were not\u001b[0m\n",
       "\u001b[1;38;2;212;183;2mofficially implemented.\u001b[0m\n"
      ]
     },
     "metadata": {},
     "output_type": "display_data"
    },
    {
     "data": {
      "text/html": [
       "<pre style=\"white-space:pre;overflow-x:auto;line-height:normal;font-family:Menlo,'DejaVu Sans Mono',consolas,'Courier New',monospace\"><span style=\"color: #7f7f7f; text-decoration-color: #7f7f7f\">[Step 3: Duration 2.16 seconds| Input tokens: 6,313 | Output tokens: 176]</span>\n",
       "</pre>\n"
      ],
      "text/plain": [
       "\u001b[2m[Step 3: Duration 2.16 seconds| Input tokens: 6,313 | Output tokens: 176]\u001b[0m\n"
      ]
     },
     "metadata": {},
     "output_type": "display_data"
    },
    {
     "data": {
      "text/plain": [
       "'The information provided indicates that there was a Trump Gold Card and a Trump Platinum Card program announced by President Donald Trump. The Trump Gold Card required a $1 million contribution and offered a path to U.S. residency and citizenship. The Trump Platinum Card, which was less detailed, required a $5 million contribution and allowed holders to spend up to 270 days in the United States without being taxed on non-U.S. income. However, it is important to note that these programs faced legal and constitutional challenges and were not officially implemented.'"
      ]
     },
     "execution_count": 2,
     "metadata": {},
     "output_type": "execute_result"
    }
   ],
   "source": [
    "from smolagents import ToolCallingAgent, DuckDuckGoSearchTool, InferenceClientModel\n",
    "\n",
    "agent = ToolCallingAgent(tools=[DuckDuckGoSearchTool()], model=InferenceClientModel())\n",
    "\n",
    "agent.run(\"Is it true about the Trump's Gold Card, Platinum Card, etc in the US for immigrants ?\")"
   ]
  },
  {
   "cell_type": "markdown",
   "id": "506f04c0",
   "metadata": {},
   "source": [
    "Testing basic functionalities of the Tool calling agent of the smolagents for executing simple prompts without using any tools."
   ]
  },
  {
   "cell_type": "code",
   "execution_count": 6,
   "id": "86b4bbc4",
   "metadata": {},
   "outputs": [
    {
     "data": {
      "text/html": [
       "<pre style=\"white-space:pre;overflow-x:auto;line-height:normal;font-family:Menlo,'DejaVu Sans Mono',consolas,'Courier New',monospace\"><span style=\"color: #d4b702; text-decoration-color: #d4b702\">╭──────────────────────────────────────────────────── </span><span style=\"color: #d4b702; text-decoration-color: #d4b702; font-weight: bold\">New run</span><span style=\"color: #d4b702; text-decoration-color: #d4b702\"> ────────────────────────────────────────────────────╮</span>\n",
       "<span style=\"color: #d4b702; text-decoration-color: #d4b702\">│</span>                                                                                                                 <span style=\"color: #d4b702; text-decoration-color: #d4b702\">│</span>\n",
       "<span style=\"color: #d4b702; text-decoration-color: #d4b702\">│</span> <span style=\"font-weight: bold\">What is AWS ?</span>                                                                                                   <span style=\"color: #d4b702; text-decoration-color: #d4b702\">│</span>\n",
       "<span style=\"color: #d4b702; text-decoration-color: #d4b702\">│</span>                                                                                                                 <span style=\"color: #d4b702; text-decoration-color: #d4b702\">│</span>\n",
       "<span style=\"color: #d4b702; text-decoration-color: #d4b702\">╰─ InferenceClientModel - Qwen/Qwen2.5-Coder-32B-Instruct ────────────────────────────────────────────────────────╯</span>\n",
       "</pre>\n"
      ],
      "text/plain": [
       "\u001b[38;2;212;183;2m╭─\u001b[0m\u001b[38;2;212;183;2m───────────────────────────────────────────────────\u001b[0m\u001b[38;2;212;183;2m \u001b[0m\u001b[1;38;2;212;183;2mNew run\u001b[0m\u001b[38;2;212;183;2m \u001b[0m\u001b[38;2;212;183;2m───────────────────────────────────────────────────\u001b[0m\u001b[38;2;212;183;2m─╮\u001b[0m\n",
       "\u001b[38;2;212;183;2m│\u001b[0m                                                                                                                 \u001b[38;2;212;183;2m│\u001b[0m\n",
       "\u001b[38;2;212;183;2m│\u001b[0m \u001b[1mWhat is AWS ?\u001b[0m                                                                                                   \u001b[38;2;212;183;2m│\u001b[0m\n",
       "\u001b[38;2;212;183;2m│\u001b[0m                                                                                                                 \u001b[38;2;212;183;2m│\u001b[0m\n",
       "\u001b[38;2;212;183;2m╰─\u001b[0m\u001b[38;2;212;183;2m InferenceClientModel - Qwen/Qwen2.5-Coder-32B-Instruct \u001b[0m\u001b[38;2;212;183;2m───────────────────────────────────────────────────────\u001b[0m\u001b[38;2;212;183;2m─╯\u001b[0m\n"
      ]
     },
     "metadata": {},
     "output_type": "display_data"
    },
    {
     "data": {
      "text/html": [
       "<pre style=\"white-space:pre;overflow-x:auto;line-height:normal;font-family:Menlo,'DejaVu Sans Mono',consolas,'Courier New',monospace\"><span style=\"color: #d4b702; text-decoration-color: #d4b702\">━━━━━━━━━━━━━━━━━━━━━━━━━━━━━━━━━━━━━━━━━━━━━━━━━━━━━ </span><span style=\"font-weight: bold\">Step 1</span><span style=\"color: #d4b702; text-decoration-color: #d4b702\"> ━━━━━━━━━━━━━━━━━━━━━━━━━━━━━━━━━━━━━━━━━━━━━━━━━━━━━━</span>\n",
       "</pre>\n"
      ],
      "text/plain": [
       "\u001b[38;2;212;183;2m━━━━━━━━━━━━━━━━━━━━━━━━━━━━━━━━━━━━━━━━━━━━━━━━━━━━━ \u001b[0m\u001b[1mStep 1\u001b[0m\u001b[38;2;212;183;2m ━━━━━━━━━━━━━━━━━━━━━━━━━━━━━━━━━━━━━━━━━━━━━━━━━━━━━━\u001b[0m\n"
      ]
     },
     "metadata": {},
     "output_type": "display_data"
    },
    {
     "data": {
      "text/html": [
       "<pre style=\"white-space:pre;overflow-x:auto;line-height:normal;font-family:Menlo,'DejaVu Sans Mono',consolas,'Courier New',monospace\">╭─────────────────────────────────────────────────────────────────────────────────────────────────────────────────╮\n",
       "│ Calling tool: 'final_answer' with arguments: {'answer': 'AWS stands for Amazon Web Services, which is a         │\n",
       "│ subsidiary of Amazon providing on-demand cloud computing platforms and APIs to individuals, companies, and      │\n",
       "│ governments, on a metered pay-as-you-go basis.'}                                                                │\n",
       "╰─────────────────────────────────────────────────────────────────────────────────────────────────────────────────╯\n",
       "</pre>\n"
      ],
      "text/plain": [
       "╭─────────────────────────────────────────────────────────────────────────────────────────────────────────────────╮\n",
       "│ Calling tool: 'final_answer' with arguments: {'answer': 'AWS stands for Amazon Web Services, which is a         │\n",
       "│ subsidiary of Amazon providing on-demand cloud computing platforms and APIs to individuals, companies, and      │\n",
       "│ governments, on a metered pay-as-you-go basis.'}                                                                │\n",
       "╰─────────────────────────────────────────────────────────────────────────────────────────────────────────────────╯\n"
      ]
     },
     "metadata": {},
     "output_type": "display_data"
    },
    {
     "data": {
      "text/html": [
       "<pre style=\"white-space:pre;overflow-x:auto;line-height:normal;font-family:Menlo,'DejaVu Sans Mono',consolas,'Courier New',monospace\">Observations: AWS stands for Amazon Web Services, which is a subsidiary of Amazon providing on-demand cloud \n",
       "computing platforms and APIs to individuals, companies, and governments, on a metered pay-as-you-go basis.\n",
       "</pre>\n"
      ],
      "text/plain": [
       "Observations: AWS stands for Amazon Web Services, which is a subsidiary of Amazon providing on-demand cloud \n",
       "computing platforms and APIs to individuals, companies, and governments, on a metered pay-as-you-go basis.\n"
      ]
     },
     "metadata": {},
     "output_type": "display_data"
    },
    {
     "data": {
      "text/html": [
       "<pre style=\"white-space:pre;overflow-x:auto;line-height:normal;font-family:Menlo,'DejaVu Sans Mono',consolas,'Courier New',monospace\"><span style=\"color: #d4b702; text-decoration-color: #d4b702; font-weight: bold\">Final answer: AWS stands for Amazon Web Services, which is a subsidiary of Amazon providing on-demand cloud </span>\n",
       "<span style=\"color: #d4b702; text-decoration-color: #d4b702; font-weight: bold\">computing platforms and APIs to individuals, companies, and governments, on a metered pay-as-you-go basis.</span>\n",
       "</pre>\n"
      ],
      "text/plain": [
       "\u001b[1;38;2;212;183;2mFinal answer: AWS stands for Amazon Web Services, which is a subsidiary of Amazon providing on-demand cloud \u001b[0m\n",
       "\u001b[1;38;2;212;183;2mcomputing platforms and APIs to individuals, companies, and governments, on a metered pay-as-you-go basis.\u001b[0m\n"
      ]
     },
     "metadata": {},
     "output_type": "display_data"
    },
    {
     "data": {
      "text/html": [
       "<pre style=\"white-space:pre;overflow-x:auto;line-height:normal;font-family:Menlo,'DejaVu Sans Mono',consolas,'Courier New',monospace\"><span style=\"color: #7f7f7f; text-decoration-color: #7f7f7f\">[Step 1: Duration 5.77 seconds| Input tokens: 1,007 | Output tokens: 57]</span>\n",
       "</pre>\n"
      ],
      "text/plain": [
       "\u001b[2m[Step 1: Duration 5.77 seconds| Input tokens: 1,007 | Output tokens: 57]\u001b[0m\n"
      ]
     },
     "metadata": {},
     "output_type": "display_data"
    },
    {
     "name": "stdout",
     "output_type": "stream",
     "text": [
      "AWS stands for Amazon Web Services, which is a subsidiary of Amazon providing on-demand cloud computing platforms and APIs to individuals, companies, and governments, on a metered pay-as-you-go basis.\n"
     ]
    }
   ],
   "source": [
    "from smolagents import ToolCallingAgent, InferenceClientModel\n",
    "import os\n",
    "\n",
    "HF_TOKEN = os.environ[\"HF_TOKEN\"]\n",
    "agent1 = ToolCallingAgent(tools = [],model=InferenceClientModel()) # Note: When no tools are provided to the agent and only the LLM inference is required you can will have to pass an empty list as it is expected\n",
    "\n",
    "user_query = input('User prompt query : ')\n",
    "x = agent1.run(user_query)\n",
    "print(x)"
   ]
  },
  {
   "cell_type": "markdown",
   "id": "f6bb081a",
   "metadata": {},
   "source": [
    "# Problem 2 – Smart Search Agent\n",
    "\n",
    "**Goal:**  \n",
    "Create an agent that answers factual questions using a search tool (`DuckDuckGoSearchTool`).\n",
    "\n",
    "**Example Input:**  \n",
    "\"Who is the founder of Hugging Face?\"\n",
    "\n",
    "**Expected Output:**  \n",
    "A concise answer based on search results.\n"
   ]
  },
  {
   "cell_type": "code",
   "execution_count": null,
   "id": "30866bdc",
   "metadata": {},
   "outputs": [
    {
     "data": {
      "text/html": [
       "<pre style=\"white-space:pre;overflow-x:auto;line-height:normal;font-family:Menlo,'DejaVu Sans Mono',consolas,'Courier New',monospace\"><span style=\"color: #d4b702; text-decoration-color: #d4b702\">╭──────────────────────────────────────────────────── </span><span style=\"color: #d4b702; text-decoration-color: #d4b702; font-weight: bold\">New run</span><span style=\"color: #d4b702; text-decoration-color: #d4b702\"> ────────────────────────────────────────────────────╮</span>\n",
       "<span style=\"color: #d4b702; text-decoration-color: #d4b702\">│</span>                                                                                                                 <span style=\"color: #d4b702; text-decoration-color: #d4b702\">│</span>\n",
       "<span style=\"color: #d4b702; text-decoration-color: #d4b702\">│</span> <span style=\"font-weight: bold\">Who is the founder of Hugging Face ?</span>                                                                            <span style=\"color: #d4b702; text-decoration-color: #d4b702\">│</span>\n",
       "<span style=\"color: #d4b702; text-decoration-color: #d4b702\">│</span>                                                                                                                 <span style=\"color: #d4b702; text-decoration-color: #d4b702\">│</span>\n",
       "<span style=\"color: #d4b702; text-decoration-color: #d4b702\">╰─ InferenceClientModel - Qwen/Qwen2.5-Coder-32B-Instruct ────────────────────────────────────────────────────────╯</span>\n",
       "</pre>\n"
      ],
      "text/plain": [
       "\u001b[38;2;212;183;2m╭─\u001b[0m\u001b[38;2;212;183;2m───────────────────────────────────────────────────\u001b[0m\u001b[38;2;212;183;2m \u001b[0m\u001b[1;38;2;212;183;2mNew run\u001b[0m\u001b[38;2;212;183;2m \u001b[0m\u001b[38;2;212;183;2m───────────────────────────────────────────────────\u001b[0m\u001b[38;2;212;183;2m─╮\u001b[0m\n",
       "\u001b[38;2;212;183;2m│\u001b[0m                                                                                                                 \u001b[38;2;212;183;2m│\u001b[0m\n",
       "\u001b[38;2;212;183;2m│\u001b[0m \u001b[1mWho is the founder of Hugging Face ?\u001b[0m                                                                            \u001b[38;2;212;183;2m│\u001b[0m\n",
       "\u001b[38;2;212;183;2m│\u001b[0m                                                                                                                 \u001b[38;2;212;183;2m│\u001b[0m\n",
       "\u001b[38;2;212;183;2m╰─\u001b[0m\u001b[38;2;212;183;2m InferenceClientModel - Qwen/Qwen2.5-Coder-32B-Instruct \u001b[0m\u001b[38;2;212;183;2m───────────────────────────────────────────────────────\u001b[0m\u001b[38;2;212;183;2m─╯\u001b[0m\n"
      ]
     },
     "metadata": {},
     "output_type": "display_data"
    },
    {
     "data": {
      "text/html": [
       "<pre style=\"white-space:pre;overflow-x:auto;line-height:normal;font-family:Menlo,'DejaVu Sans Mono',consolas,'Courier New',monospace\"><span style=\"color: #d4b702; text-decoration-color: #d4b702\">━━━━━━━━━━━━━━━━━━━━━━━━━━━━━━━━━━━━━━━━━━━━━━━━━━━━━ </span><span style=\"font-weight: bold\">Step 1</span><span style=\"color: #d4b702; text-decoration-color: #d4b702\"> ━━━━━━━━━━━━━━━━━━━━━━━━━━━━━━━━━━━━━━━━━━━━━━━━━━━━━━</span>\n",
       "</pre>\n"
      ],
      "text/plain": [
       "\u001b[38;2;212;183;2m━━━━━━━━━━━━━━━━━━━━━━━━━━━━━━━━━━━━━━━━━━━━━━━━━━━━━ \u001b[0m\u001b[1mStep 1\u001b[0m\u001b[38;2;212;183;2m ━━━━━━━━━━━━━━━━━━━━━━━━━━━━━━━━━━━━━━━━━━━━━━━━━━━━━━\u001b[0m\n"
      ]
     },
     "metadata": {},
     "output_type": "display_data"
    },
    {
     "data": {
      "text/html": [
       "<pre style=\"white-space:pre;overflow-x:auto;line-height:normal;font-family:Menlo,'DejaVu Sans Mono',consolas,'Courier New',monospace\">╭─────────────────────────────────────────────────────────────────────────────────────────────────────────────────╮\n",
       "│ Calling tool: 'web_search' with arguments: {'query': 'Who is the founder of Hugging Face?'}                     │\n",
       "╰─────────────────────────────────────────────────────────────────────────────────────────────────────────────────╯\n",
       "</pre>\n"
      ],
      "text/plain": [
       "╭─────────────────────────────────────────────────────────────────────────────────────────────────────────────────╮\n",
       "│ Calling tool: 'web_search' with arguments: {'query': 'Who is the founder of Hugging Face?'}                     │\n",
       "╰─────────────────────────────────────────────────────────────────────────────────────────────────────────────────╯\n"
      ]
     },
     "metadata": {},
     "output_type": "display_data"
    },
    {
     "data": {
      "text/html": [
       "<pre style=\"white-space:pre;overflow-x:auto;line-height:normal;font-family:Menlo,'DejaVu Sans Mono',consolas,'Courier New',monospace\">Observations: ## Search Results\n",
       "\n",
       "|Wikipedia Hugging Face - Wikipedia](https://en.wikipedia.org/wiki/Hugging_Face)\n",
       "2 weeks ago - In an X tweet, Clément Delangue , CEO of Hugging Face, shared his vision to make Artificial \n",
       "Intelligence robotics Open Source. The Transformers library is a Python package that contains open-source \n",
       "implementations of transformer models for text, image, and audio tasks.\n",
       "\n",
       "|KITRUM The Inspiring Journey of Clément Delangue, Hugging Face's founder - \n",
       "KITRUM](https://kitrum.com/blog/the-inspiring-journey-of-clement-delangue-hugging-faces-founder/)\n",
       "March 25, 2025 - Hugging Face has become the leading platform for AI builders, fundamentally changing how AI is \n",
       "developed and deployed. According to Hugging Face founder Clement Delangue , AI builders are new software \n",
       "engineers. Unlike traditional technology development, which requires writing millions of lines ...\n",
       "\n",
       "|LinkedIn Clem Delangue 🤗 - Hugging Face | LinkedIn](https://www.linkedin.com/in/clementdelangue/)\n",
       "August 31, 2017 - My first startup experience was with Moodstocks - building machine learning for computer… · \n",
       "Experience: Hugging Face · Education: Stanford University · Location: Miami-Fort Lauderdale Area · 500+ connections\n",
       "on LinkedIn. View Clem Delangue 🤗’s profile on LinkedIn, a professional ...\n",
       "\n",
       "|TechTarget What Is Hugging Face? | Definition from \n",
       "TechTarget](https://www.techtarget.com/whatis/definition/Hugging-Face)\n",
       "Discover Hugging Face , an AI company renowned for its Transformers library, offering cutting-edge models for \n",
       "diverse natural language processing tasks.\n",
       "\n",
       "|Acquired Building the Open Source AI Revolution (with Hugging Face CEO, Clem Delangue): The Complete History and \n",
       "Strategy](https://www.acquired.fm/episodes/building-the-open-source-ai-revolution-with-hugging-face-ceo-clem-delang\n",
       "ue)\n",
       "It made me realize the potential ... AI. When we started Hugging Face with my co-founders, Julien and Thomas , we \n",
       "were super excited about the topic and we were like, okay, it’s going to enable a lot of new things. Let’s start \n",
       "with a topic that is both scientifically challenging ...\n",
       "\n",
       "|Clay Who is the CEO of Hugging Face? Clem Delangue ’s Bio | Clay](https://www.clay.com/dossier/hugging-face-ceo)\n",
       "Clément Delangue is the CEO and co-founder of Hugging Face, an open and collaborative platform for AI builders.\n",
       "\n",
       "|Contrary Research Report: Hugging Face Business Breakdown &amp; Founding Story | Contrary \n",
       "Research](https://research.contrary.com/company/hugging-face)\n",
       "The company’s mission is to: “Democratize good machine learning and maximize its positive impact across industries \n",
       "and society.” ... Clément Delangue (CEO) and Julien Chaumond (CTO) founded Hugging Face in 2016 as an “AI best \n",
       "friend forever (BFF)” chatbot via a mobile app for teenagers.\n",
       "\n",
       "|Time Clément Delangue: The 100 Most Influential People in AI 2023 | \n",
       "TIME](https://time.com/collection/time100-ai/6308994/clement-delangue/)\n",
       "Clément Delangue is the CEO of Hugging Face, an open-source, for-profit machine-learning platform where researchers\n",
       "from around the world convene to share their AI models, datasets, and best practices.\n",
       "\n",
       "|Tracxn Hugging Face - 2025 Founders and Board of Directors - \n",
       "Tracxn](https://tracxn.com/d/companies/hugging-face/___89yhA9z0-ZrLstW87xWDVe15Bkl70IZOkQf38SXzmQ/founders-and-boar\n",
       "d-of-directors)\n",
       "May 20, 2025 - Clement Delangue : Co-Founder &amp; CEO at Hugging Face and 1 other company and angel Investor in 6 \n",
       "companies. Their contact information: 1 email.\n",
       "\n",
       "|Crunchbase Clément Delangue - CEO &amp; Co-Founder @ Hugging Face - Crunchbase Person \n",
       "Profile](https://www.crunchbase.com/person/clement-delangue)\n",
       "Clément Delangue - CEO &amp; Co-Founder @ Hugging Face\n",
       "</pre>\n"
      ],
      "text/plain": [
       "Observations: ## Search Results\n",
       "\n",
       "|Wikipedia Hugging Face - Wikipedia](https://en.wikipedia.org/wiki/Hugging_Face)\n",
       "2 weeks ago - In an X tweet, Clément Delangue , CEO of Hugging Face, shared his vision to make Artificial \n",
       "Intelligence robotics Open Source. The Transformers library is a Python package that contains open-source \n",
       "implementations of transformer models for text, image, and audio tasks.\n",
       "\n",
       "|KITRUM The Inspiring Journey of Clément Delangue, Hugging Face's founder - \n",
       "KITRUM](https://kitrum.com/blog/the-inspiring-journey-of-clement-delangue-hugging-faces-founder/)\n",
       "March 25, 2025 - Hugging Face has become the leading platform for AI builders, fundamentally changing how AI is \n",
       "developed and deployed. According to Hugging Face founder Clement Delangue , AI builders are new software \n",
       "engineers. Unlike traditional technology development, which requires writing millions of lines ...\n",
       "\n",
       "|LinkedIn Clem Delangue 🤗 - Hugging Face | LinkedIn](https://www.linkedin.com/in/clementdelangue/)\n",
       "August 31, 2017 - My first startup experience was with Moodstocks - building machine learning for computer… · \n",
       "Experience: Hugging Face · Education: Stanford University · Location: Miami-Fort Lauderdale Area · 500+ connections\n",
       "on LinkedIn. View Clem Delangue 🤗’s profile on LinkedIn, a professional ...\n",
       "\n",
       "|TechTarget What Is Hugging Face? | Definition from \n",
       "TechTarget](https://www.techtarget.com/whatis/definition/Hugging-Face)\n",
       "Discover Hugging Face , an AI company renowned for its Transformers library, offering cutting-edge models for \n",
       "diverse natural language processing tasks.\n",
       "\n",
       "|Acquired Building the Open Source AI Revolution (with Hugging Face CEO, Clem Delangue): The Complete History and \n",
       "Strategy](https://www.acquired.fm/episodes/building-the-open-source-ai-revolution-with-hugging-face-ceo-clem-delang\n",
       "ue)\n",
       "It made me realize the potential ... AI. When we started Hugging Face with my co-founders, Julien and Thomas , we \n",
       "were super excited about the topic and we were like, okay, it’s going to enable a lot of new things. Let’s start \n",
       "with a topic that is both scientifically challenging ...\n",
       "\n",
       "|Clay Who is the CEO of Hugging Face? Clem Delangue ’s Bio | Clay](https://www.clay.com/dossier/hugging-face-ceo)\n",
       "Clément Delangue is the CEO and co-founder of Hugging Face, an open and collaborative platform for AI builders.\n",
       "\n",
       "|Contrary Research Report: Hugging Face Business Breakdown & Founding Story | Contrary \n",
       "Research](https://research.contrary.com/company/hugging-face)\n",
       "The company’s mission is to: “Democratize good machine learning and maximize its positive impact across industries \n",
       "and society.” ... Clément Delangue (CEO) and Julien Chaumond (CTO) founded Hugging Face in 2016 as an “AI best \n",
       "friend forever (BFF)” chatbot via a mobile app for teenagers.\n",
       "\n",
       "|Time Clément Delangue: The 100 Most Influential People in AI 2023 | \n",
       "TIME](https://time.com/collection/time100-ai/6308994/clement-delangue/)\n",
       "Clément Delangue is the CEO of Hugging Face, an open-source, for-profit machine-learning platform where researchers\n",
       "from around the world convene to share their AI models, datasets, and best practices.\n",
       "\n",
       "|Tracxn Hugging Face - 2025 Founders and Board of Directors - \n",
       "Tracxn](https://tracxn.com/d/companies/hugging-face/___89yhA9z0-ZrLstW87xWDVe15Bkl70IZOkQf38SXzmQ/founders-and-boar\n",
       "d-of-directors)\n",
       "May 20, 2025 - Clement Delangue : Co-Founder & CEO at Hugging Face and 1 other company and angel Investor in 6 \n",
       "companies. Their contact information: 1 email.\n",
       "\n",
       "|Crunchbase Clément Delangue - CEO & Co-Founder @ Hugging Face - Crunchbase Person \n",
       "Profile](https://www.crunchbase.com/person/clement-delangue)\n",
       "Clément Delangue - CEO & Co-Founder @ Hugging Face\n"
      ]
     },
     "metadata": {},
     "output_type": "display_data"
    },
    {
     "data": {
      "text/html": [
       "<pre style=\"white-space:pre;overflow-x:auto;line-height:normal;font-family:Menlo,'DejaVu Sans Mono',consolas,'Courier New',monospace\"><span style=\"color: #7f7f7f; text-decoration-color: #7f7f7f\">[Step 1: Duration 2.04 seconds| Input tokens: 1,184 | Output tokens: 27]</span>\n",
       "</pre>\n"
      ],
      "text/plain": [
       "\u001b[2m[Step 1: Duration 2.04 seconds| Input tokens: 1,184 | Output tokens: 27]\u001b[0m\n"
      ]
     },
     "metadata": {},
     "output_type": "display_data"
    },
    {
     "data": {
      "text/html": [
       "<pre style=\"white-space:pre;overflow-x:auto;line-height:normal;font-family:Menlo,'DejaVu Sans Mono',consolas,'Courier New',monospace\"><span style=\"color: #d4b702; text-decoration-color: #d4b702\">━━━━━━━━━━━━━━━━━━━━━━━━━━━━━━━━━━━━━━━━━━━━━━━━━━━━━ </span><span style=\"font-weight: bold\">Step 2</span><span style=\"color: #d4b702; text-decoration-color: #d4b702\"> ━━━━━━━━━━━━━━━━━━━━━━━━━━━━━━━━━━━━━━━━━━━━━━━━━━━━━━</span>\n",
       "</pre>\n"
      ],
      "text/plain": [
       "\u001b[38;2;212;183;2m━━━━━━━━━━━━━━━━━━━━━━━━━━━━━━━━━━━━━━━━━━━━━━━━━━━━━ \u001b[0m\u001b[1mStep 2\u001b[0m\u001b[38;2;212;183;2m ━━━━━━━━━━━━━━━━━━━━━━━━━━━━━━━━━━━━━━━━━━━━━━━━━━━━━━\u001b[0m\n"
      ]
     },
     "metadata": {},
     "output_type": "display_data"
    },
    {
     "data": {
      "text/html": [
       "<pre style=\"white-space:pre;overflow-x:auto;line-height:normal;font-family:Menlo,'DejaVu Sans Mono',consolas,'Courier New',monospace\">╭─────────────────────────────────────────────────────────────────────────────────────────────────────────────────╮\n",
       "│ Calling tool: 'final_answer' with arguments: {'answer': 'Clément Delangue is the co-founder of Hugging Face.'}  │\n",
       "╰─────────────────────────────────────────────────────────────────────────────────────────────────────────────────╯\n",
       "</pre>\n"
      ],
      "text/plain": [
       "╭─────────────────────────────────────────────────────────────────────────────────────────────────────────────────╮\n",
       "│ Calling tool: 'final_answer' with arguments: {'answer': 'Clément Delangue is the co-founder of Hugging Face.'}  │\n",
       "╰─────────────────────────────────────────────────────────────────────────────────────────────────────────────────╯\n"
      ]
     },
     "metadata": {},
     "output_type": "display_data"
    },
    {
     "data": {
      "text/html": [
       "<pre style=\"white-space:pre;overflow-x:auto;line-height:normal;font-family:Menlo,'DejaVu Sans Mono',consolas,'Courier New',monospace\">Observations: Clément Delangue is the co-founder of Hugging Face.\n",
       "</pre>\n"
      ],
      "text/plain": [
       "Observations: Clément Delangue is the co-founder of Hugging Face.\n"
      ]
     },
     "metadata": {},
     "output_type": "display_data"
    },
    {
     "data": {
      "text/html": [
       "<pre style=\"white-space:pre;overflow-x:auto;line-height:normal;font-family:Menlo,'DejaVu Sans Mono',consolas,'Courier New',monospace\"><span style=\"color: #d4b702; text-decoration-color: #d4b702; font-weight: bold\">Final answer: Clément Delangue is the co-founder of Hugging Face.</span>\n",
       "</pre>\n"
      ],
      "text/plain": [
       "\u001b[1;38;2;212;183;2mFinal answer: Clément Delangue is the co-founder of Hugging Face.\u001b[0m\n"
      ]
     },
     "metadata": {},
     "output_type": "display_data"
    },
    {
     "data": {
      "text/html": [
       "<pre style=\"white-space:pre;overflow-x:auto;line-height:normal;font-family:Menlo,'DejaVu Sans Mono',consolas,'Courier New',monospace\"><span style=\"color: #7f7f7f; text-decoration-color: #7f7f7f\">[Step 2: Duration 0.97 seconds| Input tokens: 3,349 | Output tokens: 59]</span>\n",
       "</pre>\n"
      ],
      "text/plain": [
       "\u001b[2m[Step 2: Duration 0.97 seconds| Input tokens: 3,349 | Output tokens: 59]\u001b[0m\n"
      ]
     },
     "metadata": {},
     "output_type": "display_data"
    },
    {
     "data": {
      "text/plain": [
       "'Clément Delangue is the co-founder of Hugging Face.'"
      ]
     },
     "execution_count": 21,
     "metadata": {},
     "output_type": "execute_result"
    }
   ],
   "source": [
    "from smolagents import ToolCallingAgent, DuckDuckGoSearchTool, InferenceClientModel\n",
    "\n",
    "model = InferenceClientModel(model=\"Qwen/Qwen2.5-Coder-32B-Instruct\")\n",
    "agent_2 = ToolCallingAgent(tools=[DuckDuckGoSearchTool()], model=model,stream_outputs=False)\n",
    "\n",
    "user_query = input('User Query : ')\n",
    "agent_2.run(user_query)"
   ]
  },
  {
   "cell_type": "markdown",
   "id": "0d74a3f6",
   "metadata": {},
   "source": [
    "# Problem 3 – Multi-Tool Agent\n",
    "\n",
    "**Goal:**  \n",
    "Create an agent that can perform two tasks using different tools:\n",
    "- `DuckDuckGoSearchTool` for factual questions\n",
    "- `CalculatorTool` for simple math\n",
    "\n",
    "**Example Inputs:**  \n",
    "1. \"Who is the CEO of OpenAI?\" → use search tool  \n",
    "2. \"What is 234 * 56?\" → use calculator tool\n",
    "\n",
    "**Expected Output:**  \n",
    "Correct answer based on the query type.\n"
   ]
  },
  {
   "cell_type": "code",
   "execution_count": 30,
   "id": "2cf2bcbe",
   "metadata": {},
   "outputs": [
    {
     "data": {
      "text/html": [
       "<pre style=\"white-space:pre;overflow-x:auto;line-height:normal;font-family:Menlo,'DejaVu Sans Mono',consolas,'Courier New',monospace\"><span style=\"color: #d4b702; text-decoration-color: #d4b702\">╭──────────────────────────────────────────────────── </span><span style=\"color: #d4b702; text-decoration-color: #d4b702; font-weight: bold\">New run</span><span style=\"color: #d4b702; text-decoration-color: #d4b702\"> ────────────────────────────────────────────────────╮</span>\n",
       "<span style=\"color: #d4b702; text-decoration-color: #d4b702\">│</span>                                                                                                                 <span style=\"color: #d4b702; text-decoration-color: #d4b702\">│</span>\n",
       "<span style=\"color: #d4b702; text-decoration-color: #d4b702\">│</span> <span style=\"font-weight: bold\">What is 12^*2</span>                                                                                                   <span style=\"color: #d4b702; text-decoration-color: #d4b702\">│</span>\n",
       "<span style=\"color: #d4b702; text-decoration-color: #d4b702\">│</span>                                                                                                                 <span style=\"color: #d4b702; text-decoration-color: #d4b702\">│</span>\n",
       "<span style=\"color: #d4b702; text-decoration-color: #d4b702\">╰─ InferenceClientModel - Qwen/Qwen2.5-Coder-32B-Instruct ────────────────────────────────────────────────────────╯</span>\n",
       "</pre>\n"
      ],
      "text/plain": [
       "\u001b[38;2;212;183;2m╭─\u001b[0m\u001b[38;2;212;183;2m───────────────────────────────────────────────────\u001b[0m\u001b[38;2;212;183;2m \u001b[0m\u001b[1;38;2;212;183;2mNew run\u001b[0m\u001b[38;2;212;183;2m \u001b[0m\u001b[38;2;212;183;2m───────────────────────────────────────────────────\u001b[0m\u001b[38;2;212;183;2m─╮\u001b[0m\n",
       "\u001b[38;2;212;183;2m│\u001b[0m                                                                                                                 \u001b[38;2;212;183;2m│\u001b[0m\n",
       "\u001b[38;2;212;183;2m│\u001b[0m \u001b[1mWhat is 12^*2\u001b[0m                                                                                                   \u001b[38;2;212;183;2m│\u001b[0m\n",
       "\u001b[38;2;212;183;2m│\u001b[0m                                                                                                                 \u001b[38;2;212;183;2m│\u001b[0m\n",
       "\u001b[38;2;212;183;2m╰─\u001b[0m\u001b[38;2;212;183;2m InferenceClientModel - Qwen/Qwen2.5-Coder-32B-Instruct \u001b[0m\u001b[38;2;212;183;2m───────────────────────────────────────────────────────\u001b[0m\u001b[38;2;212;183;2m─╯\u001b[0m\n"
      ]
     },
     "metadata": {},
     "output_type": "display_data"
    },
    {
     "data": {
      "text/html": [
       "<pre style=\"white-space:pre;overflow-x:auto;line-height:normal;font-family:Menlo,'DejaVu Sans Mono',consolas,'Courier New',monospace\"><span style=\"color: #d4b702; text-decoration-color: #d4b702\">━━━━━━━━━━━━━━━━━━━━━━━━━━━━━━━━━━━━━━━━━━━━━━━━━━━━━ </span><span style=\"font-weight: bold\">Step 1</span><span style=\"color: #d4b702; text-decoration-color: #d4b702\"> ━━━━━━━━━━━━━━━━━━━━━━━━━━━━━━━━━━━━━━━━━━━━━━━━━━━━━━</span>\n",
       "</pre>\n"
      ],
      "text/plain": [
       "\u001b[38;2;212;183;2m━━━━━━━━━━━━━━━━━━━━━━━━━━━━━━━━━━━━━━━━━━━━━━━━━━━━━ \u001b[0m\u001b[1mStep 1\u001b[0m\u001b[38;2;212;183;2m ━━━━━━━━━━━━━━━━━━━━━━━━━━━━━━━━━━━━━━━━━━━━━━━━━━━━━━\u001b[0m\n"
      ]
     },
     "metadata": {},
     "output_type": "display_data"
    },
    {
     "data": {
      "text/html": [
       "<pre style=\"white-space:pre;overflow-x:auto;line-height:normal;font-family:Menlo,'DejaVu Sans Mono',consolas,'Courier New',monospace\">╭─────────────────────────────────────────────────────────────────────────────────────────────────────────────────╮\n",
       "│ Calling tool: 'CalculatorTool' with arguments: {'expression': '12*2'}                                           │\n",
       "╰─────────────────────────────────────────────────────────────────────────────────────────────────────────────────╯\n",
       "</pre>\n"
      ],
      "text/plain": [
       "╭─────────────────────────────────────────────────────────────────────────────────────────────────────────────────╮\n",
       "│ Calling tool: 'CalculatorTool' with arguments: {'expression': '12*2'}                                           │\n",
       "╰─────────────────────────────────────────────────────────────────────────────────────────────────────────────────╯\n"
      ]
     },
     "metadata": {},
     "output_type": "display_data"
    },
    {
     "data": {
      "text/html": [
       "<pre style=\"white-space:pre;overflow-x:auto;line-height:normal;font-family:Menlo,'DejaVu Sans Mono',consolas,'Courier New',monospace\">Observations: 24\n",
       "</pre>\n"
      ],
      "text/plain": [
       "Observations: 24\n"
      ]
     },
     "metadata": {},
     "output_type": "display_data"
    },
    {
     "data": {
      "text/html": [
       "<pre style=\"white-space:pre;overflow-x:auto;line-height:normal;font-family:Menlo,'DejaVu Sans Mono',consolas,'Courier New',monospace\"><span style=\"color: #7f7f7f; text-decoration-color: #7f7f7f\">[Step 1: Duration 0.90 seconds| Input tokens: 1,317 | Output tokens: 22]</span>\n",
       "</pre>\n"
      ],
      "text/plain": [
       "\u001b[2m[Step 1: Duration 0.90 seconds| Input tokens: 1,317 | Output tokens: 22]\u001b[0m\n"
      ]
     },
     "metadata": {},
     "output_type": "display_data"
    },
    {
     "data": {
      "text/html": [
       "<pre style=\"white-space:pre;overflow-x:auto;line-height:normal;font-family:Menlo,'DejaVu Sans Mono',consolas,'Courier New',monospace\"><span style=\"color: #d4b702; text-decoration-color: #d4b702\">━━━━━━━━━━━━━━━━━━━━━━━━━━━━━━━━━━━━━━━━━━━━━━━━━━━━━ </span><span style=\"font-weight: bold\">Step 2</span><span style=\"color: #d4b702; text-decoration-color: #d4b702\"> ━━━━━━━━━━━━━━━━━━━━━━━━━━━━━━━━━━━━━━━━━━━━━━━━━━━━━━</span>\n",
       "</pre>\n"
      ],
      "text/plain": [
       "\u001b[38;2;212;183;2m━━━━━━━━━━━━━━━━━━━━━━━━━━━━━━━━━━━━━━━━━━━━━━━━━━━━━ \u001b[0m\u001b[1mStep 2\u001b[0m\u001b[38;2;212;183;2m ━━━━━━━━━━━━━━━━━━━━━━━━━━━━━━━━━━━━━━━━━━━━━━━━━━━━━━\u001b[0m\n"
      ]
     },
     "metadata": {},
     "output_type": "display_data"
    },
    {
     "data": {
      "text/html": [
       "<pre style=\"white-space:pre;overflow-x:auto;line-height:normal;font-family:Menlo,'DejaVu Sans Mono',consolas,'Courier New',monospace\">╭─────────────────────────────────────────────────────────────────────────────────────────────────────────────────╮\n",
       "│ Calling tool: 'final_answer' with arguments: {'answer': '24'}                                                   │\n",
       "╰─────────────────────────────────────────────────────────────────────────────────────────────────────────────────╯\n",
       "</pre>\n"
      ],
      "text/plain": [
       "╭─────────────────────────────────────────────────────────────────────────────────────────────────────────────────╮\n",
       "│ Calling tool: 'final_answer' with arguments: {'answer': '24'}                                                   │\n",
       "╰─────────────────────────────────────────────────────────────────────────────────────────────────────────────────╯\n"
      ]
     },
     "metadata": {},
     "output_type": "display_data"
    },
    {
     "data": {
      "text/html": [
       "<pre style=\"white-space:pre;overflow-x:auto;line-height:normal;font-family:Menlo,'DejaVu Sans Mono',consolas,'Courier New',monospace\">Observations: 24\n",
       "</pre>\n"
      ],
      "text/plain": [
       "Observations: 24\n"
      ]
     },
     "metadata": {},
     "output_type": "display_data"
    },
    {
     "data": {
      "text/html": [
       "<pre style=\"white-space:pre;overflow-x:auto;line-height:normal;font-family:Menlo,'DejaVu Sans Mono',consolas,'Courier New',monospace\"><span style=\"color: #d4b702; text-decoration-color: #d4b702; font-weight: bold\">Final answer: 24</span>\n",
       "</pre>\n"
      ],
      "text/plain": [
       "\u001b[1;38;2;212;183;2mFinal answer: 24\u001b[0m\n"
      ]
     },
     "metadata": {},
     "output_type": "display_data"
    },
    {
     "data": {
      "text/html": [
       "<pre style=\"white-space:pre;overflow-x:auto;line-height:normal;font-family:Menlo,'DejaVu Sans Mono',consolas,'Courier New',monospace\"><span style=\"color: #7f7f7f; text-decoration-color: #7f7f7f\">[Step 2: Duration 0.97 seconds| Input tokens: 2,704 | Output tokens: 42]</span>\n",
       "</pre>\n"
      ],
      "text/plain": [
       "\u001b[2m[Step 2: Duration 0.97 seconds| Input tokens: 2,704 | Output tokens: 42]\u001b[0m\n"
      ]
     },
     "metadata": {},
     "output_type": "display_data"
    },
    {
     "name": "stdout",
     "output_type": "stream",
     "text": [
      "24\n"
     ]
    }
   ],
   "source": [
    "from smolagents import ToolCallingAgent, InferenceClientModel, DuckDuckGoSearchTool, Tool\n",
    "import re\n",
    "\n",
    "class CalculatorTool(Tool):\n",
    "    name = \"CalculatorTool\"\n",
    "    description = \"Performs basic arithmetic calculations.\"\n",
    "    inputs = {\n",
    "        \"expression\": {\n",
    "            \"type\": \"string\",\n",
    "            \"description\": \"The arithmetic expression to evaluate.\"\n",
    "        }\n",
    "    }\n",
    "    output_type = \"string\"\n",
    "\n",
    "    def forward(self, expression: str) -> str:\n",
    "        # Validate and evaluate the expression\n",
    "        if re.match(r'^[0-9+\\-*/().\\s]*$', expression):  # Basic validation\n",
    "            try:\n",
    "                result = eval(expression)\n",
    "                return str(result)\n",
    "            except Exception as e:\n",
    "                return f\"Error: {e}\"\n",
    "        else:\n",
    "            return \"Error: Invalid characters in expression.\"\n",
    "\n",
    "calc_tool = CalculatorTool()\n",
    "\n",
    "user_query = input('User Query: ')\n",
    "\n",
    "agent = ToolCallingAgent(\n",
    "    tools=[DuckDuckGoSearchTool(), calc_tool],\n",
    "    model=InferenceClientModel()\n",
    ")\n",
    "\n",
    "response = agent.run(user_query)\n",
    "print(response)\n"
   ]
  },
  {
   "cell_type": "markdown",
   "id": "abcbfa9d",
   "metadata": {},
   "source": [
    "### Problem 4: Unit Conversion Tool\n",
    "\n",
    "Create a custom `Tool` that converts between different metric and imperial units.\n",
    "The tool should handle at least the following conversions:\n",
    "\n",
    "- length: meters ↔ kilometers ↔ miles ↔ feet  \n",
    "- weight: kilograms ↔ grams ↔ pounds ↔ ounces  \n",
    "\n",
    "You must:\n",
    "1. Define a subclass of `Tool` named `UnitConversionTool`.\n",
    "2. Accept two string inputs:  \n",
    "   - `query` → raw text like `\"convert 5 miles to kilometers\"`\n",
    "3. Return a formatted string result such as `\"5 miles = 8.05 kilometers\"`.\n",
    "4. Integrate it with a `ToolCallingAgent` using `InferenceClientModel`.\n",
    "5. The agent should respond correctly to natural-language queries.\n"
   ]
  },
  {
   "cell_type": "code",
   "execution_count": 2,
   "id": "e7548e48",
   "metadata": {},
   "outputs": [
    {
     "name": "stdout",
     "output_type": "stream",
     "text": [
      "Extracted values:\n",
      "Value (float): 5.0\n",
      "From unit (string): kg\n",
      "To unit (string): g\n"
     ]
    }
   ],
   "source": [
    "import re\n",
    "\n",
    "query = \"5 kg to g\"\n",
    "\n",
    "# Pattern: number + from_unit + \"to/in\" + to_unit\n",
    "pattern = r'([\\d\\.]+)\\s*([a-zA-Z]+)\\s*(?:to|in)\\s*([a-zA-Z]+)'\n",
    "\n",
    "match = re.match(pattern, query)\n",
    "\n",
    "if match:\n",
    "    # Group 1 → numeric value\n",
    "    value_str = match.group(1)\n",
    "    value = float(value_str)       # convert string number → float\n",
    "\n",
    "    # Group 2 → source unit\n",
    "    from_unit = match.group(2).lower()  # store as lowercase for consistency\n",
    "\n",
    "    # Group 3 → target unit\n",
    "    to_unit = match.group(3).lower()\n",
    "\n",
    "    print(\"Extracted values:\")\n",
    "    print(f\"Value (float): {value}\")\n",
    "    print(f\"From unit (string): {from_unit}\")\n",
    "    print(f\"To unit (string): {to_unit}\")\n",
    "else:\n",
    "    print(\"Query format not recognized.\")"
   ]
  },
  {
   "cell_type": "code",
   "execution_count": 5,
   "id": "c2281547",
   "metadata": {},
   "outputs": [
    {
     "name": "stdout",
     "output_type": "stream",
     "text": [
      "Value: 5.0\n",
      "From: km\n",
      "To: m\n"
     ]
    }
   ],
   "source": [
    "import re\n",
    "\n",
    "unit_aliases = {\n",
    "    \"kilometer\": \"km\", \"kilometers\": \"km\", \"km\": \"km\",\n",
    "    \"meter\": \"m\", \"meters\": \"m\", \"m\": \"m\",\n",
    "    \"centimeter\": \"cm\", \"centimeters\": \"cm\", \"cm\": \"cm\",\n",
    "    \"mile\": \"mi\", \"miles\": \"mi\", \"mi\": \"mi\",\n",
    "    \"kilogram\": \"kg\", \"kilograms\": \"kg\", \"kg\": \"kg\",\n",
    "    \"gram\": \"g\", \"grams\": \"g\", \"g\": \"g\",\n",
    "    \"pound\": \"lb\", \"pounds\": \"lb\", \"lb\": \"lb\",\n",
    "    \"ounce\": \"oz\", \"ounces\": \"oz\", \"oz\": \"oz\"\n",
    "}\n",
    "\n",
    "query = \"5 kilometers to m\"\n",
    "pattern = r'([\\d\\.]+)\\s*([a-zA-Z]+)\\s*(?:to|in)\\s*([a-zA-Z]+)'\n",
    "\n",
    "match = re.match(pattern, query)\n",
    "if match:\n",
    "    value = float(match.group(1))\n",
    "    from_unit = match.group(2).lower()\n",
    "    to_unit = match.group(3).lower()\n",
    "\n",
    "    # normalize\n",
    "    from_unit = unit_aliases.get(from_unit)\n",
    "    to_unit = unit_aliases.get(to_unit)\n",
    "\n",
    "    print(f\"Value: {value}\")\n",
    "    print(f\"From: {from_unit}\")\n",
    "    print(f\"To: {to_unit}\")\n",
    "else:\n",
    "    print(\"Could not parse query.\")\n",
    "\n"
   ]
  },
  {
   "cell_type": "code",
   "execution_count": 11,
   "id": "a9577a91",
   "metadata": {},
   "outputs": [
    {
     "data": {
      "text/html": [
       "<pre style=\"white-space:pre;overflow-x:auto;line-height:normal;font-family:Menlo,'DejaVu Sans Mono',consolas,'Courier New',monospace\"><span style=\"color: #d4b702; text-decoration-color: #d4b702\">╭──────────────────────────────────────────────────── </span><span style=\"color: #d4b702; text-decoration-color: #d4b702; font-weight: bold\">New run</span><span style=\"color: #d4b702; text-decoration-color: #d4b702\"> ────────────────────────────────────────────────────╮</span>\n",
       "<span style=\"color: #d4b702; text-decoration-color: #d4b702\">│</span>                                                                                                                 <span style=\"color: #d4b702; text-decoration-color: #d4b702\">│</span>\n",
       "<span style=\"color: #d4b702; text-decoration-color: #d4b702\">│</span> <span style=\"font-weight: bold\">6km to miles</span>                                                                                                    <span style=\"color: #d4b702; text-decoration-color: #d4b702\">│</span>\n",
       "<span style=\"color: #d4b702; text-decoration-color: #d4b702\">│</span>                                                                                                                 <span style=\"color: #d4b702; text-decoration-color: #d4b702\">│</span>\n",
       "<span style=\"color: #d4b702; text-decoration-color: #d4b702\">╰─ InferenceClientModel - Qwen/Qwen2.5-Coder-32B-Instruct ────────────────────────────────────────────────────────╯</span>\n",
       "</pre>\n"
      ],
      "text/plain": [
       "\u001b[38;2;212;183;2m╭─\u001b[0m\u001b[38;2;212;183;2m───────────────────────────────────────────────────\u001b[0m\u001b[38;2;212;183;2m \u001b[0m\u001b[1;38;2;212;183;2mNew run\u001b[0m\u001b[38;2;212;183;2m \u001b[0m\u001b[38;2;212;183;2m───────────────────────────────────────────────────\u001b[0m\u001b[38;2;212;183;2m─╮\u001b[0m\n",
       "\u001b[38;2;212;183;2m│\u001b[0m                                                                                                                 \u001b[38;2;212;183;2m│\u001b[0m\n",
       "\u001b[38;2;212;183;2m│\u001b[0m \u001b[1m6km to miles\u001b[0m                                                                                                    \u001b[38;2;212;183;2m│\u001b[0m\n",
       "\u001b[38;2;212;183;2m│\u001b[0m                                                                                                                 \u001b[38;2;212;183;2m│\u001b[0m\n",
       "\u001b[38;2;212;183;2m╰─\u001b[0m\u001b[38;2;212;183;2m InferenceClientModel - Qwen/Qwen2.5-Coder-32B-Instruct \u001b[0m\u001b[38;2;212;183;2m───────────────────────────────────────────────────────\u001b[0m\u001b[38;2;212;183;2m─╯\u001b[0m\n"
      ]
     },
     "metadata": {},
     "output_type": "display_data"
    },
    {
     "data": {
      "text/html": [
       "<pre style=\"white-space:pre;overflow-x:auto;line-height:normal;font-family:Menlo,'DejaVu Sans Mono',consolas,'Courier New',monospace\"><span style=\"color: #d4b702; text-decoration-color: #d4b702\">━━━━━━━━━━━━━━━━━━━━━━━━━━━━━━━━━━━━━━━━━━━━━━━━━━━━━ </span><span style=\"font-weight: bold\">Step 1</span><span style=\"color: #d4b702; text-decoration-color: #d4b702\"> ━━━━━━━━━━━━━━━━━━━━━━━━━━━━━━━━━━━━━━━━━━━━━━━━━━━━━━</span>\n",
       "</pre>\n"
      ],
      "text/plain": [
       "\u001b[38;2;212;183;2m━━━━━━━━━━━━━━━━━━━━━━━━━━━━━━━━━━━━━━━━━━━━━━━━━━━━━ \u001b[0m\u001b[1mStep 1\u001b[0m\u001b[38;2;212;183;2m ━━━━━━━━━━━━━━━━━━━━━━━━━━━━━━━━━━━━━━━━━━━━━━━━━━━━━━\u001b[0m\n"
      ]
     },
     "metadata": {},
     "output_type": "display_data"
    },
    {
     "data": {
      "text/html": [
       "<pre style=\"white-space:pre;overflow-x:auto;line-height:normal;font-family:Menlo,'DejaVu Sans Mono',consolas,'Courier New',monospace\">╭─────────────────────────────────────────────────────────────────────────────────────────────────────────────────╮\n",
       "│ Calling tool: 'UnitConversionTool' with arguments: {'query': '6km to miles'}                                    │\n",
       "╰─────────────────────────────────────────────────────────────────────────────────────────────────────────────────╯\n",
       "</pre>\n"
      ],
      "text/plain": [
       "╭─────────────────────────────────────────────────────────────────────────────────────────────────────────────────╮\n",
       "│ Calling tool: 'UnitConversionTool' with arguments: {'query': '6km to miles'}                                    │\n",
       "╰─────────────────────────────────────────────────────────────────────────────────────────────────────────────────╯\n"
      ]
     },
     "metadata": {},
     "output_type": "display_data"
    },
    {
     "name": "stdout",
     "output_type": "stream",
     "text": [
      "6.0 km = 3.7282260000000003 mi\n"
     ]
    },
    {
     "data": {
      "text/html": [
       "<pre style=\"white-space:pre;overflow-x:auto;line-height:normal;font-family:Menlo,'DejaVu Sans Mono',consolas,'Courier New',monospace\">Observations: None\n",
       "</pre>\n"
      ],
      "text/plain": [
       "Observations: None\n"
      ]
     },
     "metadata": {},
     "output_type": "display_data"
    },
    {
     "data": {
      "text/html": [
       "<pre style=\"white-space:pre;overflow-x:auto;line-height:normal;font-family:Menlo,'DejaVu Sans Mono',consolas,'Courier New',monospace\"><span style=\"color: #7f7f7f; text-decoration-color: #7f7f7f\">[Step 1: Duration 1.19 seconds| Input tokens: 1,171 | Output tokens: 23]</span>\n",
       "</pre>\n"
      ],
      "text/plain": [
       "\u001b[2m[Step 1: Duration 1.19 seconds| Input tokens: 1,171 | Output tokens: 23]\u001b[0m\n"
      ]
     },
     "metadata": {},
     "output_type": "display_data"
    },
    {
     "data": {
      "text/html": [
       "<pre style=\"white-space:pre;overflow-x:auto;line-height:normal;font-family:Menlo,'DejaVu Sans Mono',consolas,'Courier New',monospace\"><span style=\"color: #d4b702; text-decoration-color: #d4b702\">━━━━━━━━━━━━━━━━━━━━━━━━━━━━━━━━━━━━━━━━━━━━━━━━━━━━━ </span><span style=\"font-weight: bold\">Step 2</span><span style=\"color: #d4b702; text-decoration-color: #d4b702\"> ━━━━━━━━━━━━━━━━━━━━━━━━━━━━━━━━━━━━━━━━━━━━━━━━━━━━━━</span>\n",
       "</pre>\n"
      ],
      "text/plain": [
       "\u001b[38;2;212;183;2m━━━━━━━━━━━━━━━━━━━━━━━━━━━━━━━━━━━━━━━━━━━━━━━━━━━━━ \u001b[0m\u001b[1mStep 2\u001b[0m\u001b[38;2;212;183;2m ━━━━━━━━━━━━━━━━━━━━━━━━━━━━━━━━━━━━━━━━━━━━━━━━━━━━━━\u001b[0m\n"
      ]
     },
     "metadata": {},
     "output_type": "display_data"
    },
    {
     "data": {
      "text/html": [
       "<pre style=\"white-space:pre;overflow-x:auto;line-height:normal;font-family:Menlo,'DejaVu Sans Mono',consolas,'Courier New',monospace\">╭─────────────────────────────────────────────────────────────────────────────────────────────────────────────────╮\n",
       "│ Calling tool: 'UnitConversionTool' with arguments: {'query': '6km to miles'}                                    │\n",
       "╰─────────────────────────────────────────────────────────────────────────────────────────────────────────────────╯\n",
       "</pre>\n"
      ],
      "text/plain": [
       "╭─────────────────────────────────────────────────────────────────────────────────────────────────────────────────╮\n",
       "│ Calling tool: 'UnitConversionTool' with arguments: {'query': '6km to miles'}                                    │\n",
       "╰─────────────────────────────────────────────────────────────────────────────────────────────────────────────────╯\n"
      ]
     },
     "metadata": {},
     "output_type": "display_data"
    },
    {
     "name": "stdout",
     "output_type": "stream",
     "text": [
      "6.0 km = 3.7282260000000003 mi\n"
     ]
    },
    {
     "data": {
      "text/html": [
       "<pre style=\"white-space:pre;overflow-x:auto;line-height:normal;font-family:Menlo,'DejaVu Sans Mono',consolas,'Courier New',monospace\">Observations: None\n",
       "</pre>\n"
      ],
      "text/plain": [
       "Observations: None\n"
      ]
     },
     "metadata": {},
     "output_type": "display_data"
    },
    {
     "data": {
      "text/html": [
       "<pre style=\"white-space:pre;overflow-x:auto;line-height:normal;font-family:Menlo,'DejaVu Sans Mono',consolas,'Courier New',monospace\"><span style=\"color: #7f7f7f; text-decoration-color: #7f7f7f\">[Step 2: Duration 0.80 seconds| Input tokens: 2,414 | Output tokens: 46]</span>\n",
       "</pre>\n"
      ],
      "text/plain": [
       "\u001b[2m[Step 2: Duration 0.80 seconds| Input tokens: 2,414 | Output tokens: 46]\u001b[0m\n"
      ]
     },
     "metadata": {},
     "output_type": "display_data"
    },
    {
     "data": {
      "text/html": [
       "<pre style=\"white-space:pre;overflow-x:auto;line-height:normal;font-family:Menlo,'DejaVu Sans Mono',consolas,'Courier New',monospace\"><span style=\"color: #d4b702; text-decoration-color: #d4b702\">━━━━━━━━━━━━━━━━━━━━━━━━━━━━━━━━━━━━━━━━━━━━━━━━━━━━━ </span><span style=\"font-weight: bold\">Step 3</span><span style=\"color: #d4b702; text-decoration-color: #d4b702\"> ━━━━━━━━━━━━━━━━━━━━━━━━━━━━━━━━━━━━━━━━━━━━━━━━━━━━━━</span>\n",
       "</pre>\n"
      ],
      "text/plain": [
       "\u001b[38;2;212;183;2m━━━━━━━━━━━━━━━━━━━━━━━━━━━━━━━━━━━━━━━━━━━━━━━━━━━━━ \u001b[0m\u001b[1mStep 3\u001b[0m\u001b[38;2;212;183;2m ━━━━━━━━━━━━━━━━━━━━━━━━━━━━━━━━━━━━━━━━━━━━━━━━━━━━━━\u001b[0m\n"
      ]
     },
     "metadata": {},
     "output_type": "display_data"
    },
    {
     "data": {
      "text/html": [
       "<pre style=\"white-space:pre;overflow-x:auto;line-height:normal;font-family:Menlo,'DejaVu Sans Mono',consolas,'Courier New',monospace\"><span style=\"color: #800000; text-decoration-color: #800000; font-weight: bold\">Error while generating output:</span>\n",
       "<span style=\"color: #800000; text-decoration-color: #800000; font-weight: bold\">402 Client Error: Payment Required for url: https://router.huggingface.co/together/v1/chat/completions (Request ID:</span>\n",
       "<span style=\"color: #800000; text-decoration-color: #800000; font-weight: bold\">Root=1-68e4fb21-154d5c436ad875123a179068;a6a1f70e-a88a-4fc3-a988-6e057db9d5ab)</span>\n",
       "\n",
       "<span style=\"color: #800000; text-decoration-color: #800000; font-weight: bold\">You have exceeded your monthly included credits for Inference Providers. Subscribe to PRO to get 20x more monthly </span>\n",
       "<span style=\"color: #800000; text-decoration-color: #800000; font-weight: bold\">included credits.</span>\n",
       "</pre>\n"
      ],
      "text/plain": [
       "\u001b[1;31mError while generating output:\u001b[0m\n",
       "\u001b[1;31m402 Client Error: Payment Required for url: https://router.huggingface.co/together/v1/chat/completions (Request ID:\u001b[0m\n",
       "\u001b[1;31mRoot=1-68e4fb21-154d5c436ad875123a179068;a6a1f70e-a88a-4fc3-a988-6e057db9d5ab)\u001b[0m\n",
       "\n",
       "\u001b[1;31mYou have exceeded your monthly included credits for Inference Providers. Subscribe to PRO to get 20x more monthly \u001b[0m\n",
       "\u001b[1;31mincluded credits.\u001b[0m\n"
      ]
     },
     "metadata": {},
     "output_type": "display_data"
    },
    {
     "data": {
      "text/html": [
       "<pre style=\"white-space:pre;overflow-x:auto;line-height:normal;font-family:Menlo,'DejaVu Sans Mono',consolas,'Courier New',monospace\"><span style=\"color: #7f7f7f; text-decoration-color: #7f7f7f\">[Step 3: Duration 0.24 seconds]</span>\n",
       "</pre>\n"
      ],
      "text/plain": [
       "\u001b[2m[Step 3: Duration 0.24 seconds]\u001b[0m\n"
      ]
     },
     "metadata": {},
     "output_type": "display_data"
    },
    {
     "ename": "AgentGenerationError",
     "evalue": "Error while generating output:\n402 Client Error: Payment Required for url: https://router.huggingface.co/together/v1/chat/completions (Request ID: Root=1-68e4fb21-154d5c436ad875123a179068;a6a1f70e-a88a-4fc3-a988-6e057db9d5ab)\n\nYou have exceeded your monthly included credits for Inference Providers. Subscribe to PRO to get 20x more monthly included credits.",
     "output_type": "error",
     "traceback": [
      "\u001b[31m---------------------------------------------------------------------------\u001b[39m",
      "\u001b[31mHTTPError\u001b[39m                                 Traceback (most recent call last)",
      "\u001b[36mFile \u001b[39m\u001b[32m/usr/local/python/3.12.1/lib/python3.12/site-packages/huggingface_hub/utils/_http.py:409\u001b[39m, in \u001b[36mhf_raise_for_status\u001b[39m\u001b[34m(response, endpoint_name)\u001b[39m\n\u001b[32m    408\u001b[39m \u001b[38;5;28;01mtry\u001b[39;00m:\n\u001b[32m--> \u001b[39m\u001b[32m409\u001b[39m     \u001b[43mresponse\u001b[49m\u001b[43m.\u001b[49m\u001b[43mraise_for_status\u001b[49m\u001b[43m(\u001b[49m\u001b[43m)\u001b[49m\n\u001b[32m    410\u001b[39m \u001b[38;5;28;01mexcept\u001b[39;00m HTTPError \u001b[38;5;28;01mas\u001b[39;00m e:\n",
      "\u001b[36mFile \u001b[39m\u001b[32m~/.local/lib/python3.12/site-packages/requests/models.py:1026\u001b[39m, in \u001b[36mResponse.raise_for_status\u001b[39m\u001b[34m(self)\u001b[39m\n\u001b[32m   1025\u001b[39m \u001b[38;5;28;01mif\u001b[39;00m http_error_msg:\n\u001b[32m-> \u001b[39m\u001b[32m1026\u001b[39m     \u001b[38;5;28;01mraise\u001b[39;00m HTTPError(http_error_msg, response=\u001b[38;5;28mself\u001b[39m)\n",
      "\u001b[31mHTTPError\u001b[39m: 402 Client Error: Payment Required for url: https://router.huggingface.co/together/v1/chat/completions",
      "\nThe above exception was the direct cause of the following exception:\n",
      "\u001b[31mHfHubHTTPError\u001b[39m                            Traceback (most recent call last)",
      "\u001b[36mFile \u001b[39m\u001b[32m/usr/local/python/3.12.1/lib/python3.12/site-packages/smolagents/agents.py:1247\u001b[39m, in \u001b[36mToolCallingAgent._step_stream\u001b[39m\u001b[34m(self, memory_step)\u001b[39m\n\u001b[32m   1246\u001b[39m \u001b[38;5;28;01melse\u001b[39;00m:\n\u001b[32m-> \u001b[39m\u001b[32m1247\u001b[39m     chat_message: ChatMessage = \u001b[38;5;28;43mself\u001b[39;49m\u001b[43m.\u001b[49m\u001b[43mmodel\u001b[49m\u001b[43m.\u001b[49m\u001b[43mgenerate\u001b[49m\u001b[43m(\u001b[49m\n\u001b[32m   1248\u001b[39m \u001b[43m        \u001b[49m\u001b[43minput_messages\u001b[49m\u001b[43m,\u001b[49m\n\u001b[32m   1249\u001b[39m \u001b[43m        \u001b[49m\u001b[43mstop_sequences\u001b[49m\u001b[43m=\u001b[49m\u001b[43m[\u001b[49m\u001b[33;43m\"\u001b[39;49m\u001b[33;43mObservation:\u001b[39;49m\u001b[33;43m\"\u001b[39;49m\u001b[43m,\u001b[49m\u001b[43m \u001b[49m\u001b[33;43m\"\u001b[39;49m\u001b[33;43mCalling tools:\u001b[39;49m\u001b[33;43m\"\u001b[39;49m\u001b[43m]\u001b[49m\u001b[43m,\u001b[49m\n\u001b[32m   1250\u001b[39m \u001b[43m        \u001b[49m\u001b[43mtools_to_call_from\u001b[49m\u001b[43m=\u001b[49m\u001b[38;5;28;43mself\u001b[39;49m\u001b[43m.\u001b[49m\u001b[43mtools_and_managed_agents\u001b[49m\u001b[43m,\u001b[49m\n\u001b[32m   1251\u001b[39m \u001b[43m    \u001b[49m\u001b[43m)\u001b[49m\n\u001b[32m   1252\u001b[39m     \u001b[38;5;28;01mif\u001b[39;00m chat_message.content \u001b[38;5;129;01mis\u001b[39;00m \u001b[38;5;28;01mNone\u001b[39;00m \u001b[38;5;129;01mand\u001b[39;00m chat_message.raw \u001b[38;5;129;01mis\u001b[39;00m \u001b[38;5;129;01mnot\u001b[39;00m \u001b[38;5;28;01mNone\u001b[39;00m:\n",
      "\u001b[36mFile \u001b[39m\u001b[32m/usr/local/python/3.12.1/lib/python3.12/site-packages/smolagents/models.py:1406\u001b[39m, in \u001b[36mInferenceClientModel.generate\u001b[39m\u001b[34m(self, messages, stop_sequences, response_format, tools_to_call_from, **kwargs)\u001b[39m\n\u001b[32m   1405\u001b[39m \u001b[38;5;28mself\u001b[39m._apply_rate_limit()\n\u001b[32m-> \u001b[39m\u001b[32m1406\u001b[39m response = \u001b[38;5;28;43mself\u001b[39;49m\u001b[43m.\u001b[49m\u001b[43mclient\u001b[49m\u001b[43m.\u001b[49m\u001b[43mchat_completion\u001b[49m\u001b[43m(\u001b[49m\u001b[43m*\u001b[49m\u001b[43m*\u001b[49m\u001b[43mcompletion_kwargs\u001b[49m\u001b[43m)\u001b[49m\n\u001b[32m   1407\u001b[39m \u001b[38;5;28;01mreturn\u001b[39;00m ChatMessage.from_dict(\n\u001b[32m   1408\u001b[39m     asdict(response.choices[\u001b[32m0\u001b[39m].message),\n\u001b[32m   1409\u001b[39m     raw=response,\n\u001b[32m   (...)\u001b[39m\u001b[32m   1413\u001b[39m     ),\n\u001b[32m   1414\u001b[39m )\n",
      "\u001b[36mFile \u001b[39m\u001b[32m/usr/local/python/3.12.1/lib/python3.12/site-packages/huggingface_hub/inference/_client.py:919\u001b[39m, in \u001b[36mInferenceClient.chat_completion\u001b[39m\u001b[34m(self, messages, model, stream, frequency_penalty, logit_bias, logprobs, max_tokens, n, presence_penalty, response_format, seed, stop, stream_options, temperature, tool_choice, tool_prompt, tools, top_logprobs, top_p, extra_body)\u001b[39m\n\u001b[32m    912\u001b[39m request_parameters = provider_helper.prepare_request(\n\u001b[32m    913\u001b[39m     inputs=messages,\n\u001b[32m    914\u001b[39m     parameters=parameters,\n\u001b[32m   (...)\u001b[39m\u001b[32m    917\u001b[39m     api_key=\u001b[38;5;28mself\u001b[39m.token,\n\u001b[32m    918\u001b[39m )\n\u001b[32m--> \u001b[39m\u001b[32m919\u001b[39m data = \u001b[38;5;28;43mself\u001b[39;49m\u001b[43m.\u001b[49m\u001b[43m_inner_post\u001b[49m\u001b[43m(\u001b[49m\u001b[43mrequest_parameters\u001b[49m\u001b[43m,\u001b[49m\u001b[43m \u001b[49m\u001b[43mstream\u001b[49m\u001b[43m=\u001b[49m\u001b[43mstream\u001b[49m\u001b[43m)\u001b[49m\n\u001b[32m    921\u001b[39m \u001b[38;5;28;01mif\u001b[39;00m stream:\n",
      "\u001b[36mFile \u001b[39m\u001b[32m/usr/local/python/3.12.1/lib/python3.12/site-packages/huggingface_hub/inference/_client.py:275\u001b[39m, in \u001b[36mInferenceClient._inner_post\u001b[39m\u001b[34m(self, request_parameters, stream)\u001b[39m\n\u001b[32m    274\u001b[39m \u001b[38;5;28;01mtry\u001b[39;00m:\n\u001b[32m--> \u001b[39m\u001b[32m275\u001b[39m     \u001b[43mhf_raise_for_status\u001b[49m\u001b[43m(\u001b[49m\u001b[43mresponse\u001b[49m\u001b[43m)\u001b[49m\n\u001b[32m    276\u001b[39m     \u001b[38;5;28;01mreturn\u001b[39;00m response.iter_lines() \u001b[38;5;28;01mif\u001b[39;00m stream \u001b[38;5;28;01melse\u001b[39;00m response.content\n",
      "\u001b[36mFile \u001b[39m\u001b[32m/usr/local/python/3.12.1/lib/python3.12/site-packages/huggingface_hub/utils/_http.py:482\u001b[39m, in \u001b[36mhf_raise_for_status\u001b[39m\u001b[34m(response, endpoint_name)\u001b[39m\n\u001b[32m    480\u001b[39m \u001b[38;5;66;03m# Convert `HTTPError` into a `HfHubHTTPError` to display request information\u001b[39;00m\n\u001b[32m    481\u001b[39m \u001b[38;5;66;03m# as well (request id and/or server error message)\u001b[39;00m\n\u001b[32m--> \u001b[39m\u001b[32m482\u001b[39m \u001b[38;5;28;01mraise\u001b[39;00m _format(HfHubHTTPError, \u001b[38;5;28mstr\u001b[39m(e), response) \u001b[38;5;28;01mfrom\u001b[39;00m\u001b[38;5;250m \u001b[39m\u001b[34;01me\u001b[39;00m\n",
      "\u001b[31mHfHubHTTPError\u001b[39m: 402 Client Error: Payment Required for url: https://router.huggingface.co/together/v1/chat/completions (Request ID: Root=1-68e4fb21-154d5c436ad875123a179068;a6a1f70e-a88a-4fc3-a988-6e057db9d5ab)\n\nYou have exceeded your monthly included credits for Inference Providers. Subscribe to PRO to get 20x more monthly included credits.",
      "\nThe above exception was the direct cause of the following exception:\n",
      "\u001b[31mAgentGenerationError\u001b[39m                      Traceback (most recent call last)",
      "\u001b[36mCell\u001b[39m\u001b[36m \u001b[39m\u001b[32mIn[11]\u001b[39m\u001b[32m, line 85\u001b[39m\n\u001b[32m     78\u001b[39m user_query = \u001b[38;5;28minput\u001b[39m(\u001b[33m'\u001b[39m\u001b[33mUser Query: \u001b[39m\u001b[33m'\u001b[39m)\n\u001b[32m     80\u001b[39m agent = ToolCallingAgent(\n\u001b[32m     81\u001b[39m     tools=[unit_tool],\n\u001b[32m     82\u001b[39m     model=InferenceClientModel()\n\u001b[32m     83\u001b[39m )\n\u001b[32m---> \u001b[39m\u001b[32m85\u001b[39m response = \u001b[43magent\u001b[49m\u001b[43m.\u001b[49m\u001b[43mrun\u001b[49m\u001b[43m(\u001b[49m\u001b[43muser_query\u001b[49m\u001b[43m)\u001b[49m\n\u001b[32m     86\u001b[39m \u001b[38;5;28mprint\u001b[39m(response)\n",
      "\u001b[36mFile \u001b[39m\u001b[32m/usr/local/python/3.12.1/lib/python3.12/site-packages/smolagents/agents.py:456\u001b[39m, in \u001b[36mMultiStepAgent.run\u001b[39m\u001b[34m(self, task, stream, reset, images, additional_args, max_steps)\u001b[39m\n\u001b[32m    453\u001b[39m run_start_time = time.time()\n\u001b[32m    454\u001b[39m \u001b[38;5;66;03m# Outputs are returned only at the end. We only look at the last step.\u001b[39;00m\n\u001b[32m--> \u001b[39m\u001b[32m456\u001b[39m steps = \u001b[38;5;28;43mlist\u001b[39;49m\u001b[43m(\u001b[49m\u001b[38;5;28;43mself\u001b[39;49m\u001b[43m.\u001b[49m\u001b[43m_run_stream\u001b[49m\u001b[43m(\u001b[49m\u001b[43mtask\u001b[49m\u001b[43m=\u001b[49m\u001b[38;5;28;43mself\u001b[39;49m\u001b[43m.\u001b[49m\u001b[43mtask\u001b[49m\u001b[43m,\u001b[49m\u001b[43m \u001b[49m\u001b[43mmax_steps\u001b[49m\u001b[43m=\u001b[49m\u001b[43mmax_steps\u001b[49m\u001b[43m,\u001b[49m\u001b[43m \u001b[49m\u001b[43mimages\u001b[49m\u001b[43m=\u001b[49m\u001b[43mimages\u001b[49m\u001b[43m)\u001b[49m\u001b[43m)\u001b[49m\n\u001b[32m    457\u001b[39m \u001b[38;5;28;01massert\u001b[39;00m \u001b[38;5;28misinstance\u001b[39m(steps[-\u001b[32m1\u001b[39m], FinalAnswerStep)\n\u001b[32m    458\u001b[39m output = steps[-\u001b[32m1\u001b[39m].output\n",
      "\u001b[36mFile \u001b[39m\u001b[32m/usr/local/python/3.12.1/lib/python3.12/site-packages/smolagents/agents.py:550\u001b[39m, in \u001b[36mMultiStepAgent._run_stream\u001b[39m\u001b[34m(self, task, max_steps, images)\u001b[39m\n\u001b[32m    546\u001b[39m             action_step.is_final_answer = \u001b[38;5;28;01mTrue\u001b[39;00m\n\u001b[32m    548\u001b[39m \u001b[38;5;28;01mexcept\u001b[39;00m AgentGenerationError \u001b[38;5;28;01mas\u001b[39;00m e:\n\u001b[32m    549\u001b[39m     \u001b[38;5;66;03m# Agent generation errors are not caused by a Model error but an implementation error: so we should raise them and exit.\u001b[39;00m\n\u001b[32m--> \u001b[39m\u001b[32m550\u001b[39m     \u001b[38;5;28;01mraise\u001b[39;00m e\n\u001b[32m    551\u001b[39m \u001b[38;5;28;01mexcept\u001b[39;00m AgentError \u001b[38;5;28;01mas\u001b[39;00m e:\n\u001b[32m    552\u001b[39m     \u001b[38;5;66;03m# Other AgentError types are caused by the Model, so we should log them and iterate.\u001b[39;00m\n\u001b[32m    553\u001b[39m     action_step.error = e\n",
      "\u001b[36mFile \u001b[39m\u001b[32m/usr/local/python/3.12.1/lib/python3.12/site-packages/smolagents/agents.py:532\u001b[39m, in \u001b[36mMultiStepAgent._run_stream\u001b[39m\u001b[34m(self, task, max_steps, images)\u001b[39m\n\u001b[32m    530\u001b[39m \u001b[38;5;28mself\u001b[39m.logger.log_rule(\u001b[33mf\u001b[39m\u001b[33m\"\u001b[39m\u001b[33mStep \u001b[39m\u001b[38;5;132;01m{\u001b[39;00m\u001b[38;5;28mself\u001b[39m.step_number\u001b[38;5;132;01m}\u001b[39;00m\u001b[33m\"\u001b[39m, level=LogLevel.INFO)\n\u001b[32m    531\u001b[39m \u001b[38;5;28;01mtry\u001b[39;00m:\n\u001b[32m--> \u001b[39m\u001b[32m532\u001b[39m \u001b[43m    \u001b[49m\u001b[38;5;28;43;01mfor\u001b[39;49;00m\u001b[43m \u001b[49m\u001b[43moutput\u001b[49m\u001b[43m \u001b[49m\u001b[38;5;129;43;01min\u001b[39;49;00m\u001b[43m \u001b[49m\u001b[38;5;28;43mself\u001b[39;49m\u001b[43m.\u001b[49m\u001b[43m_step_stream\u001b[49m\u001b[43m(\u001b[49m\u001b[43maction_step\u001b[49m\u001b[43m)\u001b[49m\u001b[43m:\u001b[49m\n\u001b[32m    533\u001b[39m \u001b[43m        \u001b[49m\u001b[38;5;66;43;03m# Yield all\u001b[39;49;00m\n\u001b[32m    534\u001b[39m \u001b[43m        \u001b[49m\u001b[38;5;28;43;01myield\u001b[39;49;00m\u001b[43m \u001b[49m\u001b[43moutput\u001b[49m\n\u001b[32m    536\u001b[39m \u001b[43m        \u001b[49m\u001b[38;5;28;43;01mif\u001b[39;49;00m\u001b[43m \u001b[49m\u001b[38;5;28;43misinstance\u001b[39;49m\u001b[43m(\u001b[49m\u001b[43moutput\u001b[49m\u001b[43m,\u001b[49m\u001b[43m \u001b[49m\u001b[43mActionOutput\u001b[49m\u001b[43m)\u001b[49m\u001b[43m \u001b[49m\u001b[38;5;129;43;01mand\u001b[39;49;00m\u001b[43m \u001b[49m\u001b[43moutput\u001b[49m\u001b[43m.\u001b[49m\u001b[43mis_final_answer\u001b[49m\u001b[43m:\u001b[49m\n",
      "\u001b[36mFile \u001b[39m\u001b[32m/usr/local/python/3.12.1/lib/python3.12/site-packages/smolagents/agents.py:1268\u001b[39m, in \u001b[36mToolCallingAgent._step_stream\u001b[39m\u001b[34m(self, memory_step)\u001b[39m\n\u001b[32m   1266\u001b[39m     memory_step.token_usage = chat_message.token_usage\n\u001b[32m   1267\u001b[39m \u001b[38;5;28;01mexcept\u001b[39;00m \u001b[38;5;167;01mException\u001b[39;00m \u001b[38;5;28;01mas\u001b[39;00m e:\n\u001b[32m-> \u001b[39m\u001b[32m1268\u001b[39m     \u001b[38;5;28;01mraise\u001b[39;00m AgentGenerationError(\u001b[33mf\u001b[39m\u001b[33m\"\u001b[39m\u001b[33mError while generating output:\u001b[39m\u001b[38;5;130;01m\\n\u001b[39;00m\u001b[38;5;132;01m{\u001b[39;00me\u001b[38;5;132;01m}\u001b[39;00m\u001b[33m\"\u001b[39m, \u001b[38;5;28mself\u001b[39m.logger) \u001b[38;5;28;01mfrom\u001b[39;00m\u001b[38;5;250m \u001b[39m\u001b[34;01me\u001b[39;00m\n\u001b[32m   1270\u001b[39m \u001b[38;5;28;01mif\u001b[39;00m chat_message.tool_calls \u001b[38;5;129;01mis\u001b[39;00m \u001b[38;5;28;01mNone\u001b[39;00m \u001b[38;5;129;01mor\u001b[39;00m \u001b[38;5;28mlen\u001b[39m(chat_message.tool_calls) == \u001b[32m0\u001b[39m:\n\u001b[32m   1271\u001b[39m     \u001b[38;5;28;01mtry\u001b[39;00m:\n",
      "\u001b[31mAgentGenerationError\u001b[39m: Error while generating output:\n402 Client Error: Payment Required for url: https://router.huggingface.co/together/v1/chat/completions (Request ID: Root=1-68e4fb21-154d5c436ad875123a179068;a6a1f70e-a88a-4fc3-a988-6e057db9d5ab)\n\nYou have exceeded your monthly included credits for Inference Providers. Subscribe to PRO to get 20x more monthly included credits."
     ]
    }
   ],
   "source": [
    "from smolagents import Tool, ToolCallingAgent, InferenceClientModel\n",
    "import re\n",
    "import os \n",
    "\n",
    "HF_TOKEN = os.environ[\"HF_TOKEN\"]\n",
    "\n",
    "class UnitConversionTool(Tool):\n",
    "    name = \"UnitConversionTool\"\n",
    "    description = \"Converts the length and weight between different metric and imperial units.\"\n",
    "    inputs = {\n",
    "        \"query\": {\n",
    "            \"type\": \"string\",\n",
    "            \"description\": \"The user query that needs to be converted into the specified metric.\"\n",
    "        }\n",
    "    }\n",
    "    output_type = \"string\"\n",
    "\n",
    "    def forward(self,query: str) -> str :\n",
    "        # Unit aliases for normalization\n",
    "        unit_aliases = {\n",
    "            # Length\n",
    "            \"meter\": \"m\", \"meters\": \"m\", \"m\": \"m\",\n",
    "            \"kilometer\": \"km\", \"kilometers\": \"km\", \"km\": \"km\",\n",
    "            \"mile\": \"mi\", \"miles\": \"mi\", \"mi\": \"mi\",\n",
    "            \"centimeter\": \"cm\", \"centimeters\": \"cm\", \"cm\": \"cm\",\n",
    "            \n",
    "            # Weight\n",
    "            \"kilogram\": \"kg\", \"kilograms\": \"kg\", \"kg\": \"kg\",\n",
    "            \"gram\": \"g\", \"grams\": \"g\", \"g\": \"g\",\n",
    "            \"pound\": \"lb\", \"pounds\": \"lb\", \"lb\": \"lb\",\n",
    "            \"ounce\": \"oz\", \"ounces\": \"oz\", \"oz\": \"oz\"\n",
    "        }\n",
    "\n",
    "        # Conversion factors: base unit → target unit\n",
    "        conversion_factors = {\n",
    "            # Length (base: meter)\n",
    "            (\"m\", \"km\"): 0.001,\n",
    "            (\"m\", \"mi\"): 0.000621371,\n",
    "            (\"km\", \"m\"): 1000,\n",
    "            (\"km\", \"mi\"): 0.621371,\n",
    "            (\"mi\", \"m\"): 1609.34,\n",
    "            (\"mi\", \"km\"): 1.60934,\n",
    "            \n",
    "            # Weight (base: kilogram)\n",
    "            (\"kg\", \"g\"): 1000,\n",
    "            (\"kg\", \"lb\"): 2.20462,\n",
    "            (\"g\", \"kg\"): 0.001,\n",
    "            (\"lb\", \"kg\"): 0.453592,\n",
    "            (\"lb\", \"g\"): 453.592,\n",
    "            (\"g\", \"lb\"): 0.00220462\n",
    "        }\n",
    "\n",
    "        # Regex pattern to extract number and units\n",
    "        pattern = r'([\\d\\.]+)\\s*([a-zA-Z]+)\\s*(?:to|in)\\s*([a-zA-Z]+)'\n",
    "\n",
    "        # Remove leading 'convert' if present\n",
    "        query = query.replace(\"convert \", \"\")\n",
    "\n",
    "        match = re.match(pattern, query)\n",
    "        if match:\n",
    "            value = float(match.group(1))\n",
    "            from_unit = unit_aliases.get(match.group(2), match.group(2))\n",
    "            to_unit = unit_aliases.get(match.group(3), match.group(3))\n",
    "\n",
    "            key = (from_unit, to_unit)\n",
    "            factor = conversion_factors.get(key)\n",
    "\n",
    "            if factor:\n",
    "                result = value * factor\n",
    "                print(f\"{value} {from_unit} = {result} {to_unit}\")\n",
    "            else:\n",
    "                print(f\"Conversion from '{from_unit}' to '{to_unit}' not supported.\")\n",
    "        else:\n",
    "            print(\"Could not parse query. Please use format like '5 km to miles'.\")\n",
    "\n",
    "unit_tool = UnitConversionTool()\n",
    "\n",
    "user_query = input('User Query: ')\n",
    "\n",
    "agent = ToolCallingAgent(\n",
    "    tools=[unit_tool],\n",
    "    model=InferenceClientModel()\n",
    ")\n",
    "\n",
    "response = agent.run(user_query)\n",
    "print(response)\n",
    "\n",
    "            \n",
    "    "
   ]
  },
  {
   "cell_type": "code",
   "execution_count": null,
   "id": "f92c145b",
   "metadata": {},
   "outputs": [],
   "source": []
  }
 ],
 "metadata": {
  "kernelspec": {
   "display_name": "Python 3",
   "language": "python",
   "name": "python3"
  },
  "language_info": {
   "codemirror_mode": {
    "name": "ipython",
    "version": 3
   },
   "file_extension": ".py",
   "mimetype": "text/x-python",
   "name": "python",
   "nbconvert_exporter": "python",
   "pygments_lexer": "ipython3",
   "version": "3.12.1"
  }
 },
 "nbformat": 4,
 "nbformat_minor": 5
}
