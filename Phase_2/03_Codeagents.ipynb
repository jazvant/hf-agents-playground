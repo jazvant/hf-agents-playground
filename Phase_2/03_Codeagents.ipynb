{
 "cells": [
  {
   "cell_type": "code",
   "execution_count": 1,
   "id": "eb890a38",
   "metadata": {},
   "outputs": [],
   "source": [
    "import os\n",
    "OPENROUTER_API_KEY = os.environ[\"OPENROUTER_API_KEY\"]"
   ]
  },
  {
   "cell_type": "code",
   "execution_count": 20,
   "id": "ebf53f79",
   "metadata": {},
   "outputs": [
    {
     "data": {
      "text/html": [
       "<pre style=\"white-space:pre;overflow-x:auto;line-height:normal;font-family:Menlo,'DejaVu Sans Mono',consolas,'Courier New',monospace\"><span style=\"color: #d4b702; text-decoration-color: #d4b702\">╭──────────────────────────────────────────────────── </span><span style=\"color: #d4b702; text-decoration-color: #d4b702; font-weight: bold\">New run</span><span style=\"color: #d4b702; text-decoration-color: #d4b702\"> ────────────────────────────────────────────────────╮</span>\n",
       "<span style=\"color: #d4b702; text-decoration-color: #d4b702\">│</span>                                                                                                                 <span style=\"color: #d4b702; text-decoration-color: #d4b702\">│</span>\n",
       "<span style=\"color: #d4b702; text-decoration-color: #d4b702\">│</span> <span style=\"font-weight: bold\">What is HuggingFace smolagents ?</span>                                                                                <span style=\"color: #d4b702; text-decoration-color: #d4b702\">│</span>\n",
       "<span style=\"color: #d4b702; text-decoration-color: #d4b702\">│</span>                                                                                                                 <span style=\"color: #d4b702; text-decoration-color: #d4b702\">│</span>\n",
       "<span style=\"color: #d4b702; text-decoration-color: #d4b702\">╰─ OpenAIServerModel - mistralai/devstral-small-2505:free ────────────────────────────────────────────────────────╯</span>\n",
       "</pre>\n"
      ],
      "text/plain": [
       "\u001b[38;2;212;183;2m╭─\u001b[0m\u001b[38;2;212;183;2m───────────────────────────────────────────────────\u001b[0m\u001b[38;2;212;183;2m \u001b[0m\u001b[1;38;2;212;183;2mNew run\u001b[0m\u001b[38;2;212;183;2m \u001b[0m\u001b[38;2;212;183;2m───────────────────────────────────────────────────\u001b[0m\u001b[38;2;212;183;2m─╮\u001b[0m\n",
       "\u001b[38;2;212;183;2m│\u001b[0m                                                                                                                 \u001b[38;2;212;183;2m│\u001b[0m\n",
       "\u001b[38;2;212;183;2m│\u001b[0m \u001b[1mWhat is HuggingFace smolagents ?\u001b[0m                                                                                \u001b[38;2;212;183;2m│\u001b[0m\n",
       "\u001b[38;2;212;183;2m│\u001b[0m                                                                                                                 \u001b[38;2;212;183;2m│\u001b[0m\n",
       "\u001b[38;2;212;183;2m╰─\u001b[0m\u001b[38;2;212;183;2m OpenAIServerModel - mistralai/devstral-small-2505:free \u001b[0m\u001b[38;2;212;183;2m───────────────────────────────────────────────────────\u001b[0m\u001b[38;2;212;183;2m─╯\u001b[0m\n"
      ]
     },
     "metadata": {},
     "output_type": "display_data"
    },
    {
     "data": {
      "text/html": [
       "<pre style=\"white-space:pre;overflow-x:auto;line-height:normal;font-family:Menlo,'DejaVu Sans Mono',consolas,'Courier New',monospace\"><span style=\"color: #d4b702; text-decoration-color: #d4b702\">━━━━━━━━━━━━━━━━━━━━━━━━━━━━━━━━━━━━━━━━━━━━━━━━━━━━━ </span><span style=\"font-weight: bold\">Step 1</span><span style=\"color: #d4b702; text-decoration-color: #d4b702\"> ━━━━━━━━━━━━━━━━━━━━━━━━━━━━━━━━━━━━━━━━━━━━━━━━━━━━━━</span>\n",
       "</pre>\n"
      ],
      "text/plain": [
       "\u001b[38;2;212;183;2m━━━━━━━━━━━━━━━━━━━━━━━━━━━━━━━━━━━━━━━━━━━━━━━━━━━━━ \u001b[0m\u001b[1mStep 1\u001b[0m\u001b[38;2;212;183;2m ━━━━━━━━━━━━━━━━━━━━━━━━━━━━━━━━━━━━━━━━━━━━━━━━━━━━━━\u001b[0m\n"
      ]
     },
     "metadata": {},
     "output_type": "display_data"
    },
    {
     "data": {
      "text/html": [
       "<pre style=\"white-space:pre;overflow-x:auto;line-height:normal;font-family:Menlo,'DejaVu Sans Mono',consolas,'Courier New',monospace\">╭─────────────────────────────────────────────────────────────────────────────────────────────────────────────────╮\n",
       "│ Calling tool: 'web_search' with arguments: {'query': 'HuggingFace smolagents'}                                  │\n",
       "╰─────────────────────────────────────────────────────────────────────────────────────────────────────────────────╯\n",
       "</pre>\n"
      ],
      "text/plain": [
       "╭─────────────────────────────────────────────────────────────────────────────────────────────────────────────────╮\n",
       "│ Calling tool: 'web_search' with arguments: {'query': 'HuggingFace smolagents'}                                  │\n",
       "╰─────────────────────────────────────────────────────────────────────────────────────────────────────────────────╯\n"
      ]
     },
     "metadata": {},
     "output_type": "display_data"
    },
    {
     "data": {
      "text/html": [
       "<pre style=\"white-space:pre;overflow-x:auto;line-height:normal;font-family:Menlo,'DejaVu Sans Mono',consolas,'Courier New',monospace\">Observations: ## Search Results\n",
       "\n",
       "|smolagents](https://huggingface.co/docs/smolagents/index)\n",
       "smolagents is an open-source Python library designed to make it extremely easy to build and run agents using just a\n",
       "few lines of code. Key features of smolagents include\n",
       "\n",
       "|SmolAgents by Hugging Face : Enhancing Human... | \n",
       "Medium](https://medium.com/@nandinilreddy/huggingface-smol-agents-ee8ef83ea9eb)\n",
       "Before exploring SmolAgents by Hugging Face , let’s first take a quick look at what AI agents are, their \n",
       "capabilities, and how Hugging Face ’s SmolAgents fit into this landscape.\n",
       "\n",
       "|Hugging Face ’s Open-Source Library for AI Agents : \n",
       "SmolAgents](https://www.linkedin.com/pulse/hugging-faces-open-source-library-ai-agents-smolagents-xdtpe)\n",
       "Launched by Hugging Face , SmolAgents is a lightweight, modular, and fully open-source library that enables \n",
       "developers to create and experiment with AI agents using existing LLMs and...\n",
       "\n",
       "|huggingface / smolagents | DeepWiki](https://deepwiki.com/huggingface/smolagents)\n",
       "This document provides a comprehensive overview of the smolagents library, an open-source Python framework for \n",
       "building and running AI agents . smolagents enables developers to create...\n",
       "\n",
       "|SmolAgents by Hugging Face : Build AI Agents in Under 30 \n",
       "Lines](https://www.analyticsvidhya.com/blog/2025/01/smolagents/)\n",
       "SmolAgents by Hugging Face : a minimalist library to create AI agents with code execution, security, and robust LLM\n",
       "integrations.\n",
       "\n",
       "|Smolagents : Huggingface AI Agent Framework](https://smolagents.org/)\n",
       "Smolagents 's Guides and News - HuggingFace 's NEW Agent Framework ，Create Powerful AI Agents with Minimal Effort.\n",
       "\n",
       "|Getting Started with HuggingFace Smolagents : Build \n",
       "Intelligent...](https://www.nb-data.com/p/getting-started-with-huggingface)\n",
       "Smolagents is an agent framework recently launched by the Hugging Face team. Designed as a lightweight library, it \n",
       "simplifies creating agents with just a few lines of code, enabling...\n",
       "\n",
       "|Hugging Face Smolagents is a Simple Library to Build... - \n",
       "InfoQ](https://www.infoq.com/news/2025/01/hugging-face-smolagents-agents/)\n",
       "Smolagents is a library created at Hugging Face to build agents leveraging large language models (LLMs). Agents , \n",
       "in HuggingFace 's view, provide LLMs access to the outside world.\n",
       "\n",
       "|SmolAgents from HuggingFace :A Step-by-Step Guide To... | \n",
       "Cubed](https://blog.cubed.run/smolagents-from-huggingface-a-step-by-step-guide-to-create-ai-agents-with-examples-ed\n",
       "9f35691b88)\n",
       "What Is Hugging Face ’s Smolagents ? A very simple library that unlocks agentic capabilities for language models.\n",
       "\n",
       "|Hugging Face smolagents | Arize \n",
       "Docs](https://arize.com/docs/ax/integrations/frameworks-and-platforms/hugging-face-smolagents)\n",
       "Hugging Face smolagents is a minimalist Python library for building powerful AI agents with simple abstractions, \n",
       "tool integrations, and flexible LLM support.\n",
       "</pre>\n"
      ],
      "text/plain": [
       "Observations: ## Search Results\n",
       "\n",
       "|smolagents](https://huggingface.co/docs/smolagents/index)\n",
       "smolagents is an open-source Python library designed to make it extremely easy to build and run agents using just a\n",
       "few lines of code. Key features of smolagents include\n",
       "\n",
       "|SmolAgents by Hugging Face : Enhancing Human... | \n",
       "Medium](https://medium.com/@nandinilreddy/huggingface-smol-agents-ee8ef83ea9eb)\n",
       "Before exploring SmolAgents by Hugging Face , let’s first take a quick look at what AI agents are, their \n",
       "capabilities, and how Hugging Face ’s SmolAgents fit into this landscape.\n",
       "\n",
       "|Hugging Face ’s Open-Source Library for AI Agents : \n",
       "SmolAgents](https://www.linkedin.com/pulse/hugging-faces-open-source-library-ai-agents-smolagents-xdtpe)\n",
       "Launched by Hugging Face , SmolAgents is a lightweight, modular, and fully open-source library that enables \n",
       "developers to create and experiment with AI agents using existing LLMs and...\n",
       "\n",
       "|huggingface / smolagents | DeepWiki](https://deepwiki.com/huggingface/smolagents)\n",
       "This document provides a comprehensive overview of the smolagents library, an open-source Python framework for \n",
       "building and running AI agents . smolagents enables developers to create...\n",
       "\n",
       "|SmolAgents by Hugging Face : Build AI Agents in Under 30 \n",
       "Lines](https://www.analyticsvidhya.com/blog/2025/01/smolagents/)\n",
       "SmolAgents by Hugging Face : a minimalist library to create AI agents with code execution, security, and robust LLM\n",
       "integrations.\n",
       "\n",
       "|Smolagents : Huggingface AI Agent Framework](https://smolagents.org/)\n",
       "Smolagents 's Guides and News - HuggingFace 's NEW Agent Framework ，Create Powerful AI Agents with Minimal Effort.\n",
       "\n",
       "|Getting Started with HuggingFace Smolagents : Build \n",
       "Intelligent...](https://www.nb-data.com/p/getting-started-with-huggingface)\n",
       "Smolagents is an agent framework recently launched by the Hugging Face team. Designed as a lightweight library, it \n",
       "simplifies creating agents with just a few lines of code, enabling...\n",
       "\n",
       "|Hugging Face Smolagents is a Simple Library to Build... - \n",
       "InfoQ](https://www.infoq.com/news/2025/01/hugging-face-smolagents-agents/)\n",
       "Smolagents is a library created at Hugging Face to build agents leveraging large language models (LLMs). Agents , \n",
       "in HuggingFace 's view, provide LLMs access to the outside world.\n",
       "\n",
       "|SmolAgents from HuggingFace :A Step-by-Step Guide To... | \n",
       "Cubed](https://blog.cubed.run/smolagents-from-huggingface-a-step-by-step-guide-to-create-ai-agents-with-examples-ed\n",
       "9f35691b88)\n",
       "What Is Hugging Face ’s Smolagents ? A very simple library that unlocks agentic capabilities for language models.\n",
       "\n",
       "|Hugging Face smolagents | Arize \n",
       "Docs](https://arize.com/docs/ax/integrations/frameworks-and-platforms/hugging-face-smolagents)\n",
       "Hugging Face smolagents is a minimalist Python library for building powerful AI agents with simple abstractions, \n",
       "tool integrations, and flexible LLM support.\n"
      ]
     },
     "metadata": {},
     "output_type": "display_data"
    },
    {
     "data": {
      "text/html": [
       "<pre style=\"white-space:pre;overflow-x:auto;line-height:normal;font-family:Menlo,'DejaVu Sans Mono',consolas,'Courier New',monospace\"><span style=\"color: #7f7f7f; text-decoration-color: #7f7f7f\">[Step 1: Duration 5.24 seconds| Input tokens: 897 | Output tokens: 25]</span>\n",
       "</pre>\n"
      ],
      "text/plain": [
       "\u001b[2m[Step 1: Duration 5.24 seconds| Input tokens: 897 | Output tokens: 25]\u001b[0m\n"
      ]
     },
     "metadata": {},
     "output_type": "display_data"
    },
    {
     "data": {
      "text/html": [
       "<pre style=\"white-space:pre;overflow-x:auto;line-height:normal;font-family:Menlo,'DejaVu Sans Mono',consolas,'Courier New',monospace\"><span style=\"color: #d4b702; text-decoration-color: #d4b702\">━━━━━━━━━━━━━━━━━━━━━━━━━━━━━━━━━━━━━━━━━━━━━━━━━━━━━ </span><span style=\"font-weight: bold\">Step 2</span><span style=\"color: #d4b702; text-decoration-color: #d4b702\"> ━━━━━━━━━━━━━━━━━━━━━━━━━━━━━━━━━━━━━━━━━━━━━━━━━━━━━━</span>\n",
       "</pre>\n"
      ],
      "text/plain": [
       "\u001b[38;2;212;183;2m━━━━━━━━━━━━━━━━━━━━━━━━━━━━━━━━━━━━━━━━━━━━━━━━━━━━━ \u001b[0m\u001b[1mStep 2\u001b[0m\u001b[38;2;212;183;2m ━━━━━━━━━━━━━━━━━━━━━━━━━━━━━━━━━━━━━━━━━━━━━━━━━━━━━━\u001b[0m\n"
      ]
     },
     "metadata": {},
     "output_type": "display_data"
    },
    {
     "data": {
      "text/html": [
       "<pre style=\"white-space:pre;overflow-x:auto;line-height:normal;font-family:Menlo,'DejaVu Sans Mono',consolas,'Courier New',monospace\">╭─────────────────────────────────────────────────────────────────────────────────────────────────────────────────╮\n",
       "│ Calling tool: 'final_answer' with arguments: {'answer': 'smolagents is an open-source Python library designed   │\n",
       "│ to make it extremely easy to build and run agents using just a few lines of code. Key features of smolagents    │\n",
       "│ include its lightweight, modular, and fully open-source nature, enabling developers to create and experiment    │\n",
       "│ with AI agents using existing LLMs and other tools. It simplifies the process of creating agents with robust    │\n",
       "│ LLM integrations, code execution, and security features, allowing for powerful AI agents to be built with       │\n",
       "│ minimal effort.'}                                                                                               │\n",
       "╰─────────────────────────────────────────────────────────────────────────────────────────────────────────────────╯\n",
       "</pre>\n"
      ],
      "text/plain": [
       "╭─────────────────────────────────────────────────────────────────────────────────────────────────────────────────╮\n",
       "│ Calling tool: 'final_answer' with arguments: {'answer': 'smolagents is an open-source Python library designed   │\n",
       "│ to make it extremely easy to build and run agents using just a few lines of code. Key features of smolagents    │\n",
       "│ include its lightweight, modular, and fully open-source nature, enabling developers to create and experiment    │\n",
       "│ with AI agents using existing LLMs and other tools. It simplifies the process of creating agents with robust    │\n",
       "│ LLM integrations, code execution, and security features, allowing for powerful AI agents to be built with       │\n",
       "│ minimal effort.'}                                                                                               │\n",
       "╰─────────────────────────────────────────────────────────────────────────────────────────────────────────────────╯\n"
      ]
     },
     "metadata": {},
     "output_type": "display_data"
    },
    {
     "data": {
      "text/html": [
       "<pre style=\"white-space:pre;overflow-x:auto;line-height:normal;font-family:Menlo,'DejaVu Sans Mono',consolas,'Courier New',monospace\">Observations: smolagents is an open-source Python library designed to make it extremely easy to build and run \n",
       "agents using just a few lines of code. Key features of smolagents include its lightweight, modular, and fully \n",
       "open-source nature, enabling developers to create and experiment with AI agents using existing LLMs and other \n",
       "tools. It simplifies the process of creating agents with robust LLM integrations, code execution, and security \n",
       "features, allowing for powerful AI agents to be built with minimal effort.\n",
       "</pre>\n"
      ],
      "text/plain": [
       "Observations: smolagents is an open-source Python library designed to make it extremely easy to build and run \n",
       "agents using just a few lines of code. Key features of smolagents include its lightweight, modular, and fully \n",
       "open-source nature, enabling developers to create and experiment with AI agents using existing LLMs and other \n",
       "tools. It simplifies the process of creating agents with robust LLM integrations, code execution, and security \n",
       "features, allowing for powerful AI agents to be built with minimal effort.\n"
      ]
     },
     "metadata": {},
     "output_type": "display_data"
    },
    {
     "data": {
      "text/html": [
       "<pre style=\"white-space:pre;overflow-x:auto;line-height:normal;font-family:Menlo,'DejaVu Sans Mono',consolas,'Courier New',monospace\"><span style=\"color: #d4b702; text-decoration-color: #d4b702; font-weight: bold\">Final answer: smolagents is an open-source Python library designed to make it extremely easy to build and run </span>\n",
       "<span style=\"color: #d4b702; text-decoration-color: #d4b702; font-weight: bold\">agents using just a few lines of code. Key features of smolagents include its lightweight, modular, and fully </span>\n",
       "<span style=\"color: #d4b702; text-decoration-color: #d4b702; font-weight: bold\">open-source nature, enabling developers to create and experiment with AI agents using existing LLMs and other </span>\n",
       "<span style=\"color: #d4b702; text-decoration-color: #d4b702; font-weight: bold\">tools. It simplifies the process of creating agents with robust LLM integrations, code execution, and security </span>\n",
       "<span style=\"color: #d4b702; text-decoration-color: #d4b702; font-weight: bold\">features, allowing for powerful AI agents to be built with minimal effort.</span>\n",
       "</pre>\n"
      ],
      "text/plain": [
       "\u001b[1;38;2;212;183;2mFinal answer: smolagents is an open-source Python library designed to make it extremely easy to build and run \u001b[0m\n",
       "\u001b[1;38;2;212;183;2magents using just a few lines of code. Key features of smolagents include its lightweight, modular, and fully \u001b[0m\n",
       "\u001b[1;38;2;212;183;2mopen-source nature, enabling developers to create and experiment with AI agents using existing LLMs and other \u001b[0m\n",
       "\u001b[1;38;2;212;183;2mtools. It simplifies the process of creating agents with robust LLM integrations, code execution, and security \u001b[0m\n",
       "\u001b[1;38;2;212;183;2mfeatures, allowing for powerful AI agents to be built with minimal effort.\u001b[0m\n"
      ]
     },
     "metadata": {},
     "output_type": "display_data"
    },
    {
     "data": {
      "text/html": [
       "<pre style=\"white-space:pre;overflow-x:auto;line-height:normal;font-family:Menlo,'DejaVu Sans Mono',consolas,'Courier New',monospace\"><span style=\"color: #7f7f7f; text-decoration-color: #7f7f7f\">[Step 2: Duration 5.85 seconds| Input tokens: 2,595 | Output tokens: 140]</span>\n",
       "</pre>\n"
      ],
      "text/plain": [
       "\u001b[2m[Step 2: Duration 5.85 seconds| Input tokens: 2,595 | Output tokens: 140]\u001b[0m\n"
      ]
     },
     "metadata": {},
     "output_type": "display_data"
    },
    {
     "data": {
      "text/plain": [
       "'smolagents is an open-source Python library designed to make it extremely easy to build and run agents using just a few lines of code. Key features of smolagents include its lightweight, modular, and fully open-source nature, enabling developers to create and experiment with AI agents using existing LLMs and other tools. It simplifies the process of creating agents with robust LLM integrations, code execution, and security features, allowing for powerful AI agents to be built with minimal effort.'"
      ]
     },
     "execution_count": 20,
     "metadata": {},
     "output_type": "execute_result"
    }
   ],
   "source": [
    "from smolagents import OpenAIServerModel, ToolCallingAgent, DuckDuckGoSearchTool\n",
    "\n",
    "llama_4 = OpenAIServerModel(\n",
    "    model_id=\"mistralai/devstral-small-2505:free\",\n",
    "    api_key=OPENROUTER_API_KEY,\n",
    "    api_base=\"https://openrouter.ai/api/v1\"\n",
    ")\n",
    "agent =  ToolCallingAgent(tools = [DuckDuckGoSearchTool()], model=llama_4)\n",
    "\n",
    "agent.run('What is HuggingFace smolagents ?')"
   ]
  },
  {
   "cell_type": "markdown",
   "id": "c6cf51c9",
   "metadata": {},
   "source": [
    "# 🧠 Problem 8 — CodeAgent introduction\n",
    "\n",
    "## ⚙️ **Problem Statement**\n",
    "\n",
    "Build a **CodeAgent** that can:\n",
    "\n",
    "1. Accept a natural-language instruction (e.g., _“write a Python function to calculate Fibonacci numbers”_).  \n",
    "2. Generate code using an LLM (like `llama-4-coder` or `qwen-coder`).  \n",
    "3. Execute the generated code safely and return the output.  \n",
    "4. Handle runtime errors gracefully and explain what went wrong.  "
   ]
  },
  {
   "cell_type": "code",
   "execution_count": 25,
   "id": "a2161830",
   "metadata": {},
   "outputs": [
    {
     "data": {
      "text/html": [
       "<pre style=\"white-space:pre;overflow-x:auto;line-height:normal;font-family:Menlo,'DejaVu Sans Mono',consolas,'Courier New',monospace\"><span style=\"color: #d4b702; text-decoration-color: #d4b702\">╭──────────────────────────────────────────────────── </span><span style=\"color: #d4b702; text-decoration-color: #d4b702; font-weight: bold\">New run</span><span style=\"color: #d4b702; text-decoration-color: #d4b702\"> ────────────────────────────────────────────────────╮</span>\n",
       "<span style=\"color: #d4b702; text-decoration-color: #d4b702\">│</span>                                                                                                                 <span style=\"color: #d4b702; text-decoration-color: #d4b702\">│</span>\n",
       "<span style=\"color: #d4b702; text-decoration-color: #d4b702\">│</span> <span style=\"font-weight: bold\">What is 700-600 ?</span>                                                                                               <span style=\"color: #d4b702; text-decoration-color: #d4b702\">│</span>\n",
       "<span style=\"color: #d4b702; text-decoration-color: #d4b702\">│</span>                                                                                                                 <span style=\"color: #d4b702; text-decoration-color: #d4b702\">│</span>\n",
       "<span style=\"color: #d4b702; text-decoration-color: #d4b702\">╰─ OpenAIServerModel - mistralai/devstral-small-2505:free ────────────────────────────────────────────────────────╯</span>\n",
       "</pre>\n"
      ],
      "text/plain": [
       "\u001b[38;2;212;183;2m╭─\u001b[0m\u001b[38;2;212;183;2m───────────────────────────────────────────────────\u001b[0m\u001b[38;2;212;183;2m \u001b[0m\u001b[1;38;2;212;183;2mNew run\u001b[0m\u001b[38;2;212;183;2m \u001b[0m\u001b[38;2;212;183;2m───────────────────────────────────────────────────\u001b[0m\u001b[38;2;212;183;2m─╮\u001b[0m\n",
       "\u001b[38;2;212;183;2m│\u001b[0m                                                                                                                 \u001b[38;2;212;183;2m│\u001b[0m\n",
       "\u001b[38;2;212;183;2m│\u001b[0m \u001b[1mWhat is 700-600 ?\u001b[0m                                                                                               \u001b[38;2;212;183;2m│\u001b[0m\n",
       "\u001b[38;2;212;183;2m│\u001b[0m                                                                                                                 \u001b[38;2;212;183;2m│\u001b[0m\n",
       "\u001b[38;2;212;183;2m╰─\u001b[0m\u001b[38;2;212;183;2m OpenAIServerModel - mistralai/devstral-small-2505:free \u001b[0m\u001b[38;2;212;183;2m───────────────────────────────────────────────────────\u001b[0m\u001b[38;2;212;183;2m─╯\u001b[0m\n"
      ]
     },
     "metadata": {},
     "output_type": "display_data"
    },
    {
     "data": {
      "text/html": [
       "<pre style=\"white-space:pre;overflow-x:auto;line-height:normal;font-family:Menlo,'DejaVu Sans Mono',consolas,'Courier New',monospace\"><span style=\"color: #d4b702; text-decoration-color: #d4b702\">━━━━━━━━━━━━━━━━━━━━━━━━━━━━━━━━━━━━━━━━━━━━━━━━━━━━━ </span><span style=\"font-weight: bold\">Step 1</span><span style=\"color: #d4b702; text-decoration-color: #d4b702\"> ━━━━━━━━━━━━━━━━━━━━━━━━━━━━━━━━━━━━━━━━━━━━━━━━━━━━━━</span>\n",
       "</pre>\n"
      ],
      "text/plain": [
       "\u001b[38;2;212;183;2m━━━━━━━━━━━━━━━━━━━━━━━━━━━━━━━━━━━━━━━━━━━━━━━━━━━━━ \u001b[0m\u001b[1mStep 1\u001b[0m\u001b[38;2;212;183;2m ━━━━━━━━━━━━━━━━━━━━━━━━━━━━━━━━━━━━━━━━━━━━━━━━━━━━━━\u001b[0m\n"
      ]
     },
     "metadata": {},
     "output_type": "display_data"
    },
    {
     "data": {
      "text/html": [
       "<pre style=\"white-space:pre;overflow-x:auto;line-height:normal;font-family:Menlo,'DejaVu Sans Mono',consolas,'Courier New',monospace\"> ─ <span style=\"font-weight: bold\">Executing parsed code:</span> ──────────────────────────────────────────────────────────────────────────────────────── \n",
       "  <span style=\"color: #f8f8f2; text-decoration-color: #f8f8f2; background-color: #272822\">result </span><span style=\"color: #ff4689; text-decoration-color: #ff4689; background-color: #272822\">=</span><span style=\"color: #f8f8f2; text-decoration-color: #f8f8f2; background-color: #272822\"> </span><span style=\"color: #ae81ff; text-decoration-color: #ae81ff; background-color: #272822\">700</span><span style=\"color: #f8f8f2; text-decoration-color: #f8f8f2; background-color: #272822\"> </span><span style=\"color: #ff4689; text-decoration-color: #ff4689; background-color: #272822\">-</span><span style=\"color: #f8f8f2; text-decoration-color: #f8f8f2; background-color: #272822\"> </span><span style=\"color: #ae81ff; text-decoration-color: #ae81ff; background-color: #272822\">600</span><span style=\"background-color: #272822\">                                                                                             </span>  \n",
       "  <span style=\"color: #f8f8f2; text-decoration-color: #f8f8f2; background-color: #272822\">final_answer(result)</span><span style=\"background-color: #272822\">                                                                                           </span>  \n",
       " ───────────────────────────────────────────────────────────────────────────────────────────────────────────────── \n",
       "</pre>\n"
      ],
      "text/plain": [
       " ─ \u001b[1mExecuting parsed code:\u001b[0m ──────────────────────────────────────────────────────────────────────────────────────── \n",
       "  \u001b[38;2;248;248;242;48;2;39;40;34mresult\u001b[0m\u001b[38;2;248;248;242;48;2;39;40;34m \u001b[0m\u001b[38;2;255;70;137;48;2;39;40;34m=\u001b[0m\u001b[38;2;248;248;242;48;2;39;40;34m \u001b[0m\u001b[38;2;174;129;255;48;2;39;40;34m700\u001b[0m\u001b[38;2;248;248;242;48;2;39;40;34m \u001b[0m\u001b[38;2;255;70;137;48;2;39;40;34m-\u001b[0m\u001b[38;2;248;248;242;48;2;39;40;34m \u001b[0m\u001b[38;2;174;129;255;48;2;39;40;34m600\u001b[0m\u001b[48;2;39;40;34m                                                                                             \u001b[0m  \n",
       "  \u001b[38;2;248;248;242;48;2;39;40;34mfinal_answer\u001b[0m\u001b[38;2;248;248;242;48;2;39;40;34m(\u001b[0m\u001b[38;2;248;248;242;48;2;39;40;34mresult\u001b[0m\u001b[38;2;248;248;242;48;2;39;40;34m)\u001b[0m\u001b[48;2;39;40;34m                                                                                           \u001b[0m  \n",
       " ───────────────────────────────────────────────────────────────────────────────────────────────────────────────── \n"
      ]
     },
     "metadata": {},
     "output_type": "display_data"
    },
    {
     "data": {
      "text/html": [
       "<pre style=\"white-space:pre;overflow-x:auto;line-height:normal;font-family:Menlo,'DejaVu Sans Mono',consolas,'Courier New',monospace\"></pre>\n"
      ],
      "text/plain": []
     },
     "metadata": {},
     "output_type": "display_data"
    },
    {
     "data": {
      "text/html": [
       "<pre style=\"white-space:pre;overflow-x:auto;line-height:normal;font-family:Menlo,'DejaVu Sans Mono',consolas,'Courier New',monospace\"><span style=\"color: #d4b702; text-decoration-color: #d4b702; font-weight: bold\">Final answer: 100</span>\n",
       "</pre>\n"
      ],
      "text/plain": [
       "\u001b[1;38;2;212;183;2mFinal answer: 100\u001b[0m\n"
      ]
     },
     "metadata": {},
     "output_type": "display_data"
    },
    {
     "data": {
      "text/html": [
       "<pre style=\"white-space:pre;overflow-x:auto;line-height:normal;font-family:Menlo,'DejaVu Sans Mono',consolas,'Courier New',monospace\"><span style=\"color: #7f7f7f; text-decoration-color: #7f7f7f\">[Step 1: Duration 4.73 seconds| Input tokens: 2,067 | Output tokens: 51]</span>\n",
       "</pre>\n"
      ],
      "text/plain": [
       "\u001b[2m[Step 1: Duration 4.73 seconds| Input tokens: 2,067 | Output tokens: 51]\u001b[0m\n"
      ]
     },
     "metadata": {},
     "output_type": "display_data"
    }
   ],
   "source": [
    "from smolagents import OpenAIServerModel, CodeAgent\n",
    "import os\n",
    "\n",
    "OPENROUTER_API_KEY = os.environ[\"OPENROUTER_API_KEY\"]\n",
    "\n",
    "devstral = OpenAIServerModel(\n",
    "    model_id=\"mistralai/devstral-small-2505:free\",\n",
    "    api_base='https://openrouter.ai/api/v1',\n",
    "    api_key=OPENROUTER_API_KEY\n",
    ")\n",
    "\n",
    "code_agent = CodeAgent(\n",
    "    model=devstral,\n",
    "    tools = [],\n",
    "    additional_authorized_imports=[\"math\",\"re\",\"datetime\"] #safe imports\n",
    "    # max_output_characters = 5000, #control runaway outputs\n",
    ")\n",
    "\n",
    "query = input(\"Enter your code task: \")\n",
    "\n",
    "try : \n",
    "    response = code_agent.run(query)\n",
    "    \n",
    "except Exception as e :\n",
    "    print(\"\\n Error caused : \",str(e))"
   ]
  },
  {
   "cell_type": "markdown",
   "id": "a4f3fda0",
   "metadata": {},
   "source": [
    "# Error-Aware Debugging"
   ]
  },
  {
   "cell_type": "code",
   "execution_count": 29,
   "id": "1af35e62",
   "metadata": {},
   "outputs": [
    {
     "name": "stdout",
     "output_type": "stream",
     "text": [
      "🧩 Task: What is today's date ?\n",
      "\n",
      "--- Attempt 1 ---\n"
     ]
    },
    {
     "data": {
      "text/html": [
       "<pre style=\"white-space:pre;overflow-x:auto;line-height:normal;font-family:Menlo,'DejaVu Sans Mono',consolas,'Courier New',monospace\"><span style=\"color: #d4b702; text-decoration-color: #d4b702\">╭──────────────────────────────────────────────────── </span><span style=\"color: #d4b702; text-decoration-color: #d4b702; font-weight: bold\">New run</span><span style=\"color: #d4b702; text-decoration-color: #d4b702\"> ────────────────────────────────────────────────────╮</span>\n",
       "<span style=\"color: #d4b702; text-decoration-color: #d4b702\">│</span>                                                                                                                 <span style=\"color: #d4b702; text-decoration-color: #d4b702\">│</span>\n",
       "<span style=\"color: #d4b702; text-decoration-color: #d4b702\">│</span> <span style=\"font-weight: bold\">What is today's date ?</span>                                                                                          <span style=\"color: #d4b702; text-decoration-color: #d4b702\">│</span>\n",
       "<span style=\"color: #d4b702; text-decoration-color: #d4b702\">│</span>                                                                                                                 <span style=\"color: #d4b702; text-decoration-color: #d4b702\">│</span>\n",
       "<span style=\"color: #d4b702; text-decoration-color: #d4b702\">╰─ OpenAIServerModel - qwen/qwen-2.5-coder-32b-instruct:free ─────────────────────────────────────────────────────╯</span>\n",
       "</pre>\n"
      ],
      "text/plain": [
       "\u001b[38;2;212;183;2m╭─\u001b[0m\u001b[38;2;212;183;2m───────────────────────────────────────────────────\u001b[0m\u001b[38;2;212;183;2m \u001b[0m\u001b[1;38;2;212;183;2mNew run\u001b[0m\u001b[38;2;212;183;2m \u001b[0m\u001b[38;2;212;183;2m───────────────────────────────────────────────────\u001b[0m\u001b[38;2;212;183;2m─╮\u001b[0m\n",
       "\u001b[38;2;212;183;2m│\u001b[0m                                                                                                                 \u001b[38;2;212;183;2m│\u001b[0m\n",
       "\u001b[38;2;212;183;2m│\u001b[0m \u001b[1mWhat is today's date ?\u001b[0m                                                                                          \u001b[38;2;212;183;2m│\u001b[0m\n",
       "\u001b[38;2;212;183;2m│\u001b[0m                                                                                                                 \u001b[38;2;212;183;2m│\u001b[0m\n",
       "\u001b[38;2;212;183;2m╰─\u001b[0m\u001b[38;2;212;183;2m OpenAIServerModel - qwen/qwen-2.5-coder-32b-instruct:free \u001b[0m\u001b[38;2;212;183;2m────────────────────────────────────────────────────\u001b[0m\u001b[38;2;212;183;2m─╯\u001b[0m\n"
      ]
     },
     "metadata": {},
     "output_type": "display_data"
    },
    {
     "data": {
      "text/html": [
       "<pre style=\"white-space:pre;overflow-x:auto;line-height:normal;font-family:Menlo,'DejaVu Sans Mono',consolas,'Courier New',monospace\"><span style=\"color: #d4b702; text-decoration-color: #d4b702\">━━━━━━━━━━━━━━━━━━━━━━━━━━━━━━━━━━━━━━━━━━━━━━━━━━━━━ </span><span style=\"font-weight: bold\">Step 1</span><span style=\"color: #d4b702; text-decoration-color: #d4b702\"> ━━━━━━━━━━━━━━━━━━━━━━━━━━━━━━━━━━━━━━━━━━━━━━━━━━━━━━</span>\n",
       "</pre>\n"
      ],
      "text/plain": [
       "\u001b[38;2;212;183;2m━━━━━━━━━━━━━━━━━━━━━━━━━━━━━━━━━━━━━━━━━━━━━━━━━━━━━ \u001b[0m\u001b[1mStep 1\u001b[0m\u001b[38;2;212;183;2m ━━━━━━━━━━━━━━━━━━━━━━━━━━━━━━━━━━━━━━━━━━━━━━━━━━━━━━\u001b[0m\n"
      ]
     },
     "metadata": {},
     "output_type": "display_data"
    },
    {
     "data": {
      "text/html": [
       "<pre style=\"white-space:pre;overflow-x:auto;line-height:normal;font-family:Menlo,'DejaVu Sans Mono',consolas,'Courier New',monospace\"> ─ <span style=\"font-weight: bold\">Executing parsed code:</span> ──────────────────────────────────────────────────────────────────────────────────────── \n",
       "  <span style=\"color: #ff4689; text-decoration-color: #ff4689; background-color: #272822\">import</span><span style=\"color: #f8f8f2; text-decoration-color: #f8f8f2; background-color: #272822\"> datetime</span><span style=\"background-color: #272822\">                                                                                                </span>  \n",
       "  <span style=\"color: #f8f8f2; text-decoration-color: #f8f8f2; background-color: #272822\">today_date </span><span style=\"color: #ff4689; text-decoration-color: #ff4689; background-color: #272822\">=</span><span style=\"color: #f8f8f2; text-decoration-color: #f8f8f2; background-color: #272822\"> datetime</span><span style=\"color: #ff4689; text-decoration-color: #ff4689; background-color: #272822\">.</span><span style=\"color: #f8f8f2; text-decoration-color: #f8f8f2; background-color: #272822\">date</span><span style=\"color: #ff4689; text-decoration-color: #ff4689; background-color: #272822\">.</span><span style=\"color: #f8f8f2; text-decoration-color: #f8f8f2; background-color: #272822\">today()</span><span style=\"background-color: #272822\">                                                                             </span>  \n",
       "  <span style=\"color: #f8f8f2; text-decoration-color: #f8f8f2; background-color: #272822\">final_answer(today_date)</span><span style=\"background-color: #272822\">                                                                                       </span>  \n",
       " ───────────────────────────────────────────────────────────────────────────────────────────────────────────────── \n",
       "</pre>\n"
      ],
      "text/plain": [
       " ─ \u001b[1mExecuting parsed code:\u001b[0m ──────────────────────────────────────────────────────────────────────────────────────── \n",
       "  \u001b[38;2;255;70;137;48;2;39;40;34mimport\u001b[0m\u001b[38;2;248;248;242;48;2;39;40;34m \u001b[0m\u001b[38;2;248;248;242;48;2;39;40;34mdatetime\u001b[0m\u001b[48;2;39;40;34m                                                                                                \u001b[0m  \n",
       "  \u001b[38;2;248;248;242;48;2;39;40;34mtoday_date\u001b[0m\u001b[38;2;248;248;242;48;2;39;40;34m \u001b[0m\u001b[38;2;255;70;137;48;2;39;40;34m=\u001b[0m\u001b[38;2;248;248;242;48;2;39;40;34m \u001b[0m\u001b[38;2;248;248;242;48;2;39;40;34mdatetime\u001b[0m\u001b[38;2;255;70;137;48;2;39;40;34m.\u001b[0m\u001b[38;2;248;248;242;48;2;39;40;34mdate\u001b[0m\u001b[38;2;255;70;137;48;2;39;40;34m.\u001b[0m\u001b[38;2;248;248;242;48;2;39;40;34mtoday\u001b[0m\u001b[38;2;248;248;242;48;2;39;40;34m(\u001b[0m\u001b[38;2;248;248;242;48;2;39;40;34m)\u001b[0m\u001b[48;2;39;40;34m                                                                             \u001b[0m  \n",
       "  \u001b[38;2;248;248;242;48;2;39;40;34mfinal_answer\u001b[0m\u001b[38;2;248;248;242;48;2;39;40;34m(\u001b[0m\u001b[38;2;248;248;242;48;2;39;40;34mtoday_date\u001b[0m\u001b[38;2;248;248;242;48;2;39;40;34m)\u001b[0m\u001b[48;2;39;40;34m                                                                                       \u001b[0m  \n",
       " ───────────────────────────────────────────────────────────────────────────────────────────────────────────────── \n"
      ]
     },
     "metadata": {},
     "output_type": "display_data"
    },
    {
     "data": {
      "text/html": [
       "<pre style=\"white-space:pre;overflow-x:auto;line-height:normal;font-family:Menlo,'DejaVu Sans Mono',consolas,'Courier New',monospace\"></pre>\n"
      ],
      "text/plain": []
     },
     "metadata": {},
     "output_type": "display_data"
    },
    {
     "data": {
      "text/html": [
       "<pre style=\"white-space:pre;overflow-x:auto;line-height:normal;font-family:Menlo,'DejaVu Sans Mono',consolas,'Courier New',monospace\"><span style=\"color: #d4b702; text-decoration-color: #d4b702; font-weight: bold\">Final answer: 2025-10-13</span>\n",
       "</pre>\n"
      ],
      "text/plain": [
       "\u001b[1;38;2;212;183;2mFinal answer: 2025-10-13\u001b[0m\n"
      ]
     },
     "metadata": {},
     "output_type": "display_data"
    },
    {
     "data": {
      "text/html": [
       "<pre style=\"white-space:pre;overflow-x:auto;line-height:normal;font-family:Menlo,'DejaVu Sans Mono',consolas,'Courier New',monospace\"><span style=\"color: #7f7f7f; text-decoration-color: #7f7f7f\">[Step 1: Duration 2.61 seconds| Input tokens: 2,030 | Output tokens: 51]</span>\n",
       "</pre>\n"
      ],
      "text/plain": [
       "\u001b[2m[Step 1: Duration 2.61 seconds| Input tokens: 2,030 | Output tokens: 51]\u001b[0m\n"
      ]
     },
     "metadata": {},
     "output_type": "display_data"
    },
    {
     "name": "stdout",
     "output_type": "stream",
     "text": [
      "\n",
      "✅ Success! Output:\n",
      " 2025-10-13\n"
     ]
    },
    {
     "data": {
      "text/plain": [
       "datetime.date(2025, 10, 13)"
      ]
     },
     "execution_count": 29,
     "metadata": {},
     "output_type": "execute_result"
    }
   ],
   "source": [
    "from smolagents import CodeAgent, OpenAIServerModel\n",
    "import os\n",
    "\n",
    "# ✅ Load your API key\n",
    "OPENROUTER_API_KEY = os.environ[\"OPENROUTER_API_KEY\"]\n",
    "\n",
    "# 🧠 Define the coder model (OpenRouter)\n",
    "llm_model = OpenAIServerModel(\n",
    "    model_id=\"qwen/qwen-2.5-coder-32b-instruct:free\",  # or \"meta-llama/llama-4-coder:free\"\n",
    "    api_base=\"https://openrouter.ai/api/v1\",\n",
    "    api_key=OPENROUTER_API_KEY\n",
    ")\n",
    "\n",
    "# ⚙️ Define the CodeAgent\n",
    "code_agent = CodeAgent(\n",
    "    model=llm_model,\n",
    "    tools = [],\n",
    "    additional_authorized_imports=[\"math\", \"re\", \"datetime\"]\n",
    ")\n",
    "\n",
    "def run_with_debugging(agent, query, max_retries=3):\n",
    "    \"\"\"\n",
    "    Run code agent with automatic debugging if execution fails.\n",
    "    \"\"\"\n",
    "    print(f\"🧩 Task: {query}\")\n",
    "    for attempt in range(max_retries):\n",
    "        try:\n",
    "            print(f\"\\n--- Attempt {attempt + 1} ---\")\n",
    "            response = agent.run(query)\n",
    "            print(\"\\n✅ Success! Output:\\n\", response)\n",
    "            return response\n",
    "\n",
    "        except Exception as e:\n",
    "            error_msg = str(e)\n",
    "            print(f\"\\n⚠️ Error: {error_msg}\")\n",
    "\n",
    "            # Prepare a self-correcting prompt\n",
    "            query = f\"\"\"The previous code caused this error:\n",
    "            {error_msg}\n",
    "            Please correct your code and ensure it runs properly.\n",
    "            \"\"\"\n",
    "    print(\"\\n❌ Max retries reached. Could not fix the issue automatically.\")\n",
    "    return None\n",
    "\n",
    "# 🚀 Run interaction\n",
    "user_query = input(\"Enter your code generation task: \")\n",
    "run_with_debugging(code_agent, user_query)\n"
   ]
  },
  {
   "cell_type": "markdown",
   "id": "b859aad2",
   "metadata": {},
   "source": [
    "# 🧠 Problem 9 — Multi-Tool Orchestrator Agent\n",
    "\n",
    "## ⚙️ **Problem Statement**\n",
    "\n",
    "You’ve now built:\n",
    "- ✅ A **UnitConversionTool** (for numeric conversions)\n",
    "- ✅ A **DuckDuckGoSearchTool** (for real-world data)\n",
    "- ✅ A **CodeAgent** (for code generation and debugging)\n",
    "\n",
    "Now, you’ll combine these into a **Multi-Tool Orchestrator Agent** — a single system that can:\n",
    "1. Automatically decide *which tool to use* based on the user query.\n",
    "2. Route the query to that tool.\n",
    "3. If needed, use multiple tools sequentially (e.g., search → generate code → explain result).\n",
    "4. Return a unified, natural-language response."
   ]
  },
  {
   "cell_type": "code",
   "execution_count": 6,
   "id": "73fcde36",
   "metadata": {},
   "outputs": [
    {
     "data": {
      "text/html": [
       "<pre style=\"white-space:pre;overflow-x:auto;line-height:normal;font-family:Menlo,'DejaVu Sans Mono',consolas,'Courier New',monospace\"><span style=\"color: #d4b702; text-decoration-color: #d4b702\">╭──────────────────────────────────────────────────── </span><span style=\"color: #d4b702; text-decoration-color: #d4b702; font-weight: bold\">New run</span><span style=\"color: #d4b702; text-decoration-color: #d4b702\"> ────────────────────────────────────────────────────╮</span>\n",
       "<span style=\"color: #d4b702; text-decoration-color: #d4b702\">│</span>                                                                                                                 <span style=\"color: #d4b702; text-decoration-color: #d4b702\">│</span>\n",
       "<span style=\"color: #d4b702; text-decoration-color: #d4b702\">│</span> <span style=\"font-weight: bold\">search for most popular deep learning frameworks in 2025</span>                                                        <span style=\"color: #d4b702; text-decoration-color: #d4b702\">│</span>\n",
       "<span style=\"color: #d4b702; text-decoration-color: #d4b702\">│</span>                                                                                                                 <span style=\"color: #d4b702; text-decoration-color: #d4b702\">│</span>\n",
       "<span style=\"color: #d4b702; text-decoration-color: #d4b702\">╰─ OpenAIServerModel - mistralai/devstral-small-2505 ─────────────────────────────────────────────────────────────╯</span>\n",
       "</pre>\n"
      ],
      "text/plain": [
       "\u001b[38;2;212;183;2m╭─\u001b[0m\u001b[38;2;212;183;2m───────────────────────────────────────────────────\u001b[0m\u001b[38;2;212;183;2m \u001b[0m\u001b[1;38;2;212;183;2mNew run\u001b[0m\u001b[38;2;212;183;2m \u001b[0m\u001b[38;2;212;183;2m───────────────────────────────────────────────────\u001b[0m\u001b[38;2;212;183;2m─╮\u001b[0m\n",
       "\u001b[38;2;212;183;2m│\u001b[0m                                                                                                                 \u001b[38;2;212;183;2m│\u001b[0m\n",
       "\u001b[38;2;212;183;2m│\u001b[0m \u001b[1msearch for most popular deep learning frameworks in 2025\u001b[0m                                                        \u001b[38;2;212;183;2m│\u001b[0m\n",
       "\u001b[38;2;212;183;2m│\u001b[0m                                                                                                                 \u001b[38;2;212;183;2m│\u001b[0m\n",
       "\u001b[38;2;212;183;2m╰─\u001b[0m\u001b[38;2;212;183;2m OpenAIServerModel - mistralai/devstral-small-2505 \u001b[0m\u001b[38;2;212;183;2m────────────────────────────────────────────────────────────\u001b[0m\u001b[38;2;212;183;2m─╯\u001b[0m\n"
      ]
     },
     "metadata": {},
     "output_type": "display_data"
    },
    {
     "data": {
      "text/html": [
       "<pre style=\"white-space:pre;overflow-x:auto;line-height:normal;font-family:Menlo,'DejaVu Sans Mono',consolas,'Courier New',monospace\"><span style=\"color: #d4b702; text-decoration-color: #d4b702\">━━━━━━━━━━━━━━━━━━━━━━━━━━━━━━━━━━━━━━━━━━━━━━━━━━━━━ </span><span style=\"font-weight: bold\">Step 1</span><span style=\"color: #d4b702; text-decoration-color: #d4b702\"> ━━━━━━━━━━━━━━━━━━━━━━━━━━━━━━━━━━━━━━━━━━━━━━━━━━━━━━</span>\n",
       "</pre>\n"
      ],
      "text/plain": [
       "\u001b[38;2;212;183;2m━━━━━━━━━━━━━━━━━━━━━━━━━━━━━━━━━━━━━━━━━━━━━━━━━━━━━ \u001b[0m\u001b[1mStep 1\u001b[0m\u001b[38;2;212;183;2m ━━━━━━━━━━━━━━━━━━━━━━━━━━━━━━━━━━━━━━━━━━━━━━━━━━━━━━\u001b[0m\n"
      ]
     },
     "metadata": {},
     "output_type": "display_data"
    },
    {
     "data": {
      "text/html": [
       "<pre style=\"white-space:pre;overflow-x:auto;line-height:normal;font-family:Menlo,'DejaVu Sans Mono',consolas,'Courier New',monospace\"> ─ <span style=\"font-weight: bold\">Executing parsed code:</span> ──────────────────────────────────────────────────────────────────────────────────────── \n",
       "  <span style=\"color: #f8f8f2; text-decoration-color: #f8f8f2; background-color: #272822\">results </span><span style=\"color: #ff4689; text-decoration-color: #ff4689; background-color: #272822\">=</span><span style=\"color: #f8f8f2; text-decoration-color: #f8f8f2; background-color: #272822\"> web_search(query</span><span style=\"color: #ff4689; text-decoration-color: #ff4689; background-color: #272822\">=</span><span style=\"color: #e6db74; text-decoration-color: #e6db74; background-color: #272822\">\"most popular deep learning frameworks in 2025\"</span><span style=\"color: #f8f8f2; text-decoration-color: #f8f8f2; background-color: #272822\">)</span><span style=\"background-color: #272822\">                                    </span>  \n",
       "  <span style=\"color: #f8f8f2; text-decoration-color: #f8f8f2; background-color: #272822\">print(results)</span><span style=\"background-color: #272822\">                                                                                                 </span>  \n",
       " ───────────────────────────────────────────────────────────────────────────────────────────────────────────────── \n",
       "</pre>\n"
      ],
      "text/plain": [
       " ─ \u001b[1mExecuting parsed code:\u001b[0m ──────────────────────────────────────────────────────────────────────────────────────── \n",
       "  \u001b[38;2;248;248;242;48;2;39;40;34mresults\u001b[0m\u001b[38;2;248;248;242;48;2;39;40;34m \u001b[0m\u001b[38;2;255;70;137;48;2;39;40;34m=\u001b[0m\u001b[38;2;248;248;242;48;2;39;40;34m \u001b[0m\u001b[38;2;248;248;242;48;2;39;40;34mweb_search\u001b[0m\u001b[38;2;248;248;242;48;2;39;40;34m(\u001b[0m\u001b[38;2;248;248;242;48;2;39;40;34mquery\u001b[0m\u001b[38;2;255;70;137;48;2;39;40;34m=\u001b[0m\u001b[38;2;230;219;116;48;2;39;40;34m\"\u001b[0m\u001b[38;2;230;219;116;48;2;39;40;34mmost popular deep learning frameworks in 2025\u001b[0m\u001b[38;2;230;219;116;48;2;39;40;34m\"\u001b[0m\u001b[38;2;248;248;242;48;2;39;40;34m)\u001b[0m\u001b[48;2;39;40;34m                                    \u001b[0m  \n",
       "  \u001b[38;2;248;248;242;48;2;39;40;34mprint\u001b[0m\u001b[38;2;248;248;242;48;2;39;40;34m(\u001b[0m\u001b[38;2;248;248;242;48;2;39;40;34mresults\u001b[0m\u001b[38;2;248;248;242;48;2;39;40;34m)\u001b[0m\u001b[48;2;39;40;34m                                                                                                 \u001b[0m  \n",
       " ───────────────────────────────────────────────────────────────────────────────────────────────────────────────── \n"
      ]
     },
     "metadata": {},
     "output_type": "display_data"
    },
    {
     "data": {
      "text/html": [
       "<pre style=\"white-space:pre;overflow-x:auto;line-height:normal;font-family:Menlo,'DejaVu Sans Mono',consolas,'Courier New',monospace\"><span style=\"font-weight: bold\">Execution logs:</span>\n",
       "## Search Results\n",
       "\n",
       "[Top 11 Deep Learning Frameworks in 2025: Comparative Guide &amp; Use \n",
       "Cases](https://dev.to/marutitech/top-11-deep-learning-frameworks-in-2025-comparative-guide-use-cases-2b74)\n",
       "Here, we look at some of the most popular 11 deep learning frameworks ( in no particular order) for you to get a \n",
       "better idea of which one of the following is a popular deep learning framework and is the perfect fit for solving \n",
       "your business challenges.\n",
       "\n",
       "[7 Best Deep Learning Frameworks You Should Know in \n",
       "2025](https://www.geeksforgeeks.org/deep-learning/deep-learning-frameworks/)\n",
       "Deep learning frameworks are the backbone of AI development, offering pre-built modules, optimization libraries and\n",
       "deployment tools that make building complex neural networks much faster and easier. Choosing the right Deep \n",
       "Learning Frameworks can help us make quick prototype and a scalable production system. Frameworks 1. PyTorch \n",
       "PyTorch is one of the most widely used deep learning frameworks ...\n",
       "\n",
       "[10 Deep Learning Frameworks for AI in 2025 - Analytics \n",
       "Insight](https://www.analyticsinsight.net/artificial-intelligence/top-10-deep-learning-frameworks-you-should-know-i\n",
       "n-2025)\n",
       "Discover the top 10 AI frameworks shaping deep learning in 2025 . From TensorFlow to Hugging Face, explore tools \n",
       "driving innovation.\n",
       "\n",
       "[Top 10 Deep Learning Frameworks in 2025 - 365 Data \n",
       "Science](https://365datascience.com/trending/deep-learning-frameworks/)\n",
       "Which are the top 10 deep learning frameworks in 2025 ? Explore the primary function and characteristics of \n",
       "TensorFlow, Keras, PyTorch, Caffe, etc.\n",
       "\n",
       "[18 Most Popular Deep Learning Frameworks 2025 | DL \n",
       "Frameworks](https://www.weetechsolution.com/blog/most-popular-deep-learning-frameworks)\n",
       "Which are the Most Popular Deep Learning Frameworks in 2025 ? Discover the top AI tools transforming machine \n",
       "learning . Read more! Learn how DL frameworks simplify AI development and power the latest Deep Learning Frameworks\n",
       ".\n",
       "\n",
       "[Top 10 Deep Learning Frameworks in 2025: Features, Pros, Cons \n",
       "...](https://www.devopsschool.com/blog/top-10-deep-learning-frameworks-in-2025-features-pros-cons-comparison/)\n",
       "This guide explores the top 10 deep learning frameworks in 2025 , detailing their features, pros, cons, and a \n",
       "comparison to help you select the best tool for your AI projects. Whether you're a researcher, startup, or \n",
       "enterprise, this article provides actionable insights to navigate the evolving deep learning landscape.\n",
       "\n",
       "[Top Deep Learning Frameworks to Know in 2025 - codewave.com](https://codewave.com/insights/top-dl-frameworks/)\n",
       "Explore top DL frameworks in 2025 like TensorFlow, PyTorch, and more. Find tools for scalability, mobile apps, and \n",
       "cloud integration. Choose wisely!\n",
       "\n",
       "[Top Deep Learning Frameworks to Learn in 2025 - upGrad](https://www.upgrad.com/blog/top-deep-learning-frameworks/)\n",
       "Explore the top 15 deep learning frameworks you need to know in 2025 . Learn their unique features and how to \n",
       "choose the right one for your AI projects.\n",
       "\n",
       "[Top 10 Most Popular Machine Learning Frameworks in 2025: Technical and \n",
       "...](https://zediot.com/blog/top-10-most-popular-machine-learning-frameworks/)\n",
       "Discover the top 10 most popular deep learning frameworks in 2025 , including TensorFlow, PyTorch, MXNet, \n",
       "Detectron2, SpeechBrain, and MONAI. Learn about their technical details, applications, and how they are shaping the\n",
       "future of AI in computer vision, speech recognition, medical imaging, and more.\n",
       "\n",
       "[Top Deep Learning Tools and Frameworks to Learn in \n",
       "2025](https://www.linkedin.com/pulse/top-deep-learning-tools-frameworks-learn-2025-handsonhybrid-kleef)\n",
       "The field of deep learning continues to evolve rapidly, making it essential for AI professionals and data \n",
       "scientists to stay updated with the most powerful tools and frameworks shaping the future ...\n",
       "\n",
       "Out: None\n",
       "</pre>\n"
      ],
      "text/plain": [
       "\u001b[1mExecution logs:\u001b[0m\n",
       "## Search Results\n",
       "\n",
       "[Top 11 Deep Learning Frameworks in 2025: Comparative Guide & Use \n",
       "Cases](https://dev.to/marutitech/top-11-deep-learning-frameworks-in-2025-comparative-guide-use-cases-2b74)\n",
       "Here, we look at some of the most popular 11 deep learning frameworks ( in no particular order) for you to get a \n",
       "better idea of which one of the following is a popular deep learning framework and is the perfect fit for solving \n",
       "your business challenges.\n",
       "\n",
       "[7 Best Deep Learning Frameworks You Should Know in \n",
       "2025](https://www.geeksforgeeks.org/deep-learning/deep-learning-frameworks/)\n",
       "Deep learning frameworks are the backbone of AI development, offering pre-built modules, optimization libraries and\n",
       "deployment tools that make building complex neural networks much faster and easier. Choosing the right Deep \n",
       "Learning Frameworks can help us make quick prototype and a scalable production system. Frameworks 1. PyTorch \n",
       "PyTorch is one of the most widely used deep learning frameworks ...\n",
       "\n",
       "[10 Deep Learning Frameworks for AI in 2025 - Analytics \n",
       "Insight](https://www.analyticsinsight.net/artificial-intelligence/top-10-deep-learning-frameworks-you-should-know-i\n",
       "n-2025)\n",
       "Discover the top 10 AI frameworks shaping deep learning in 2025 . From TensorFlow to Hugging Face, explore tools \n",
       "driving innovation.\n",
       "\n",
       "[Top 10 Deep Learning Frameworks in 2025 - 365 Data \n",
       "Science](https://365datascience.com/trending/deep-learning-frameworks/)\n",
       "Which are the top 10 deep learning frameworks in 2025 ? Explore the primary function and characteristics of \n",
       "TensorFlow, Keras, PyTorch, Caffe, etc.\n",
       "\n",
       "[18 Most Popular Deep Learning Frameworks 2025 | DL \n",
       "Frameworks](https://www.weetechsolution.com/blog/most-popular-deep-learning-frameworks)\n",
       "Which are the Most Popular Deep Learning Frameworks in 2025 ? Discover the top AI tools transforming machine \n",
       "learning . Read more! Learn how DL frameworks simplify AI development and power the latest Deep Learning Frameworks\n",
       ".\n",
       "\n",
       "[Top 10 Deep Learning Frameworks in 2025: Features, Pros, Cons \n",
       "...](https://www.devopsschool.com/blog/top-10-deep-learning-frameworks-in-2025-features-pros-cons-comparison/)\n",
       "This guide explores the top 10 deep learning frameworks in 2025 , detailing their features, pros, cons, and a \n",
       "comparison to help you select the best tool for your AI projects. Whether you're a researcher, startup, or \n",
       "enterprise, this article provides actionable insights to navigate the evolving deep learning landscape.\n",
       "\n",
       "[Top Deep Learning Frameworks to Know in 2025 - codewave.com](https://codewave.com/insights/top-dl-frameworks/)\n",
       "Explore top DL frameworks in 2025 like TensorFlow, PyTorch, and more. Find tools for scalability, mobile apps, and \n",
       "cloud integration. Choose wisely!\n",
       "\n",
       "[Top Deep Learning Frameworks to Learn in 2025 - upGrad](https://www.upgrad.com/blog/top-deep-learning-frameworks/)\n",
       "Explore the top 15 deep learning frameworks you need to know in 2025 . Learn their unique features and how to \n",
       "choose the right one for your AI projects.\n",
       "\n",
       "[Top 10 Most Popular Machine Learning Frameworks in 2025: Technical and \n",
       "...](https://zediot.com/blog/top-10-most-popular-machine-learning-frameworks/)\n",
       "Discover the top 10 most popular deep learning frameworks in 2025 , including TensorFlow, PyTorch, MXNet, \n",
       "Detectron2, SpeechBrain, and MONAI. Learn about their technical details, applications, and how they are shaping the\n",
       "future of AI in computer vision, speech recognition, medical imaging, and more.\n",
       "\n",
       "[Top Deep Learning Tools and Frameworks to Learn in \n",
       "2025](https://www.linkedin.com/pulse/top-deep-learning-tools-frameworks-learn-2025-handsonhybrid-kleef)\n",
       "The field of deep learning continues to evolve rapidly, making it essential for AI professionals and data \n",
       "scientists to stay updated with the most powerful tools and frameworks shaping the future ...\n",
       "\n",
       "Out: None\n"
      ]
     },
     "metadata": {},
     "output_type": "display_data"
    },
    {
     "data": {
      "text/html": [
       "<pre style=\"white-space:pre;overflow-x:auto;line-height:normal;font-family:Menlo,'DejaVu Sans Mono',consolas,'Courier New',monospace\"><span style=\"color: #7f7f7f; text-decoration-color: #7f7f7f\">[Step 1: Duration 2.47 seconds| Input tokens: 2,153 | Output tokens: 51]</span>\n",
       "</pre>\n"
      ],
      "text/plain": [
       "\u001b[2m[Step 1: Duration 2.47 seconds| Input tokens: 2,153 | Output tokens: 51]\u001b[0m\n"
      ]
     },
     "metadata": {},
     "output_type": "display_data"
    },
    {
     "data": {
      "text/html": [
       "<pre style=\"white-space:pre;overflow-x:auto;line-height:normal;font-family:Menlo,'DejaVu Sans Mono',consolas,'Courier New',monospace\"><span style=\"color: #d4b702; text-decoration-color: #d4b702\">━━━━━━━━━━━━━━━━━━━━━━━━━━━━━━━━━━━━━━━━━━━━━━━━━━━━━ </span><span style=\"font-weight: bold\">Step 2</span><span style=\"color: #d4b702; text-decoration-color: #d4b702\"> ━━━━━━━━━━━━━━━━━━━━━━━━━━━━━━━━━━━━━━━━━━━━━━━━━━━━━━</span>\n",
       "</pre>\n"
      ],
      "text/plain": [
       "\u001b[38;2;212;183;2m━━━━━━━━━━━━━━━━━━━━━━━━━━━━━━━━━━━━━━━━━━━━━━━━━━━━━ \u001b[0m\u001b[1mStep 2\u001b[0m\u001b[38;2;212;183;2m ━━━━━━━━━━━━━━━━━━━━━━━━━━━━━━━━━━━━━━━━━━━━━━━━━━━━━━\u001b[0m\n"
      ]
     },
     "metadata": {},
     "output_type": "display_data"
    },
    {
     "data": {
      "text/html": [
       "<pre style=\"white-space:pre;overflow-x:auto;line-height:normal;font-family:Menlo,'DejaVu Sans Mono',consolas,'Courier New',monospace\"> ─ <span style=\"font-weight: bold\">Executing parsed code:</span> ──────────────────────────────────────────────────────────────────────────────────────── \n",
       "  <span style=\"color: #f8f8f2; text-decoration-color: #f8f8f2; background-color: #272822\">page_content </span><span style=\"color: #ff4689; text-decoration-color: #ff4689; background-color: #272822\">=</span><span style=\"color: #f8f8f2; text-decoration-color: #f8f8f2; background-color: #272822\"> </span><span style=\"background-color: #272822\">                                                                                                </span>  \n",
       "  <span style=\"color: #f8f8f2; text-decoration-color: #f8f8f2; background-color: #272822\">web_search(</span><span style=\"color: #e6db74; text-decoration-color: #e6db74; background-color: #272822\">\"https://dev.to/marutitech/top-11-deep-learning-frameworks-in-2025-comparative-guide-use-cases-2b74\"</span>  \n",
       "  <span style=\"color: #f8f8f2; text-decoration-color: #f8f8f2; background-color: #272822\">)</span><span style=\"background-color: #272822\">                                                                                                              </span>  \n",
       "  <span style=\"color: #f8f8f2; text-decoration-color: #f8f8f2; background-color: #272822\">print(page_content)</span><span style=\"background-color: #272822\">                                                                                            </span>  \n",
       " ───────────────────────────────────────────────────────────────────────────────────────────────────────────────── \n",
       "</pre>\n"
      ],
      "text/plain": [
       " ─ \u001b[1mExecuting parsed code:\u001b[0m ──────────────────────────────────────────────────────────────────────────────────────── \n",
       "  \u001b[38;2;248;248;242;48;2;39;40;34mpage_content\u001b[0m\u001b[38;2;248;248;242;48;2;39;40;34m \u001b[0m\u001b[38;2;255;70;137;48;2;39;40;34m=\u001b[0m\u001b[38;2;248;248;242;48;2;39;40;34m \u001b[0m\u001b[48;2;39;40;34m                                                                                                \u001b[0m  \n",
       "  \u001b[38;2;248;248;242;48;2;39;40;34mweb_search\u001b[0m\u001b[38;2;248;248;242;48;2;39;40;34m(\u001b[0m\u001b[38;2;230;219;116;48;2;39;40;34m\"\u001b[0m\u001b[38;2;230;219;116;48;2;39;40;34mhttps://dev.to/marutitech/top-11-deep-learning-frameworks-in-2025-comparative-guide-use-cases-2b74\u001b[0m\u001b[38;2;230;219;116;48;2;39;40;34m\"\u001b[0m  \n",
       "  \u001b[38;2;248;248;242;48;2;39;40;34m)\u001b[0m\u001b[48;2;39;40;34m                                                                                                              \u001b[0m  \n",
       "  \u001b[38;2;248;248;242;48;2;39;40;34mprint\u001b[0m\u001b[38;2;248;248;242;48;2;39;40;34m(\u001b[0m\u001b[38;2;248;248;242;48;2;39;40;34mpage_content\u001b[0m\u001b[38;2;248;248;242;48;2;39;40;34m)\u001b[0m\u001b[48;2;39;40;34m                                                                                            \u001b[0m  \n",
       " ───────────────────────────────────────────────────────────────────────────────────────────────────────────────── \n"
      ]
     },
     "metadata": {},
     "output_type": "display_data"
    },
    {
     "data": {
      "text/html": [
       "<pre style=\"white-space:pre;overflow-x:auto;line-height:normal;font-family:Menlo,'DejaVu Sans Mono',consolas,'Courier New',monospace\"><span style=\"font-weight: bold\">Execution logs:</span>\n",
       "## Search Results\n",
       "\n",
       "[Top 11 Deep Learning Frameworks – Best Neural Network &amp; \n",
       "ML...](https://marutitech.com/top-8-deep-learning-frameworks/)\n",
       "11 Most Popular Deep Learning Frameworks to Know in 2025 . 1. TensorFlow. 11 . Chainer. Most Popular Deep Learning \n",
       "Frameworks to Know in 2025 . To Sum It Up. FAQs. As we move halfway into 2025, the deep learning ecosystem is more \n",
       "vibrant and diverse than ever before.\n",
       "\n",
       "[Maruti Techlabs - DEV Community](https://practicaldev-herokuapp-com.global.ssl.fastly.net/marutitech)\n",
       "Top 11 Deep Learning Frameworks in 2025 : Comparative Guide &amp; Use Cases .A 10-Step Guide to Migrating From Monolith\n",
       "to Microservices Architecture.\n",
       "\n",
       "[MIT Introduction to Deep Learning (2023) | 6.S191 - YouTube](https://www.youtube.com/watch?v=QDX-1M5Nj7s)\n",
       "MIT Introduction to Deep Learning 6.S191: Lecture 1Foundations of Deep LearningLecturer: Alexander Amini2023 \n",
       "EditionFor all lectures, slides, and lab materia...\n",
       "\n",
       "[Navigating Deep Learning Frameworks : Exploring Models... | \n",
       "Medium](https://medium.com/@gurkanc/navigating-deep-learning-frameworks-exploring-models-on-kaggle-platform-a54530f\n",
       "8d08b)\n",
       "In this article, we will discuss the Deep Learning frameworks that are available in the models section of the \n",
       "Kaggle platform and the…\n",
       "\n",
       "[Top 30 Python Libraries To Know in 2025](https://www.mygreatlearning.com/blog/open-source-python-libraries/)\n",
       "How to Use Python Libraries. Top 30 Python Libraries List. Important Python Libraries for Data Science. The path \n",
       "below will guide you to become a proficient data scientist.By Great Learning Editorial Team Updated on Jan 6, 2025 \n",
       ".\n",
       "\n",
       "[Deep Learning Frameworks 2019 – The Engineering of \n",
       "Conscious...](https://theengineeringofconsciousexperience.com/deep-learning-frameworks-2019/)\n",
       "Which deep learning framework should you use ? In this video I’ll compare 10 deep learning frameworks across a wide\n",
       "variety of metrics. Using code, programmatic features, and theory, I’ll navigate this field ultimately coming to \n",
       "some clear conclusions.\n",
       "\n",
       "[What Is JAX? Beginner's Guide to the Deep Learning Framework](https://blog.roboflow.com/jax-framework/)\n",
       "JAX is a fast, flexible deep learning framework . Learn what's so exciting about it, and how it's used in modern AI\n",
       "workflows. Use the following entry to cite this post in your research: Jacob Solawetz. (Jun 21, 2021). What Is the \n",
       "JAX Deep Learning Framework ?.\n",
       "\n",
       "[Deep Learning Frameworks](https://www.larswinkelbauer.com/deep-learning-frameworks/)\n",
       "Dive into Machine Learning Basics with our guide . Understand deep learning frameworks for AI applications.\n",
       "\n",
       "[Top 5 most popular Deep Learning frameworks that every \n",
       "developer...](https://www.tpsearchtool.com/images/top-5-deep-learning-frameworks-for-developers-that-are-most-popul\n",
       "ar-in)\n",
       "Listing Result For Top 5 Deep Learning Frameworks For Developers That Are Most Popular In.\n",
       "\n",
       "[Deep Learning overview - ML.NET | Microsoft \n",
       "Learn](https://learn.microsoft.com/en-us/dotnet/machine-learning/deep-learning-overview)\n",
       "Deep learning vs machine learning. Deep learning relies on neural network algorithms. This is in contrast with \n",
       "traditional or classical machine learning techniques, which use a wider variety of algorithms such as generalized \n",
       "linear models, decision trees, or Support Vector Machines...\n",
       "\n",
       "Out: None\n",
       "</pre>\n"
      ],
      "text/plain": [
       "\u001b[1mExecution logs:\u001b[0m\n",
       "## Search Results\n",
       "\n",
       "[Top 11 Deep Learning Frameworks – Best Neural Network & \n",
       "ML...](https://marutitech.com/top-8-deep-learning-frameworks/)\n",
       "11 Most Popular Deep Learning Frameworks to Know in 2025 . 1. TensorFlow. 11 . Chainer. Most Popular Deep Learning \n",
       "Frameworks to Know in 2025 . To Sum It Up. FAQs. As we move halfway into 2025, the deep learning ecosystem is more \n",
       "vibrant and diverse than ever before.\n",
       "\n",
       "[Maruti Techlabs - DEV Community](https://practicaldev-herokuapp-com.global.ssl.fastly.net/marutitech)\n",
       "Top 11 Deep Learning Frameworks in 2025 : Comparative Guide & Use Cases .A 10-Step Guide to Migrating From Monolith\n",
       "to Microservices Architecture.\n",
       "\n",
       "[MIT Introduction to Deep Learning (2023) | 6.S191 - YouTube](https://www.youtube.com/watch?v=QDX-1M5Nj7s)\n",
       "MIT Introduction to Deep Learning 6.S191: Lecture 1Foundations of Deep LearningLecturer: Alexander Amini2023 \n",
       "EditionFor all lectures, slides, and lab materia...\n",
       "\n",
       "[Navigating Deep Learning Frameworks : Exploring Models... | \n",
       "Medium](https://medium.com/@gurkanc/navigating-deep-learning-frameworks-exploring-models-on-kaggle-platform-a54530f\n",
       "8d08b)\n",
       "In this article, we will discuss the Deep Learning frameworks that are available in the models section of the \n",
       "Kaggle platform and the…\n",
       "\n",
       "[Top 30 Python Libraries To Know in 2025](https://www.mygreatlearning.com/blog/open-source-python-libraries/)\n",
       "How to Use Python Libraries. Top 30 Python Libraries List. Important Python Libraries for Data Science. The path \n",
       "below will guide you to become a proficient data scientist.By Great Learning Editorial Team Updated on Jan 6, 2025 \n",
       ".\n",
       "\n",
       "[Deep Learning Frameworks 2019 – The Engineering of \n",
       "Conscious...](https://theengineeringofconsciousexperience.com/deep-learning-frameworks-2019/)\n",
       "Which deep learning framework should you use ? In this video I’ll compare 10 deep learning frameworks across a wide\n",
       "variety of metrics. Using code, programmatic features, and theory, I’ll navigate this field ultimately coming to \n",
       "some clear conclusions.\n",
       "\n",
       "[What Is JAX? Beginner's Guide to the Deep Learning Framework](https://blog.roboflow.com/jax-framework/)\n",
       "JAX is a fast, flexible deep learning framework . Learn what's so exciting about it, and how it's used in modern AI\n",
       "workflows. Use the following entry to cite this post in your research: Jacob Solawetz. (Jun 21, 2021). What Is the \n",
       "JAX Deep Learning Framework ?.\n",
       "\n",
       "[Deep Learning Frameworks](https://www.larswinkelbauer.com/deep-learning-frameworks/)\n",
       "Dive into Machine Learning Basics with our guide . Understand deep learning frameworks for AI applications.\n",
       "\n",
       "[Top 5 most popular Deep Learning frameworks that every \n",
       "developer...](https://www.tpsearchtool.com/images/top-5-deep-learning-frameworks-for-developers-that-are-most-popul\n",
       "ar-in)\n",
       "Listing Result For Top 5 Deep Learning Frameworks For Developers That Are Most Popular In.\n",
       "\n",
       "[Deep Learning overview - ML.NET | Microsoft \n",
       "Learn](https://learn.microsoft.com/en-us/dotnet/machine-learning/deep-learning-overview)\n",
       "Deep learning vs machine learning. Deep learning relies on neural network algorithms. This is in contrast with \n",
       "traditional or classical machine learning techniques, which use a wider variety of algorithms such as generalized \n",
       "linear models, decision trees, or Support Vector Machines...\n",
       "\n",
       "Out: None\n"
      ]
     },
     "metadata": {},
     "output_type": "display_data"
    },
    {
     "data": {
      "text/html": [
       "<pre style=\"white-space:pre;overflow-x:auto;line-height:normal;font-family:Menlo,'DejaVu Sans Mono',consolas,'Courier New',monospace\"><span style=\"color: #7f7f7f; text-decoration-color: #7f7f7f\">[Step 2: Duration 2.84 seconds| Input tokens: 5,362 | Output tokens: 128]</span>\n",
       "</pre>\n"
      ],
      "text/plain": [
       "\u001b[2m[Step 2: Duration 2.84 seconds| Input tokens: 5,362 | Output tokens: 128]\u001b[0m\n"
      ]
     },
     "metadata": {},
     "output_type": "display_data"
    },
    {
     "data": {
      "text/html": [
       "<pre style=\"white-space:pre;overflow-x:auto;line-height:normal;font-family:Menlo,'DejaVu Sans Mono',consolas,'Courier New',monospace\"><span style=\"color: #d4b702; text-decoration-color: #d4b702\">━━━━━━━━━━━━━━━━━━━━━━━━━━━━━━━━━━━━━━━━━━━━━━━━━━━━━ </span><span style=\"font-weight: bold\">Step 3</span><span style=\"color: #d4b702; text-decoration-color: #d4b702\"> ━━━━━━━━━━━━━━━━━━━━━━━━━━━━━━━━━━━━━━━━━━━━━━━━━━━━━━</span>\n",
       "</pre>\n"
      ],
      "text/plain": [
       "\u001b[38;2;212;183;2m━━━━━━━━━━━━━━━━━━━━━━━━━━━━━━━━━━━━━━━━━━━━━━━━━━━━━ \u001b[0m\u001b[1mStep 3\u001b[0m\u001b[38;2;212;183;2m ━━━━━━━━━━━━━━━━━━━━━━━━━━━━━━━━━━━━━━━━━━━━━━━━━━━━━━\u001b[0m\n"
      ]
     },
     "metadata": {},
     "output_type": "display_data"
    },
    {
     "data": {
      "text/html": [
       "<pre style=\"white-space:pre;overflow-x:auto;line-height:normal;font-family:Menlo,'DejaVu Sans Mono',consolas,'Courier New',monospace\"> ─ <span style=\"font-weight: bold\">Executing parsed code:</span> ──────────────────────────────────────────────────────────────────────────────────────── \n",
       "  <span style=\"color: #f8f8f2; text-decoration-color: #f8f8f2; background-color: #272822\">page_content </span><span style=\"color: #ff4689; text-decoration-color: #ff4689; background-color: #272822\">=</span><span style=\"color: #f8f8f2; text-decoration-color: #f8f8f2; background-color: #272822\"> web_search(</span><span style=\"color: #e6db74; text-decoration-color: #e6db74; background-color: #272822\">\"https://marutitech.com/top-8-deep-learning-frameworks/\"</span><span style=\"color: #f8f8f2; text-decoration-color: #f8f8f2; background-color: #272822\">)</span><span style=\"background-color: #272822\">                            </span>  \n",
       "  <span style=\"color: #f8f8f2; text-decoration-color: #f8f8f2; background-color: #272822\">print(page_content)</span><span style=\"background-color: #272822\">                                                                                            </span>  \n",
       " ───────────────────────────────────────────────────────────────────────────────────────────────────────────────── \n",
       "</pre>\n"
      ],
      "text/plain": [
       " ─ \u001b[1mExecuting parsed code:\u001b[0m ──────────────────────────────────────────────────────────────────────────────────────── \n",
       "  \u001b[38;2;248;248;242;48;2;39;40;34mpage_content\u001b[0m\u001b[38;2;248;248;242;48;2;39;40;34m \u001b[0m\u001b[38;2;255;70;137;48;2;39;40;34m=\u001b[0m\u001b[38;2;248;248;242;48;2;39;40;34m \u001b[0m\u001b[38;2;248;248;242;48;2;39;40;34mweb_search\u001b[0m\u001b[38;2;248;248;242;48;2;39;40;34m(\u001b[0m\u001b[38;2;230;219;116;48;2;39;40;34m\"\u001b[0m\u001b[38;2;230;219;116;48;2;39;40;34mhttps://marutitech.com/top-8-deep-learning-frameworks/\u001b[0m\u001b[38;2;230;219;116;48;2;39;40;34m\"\u001b[0m\u001b[38;2;248;248;242;48;2;39;40;34m)\u001b[0m\u001b[48;2;39;40;34m                            \u001b[0m  \n",
       "  \u001b[38;2;248;248;242;48;2;39;40;34mprint\u001b[0m\u001b[38;2;248;248;242;48;2;39;40;34m(\u001b[0m\u001b[38;2;248;248;242;48;2;39;40;34mpage_content\u001b[0m\u001b[38;2;248;248;242;48;2;39;40;34m)\u001b[0m\u001b[48;2;39;40;34m                                                                                            \u001b[0m  \n",
       " ───────────────────────────────────────────────────────────────────────────────────────────────────────────────── \n"
      ]
     },
     "metadata": {},
     "output_type": "display_data"
    },
    {
     "data": {
      "text/html": [
       "<pre style=\"white-space:pre;overflow-x:auto;line-height:normal;font-family:Menlo,'DejaVu Sans Mono',consolas,'Courier New',monospace\"><span style=\"font-weight: bold\">Execution logs:</span>\n",
       "## Search Results\n",
       "\n",
       "[Top 11 Deep Learning Frameworks – Best Neural Network &amp; ML \n",
       "...](https://marutitech.com/top-8-deep-learning-frameworks/)\n",
       "These technologies accelerate research-to-production pipelines by enabling easy model export, cross-framework \n",
       "compatibility, and seamless scaling across machines and accelerators. In this post, we present a curated list of 15\n",
       "most popular deep learning frameworks shaping the AI landscape in 2025.\n",
       "\n",
       "[7 Best Deep Learning Frameworks You Should Know in \n",
       "2025](https://www.geeksforgeeks.org/deep-learning/deep-learning-frameworks/)\n",
       "Sep 13, 2025 · Deep learning frameworks are the backbone of AI development, offering pre-built modules, \n",
       "optimization libraries and deployment tools that make building complex neural networks much faster and easier.\n",
       "\n",
       "[Top Deep Learning Frameworks to Know in 2025 - codewave.com](https://codewave.com/insights/top-dl-frameworks/)\n",
       "Dec 18, 2024 · In this guide, we’ve broken down the top deep learning frameworks for 2025, highlighting the unique \n",
       "features and benefits of each one—so you can find the right tool for your task, without wasting time on frameworks \n",
       "that don’t align with your goals.\n",
       "\n",
       "[Top 10 Deep Learning Frameworks Tools in 2025: Features, Pros \n",
       "...](https://www.bestdevops.com/top-10-deep-learning-frameworks-tools-in-2025-features-pros-cons-comparison/)\n",
       "Sep 12, 2025 · In this post, we will explore the top 10 deep learning frameworks of 2025. We’ll cover their \n",
       "features, pros, cons, and provide a comparison table to help you decide which tool suits your requirements best.\n",
       "\n",
       "[Top 8 Deep Learning Frameworks (Chainer, CNTK, Caffe, MXNet \n",
       "...](https://ai.plainenglish.io/top-8-deep-learning-frameworks-chainer-cntk-caffe-mxnet-deeplearning4j-keras-pytorc\n",
       "h-and-d8ed9343064d)\n",
       "Dec 3, 2024 · In this blog, we’ll explore the top 8 deep learning frameworks (Chainer, CNTK, Caffe, MXNet, \n",
       "Deeplearning4j, Keras, PyTorch, and TensorFlow) and how they can help you build a strong and accurate deep learning\n",
       "model.\n",
       "\n",
       "[18 Most Popular Deep Learning Frameworks in \n",
       "2025](https://www.weetechsolution.com/blog/most-popular-deep-learning-frameworks)\n",
       "Mar 3, 2025 · Which are the Most Popular Deep Learning Frameworks in 2025? Discover the top AI tools transforming \n",
       "machine learning. Read more! Learn how DL frameworks simplify AI development and power the latest Deep Learning \n",
       "Frameworks .\n",
       "\n",
       "[Practice Machine Learning with Deep -ML](https://www.deep-ml.com/deep-0)\n",
       "Practice Machine Learning and Data Science Problems.\n",
       "\n",
       "[Python Modules, Packages, Libraries, and... | LearnPython. \n",
       "com](https://learnpython.com/blog/python-modules-packages-libraries-frameworks/)\n",
       "Let’s discuss the difference between Python modules, packages, libraries, and frameworks – in simple terms and with\n",
       "multiple examples.\n",
       "\n",
       "[10 Mobile Learning Trends For 2018 - eLearning \n",
       "Industry](https://elearningindustry.com/mobile-learning-trends-2018)\n",
       "As mobile learning becomes more prominent. Riding the waves of these 10 trends will ensure you are offering the \n",
       "latest and most engaging learning experience.\n",
       "\n",
       "[Top 8 Deep Learning Frameworks You Should Know | \n",
       "2025](https://www.simplilearn.com/tutorials/deep-learning-tutorial/deep-learning-frameworks)\n",
       "\n",
       "\n",
       "Out: None\n",
       "</pre>\n"
      ],
      "text/plain": [
       "\u001b[1mExecution logs:\u001b[0m\n",
       "## Search Results\n",
       "\n",
       "[Top 11 Deep Learning Frameworks – Best Neural Network & ML \n",
       "...](https://marutitech.com/top-8-deep-learning-frameworks/)\n",
       "These technologies accelerate research-to-production pipelines by enabling easy model export, cross-framework \n",
       "compatibility, and seamless scaling across machines and accelerators. In this post, we present a curated list of 15\n",
       "most popular deep learning frameworks shaping the AI landscape in 2025.\n",
       "\n",
       "[7 Best Deep Learning Frameworks You Should Know in \n",
       "2025](https://www.geeksforgeeks.org/deep-learning/deep-learning-frameworks/)\n",
       "Sep 13, 2025 · Deep learning frameworks are the backbone of AI development, offering pre-built modules, \n",
       "optimization libraries and deployment tools that make building complex neural networks much faster and easier.\n",
       "\n",
       "[Top Deep Learning Frameworks to Know in 2025 - codewave.com](https://codewave.com/insights/top-dl-frameworks/)\n",
       "Dec 18, 2024 · In this guide, we’ve broken down the top deep learning frameworks for 2025, highlighting the unique \n",
       "features and benefits of each one—so you can find the right tool for your task, without wasting time on frameworks \n",
       "that don’t align with your goals.\n",
       "\n",
       "[Top 10 Deep Learning Frameworks Tools in 2025: Features, Pros \n",
       "...](https://www.bestdevops.com/top-10-deep-learning-frameworks-tools-in-2025-features-pros-cons-comparison/)\n",
       "Sep 12, 2025 · In this post, we will explore the top 10 deep learning frameworks of 2025. We’ll cover their \n",
       "features, pros, cons, and provide a comparison table to help you decide which tool suits your requirements best.\n",
       "\n",
       "[Top 8 Deep Learning Frameworks (Chainer, CNTK, Caffe, MXNet \n",
       "...](https://ai.plainenglish.io/top-8-deep-learning-frameworks-chainer-cntk-caffe-mxnet-deeplearning4j-keras-pytorc\n",
       "h-and-d8ed9343064d)\n",
       "Dec 3, 2024 · In this blog, we’ll explore the top 8 deep learning frameworks (Chainer, CNTK, Caffe, MXNet, \n",
       "Deeplearning4j, Keras, PyTorch, and TensorFlow) and how they can help you build a strong and accurate deep learning\n",
       "model.\n",
       "\n",
       "[18 Most Popular Deep Learning Frameworks in \n",
       "2025](https://www.weetechsolution.com/blog/most-popular-deep-learning-frameworks)\n",
       "Mar 3, 2025 · Which are the Most Popular Deep Learning Frameworks in 2025? Discover the top AI tools transforming \n",
       "machine learning. Read more! Learn how DL frameworks simplify AI development and power the latest Deep Learning \n",
       "Frameworks .\n",
       "\n",
       "[Practice Machine Learning with Deep -ML](https://www.deep-ml.com/deep-0)\n",
       "Practice Machine Learning and Data Science Problems.\n",
       "\n",
       "[Python Modules, Packages, Libraries, and... | LearnPython. \n",
       "com](https://learnpython.com/blog/python-modules-packages-libraries-frameworks/)\n",
       "Let’s discuss the difference between Python modules, packages, libraries, and frameworks – in simple terms and with\n",
       "multiple examples.\n",
       "\n",
       "[10 Mobile Learning Trends For 2018 - eLearning \n",
       "Industry](https://elearningindustry.com/mobile-learning-trends-2018)\n",
       "As mobile learning becomes more prominent. Riding the waves of these 10 trends will ensure you are offering the \n",
       "latest and most engaging learning experience.\n",
       "\n",
       "[Top 8 Deep Learning Frameworks You Should Know | \n",
       "2025](https://www.simplilearn.com/tutorials/deep-learning-tutorial/deep-learning-frameworks)\n",
       "\n",
       "\n",
       "Out: None\n"
      ]
     },
     "metadata": {},
     "output_type": "display_data"
    },
    {
     "data": {
      "text/html": [
       "<pre style=\"white-space:pre;overflow-x:auto;line-height:normal;font-family:Menlo,'DejaVu Sans Mono',consolas,'Courier New',monospace\"><span style=\"color: #7f7f7f; text-decoration-color: #7f7f7f\">[Step 3: Duration 3.04 seconds| Input tokens: 9,554 | Output tokens: 185]</span>\n",
       "</pre>\n"
      ],
      "text/plain": [
       "\u001b[2m[Step 3: Duration 3.04 seconds| Input tokens: 9,554 | Output tokens: 185]\u001b[0m\n"
      ]
     },
     "metadata": {},
     "output_type": "display_data"
    },
    {
     "data": {
      "text/html": [
       "<pre style=\"white-space:pre;overflow-x:auto;line-height:normal;font-family:Menlo,'DejaVu Sans Mono',consolas,'Courier New',monospace\"><span style=\"color: #d4b702; text-decoration-color: #d4b702\">━━━━━━━━━━━━━━━━━━━━━━━━━━━━━━━━━━━━━━━━━━━━━━━━━━━━━ </span><span style=\"font-weight: bold\">Step 4</span><span style=\"color: #d4b702; text-decoration-color: #d4b702\"> ━━━━━━━━━━━━━━━━━━━━━━━━━━━━━━━━━━━━━━━━━━━━━━━━━━━━━━</span>\n",
       "</pre>\n"
      ],
      "text/plain": [
       "\u001b[38;2;212;183;2m━━━━━━━━━━━━━━━━━━━━━━━━━━━━━━━━━━━━━━━━━━━━━━━━━━━━━ \u001b[0m\u001b[1mStep 4\u001b[0m\u001b[38;2;212;183;2m ━━━━━━━━━━━━━━━━━━━━━━━━━━━━━━━━━━━━━━━━━━━━━━━━━━━━━━\u001b[0m\n"
      ]
     },
     "metadata": {},
     "output_type": "display_data"
    },
    {
     "data": {
      "text/html": [
       "<pre style=\"white-space:pre;overflow-x:auto;line-height:normal;font-family:Menlo,'DejaVu Sans Mono',consolas,'Courier New',monospace\"> ─ <span style=\"font-weight: bold\">Executing parsed code:</span> ──────────────────────────────────────────────────────────────────────────────────────── \n",
       "  <span style=\"color: #f8f8f2; text-decoration-color: #f8f8f2; background-color: #272822\">page_content </span><span style=\"color: #ff4689; text-decoration-color: #ff4689; background-color: #272822\">=</span><span style=\"color: #f8f8f2; text-decoration-color: #f8f8f2; background-color: #272822\"> web_search(</span><span style=\"color: #e6db74; text-decoration-color: #e6db74; background-color: #272822\">\"https://marutitech.com/top-8-deep-learning-frameworks/\"</span><span style=\"color: #f8f8f2; text-decoration-color: #f8f8f2; background-color: #272822\">)</span><span style=\"background-color: #272822\">                            </span>  \n",
       "  <span style=\"color: #f8f8f2; text-decoration-color: #f8f8f2; background-color: #272822\">print(page_content)</span><span style=\"background-color: #272822\">                                                                                            </span>  \n",
       " ───────────────────────────────────────────────────────────────────────────────────────────────────────────────── \n",
       "</pre>\n"
      ],
      "text/plain": [
       " ─ \u001b[1mExecuting parsed code:\u001b[0m ──────────────────────────────────────────────────────────────────────────────────────── \n",
       "  \u001b[38;2;248;248;242;48;2;39;40;34mpage_content\u001b[0m\u001b[38;2;248;248;242;48;2;39;40;34m \u001b[0m\u001b[38;2;255;70;137;48;2;39;40;34m=\u001b[0m\u001b[38;2;248;248;242;48;2;39;40;34m \u001b[0m\u001b[38;2;248;248;242;48;2;39;40;34mweb_search\u001b[0m\u001b[38;2;248;248;242;48;2;39;40;34m(\u001b[0m\u001b[38;2;230;219;116;48;2;39;40;34m\"\u001b[0m\u001b[38;2;230;219;116;48;2;39;40;34mhttps://marutitech.com/top-8-deep-learning-frameworks/\u001b[0m\u001b[38;2;230;219;116;48;2;39;40;34m\"\u001b[0m\u001b[38;2;248;248;242;48;2;39;40;34m)\u001b[0m\u001b[48;2;39;40;34m                            \u001b[0m  \n",
       "  \u001b[38;2;248;248;242;48;2;39;40;34mprint\u001b[0m\u001b[38;2;248;248;242;48;2;39;40;34m(\u001b[0m\u001b[38;2;248;248;242;48;2;39;40;34mpage_content\u001b[0m\u001b[38;2;248;248;242;48;2;39;40;34m)\u001b[0m\u001b[48;2;39;40;34m                                                                                            \u001b[0m  \n",
       " ───────────────────────────────────────────────────────────────────────────────────────────────────────────────── \n"
      ]
     },
     "metadata": {},
     "output_type": "display_data"
    },
    {
     "data": {
      "text/html": [
       "<pre style=\"white-space:pre;overflow-x:auto;line-height:normal;font-family:Menlo,'DejaVu Sans Mono',consolas,'Courier New',monospace\"><span style=\"font-weight: bold\">Execution logs:</span>\n",
       "## Search Results\n",
       "\n",
       "[Top 11 Deep Learning Frameworks – Best Neural Network &amp; \n",
       "ML...](https://marutitech.com/top-8-deep-learning-frameworks/)\n",
       "Explore the top 11 deep learning frameworks , covering popular neural network and machine learning frameworks .\n",
       "\n",
       "[Practice Machine Learning with Deep -ML](https://www.deep-ml.com/deep-0)\n",
       "Practice Machine Learning and Data Science Problems.\n",
       "\n",
       "[Python Modules, Packages, Libraries, and... | LearnPython. \n",
       "com](https://learnpython.com/blog/python-modules-packages-libraries-frameworks/)\n",
       "Let’s discuss the difference between Python modules, packages, libraries, and frameworks – in simple terms and with\n",
       "multiple examples.\n",
       "\n",
       "[10 Mobile Learning Trends For 2018 - eLearning \n",
       "Industry](https://elearningindustry.com/mobile-learning-trends-2018)\n",
       "As mobile learning becomes more prominent. Riding the waves of these 10 trends will ensure you are offering the \n",
       "latest and most engaging learning experience.\n",
       "\n",
       "[Top 30 Python Libraries To Know in 2025](https://www.mygreatlearning.com/blog/open-source-python-libraries/)\n",
       "Python Libraries: This article gives you a list of python libraries to learn in 2025 and get more insights about \n",
       "open-source libraries.\n",
       "\n",
       "[learn \n",
       ".deeplearning.ai/courses/chatgpt-prompt-eng/lesson/dfbds...](https://learn.deeplearning.ai/courses/chatgpt-prompt-e\n",
       "ng/lesson/dfbds/introduction)\n",
       "The site owner hides the web page description.\n",
       "\n",
       "[ml : active learning](https://the-learning-machine.com/article/ml/active-learning)\n",
       "This article is currently under review to ensure that it meets our rigorous standards. We will make the content \n",
       "available soon.\n",
       "\n",
       "[Interview Questions, Quiz (MCQ), Free Online Tutorials: Free Time...](https://www.freetimelearning.com/)\n",
       "Free Time Learning : W3Schools Web Development Tutorials, Online MCQ or Quiz, Interview Questions, Tutorialspoint, \n",
       "Great Learning .\n",
       "\n",
       "[Presentation software for fast-moving teams | Pitch](https://pitch.com/)\n",
       "Pitch is the complete pitching platform that enables any team to quickly create sleek presentations that get \n",
       "results. Sign up for free.\n",
       "\n",
       "[Рик и Морти 1 - 8 сезоны с таймкодами — Видео от Live: Рик и Морти](https://vk.com/video-229271881_456240679)\n",
       "00:00:00 - 1 сезон 04:01:04 - 2 сезон 07:47:40 - 3 сезон (огурчик Рик) 11:34:43 - 4 сезон 15:17:18 - 5 сезон \n",
       "19:00:10 - 6 сезон 22:41:04 - 7 сезон 26:26:45 - 8 сезон.\n",
       "\n",
       "Out: None\n",
       "</pre>\n"
      ],
      "text/plain": [
       "\u001b[1mExecution logs:\u001b[0m\n",
       "## Search Results\n",
       "\n",
       "[Top 11 Deep Learning Frameworks – Best Neural Network & \n",
       "ML...](https://marutitech.com/top-8-deep-learning-frameworks/)\n",
       "Explore the top 11 deep learning frameworks , covering popular neural network and machine learning frameworks .\n",
       "\n",
       "[Practice Machine Learning with Deep -ML](https://www.deep-ml.com/deep-0)\n",
       "Practice Machine Learning and Data Science Problems.\n",
       "\n",
       "[Python Modules, Packages, Libraries, and... | LearnPython. \n",
       "com](https://learnpython.com/blog/python-modules-packages-libraries-frameworks/)\n",
       "Let’s discuss the difference between Python modules, packages, libraries, and frameworks – in simple terms and with\n",
       "multiple examples.\n",
       "\n",
       "[10 Mobile Learning Trends For 2018 - eLearning \n",
       "Industry](https://elearningindustry.com/mobile-learning-trends-2018)\n",
       "As mobile learning becomes more prominent. Riding the waves of these 10 trends will ensure you are offering the \n",
       "latest and most engaging learning experience.\n",
       "\n",
       "[Top 30 Python Libraries To Know in 2025](https://www.mygreatlearning.com/blog/open-source-python-libraries/)\n",
       "Python Libraries: This article gives you a list of python libraries to learn in 2025 and get more insights about \n",
       "open-source libraries.\n",
       "\n",
       "[learn \n",
       ".deeplearning.ai/courses/chatgpt-prompt-eng/lesson/dfbds...](https://learn.deeplearning.ai/courses/chatgpt-prompt-e\n",
       "ng/lesson/dfbds/introduction)\n",
       "The site owner hides the web page description.\n",
       "\n",
       "[ml : active learning](https://the-learning-machine.com/article/ml/active-learning)\n",
       "This article is currently under review to ensure that it meets our rigorous standards. We will make the content \n",
       "available soon.\n",
       "\n",
       "[Interview Questions, Quiz (MCQ), Free Online Tutorials: Free Time...](https://www.freetimelearning.com/)\n",
       "Free Time Learning : W3Schools Web Development Tutorials, Online MCQ or Quiz, Interview Questions, Tutorialspoint, \n",
       "Great Learning .\n",
       "\n",
       "[Presentation software for fast-moving teams | Pitch](https://pitch.com/)\n",
       "Pitch is the complete pitching platform that enables any team to quickly create sleek presentations that get \n",
       "results. Sign up for free.\n",
       "\n",
       "[Рик и Морти 1 - 8 сезоны с таймкодами — Видео от Live: Рик и Морти](https://vk.com/video-229271881_456240679)\n",
       "00:00:00 - 1 сезон 04:01:04 - 2 сезон 07:47:40 - 3 сезон (огурчик Рик) 11:34:43 - 4 сезон 15:17:18 - 5 сезон \n",
       "19:00:10 - 6 сезон 22:41:04 - 7 сезон 26:26:45 - 8 сезон.\n",
       "\n",
       "Out: None\n"
      ]
     },
     "metadata": {},
     "output_type": "display_data"
    },
    {
     "data": {
      "text/html": [
       "<pre style=\"white-space:pre;overflow-x:auto;line-height:normal;font-family:Menlo,'DejaVu Sans Mono',consolas,'Courier New',monospace\"><span style=\"color: #7f7f7f; text-decoration-color: #7f7f7f\">[Step 4: Duration 1.75 seconds| Input tokens: 14,689 | Output tokens: 242]</span>\n",
       "</pre>\n"
      ],
      "text/plain": [
       "\u001b[2m[Step 4: Duration 1.75 seconds| Input tokens: 14,689 | Output tokens: 242]\u001b[0m\n"
      ]
     },
     "metadata": {},
     "output_type": "display_data"
    },
    {
     "data": {
      "text/html": [
       "<pre style=\"white-space:pre;overflow-x:auto;line-height:normal;font-family:Menlo,'DejaVu Sans Mono',consolas,'Courier New',monospace\"><span style=\"color: #d4b702; text-decoration-color: #d4b702\">━━━━━━━━━━━━━━━━━━━━━━━━━━━━━━━━━━━━━━━━━━━━━━━━━━━━━ </span><span style=\"font-weight: bold\">Step 5</span><span style=\"color: #d4b702; text-decoration-color: #d4b702\"> ━━━━━━━━━━━━━━━━━━━━━━━━━━━━━━━━━━━━━━━━━━━━━━━━━━━━━━</span>\n",
       "</pre>\n"
      ],
      "text/plain": [
       "\u001b[38;2;212;183;2m━━━━━━━━━━━━━━━━━━━━━━━━━━━━━━━━━━━━━━━━━━━━━━━━━━━━━ \u001b[0m\u001b[1mStep 5\u001b[0m\u001b[38;2;212;183;2m ━━━━━━━━━━━━━━━━━━━━━━━━━━━━━━━━━━━━━━━━━━━━━━━━━━━━━━\u001b[0m\n"
      ]
     },
     "metadata": {},
     "output_type": "display_data"
    },
    {
     "data": {
      "text/html": [
       "<pre style=\"white-space:pre;overflow-x:auto;line-height:normal;font-family:Menlo,'DejaVu Sans Mono',consolas,'Courier New',monospace\"> ─ <span style=\"font-weight: bold\">Executing parsed code:</span> ──────────────────────────────────────────────────────────────────────────────────────── \n",
       "  <span style=\"color: #f8f8f2; text-decoration-color: #f8f8f2; background-color: #272822\">page_content </span><span style=\"color: #ff4689; text-decoration-color: #ff4689; background-color: #272822\">=</span><span style=\"color: #f8f8f2; text-decoration-color: #f8f8f2; background-color: #272822\"> web_search(</span><span style=\"color: #e6db74; text-decoration-color: #e6db74; background-color: #272822\">\"https://marutitech.com/top-8-deep-learning-frameworks/\"</span><span style=\"color: #f8f8f2; text-decoration-color: #f8f8f2; background-color: #272822\">)</span><span style=\"background-color: #272822\">                            </span>  \n",
       "  <span style=\"color: #f8f8f2; text-decoration-color: #f8f8f2; background-color: #272822\">print(page_content)</span><span style=\"background-color: #272822\">                                                                                            </span>  \n",
       " ───────────────────────────────────────────────────────────────────────────────────────────────────────────────── \n",
       "</pre>\n"
      ],
      "text/plain": [
       " ─ \u001b[1mExecuting parsed code:\u001b[0m ──────────────────────────────────────────────────────────────────────────────────────── \n",
       "  \u001b[38;2;248;248;242;48;2;39;40;34mpage_content\u001b[0m\u001b[38;2;248;248;242;48;2;39;40;34m \u001b[0m\u001b[38;2;255;70;137;48;2;39;40;34m=\u001b[0m\u001b[38;2;248;248;242;48;2;39;40;34m \u001b[0m\u001b[38;2;248;248;242;48;2;39;40;34mweb_search\u001b[0m\u001b[38;2;248;248;242;48;2;39;40;34m(\u001b[0m\u001b[38;2;230;219;116;48;2;39;40;34m\"\u001b[0m\u001b[38;2;230;219;116;48;2;39;40;34mhttps://marutitech.com/top-8-deep-learning-frameworks/\u001b[0m\u001b[38;2;230;219;116;48;2;39;40;34m\"\u001b[0m\u001b[38;2;248;248;242;48;2;39;40;34m)\u001b[0m\u001b[48;2;39;40;34m                            \u001b[0m  \n",
       "  \u001b[38;2;248;248;242;48;2;39;40;34mprint\u001b[0m\u001b[38;2;248;248;242;48;2;39;40;34m(\u001b[0m\u001b[38;2;248;248;242;48;2;39;40;34mpage_content\u001b[0m\u001b[38;2;248;248;242;48;2;39;40;34m)\u001b[0m\u001b[48;2;39;40;34m                                                                                            \u001b[0m  \n",
       " ───────────────────────────────────────────────────────────────────────────────────────────────────────────────── \n"
      ]
     },
     "metadata": {},
     "output_type": "display_data"
    },
    {
     "data": {
      "text/html": [
       "<pre style=\"white-space:pre;overflow-x:auto;line-height:normal;font-family:Menlo,'DejaVu Sans Mono',consolas,'Courier New',monospace\"><span style=\"font-weight: bold\">Execution logs:</span>\n",
       "## Search Results\n",
       "\n",
       "[Top 11 Deep Learning Frameworks – Best Neural Network &amp; ML \n",
       "...](https://marutitech.com/top-8-deep-learning-frameworks/)\n",
       "These technologies accelerate research-to-production pipelines by enabling easy model export, cross-framework \n",
       "compatibility, and seamless scaling across machines and accelerators. In this post, we present a curated list of 15\n",
       "most popular deep learning frameworks shaping the AI landscape in 2025.\n",
       "\n",
       "[7 Best Deep Learning Frameworks You Should Know in \n",
       "2025](https://www.geeksforgeeks.org/deep-learning/deep-learning-frameworks/)\n",
       "Sep 13, 2025 · Deep learning frameworks are the backbone of AI development, offering pre-built modules, \n",
       "optimization libraries and deployment tools that make building complex neural networks much faster and easier.\n",
       "\n",
       "[Top Deep Learning Frameworks to Know in 2025 - codewave.com](https://codewave.com/insights/top-dl-frameworks/)\n",
       "Dec 18, 2024 · In this guide, we’ve broken down the top deep learning frameworks for 2025, highlighting the unique \n",
       "features and benefits of each one—so you can find the right tool for your task, without wasting time on frameworks \n",
       "that don’t align with your goals.\n",
       "\n",
       "[Top 10 Deep Learning Frameworks Tools in 2025: Features, Pros \n",
       "...](https://www.bestdevops.com/top-10-deep-learning-frameworks-tools-in-2025-features-pros-cons-comparison/)\n",
       "Sep 12, 2025 · In this post, we will explore the top 10 deep learning frameworks of 2025. We’ll cover their \n",
       "features, pros, cons, and provide a comparison table to help you decide which tool suits your requirements best.\n",
       "\n",
       "[Top 8 Deep Learning Frameworks (Chainer, CNTK, Caffe, MXNet \n",
       "...](https://ai.plainenglish.io/top-8-deep-learning-frameworks-chainer-cntk-caffe-mxnet-deeplearning4j-keras-pytorc\n",
       "h-and-d8ed9343064d)\n",
       "Dec 3, 2024 · In this blog, we’ll explore the top 8 deep learning frameworks (Chainer, CNTK, Caffe, MXNet, \n",
       "Deeplearning4j, Keras, PyTorch, and TensorFlow) and how they can help you build a strong and accurate deep learning\n",
       "model.\n",
       "\n",
       "[18 Most Popular Deep Learning Frameworks in \n",
       "2025](https://www.weetechsolution.com/blog/most-popular-deep-learning-frameworks)\n",
       "Mar 3, 2025 · Which are the Most Popular Deep Learning Frameworks in 2025? Discover the top AI tools transforming \n",
       "machine learning. Read more! Learn how DL frameworks simplify AI development and power the latest Deep Learning \n",
       "Frameworks .\n",
       "\n",
       "[Practice Machine Learning with Deep -ML](https://www.deep-ml.com/deep-0)\n",
       "Practice Machine Learning and Data Science Problems.\n",
       "\n",
       "[Python Modules, Packages, Libraries, and... | LearnPython. \n",
       "com](https://learnpython.com/blog/python-modules-packages-libraries-frameworks/)\n",
       "Let’s discuss the difference between Python modules, packages, libraries, and frameworks – in simple terms and with\n",
       "multiple examples.\n",
       "\n",
       "[10 Mobile Learning Trends For 2018 - eLearning \n",
       "Industry](https://elearningindustry.com/mobile-learning-trends-2018)\n",
       "As mobile learning becomes more prominent. Riding the waves of these 10 trends will ensure you are offering the \n",
       "latest and most engaging learning experience.\n",
       "\n",
       "[Top 8 Deep Learning Frameworks You Should Know | \n",
       "2025](https://www.simplilearn.com/tutorials/deep-learning-tutorial/deep-learning-frameworks)\n",
       "\n",
       "\n",
       "Out: None\n",
       "</pre>\n"
      ],
      "text/plain": [
       "\u001b[1mExecution logs:\u001b[0m\n",
       "## Search Results\n",
       "\n",
       "[Top 11 Deep Learning Frameworks – Best Neural Network & ML \n",
       "...](https://marutitech.com/top-8-deep-learning-frameworks/)\n",
       "These technologies accelerate research-to-production pipelines by enabling easy model export, cross-framework \n",
       "compatibility, and seamless scaling across machines and accelerators. In this post, we present a curated list of 15\n",
       "most popular deep learning frameworks shaping the AI landscape in 2025.\n",
       "\n",
       "[7 Best Deep Learning Frameworks You Should Know in \n",
       "2025](https://www.geeksforgeeks.org/deep-learning/deep-learning-frameworks/)\n",
       "Sep 13, 2025 · Deep learning frameworks are the backbone of AI development, offering pre-built modules, \n",
       "optimization libraries and deployment tools that make building complex neural networks much faster and easier.\n",
       "\n",
       "[Top Deep Learning Frameworks to Know in 2025 - codewave.com](https://codewave.com/insights/top-dl-frameworks/)\n",
       "Dec 18, 2024 · In this guide, we’ve broken down the top deep learning frameworks for 2025, highlighting the unique \n",
       "features and benefits of each one—so you can find the right tool for your task, without wasting time on frameworks \n",
       "that don’t align with your goals.\n",
       "\n",
       "[Top 10 Deep Learning Frameworks Tools in 2025: Features, Pros \n",
       "...](https://www.bestdevops.com/top-10-deep-learning-frameworks-tools-in-2025-features-pros-cons-comparison/)\n",
       "Sep 12, 2025 · In this post, we will explore the top 10 deep learning frameworks of 2025. We’ll cover their \n",
       "features, pros, cons, and provide a comparison table to help you decide which tool suits your requirements best.\n",
       "\n",
       "[Top 8 Deep Learning Frameworks (Chainer, CNTK, Caffe, MXNet \n",
       "...](https://ai.plainenglish.io/top-8-deep-learning-frameworks-chainer-cntk-caffe-mxnet-deeplearning4j-keras-pytorc\n",
       "h-and-d8ed9343064d)\n",
       "Dec 3, 2024 · In this blog, we’ll explore the top 8 deep learning frameworks (Chainer, CNTK, Caffe, MXNet, \n",
       "Deeplearning4j, Keras, PyTorch, and TensorFlow) and how they can help you build a strong and accurate deep learning\n",
       "model.\n",
       "\n",
       "[18 Most Popular Deep Learning Frameworks in \n",
       "2025](https://www.weetechsolution.com/blog/most-popular-deep-learning-frameworks)\n",
       "Mar 3, 2025 · Which are the Most Popular Deep Learning Frameworks in 2025? Discover the top AI tools transforming \n",
       "machine learning. Read more! Learn how DL frameworks simplify AI development and power the latest Deep Learning \n",
       "Frameworks .\n",
       "\n",
       "[Practice Machine Learning with Deep -ML](https://www.deep-ml.com/deep-0)\n",
       "Practice Machine Learning and Data Science Problems.\n",
       "\n",
       "[Python Modules, Packages, Libraries, and... | LearnPython. \n",
       "com](https://learnpython.com/blog/python-modules-packages-libraries-frameworks/)\n",
       "Let’s discuss the difference between Python modules, packages, libraries, and frameworks – in simple terms and with\n",
       "multiple examples.\n",
       "\n",
       "[10 Mobile Learning Trends For 2018 - eLearning \n",
       "Industry](https://elearningindustry.com/mobile-learning-trends-2018)\n",
       "As mobile learning becomes more prominent. Riding the waves of these 10 trends will ensure you are offering the \n",
       "latest and most engaging learning experience.\n",
       "\n",
       "[Top 8 Deep Learning Frameworks You Should Know | \n",
       "2025](https://www.simplilearn.com/tutorials/deep-learning-tutorial/deep-learning-frameworks)\n",
       "\n",
       "\n",
       "Out: None\n"
      ]
     },
     "metadata": {},
     "output_type": "display_data"
    },
    {
     "data": {
      "text/html": [
       "<pre style=\"white-space:pre;overflow-x:auto;line-height:normal;font-family:Menlo,'DejaVu Sans Mono',consolas,'Courier New',monospace\"><span style=\"color: #7f7f7f; text-decoration-color: #7f7f7f\">[Step 5: Duration 3.60 seconds| Input tokens: 20,605 | Output tokens: 299]</span>\n",
       "</pre>\n"
      ],
      "text/plain": [
       "\u001b[2m[Step 5: Duration 3.60 seconds| Input tokens: 20,605 | Output tokens: 299]\u001b[0m\n"
      ]
     },
     "metadata": {},
     "output_type": "display_data"
    },
    {
     "data": {
      "text/html": [
       "<pre style=\"white-space:pre;overflow-x:auto;line-height:normal;font-family:Menlo,'DejaVu Sans Mono',consolas,'Courier New',monospace\"><span style=\"color: #d4b702; text-decoration-color: #d4b702\">━━━━━━━━━━━━━━━━━━━━━━━━━━━━━━━━━━━━━━━━━━━━━━━━━━━━━ </span><span style=\"font-weight: bold\">Step 6</span><span style=\"color: #d4b702; text-decoration-color: #d4b702\"> ━━━━━━━━━━━━━━━━━━━━━━━━━━━━━━━━━━━━━━━━━━━━━━━━━━━━━━</span>\n",
       "</pre>\n"
      ],
      "text/plain": [
       "\u001b[38;2;212;183;2m━━━━━━━━━━━━━━━━━━━━━━━━━━━━━━━━━━━━━━━━━━━━━━━━━━━━━ \u001b[0m\u001b[1mStep 6\u001b[0m\u001b[38;2;212;183;2m ━━━━━━━━━━━━━━━━━━━━━━━━━━━━━━━━━━━━━━━━━━━━━━━━━━━━━━\u001b[0m\n"
      ]
     },
     "metadata": {},
     "output_type": "display_data"
    },
    {
     "data": {
      "text/html": [
       "<pre style=\"white-space:pre;overflow-x:auto;line-height:normal;font-family:Menlo,'DejaVu Sans Mono',consolas,'Courier New',monospace\"> ─ <span style=\"font-weight: bold\">Executing parsed code:</span> ──────────────────────────────────────────────────────────────────────────────────────── \n",
       "  <span style=\"color: #f8f8f2; text-decoration-color: #f8f8f2; background-color: #272822\">page_content </span><span style=\"color: #ff4689; text-decoration-color: #ff4689; background-color: #272822\">=</span><span style=\"color: #f8f8f2; text-decoration-color: #f8f8f2; background-color: #272822\"> web_search(</span><span style=\"color: #e6db74; text-decoration-color: #e6db74; background-color: #272822\">\"https://marutitech.com/top-8-deep-learning-frameworks/\"</span><span style=\"color: #f8f8f2; text-decoration-color: #f8f8f2; background-color: #272822\">)</span><span style=\"background-color: #272822\">                            </span>  \n",
       "  <span style=\"color: #f8f8f2; text-decoration-color: #f8f8f2; background-color: #272822\">print(page_content)</span><span style=\"background-color: #272822\">                                                                                            </span>  \n",
       " ───────────────────────────────────────────────────────────────────────────────────────────────────────────────── \n",
       "</pre>\n"
      ],
      "text/plain": [
       " ─ \u001b[1mExecuting parsed code:\u001b[0m ──────────────────────────────────────────────────────────────────────────────────────── \n",
       "  \u001b[38;2;248;248;242;48;2;39;40;34mpage_content\u001b[0m\u001b[38;2;248;248;242;48;2;39;40;34m \u001b[0m\u001b[38;2;255;70;137;48;2;39;40;34m=\u001b[0m\u001b[38;2;248;248;242;48;2;39;40;34m \u001b[0m\u001b[38;2;248;248;242;48;2;39;40;34mweb_search\u001b[0m\u001b[38;2;248;248;242;48;2;39;40;34m(\u001b[0m\u001b[38;2;230;219;116;48;2;39;40;34m\"\u001b[0m\u001b[38;2;230;219;116;48;2;39;40;34mhttps://marutitech.com/top-8-deep-learning-frameworks/\u001b[0m\u001b[38;2;230;219;116;48;2;39;40;34m\"\u001b[0m\u001b[38;2;248;248;242;48;2;39;40;34m)\u001b[0m\u001b[48;2;39;40;34m                            \u001b[0m  \n",
       "  \u001b[38;2;248;248;242;48;2;39;40;34mprint\u001b[0m\u001b[38;2;248;248;242;48;2;39;40;34m(\u001b[0m\u001b[38;2;248;248;242;48;2;39;40;34mpage_content\u001b[0m\u001b[38;2;248;248;242;48;2;39;40;34m)\u001b[0m\u001b[48;2;39;40;34m                                                                                            \u001b[0m  \n",
       " ───────────────────────────────────────────────────────────────────────────────────────────────────────────────── \n"
      ]
     },
     "metadata": {},
     "output_type": "display_data"
    },
    {
     "data": {
      "text/html": [
       "<pre style=\"white-space:pre;overflow-x:auto;line-height:normal;font-family:Menlo,'DejaVu Sans Mono',consolas,'Courier New',monospace\"><span style=\"font-weight: bold\">Execution logs:</span>\n",
       "## Search Results\n",
       "\n",
       "[HTTPS FAQs - Transparency Report Help Center - Google \n",
       "Help](https://support.google.com/transparencyreport/answer/7381231?hl=en)\n",
       "HTTPS at Google What is encryption? Encryption is the modern-day method of protecting electronic information, just \n",
       "as safes and combination locks protected information on paper in the past\n",
       "\n",
       "[Clear cache &amp; cookies - Computer - Google Account \n",
       "Help](https://support.google.com/accounts/answer/32050?hl=en&amp;co=GENIE.Platform=Desktop)\n",
       "On your computer, open Chrome. At the top right, click More Delete browsing data. Choose a time range, like Last \n",
       "hour or All time. Select the types of information you want to remove. Click Delete …\n",
       "\n",
       "[Install Drive for desktop - Google Workspace Learning \n",
       "Center](https://support.google.com/a/users/answer/13022292?hl=en)\n",
       "You can find and open your files from Google Drive on your computer with Drive for desktop. You can use Drive for \n",
       "desktop to keep your fil\n",
       "\n",
       "[Browse in Incognito mode - Computer - Google Chrome \n",
       "Help](https://support.google.com/chrome/answer/95464?hl=en&amp;co=GENIE.Platform=Desktop)\n",
       "Open Incognito mode Important: When you use an Incognito window, you can browse more privately. You can switch \n",
       "between Incognito tabs and regular Chrome tabs. On your computer, …\n",
       "\n",
       "[Secure a hacked or compromised Google Account - Google \n",
       "…](https://support.google.com/accounts/answer/6294825?hl=en)\n",
       "Go to the account recovery page, and answer the questions as best you can. These tips can help. Use the account \n",
       "recovery page if: Someone changed your account info, like your password or …\n",
       "\n",
       "[Download and install Google \n",
       "Chrome](https://support.google.com/chrome/answer/95346?hl=en&amp;co=GENIE.Platform=Desktop)\n",
       "How to install Chrome Important: Before you download, you can check if Chrome supports your operating system and \n",
       "other system requirements.\n",
       "\n",
       "[How to recover your Google Account or Gmail](https://support.google.com/accounts/answer/7682439?hl=en)\n",
       "To find your username, follow these steps. You need to know: A phone number or the recovery email address for the \n",
       "account. The full name on your account. Follow the instructions to confirm …\n",
       "\n",
       "[Download the YouTube mobile app - Android - YouTube \n",
       "Help](https://support.google.com/youtube/answer/3227660?hl=en&amp;co=GENIE.Platform=Android)\n",
       "Download the YouTube app for a richer viewing experience on your smartphone.\n",
       "\n",
       "[Add or remove an account on Android - Google Help](https://support.google.com/android/answer/7664951?hl=en)\n",
       "When you add a Google account, the information associated with that account, such as your email and contacts, is \n",
       "automatically added to your phone. When you remove an account, you also …\n",
       "\n",
       "[Sign in with app passwords - Google Account Help](https://support.google.com/accounts/answer/185833?hl=en)\n",
       "Tip: Don't create an app password unless the app or device you want to connect to your account doesn't have \"Sign \n",
       "in with Google.\"\n",
       "\n",
       "Out: None\n",
       "</pre>\n"
      ],
      "text/plain": [
       "\u001b[1mExecution logs:\u001b[0m\n",
       "## Search Results\n",
       "\n",
       "[HTTPS FAQs - Transparency Report Help Center - Google \n",
       "Help](https://support.google.com/transparencyreport/answer/7381231?hl=en)\n",
       "HTTPS at Google What is encryption? Encryption is the modern-day method of protecting electronic information, just \n",
       "as safes and combination locks protected information on paper in the past\n",
       "\n",
       "[Clear cache & cookies - Computer - Google Account \n",
       "Help](https://support.google.com/accounts/answer/32050?hl=en&co=GENIE.Platform=Desktop)\n",
       "On your computer, open Chrome. At the top right, click More Delete browsing data. Choose a time range, like Last \n",
       "hour or All time. Select the types of information you want to remove. Click Delete …\n",
       "\n",
       "[Install Drive for desktop - Google Workspace Learning \n",
       "Center](https://support.google.com/a/users/answer/13022292?hl=en)\n",
       "You can find and open your files from Google Drive on your computer with Drive for desktop. You can use Drive for \n",
       "desktop to keep your fil\n",
       "\n",
       "[Browse in Incognito mode - Computer - Google Chrome \n",
       "Help](https://support.google.com/chrome/answer/95464?hl=en&co=GENIE.Platform=Desktop)\n",
       "Open Incognito mode Important: When you use an Incognito window, you can browse more privately. You can switch \n",
       "between Incognito tabs and regular Chrome tabs. On your computer, …\n",
       "\n",
       "[Secure a hacked or compromised Google Account - Google \n",
       "…](https://support.google.com/accounts/answer/6294825?hl=en)\n",
       "Go to the account recovery page, and answer the questions as best you can. These tips can help. Use the account \n",
       "recovery page if: Someone changed your account info, like your password or …\n",
       "\n",
       "[Download and install Google \n",
       "Chrome](https://support.google.com/chrome/answer/95346?hl=en&co=GENIE.Platform=Desktop)\n",
       "How to install Chrome Important: Before you download, you can check if Chrome supports your operating system and \n",
       "other system requirements.\n",
       "\n",
       "[How to recover your Google Account or Gmail](https://support.google.com/accounts/answer/7682439?hl=en)\n",
       "To find your username, follow these steps. You need to know: A phone number or the recovery email address for the \n",
       "account. The full name on your account. Follow the instructions to confirm …\n",
       "\n",
       "[Download the YouTube mobile app - Android - YouTube \n",
       "Help](https://support.google.com/youtube/answer/3227660?hl=en&co=GENIE.Platform=Android)\n",
       "Download the YouTube app for a richer viewing experience on your smartphone.\n",
       "\n",
       "[Add or remove an account on Android - Google Help](https://support.google.com/android/answer/7664951?hl=en)\n",
       "When you add a Google account, the information associated with that account, such as your email and contacts, is \n",
       "automatically added to your phone. When you remove an account, you also …\n",
       "\n",
       "[Sign in with app passwords - Google Account Help](https://support.google.com/accounts/answer/185833?hl=en)\n",
       "Tip: Don't create an app password unless the app or device you want to connect to your account doesn't have \"Sign \n",
       "in with Google.\"\n",
       "\n",
       "Out: None\n"
      ]
     },
     "metadata": {},
     "output_type": "display_data"
    },
    {
     "data": {
      "text/html": [
       "<pre style=\"white-space:pre;overflow-x:auto;line-height:normal;font-family:Menlo,'DejaVu Sans Mono',consolas,'Courier New',monospace\"><span style=\"color: #7f7f7f; text-decoration-color: #7f7f7f\">[Step 6: Duration 1.30 seconds| Input tokens: 27,464 | Output tokens: 356]</span>\n",
       "</pre>\n"
      ],
      "text/plain": [
       "\u001b[2m[Step 6: Duration 1.30 seconds| Input tokens: 27,464 | Output tokens: 356]\u001b[0m\n"
      ]
     },
     "metadata": {},
     "output_type": "display_data"
    },
    {
     "data": {
      "text/html": [
       "<pre style=\"white-space:pre;overflow-x:auto;line-height:normal;font-family:Menlo,'DejaVu Sans Mono',consolas,'Courier New',monospace\"><span style=\"color: #d4b702; text-decoration-color: #d4b702\">━━━━━━━━━━━━━━━━━━━━━━━━━━━━━━━━━━━━━━━━━━━━━━━━━━━━━ </span><span style=\"font-weight: bold\">Step 7</span><span style=\"color: #d4b702; text-decoration-color: #d4b702\"> ━━━━━━━━━━━━━━━━━━━━━━━━━━━━━━━━━━━━━━━━━━━━━━━━━━━━━━</span>\n",
       "</pre>\n"
      ],
      "text/plain": [
       "\u001b[38;2;212;183;2m━━━━━━━━━━━━━━━━━━━━━━━━━━━━━━━━━━━━━━━━━━━━━━━━━━━━━ \u001b[0m\u001b[1mStep 7\u001b[0m\u001b[38;2;212;183;2m ━━━━━━━━━━━━━━━━━━━━━━━━━━━━━━━━━━━━━━━━━━━━━━━━━━━━━━\u001b[0m\n"
      ]
     },
     "metadata": {},
     "output_type": "display_data"
    },
    {
     "data": {
      "text/html": [
       "<pre style=\"white-space:pre;overflow-x:auto;line-height:normal;font-family:Menlo,'DejaVu Sans Mono',consolas,'Courier New',monospace\"> ─ <span style=\"font-weight: bold\">Executing parsed code:</span> ──────────────────────────────────────────────────────────────────────────────────────── \n",
       "  <span style=\"color: #f8f8f2; text-decoration-color: #f8f8f2; background-color: #272822\">page_content </span><span style=\"color: #ff4689; text-decoration-color: #ff4689; background-color: #272822\">=</span><span style=\"color: #f8f8f2; text-decoration-color: #f8f8f2; background-color: #272822\"> web_search(</span><span style=\"color: #e6db74; text-decoration-color: #e6db74; background-color: #272822\">\"https://www.geeksforgeeks.org/deep-learning/deep-learning-frameworks/\"</span><span style=\"color: #f8f8f2; text-decoration-color: #f8f8f2; background-color: #272822\">)</span><span style=\"background-color: #272822\">             </span>  \n",
       "  <span style=\"color: #f8f8f2; text-decoration-color: #f8f8f2; background-color: #272822\">print(page_content)</span><span style=\"background-color: #272822\">                                                                                            </span>  \n",
       " ───────────────────────────────────────────────────────────────────────────────────────────────────────────────── \n",
       "</pre>\n"
      ],
      "text/plain": [
       " ─ \u001b[1mExecuting parsed code:\u001b[0m ──────────────────────────────────────────────────────────────────────────────────────── \n",
       "  \u001b[38;2;248;248;242;48;2;39;40;34mpage_content\u001b[0m\u001b[38;2;248;248;242;48;2;39;40;34m \u001b[0m\u001b[38;2;255;70;137;48;2;39;40;34m=\u001b[0m\u001b[38;2;248;248;242;48;2;39;40;34m \u001b[0m\u001b[38;2;248;248;242;48;2;39;40;34mweb_search\u001b[0m\u001b[38;2;248;248;242;48;2;39;40;34m(\u001b[0m\u001b[38;2;230;219;116;48;2;39;40;34m\"\u001b[0m\u001b[38;2;230;219;116;48;2;39;40;34mhttps://www.geeksforgeeks.org/deep-learning/deep-learning-frameworks/\u001b[0m\u001b[38;2;230;219;116;48;2;39;40;34m\"\u001b[0m\u001b[38;2;248;248;242;48;2;39;40;34m)\u001b[0m\u001b[48;2;39;40;34m             \u001b[0m  \n",
       "  \u001b[38;2;248;248;242;48;2;39;40;34mprint\u001b[0m\u001b[38;2;248;248;242;48;2;39;40;34m(\u001b[0m\u001b[38;2;248;248;242;48;2;39;40;34mpage_content\u001b[0m\u001b[38;2;248;248;242;48;2;39;40;34m)\u001b[0m\u001b[48;2;39;40;34m                                                                                            \u001b[0m  \n",
       " ───────────────────────────────────────────────────────────────────────────────────────────────────────────────── \n"
      ]
     },
     "metadata": {},
     "output_type": "display_data"
    },
    {
     "data": {
      "text/html": [
       "<pre style=\"white-space:pre;overflow-x:auto;line-height:normal;font-family:Menlo,'DejaVu Sans Mono',consolas,'Courier New',monospace\"><span style=\"font-weight: bold\">Execution logs:</span>\n",
       "## Search Results\n",
       "\n",
       "[HTTPS FAQs - Transparency Report Help Center - Google \n",
       "Help](https://support.google.com/transparencyreport/answer/7381231?hl=en)\n",
       "HTTPS at Google What is encryption? Encryption is the modern-day method of protecting electronic information, just \n",
       "as safes and combination locks protected information on paper in the past\n",
       "\n",
       "[Install Drive for desktop - Google Workspace Learning \n",
       "Center](https://support.google.com/a/users/answer/13022292?hl=en)\n",
       "You can find and open your files from Google Drive on your computer with Drive for desktop. You can use Drive for \n",
       "desktop to keep your fil\n",
       "\n",
       "[Download and install Google \n",
       "Chrome](https://support.google.com/chrome/answer/95346?hl=en&amp;co=GENIE.Platform=Desktop)\n",
       "How to install Chrome Important: Before you download, you can check if Chrome supports your operating system and \n",
       "other system requirements.\n",
       "\n",
       "[How to recover your Google Account or Gmail](https://support.google.com/accounts/answer/7682439?hl=en)\n",
       "To find your username, follow these steps. You need to know: A phone number or the recovery email address for the \n",
       "account. The full name on your account. Follow the instructions to confirm …\n",
       "\n",
       "[Download the YouTube mobile app - Android - YouTube \n",
       "Help](https://support.google.com/youtube/answer/3227660?hl=en&amp;co=GENIE.Platform=Android)\n",
       "Download the YouTube app for a richer viewing experience on your smartphone.\n",
       "\n",
       "[Add or remove an account on Android - Google Help](https://support.google.com/android/answer/7664951?hl=en)\n",
       "When you add a Google account, the information associated with that account, such as your email and contacts, is \n",
       "automatically added to your phone. When you remove an account, you also …\n",
       "\n",
       "[Clear cache &amp; cookies - Computer - Google Account \n",
       "Help](https://support.google.com/accounts/answer/32050?hl=en&amp;co=GENIE.Platform=Desktop)\n",
       "On your computer, open Chrome. At the top right, click More Delete browsing data. Choose a time range, like Last \n",
       "hour or All time. Select the types of information you want to remove. Click Delete …\n",
       "\n",
       "[Secure a hacked or compromised Google Account - Google \n",
       "…](https://support.google.com/accounts/answer/6294825?hl=en)\n",
       "Go to the account recovery page, and answer the questions as best you can. These tips can help. Use the account \n",
       "recovery page if: Someone changed your account info, like your password or …\n",
       "\n",
       "[Sign in with app passwords - Google Account Help](https://support.google.com/accounts/answer/185833?hl=en)\n",
       "Tip: Don't create an app password unless the app or device you want to connect to your account doesn't have \"Sign \n",
       "in with Google.\"\n",
       "\n",
       "[Browse in Incognito mode - Computer - Google Chrome \n",
       "Help](https://support.google.com/chrome/answer/95464?hl=en&amp;co=GENIE.Platform=Desktop)\n",
       "Open Incognito mode Important: When you use an Incognito window, you can browse more privately. You can switch \n",
       "between Incognito tabs and regular Chrome tabs. On your computer, …\n",
       "\n",
       "Out: None\n",
       "</pre>\n"
      ],
      "text/plain": [
       "\u001b[1mExecution logs:\u001b[0m\n",
       "## Search Results\n",
       "\n",
       "[HTTPS FAQs - Transparency Report Help Center - Google \n",
       "Help](https://support.google.com/transparencyreport/answer/7381231?hl=en)\n",
       "HTTPS at Google What is encryption? Encryption is the modern-day method of protecting electronic information, just \n",
       "as safes and combination locks protected information on paper in the past\n",
       "\n",
       "[Install Drive for desktop - Google Workspace Learning \n",
       "Center](https://support.google.com/a/users/answer/13022292?hl=en)\n",
       "You can find and open your files from Google Drive on your computer with Drive for desktop. You can use Drive for \n",
       "desktop to keep your fil\n",
       "\n",
       "[Download and install Google \n",
       "Chrome](https://support.google.com/chrome/answer/95346?hl=en&co=GENIE.Platform=Desktop)\n",
       "How to install Chrome Important: Before you download, you can check if Chrome supports your operating system and \n",
       "other system requirements.\n",
       "\n",
       "[How to recover your Google Account or Gmail](https://support.google.com/accounts/answer/7682439?hl=en)\n",
       "To find your username, follow these steps. You need to know: A phone number or the recovery email address for the \n",
       "account. The full name on your account. Follow the instructions to confirm …\n",
       "\n",
       "[Download the YouTube mobile app - Android - YouTube \n",
       "Help](https://support.google.com/youtube/answer/3227660?hl=en&co=GENIE.Platform=Android)\n",
       "Download the YouTube app for a richer viewing experience on your smartphone.\n",
       "\n",
       "[Add or remove an account on Android - Google Help](https://support.google.com/android/answer/7664951?hl=en)\n",
       "When you add a Google account, the information associated with that account, such as your email and contacts, is \n",
       "automatically added to your phone. When you remove an account, you also …\n",
       "\n",
       "[Clear cache & cookies - Computer - Google Account \n",
       "Help](https://support.google.com/accounts/answer/32050?hl=en&co=GENIE.Platform=Desktop)\n",
       "On your computer, open Chrome. At the top right, click More Delete browsing data. Choose a time range, like Last \n",
       "hour or All time. Select the types of information you want to remove. Click Delete …\n",
       "\n",
       "[Secure a hacked or compromised Google Account - Google \n",
       "…](https://support.google.com/accounts/answer/6294825?hl=en)\n",
       "Go to the account recovery page, and answer the questions as best you can. These tips can help. Use the account \n",
       "recovery page if: Someone changed your account info, like your password or …\n",
       "\n",
       "[Sign in with app passwords - Google Account Help](https://support.google.com/accounts/answer/185833?hl=en)\n",
       "Tip: Don't create an app password unless the app or device you want to connect to your account doesn't have \"Sign \n",
       "in with Google.\"\n",
       "\n",
       "[Browse in Incognito mode - Computer - Google Chrome \n",
       "Help](https://support.google.com/chrome/answer/95464?hl=en&co=GENIE.Platform=Desktop)\n",
       "Open Incognito mode Important: When you use an Incognito window, you can browse more privately. You can switch \n",
       "between Incognito tabs and regular Chrome tabs. On your computer, …\n",
       "\n",
       "Out: None\n"
      ]
     },
     "metadata": {},
     "output_type": "display_data"
    },
    {
     "data": {
      "text/html": [
       "<pre style=\"white-space:pre;overflow-x:auto;line-height:normal;font-family:Menlo,'DejaVu Sans Mono',consolas,'Courier New',monospace\"><span style=\"color: #7f7f7f; text-decoration-color: #7f7f7f\">[Step 7: Duration 1.43 seconds| Input tokens: 35,163 | Output tokens: 434]</span>\n",
       "</pre>\n"
      ],
      "text/plain": [
       "\u001b[2m[Step 7: Duration 1.43 seconds| Input tokens: 35,163 | Output tokens: 434]\u001b[0m\n"
      ]
     },
     "metadata": {},
     "output_type": "display_data"
    },
    {
     "data": {
      "text/html": [
       "<pre style=\"white-space:pre;overflow-x:auto;line-height:normal;font-family:Menlo,'DejaVu Sans Mono',consolas,'Courier New',monospace\"><span style=\"color: #d4b702; text-decoration-color: #d4b702\">━━━━━━━━━━━━━━━━━━━━━━━━━━━━━━━━━━━━━━━━━━━━━━━━━━━━━ </span><span style=\"font-weight: bold\">Step 8</span><span style=\"color: #d4b702; text-decoration-color: #d4b702\"> ━━━━━━━━━━━━━━━━━━━━━━━━━━━━━━━━━━━━━━━━━━━━━━━━━━━━━━</span>\n",
       "</pre>\n"
      ],
      "text/plain": [
       "\u001b[38;2;212;183;2m━━━━━━━━━━━━━━━━━━━━━━━━━━━━━━━━━━━━━━━━━━━━━━━━━━━━━ \u001b[0m\u001b[1mStep 8\u001b[0m\u001b[38;2;212;183;2m ━━━━━━━━━━━━━━━━━━━━━━━━━━━━━━━━━━━━━━━━━━━━━━━━━━━━━━\u001b[0m\n"
      ]
     },
     "metadata": {},
     "output_type": "display_data"
    },
    {
     "data": {
      "text/html": [
       "<pre style=\"white-space:pre;overflow-x:auto;line-height:normal;font-family:Menlo,'DejaVu Sans Mono',consolas,'Courier New',monospace\"> ─ <span style=\"font-weight: bold\">Executing parsed code:</span> ──────────────────────────────────────────────────────────────────────────────────────── \n",
       "  <span style=\"color: #f8f8f2; text-decoration-color: #f8f8f2; background-color: #272822\">page_content </span><span style=\"color: #ff4689; text-decoration-color: #ff4689; background-color: #272822\">=</span><span style=\"color: #f8f8f2; text-decoration-color: #f8f8f2; background-color: #272822\"> </span><span style=\"background-color: #272822\">                                                                                                </span>  \n",
       "  <span style=\"color: #f8f8f2; text-decoration-color: #f8f8f2; background-color: #272822\">web_search(</span><span style=\"color: #e6db74; text-decoration-color: #e6db74; background-color: #272822\">\"https://www.analyticsinsight.net/artificial-intelligence/top-10-deep-learning-frameworks-you-should</span>  \n",
       "  <span style=\"color: #e6db74; text-decoration-color: #e6db74; background-color: #272822\">-know-in-2025\"</span><span style=\"color: #f8f8f2; text-decoration-color: #f8f8f2; background-color: #272822\">)</span><span style=\"background-color: #272822\">                                                                                                </span>  \n",
       "  <span style=\"color: #f8f8f2; text-decoration-color: #f8f8f2; background-color: #272822\">print(page_content)</span><span style=\"background-color: #272822\">                                                                                            </span>  \n",
       " ───────────────────────────────────────────────────────────────────────────────────────────────────────────────── \n",
       "</pre>\n"
      ],
      "text/plain": [
       " ─ \u001b[1mExecuting parsed code:\u001b[0m ──────────────────────────────────────────────────────────────────────────────────────── \n",
       "  \u001b[38;2;248;248;242;48;2;39;40;34mpage_content\u001b[0m\u001b[38;2;248;248;242;48;2;39;40;34m \u001b[0m\u001b[38;2;255;70;137;48;2;39;40;34m=\u001b[0m\u001b[38;2;248;248;242;48;2;39;40;34m \u001b[0m\u001b[48;2;39;40;34m                                                                                                \u001b[0m  \n",
       "  \u001b[38;2;248;248;242;48;2;39;40;34mweb_search\u001b[0m\u001b[38;2;248;248;242;48;2;39;40;34m(\u001b[0m\u001b[38;2;230;219;116;48;2;39;40;34m\"\u001b[0m\u001b[38;2;230;219;116;48;2;39;40;34mhttps://www.analyticsinsight.net/artificial-intelligence/top-10-deep-learning-frameworks-you-should\u001b[0m  \n",
       "  \u001b[38;2;230;219;116;48;2;39;40;34m-know-in-2025\u001b[0m\u001b[38;2;230;219;116;48;2;39;40;34m\"\u001b[0m\u001b[38;2;248;248;242;48;2;39;40;34m)\u001b[0m\u001b[48;2;39;40;34m                                                                                                \u001b[0m  \n",
       "  \u001b[38;2;248;248;242;48;2;39;40;34mprint\u001b[0m\u001b[38;2;248;248;242;48;2;39;40;34m(\u001b[0m\u001b[38;2;248;248;242;48;2;39;40;34mpage_content\u001b[0m\u001b[38;2;248;248;242;48;2;39;40;34m)\u001b[0m\u001b[48;2;39;40;34m                                                                                            \u001b[0m  \n",
       " ───────────────────────────────────────────────────────────────────────────────────────────────────────────────── \n"
      ]
     },
     "metadata": {},
     "output_type": "display_data"
    },
    {
     "data": {
      "text/html": [
       "<pre style=\"white-space:pre;overflow-x:auto;line-height:normal;font-family:Menlo,'DejaVu Sans Mono',consolas,'Courier New',monospace\"><span style=\"font-weight: bold\">Execution logs:</span>\n",
       "## Search Results\n",
       "\n",
       "[Pega Artificial Intelligence - Artificial Intelligence Ad Viewing ads is privacy protected by DuckDuckGo. Ad \n",
       "clicks are managed by Microsoft's ad network ( more info \n",
       ").](https://duckduckgo.com/y.js?ad_domain=pega.com&amp;ad_provider=bingv7aa&amp;ad_type=txad&amp;click_metadata=J6qn9S0klDxg4Lb\n",
       "EWsC_KnYbz_hdfQk3Lv9LATutx-7-sV-4RW_WS99xXQmXQmUwKIP8waI2BiJmHkm0ipmDJe8xJKSSb9pdQ0jFKBL5KJ_ig-vuA8rcvEHQQVPd4z-A.W\n",
       "v3qDClT9xz6Ei6n2cbong&amp;rut=957051158f3786438c1d845b9960ae3f8a7d3d82f0497c08c4d776cbde12ffac&amp;u3=https://www.bing.com/\n",
       "aclick?ld=e8sVUByI-v0mjbr6j4c3SUlTVUCUwOZzxwSJzzMNw9i5aEcqXBdKeHltl4j6BJ1X243IVxgow6EbmzxRuSq5NK8NcprFGfzayy4B1aRzA\n",
       "8gbswjCiCoVCwFdAr1FHrCUepmxvAZX6LiFR00QIxWISoUENS7gHSSNwIsAZr_Ob98VudSNxuwIwnyW0ajMBkZoIHhuX-VA&amp;u=aHR0cHMlM2ElMmYlM\n",
       "mZhZC5kb3VibGVjbGljay5uZXQlMmZzZWFyY2hhZHMlMmZsaW5rJTJmY2xpY2slM2ZsaWQlM2Q0MzcwMDA3MDM1NDkwNjAzNCUyNmRzX3Nfa3dnaWQl\n",
       "M2Q1ODcwMDAwNzc0NjY1NTIzNyUyNmRzX2FfY2lkJTNkNDAwODE3MjUwJTI2ZHNfYV9jYWlkJTNkMTY2NTIzNDk1MjYlMjZkc19hX2FnaWQlM2QxMzI\n",
       "xNTg2MTczODIlMjZkc19hX2xpZCUzZGt3ZC0yOTk3MzYwMDcxODklMjYlMjZkc19lX2FkaWQlM2Q4MTQzMjY3OTg1NjQ3MiUyNmRzX2VfdGFyZ2V0X2\n",
       "lkJTNka3dkLTgxNDMyNzk2MzUzNTYzJTNhbG9jLTkwJTI2JTI2ZHNfZV9uZXR3b3JrJTNkcyUyNmRzX3VybF92JTNkMiUyNmRzX2Rlc3RfdXJsJTNka\n",
       "HR0cHMlM2ElMmYlMmZ3d3cucGVnYS5jb20lMmZhaS1pbm5vdmF0aW9uJTNmdXRtX3NvdXJjZSUzZGJpbmclMjZ1dG1fbWVkaXVtJTNkY3BjJTI2dXRt\n",
       "X2NhbXBhaWduJTNkQl9JbmRpYV9Ob25CcmFuZF9BSV9DRV9Ccm9hZF8oQ1BOLTExMTA2NylfRU4lMjZ1dG1fdGVybSUzZGFydGlmaWNpYWwlMjUyMGl\n",
       "udGVsbGlnZW5jZSUyNTIwYW5hbHl0aWNzJTI2Z2xvYyUzZDE1NDcyOCUyNnV0bV9jb250ZW50JTNkcGNyaWQlN2MlN2Nwa3clN2Nrd2QtODE0MzI3OT\n",
       "YzNTM1NjMlM2Fsb2MtOTAlN2NwbXQlN2NwJTdjcGR2JTdjYyU3YyUyNmdjbGlkJTNkYzFhYTBmZWZlN2JhMTNjNzcwMGI2NzAzNTU0ZWZlZGElMjZnY\n",
       "2xzcmMlM2QzcC5kcyUyNiUyNm1zY2xraWQlM2RjMWFhMGZlZmU3YmExM2M3NzAwYjY3MDM1NTRlZmVkYSUyNnV0bV9zb3VyY2UlM2RiaW5nJTI2dXRt\n",
       "X21lZGl1bSUzZGNwYyUyNnV0bV9jYW1wYWlnbiUzZEJfSW5kaWFfTm9uQnJhbmRfQUlfQ0VfQnJvYWRfKENQTi0xMTEwNjcpX0VOJTI2dXRtX3Rlcm0\n",
       "lM2RhcnRpZmljaWFsJTI1MjBpbnRlbGxpZ2VuY2UlMjUyMGFuYWx5dGljcyUyNnV0bV9jb250ZW50JTNkQUk&amp;rlid=c1aa0fefe7ba13c7700b67035\n",
       "54efeda&amp;vqd=4-81419050324990947553710823065020650427&amp;iurl={1}IG=3EC1795B013442098E4C6B4B8CA550F0&amp;CID=3DD4F9F91ACE68\n",
       "4A37B6EF7D1B9C69BD&amp;ID=DevEx,5046.1)\n",
       "Discover how you can drive business-defining outcomes within your enterprise with AI. Explore the many powerful \n",
       "applications and unprecedented applications of AI\n",
       "\n",
       "[Top 10 Deep Learning Frameworks You Should Know in \n",
       "2025](https://www.analyticsinsight.net/artificial-intelligence/top-10-deep-learning-frameworks-you-should-know-in-2\n",
       "025)\n",
       "Discover the top 10 AI frameworks shaping deep learning in 2025 . From TensorFlow to Hugging Face, explore tools \n",
       "driving innovation.\n",
       "\n",
       "[7 Best Deep Learning Frameworks You Should Know in \n",
       "2025](https://www.geeksforgeeks.org/deep-learning/deep-learning-frameworks/)\n",
       "Deep learning frameworks are the backbone of AI development, offering pre-built modules, optimization libraries and\n",
       "deployment tools that make building complex neural networks much faster and easier.\n",
       "\n",
       "[Top 10 Deep Learning Algorithms You Should Know in \n",
       "2025](https://www.simplilearn.com/tutorials/deep-learning-tutorial/deep-learning-algorithm)\n",
       "Get to know the top 10 Deep Learning Algorithms with examples such as ️CNN, LSTM, RNN, GAN, &amp; much more to enhance \n",
       "your knowledge in Deep Learning . Read on!\n",
       "\n",
       "[Top 10 Deep Learning Frameworks in 2025 - 365 Data \n",
       "Science](https://365datascience.com/trending/deep-learning-frameworks/)\n",
       "Which are the top 10 deep learning frameworks in 2025 ? Explore the primary function and characteristics of \n",
       "TensorFlow, Keras, PyTorch, Caffe, etc.\n",
       "\n",
       "[Top Deep Learning Frameworks to Know in 2025 - codewave.com](https://codewave.com/insights/top-dl-frameworks/)\n",
       "Explore top DL frameworks in 2025 like TensorFlow, PyTorch, and more. Find tools for scalability, mobile apps, and \n",
       "cloud integration. Choose wisely!\n",
       "\n",
       "[Comparing the Top Deep Learning Frameworks in \n",
       "2025](https://bytesflow.com/comparing-the-top-deep-learning-frameworks-in-2025/)\n",
       "Deep learning has become a cornerstone of artificial intelligence innovation, powering breakthroughs in computer \n",
       "vision, natural language processing, robotics, and more. Behind these innovations lie powerful deep learning \n",
       "frameworks that allow developers and researchers to build, train, and deploy complex neural networks efficiently. \n",
       "With a variety of options available today, choosing the ...\n",
       "\n",
       "[Top 5 Deep Learning Frameworks You Need to Know in \n",
       "2025](https://www.hyperstack.cloud/blog/case-study/top-deep-learning-frameworks-you-should-know)\n",
       "Discover the top 5 deep learning frameworks for 2024, from TensorFlow to PyTorch, and learn how to choose the right\n",
       "one for your ML projects.\n",
       "\n",
       "[Top 10 Most Popular Machine Learning Frameworks in 2025: Technical and \n",
       "...](https://zediot.com/blog/top-10-most-popular-machine-learning-frameworks/)\n",
       "Discover the top 10 most popular deep learning frameworks in 2025 , including TensorFlow, PyTorch, MXNet, \n",
       "Detectron2, SpeechBrain, and MONAI. Learn about their technical details, applications, and how they are shaping the\n",
       "future of AI in computer vision, speech recognition, medical imaging, and more.\n",
       "\n",
       "[Top Deep Learning Frameworks to Learn in 2025 - upGrad](https://www.upgrad.com/blog/top-deep-learning-frameworks/)\n",
       "Explore the top 15 deep learning frameworks you need to know in 2025 . Learn their unique features and how to \n",
       "choose the right one for your AI projects.\n",
       "\n",
       "Out: None\n",
       "</pre>\n"
      ],
      "text/plain": [
       "\u001b[1mExecution logs:\u001b[0m\n",
       "## Search Results\n",
       "\n",
       "[Pega Artificial Intelligence - Artificial Intelligence Ad Viewing ads is privacy protected by DuckDuckGo. Ad \n",
       "clicks are managed by Microsoft's ad network ( more info \n",
       ").](https://duckduckgo.com/y.js?ad_domain=pega.com&ad_provider=bingv7aa&ad_type=txad&click_metadata=J6qn9S0klDxg4Lb\n",
       "EWsC_KnYbz_hdfQk3Lv9LATutx-7-sV-4RW_WS99xXQmXQmUwKIP8waI2BiJmHkm0ipmDJe8xJKSSb9pdQ0jFKBL5KJ_ig-vuA8rcvEHQQVPd4z-A.W\n",
       "v3qDClT9xz6Ei6n2cbong&rut=957051158f3786438c1d845b9960ae3f8a7d3d82f0497c08c4d776cbde12ffac&u3=https://www.bing.com/\n",
       "aclick?ld=e8sVUByI-v0mjbr6j4c3SUlTVUCUwOZzxwSJzzMNw9i5aEcqXBdKeHltl4j6BJ1X243IVxgow6EbmzxRuSq5NK8NcprFGfzayy4B1aRzA\n",
       "8gbswjCiCoVCwFdAr1FHrCUepmxvAZX6LiFR00QIxWISoUENS7gHSSNwIsAZr_Ob98VudSNxuwIwnyW0ajMBkZoIHhuX-VA&u=aHR0cHMlM2ElMmYlM\n",
       "mZhZC5kb3VibGVjbGljay5uZXQlMmZzZWFyY2hhZHMlMmZsaW5rJTJmY2xpY2slM2ZsaWQlM2Q0MzcwMDA3MDM1NDkwNjAzNCUyNmRzX3Nfa3dnaWQl\n",
       "M2Q1ODcwMDAwNzc0NjY1NTIzNyUyNmRzX2FfY2lkJTNkNDAwODE3MjUwJTI2ZHNfYV9jYWlkJTNkMTY2NTIzNDk1MjYlMjZkc19hX2FnaWQlM2QxMzI\n",
       "xNTg2MTczODIlMjZkc19hX2xpZCUzZGt3ZC0yOTk3MzYwMDcxODklMjYlMjZkc19lX2FkaWQlM2Q4MTQzMjY3OTg1NjQ3MiUyNmRzX2VfdGFyZ2V0X2\n",
       "lkJTNka3dkLTgxNDMyNzk2MzUzNTYzJTNhbG9jLTkwJTI2JTI2ZHNfZV9uZXR3b3JrJTNkcyUyNmRzX3VybF92JTNkMiUyNmRzX2Rlc3RfdXJsJTNka\n",
       "HR0cHMlM2ElMmYlMmZ3d3cucGVnYS5jb20lMmZhaS1pbm5vdmF0aW9uJTNmdXRtX3NvdXJjZSUzZGJpbmclMjZ1dG1fbWVkaXVtJTNkY3BjJTI2dXRt\n",
       "X2NhbXBhaWduJTNkQl9JbmRpYV9Ob25CcmFuZF9BSV9DRV9Ccm9hZF8oQ1BOLTExMTA2NylfRU4lMjZ1dG1fdGVybSUzZGFydGlmaWNpYWwlMjUyMGl\n",
       "udGVsbGlnZW5jZSUyNTIwYW5hbHl0aWNzJTI2Z2xvYyUzZDE1NDcyOCUyNnV0bV9jb250ZW50JTNkcGNyaWQlN2MlN2Nwa3clN2Nrd2QtODE0MzI3OT\n",
       "YzNTM1NjMlM2Fsb2MtOTAlN2NwbXQlN2NwJTdjcGR2JTdjYyU3YyUyNmdjbGlkJTNkYzFhYTBmZWZlN2JhMTNjNzcwMGI2NzAzNTU0ZWZlZGElMjZnY\n",
       "2xzcmMlM2QzcC5kcyUyNiUyNm1zY2xraWQlM2RjMWFhMGZlZmU3YmExM2M3NzAwYjY3MDM1NTRlZmVkYSUyNnV0bV9zb3VyY2UlM2RiaW5nJTI2dXRt\n",
       "X21lZGl1bSUzZGNwYyUyNnV0bV9jYW1wYWlnbiUzZEJfSW5kaWFfTm9uQnJhbmRfQUlfQ0VfQnJvYWRfKENQTi0xMTEwNjcpX0VOJTI2dXRtX3Rlcm0\n",
       "lM2RhcnRpZmljaWFsJTI1MjBpbnRlbGxpZ2VuY2UlMjUyMGFuYWx5dGljcyUyNnV0bV9jb250ZW50JTNkQUk&rlid=c1aa0fefe7ba13c7700b67035\n",
       "54efeda&vqd=4-81419050324990947553710823065020650427&iurl={1}IG=3EC1795B013442098E4C6B4B8CA550F0&CID=3DD4F9F91ACE68\n",
       "4A37B6EF7D1B9C69BD&ID=DevEx,5046.1)\n",
       "Discover how you can drive business-defining outcomes within your enterprise with AI. Explore the many powerful \n",
       "applications and unprecedented applications of AI\n",
       "\n",
       "[Top 10 Deep Learning Frameworks You Should Know in \n",
       "2025](https://www.analyticsinsight.net/artificial-intelligence/top-10-deep-learning-frameworks-you-should-know-in-2\n",
       "025)\n",
       "Discover the top 10 AI frameworks shaping deep learning in 2025 . From TensorFlow to Hugging Face, explore tools \n",
       "driving innovation.\n",
       "\n",
       "[7 Best Deep Learning Frameworks You Should Know in \n",
       "2025](https://www.geeksforgeeks.org/deep-learning/deep-learning-frameworks/)\n",
       "Deep learning frameworks are the backbone of AI development, offering pre-built modules, optimization libraries and\n",
       "deployment tools that make building complex neural networks much faster and easier.\n",
       "\n",
       "[Top 10 Deep Learning Algorithms You Should Know in \n",
       "2025](https://www.simplilearn.com/tutorials/deep-learning-tutorial/deep-learning-algorithm)\n",
       "Get to know the top 10 Deep Learning Algorithms with examples such as ️CNN, LSTM, RNN, GAN, & much more to enhance \n",
       "your knowledge in Deep Learning . Read on!\n",
       "\n",
       "[Top 10 Deep Learning Frameworks in 2025 - 365 Data \n",
       "Science](https://365datascience.com/trending/deep-learning-frameworks/)\n",
       "Which are the top 10 deep learning frameworks in 2025 ? Explore the primary function and characteristics of \n",
       "TensorFlow, Keras, PyTorch, Caffe, etc.\n",
       "\n",
       "[Top Deep Learning Frameworks to Know in 2025 - codewave.com](https://codewave.com/insights/top-dl-frameworks/)\n",
       "Explore top DL frameworks in 2025 like TensorFlow, PyTorch, and more. Find tools for scalability, mobile apps, and \n",
       "cloud integration. Choose wisely!\n",
       "\n",
       "[Comparing the Top Deep Learning Frameworks in \n",
       "2025](https://bytesflow.com/comparing-the-top-deep-learning-frameworks-in-2025/)\n",
       "Deep learning has become a cornerstone of artificial intelligence innovation, powering breakthroughs in computer \n",
       "vision, natural language processing, robotics, and more. Behind these innovations lie powerful deep learning \n",
       "frameworks that allow developers and researchers to build, train, and deploy complex neural networks efficiently. \n",
       "With a variety of options available today, choosing the ...\n",
       "\n",
       "[Top 5 Deep Learning Frameworks You Need to Know in \n",
       "2025](https://www.hyperstack.cloud/blog/case-study/top-deep-learning-frameworks-you-should-know)\n",
       "Discover the top 5 deep learning frameworks for 2024, from TensorFlow to PyTorch, and learn how to choose the right\n",
       "one for your ML projects.\n",
       "\n",
       "[Top 10 Most Popular Machine Learning Frameworks in 2025: Technical and \n",
       "...](https://zediot.com/blog/top-10-most-popular-machine-learning-frameworks/)\n",
       "Discover the top 10 most popular deep learning frameworks in 2025 , including TensorFlow, PyTorch, MXNet, \n",
       "Detectron2, SpeechBrain, and MONAI. Learn about their technical details, applications, and how they are shaping the\n",
       "future of AI in computer vision, speech recognition, medical imaging, and more.\n",
       "\n",
       "[Top Deep Learning Frameworks to Learn in 2025 - upGrad](https://www.upgrad.com/blog/top-deep-learning-frameworks/)\n",
       "Explore the top 15 deep learning frameworks you need to know in 2025 . Learn their unique features and how to \n",
       "choose the right one for your AI projects.\n",
       "\n",
       "Out: None\n"
      ]
     },
     "metadata": {},
     "output_type": "display_data"
    },
    {
     "data": {
      "text/html": [
       "<pre style=\"white-space:pre;overflow-x:auto;line-height:normal;font-family:Menlo,'DejaVu Sans Mono',consolas,'Courier New',monospace\"><span style=\"color: #7f7f7f; text-decoration-color: #7f7f7f\">[Step 8: Duration 2.95 seconds| Input tokens: 43,724 | Output tokens: 528]</span>\n",
       "</pre>\n"
      ],
      "text/plain": [
       "\u001b[2m[Step 8: Duration 2.95 seconds| Input tokens: 43,724 | Output tokens: 528]\u001b[0m\n"
      ]
     },
     "metadata": {},
     "output_type": "display_data"
    },
    {
     "data": {
      "text/html": [
       "<pre style=\"white-space:pre;overflow-x:auto;line-height:normal;font-family:Menlo,'DejaVu Sans Mono',consolas,'Courier New',monospace\"><span style=\"color: #d4b702; text-decoration-color: #d4b702\">━━━━━━━━━━━━━━━━━━━━━━━━━━━━━━━━━━━━━━━━━━━━━━━━━━━━━ </span><span style=\"font-weight: bold\">Step 9</span><span style=\"color: #d4b702; text-decoration-color: #d4b702\"> ━━━━━━━━━━━━━━━━━━━━━━━━━━━━━━━━━━━━━━━━━━━━━━━━━━━━━━</span>\n",
       "</pre>\n"
      ],
      "text/plain": [
       "\u001b[38;2;212;183;2m━━━━━━━━━━━━━━━━━━━━━━━━━━━━━━━━━━━━━━━━━━━━━━━━━━━━━ \u001b[0m\u001b[1mStep 9\u001b[0m\u001b[38;2;212;183;2m ━━━━━━━━━━━━━━━━━━━━━━━━━━━━━━━━━━━━━━━━━━━━━━━━━━━━━━\u001b[0m\n"
      ]
     },
     "metadata": {},
     "output_type": "display_data"
    },
    {
     "data": {
      "text/html": [
       "<pre style=\"white-space:pre;overflow-x:auto;line-height:normal;font-family:Menlo,'DejaVu Sans Mono',consolas,'Courier New',monospace\"> ─ <span style=\"font-weight: bold\">Executing parsed code:</span> ──────────────────────────────────────────────────────────────────────────────────────── \n",
       "  <span style=\"color: #f8f8f2; text-decoration-color: #f8f8f2; background-color: #272822\">page_content </span><span style=\"color: #ff4689; text-decoration-color: #ff4689; background-color: #272822\">=</span><span style=\"color: #f8f8f2; text-decoration-color: #f8f8f2; background-color: #272822\"> web_search(</span><span style=\"color: #e6db74; text-decoration-color: #e6db74; background-color: #272822\">\"https://www.weetechsolution.com/blog/most-popular-deep-learning-frameworks\"</span><span style=\"color: #f8f8f2; text-decoration-color: #f8f8f2; background-color: #272822\">)</span><span style=\"background-color: #272822\">        </span>  \n",
       "  <span style=\"color: #f8f8f2; text-decoration-color: #f8f8f2; background-color: #272822\">print(page_content)</span><span style=\"background-color: #272822\">                                                                                            </span>  \n",
       " ───────────────────────────────────────────────────────────────────────────────────────────────────────────────── \n",
       "</pre>\n"
      ],
      "text/plain": [
       " ─ \u001b[1mExecuting parsed code:\u001b[0m ──────────────────────────────────────────────────────────────────────────────────────── \n",
       "  \u001b[38;2;248;248;242;48;2;39;40;34mpage_content\u001b[0m\u001b[38;2;248;248;242;48;2;39;40;34m \u001b[0m\u001b[38;2;255;70;137;48;2;39;40;34m=\u001b[0m\u001b[38;2;248;248;242;48;2;39;40;34m \u001b[0m\u001b[38;2;248;248;242;48;2;39;40;34mweb_search\u001b[0m\u001b[38;2;248;248;242;48;2;39;40;34m(\u001b[0m\u001b[38;2;230;219;116;48;2;39;40;34m\"\u001b[0m\u001b[38;2;230;219;116;48;2;39;40;34mhttps://www.weetechsolution.com/blog/most-popular-deep-learning-frameworks\u001b[0m\u001b[38;2;230;219;116;48;2;39;40;34m\"\u001b[0m\u001b[38;2;248;248;242;48;2;39;40;34m)\u001b[0m\u001b[48;2;39;40;34m        \u001b[0m  \n",
       "  \u001b[38;2;248;248;242;48;2;39;40;34mprint\u001b[0m\u001b[38;2;248;248;242;48;2;39;40;34m(\u001b[0m\u001b[38;2;248;248;242;48;2;39;40;34mpage_content\u001b[0m\u001b[38;2;248;248;242;48;2;39;40;34m)\u001b[0m\u001b[48;2;39;40;34m                                                                                            \u001b[0m  \n",
       " ───────────────────────────────────────────────────────────────────────────────────────────────────────────────── \n"
      ]
     },
     "metadata": {},
     "output_type": "display_data"
    },
    {
     "data": {
      "text/html": [
       "<pre style=\"white-space:pre;overflow-x:auto;line-height:normal;font-family:Menlo,'DejaVu Sans Mono',consolas,'Courier New',monospace\"><span style=\"font-weight: bold\">Execution logs:</span>\n",
       "## Search Results\n",
       "\n",
       "[18 Most Popular Deep Learning Frameworks 2025 | DL \n",
       "Frameworks](https://www.weetechsolution.com/blog/most-popular-deep-learning-frameworks)\n",
       "Mar 3, 2025 · Which are the Most Popular Deep Learning Frameworks in 2025? Discover the top AI tools transforming \n",
       "machine learning. Read more! Learn how DL frameworks simplify AI …\n",
       "\n",
       "[Top 10 Popular Java Frameworks For Web Development In \n",
       "2025](https://www.weetechsolution.com/blog/top-java-frameworks-for-web-development)\n",
       "Feb 24, 2023 · Explore the best java frameworks for web development and choose the best framework for your project \n",
       "based on features, architecture, and requirements.\n",
       "\n",
       "[10 Best Agile Frameworks in 2025 for Managing your \n",
       "Project](https://www.weetechsolution.com/blog/best-agile-frameworks-in-2024)\n",
       "Sep 3, 2024 · Image Source – Nimblework Scrum is one of the most popular agile framework which is known for its \n",
       "effectiveness in managing complex tasks. This software tool uses a short time …\n",
       "\n",
       "[10 Best CSS Frameworks For Responsive Web Design in \n",
       "2025](https://www.weetechsolution.com/blog/best-css-frameworks-for-responsive-web-design)\n",
       "May 20, 2022 · Bootstrap is undoubtedly the best CSS, HTML, and JS framework for resting the most responsive web \n",
       "design. You can create a responsive, mobile-first, and impressive web …\n",
       "\n",
       "[DeepSeek vs ChatGPT: What Is the Difference and Which Is \n",
       "Better?](https://www.weetechsolution.com/blog/difference-between-deepseek-and-chatgpt)\n",
       "Jan 29, 2025 · Curious about the differences between DeepSeek and ChatGPT? Discover which AI model stands out in \n",
       "terms of performance, features, pricing and more! In this article, learn about …\n",
       "\n",
       "[Site Reliability Engineer Roadmap 2025: From Beginner to \n",
       "Expert](https://www.weetechsolution.com/blog/site-reliability-engineer-roadmap)\n",
       "Jan 24, 2025 · Site Reliability Engineer is one of the most important professions in contemporary IT and software \n",
       "development that effectively combines development and operation activities to …\n",
       "\n",
       "[Top 41 Python Interview Questions and Answers for \n",
       "Developer](https://www.weetechsolution.com/blog/top-python-interview-questions-and-answers-for-developer)\n",
       "Nov 9, 2023 · This is due to the availability of popular web frameworks like Django and Flask, which greatly \n",
       "simplify the process of building web applications. Python is widely favoured for scripting …\n",
       "\n",
       "[What is AI TRiSM and Its Importance for Business in \n",
       "2025](https://www.weetechsolution.com/blog/what-is-ai-trism-and-its-importance)\n",
       "Feb 24, 2023 · Models based on machine learning, rules, linguistics, knowledge graphs, rules, and analytical models\n",
       "are all part of AI and decision models. 3. Identifying Unusual Patterns in Data …\n",
       "\n",
       "[5 Best Mobile App Development Tool to Use in \n",
       "2025](https://www.weetechsolution.com/blog/best-mobile-app-development-tool-to-use)\n",
       "May 15, 2023 · In addition, when you offer the right set of mobile app development frameworks and tools to the \n",
       "right people, you are bound to receive a successful outcome. Further, I want to …\n",
       "\n",
       "[Strengths and weaknesses of Quantitative and Qualitative \n",
       "Research](https://www.weetechsolution.com/blog/strengths-and-weaknesses-of-quantitative-and-qualitative-research)\n",
       "Oct 31, 2017 · Researchers have two options to conduct their research: Quantitative and Qualitative research \n",
       "method. Quantitative analysis is dependent on creation of Hypothesis and Qualitative …\n",
       "\n",
       "Out: None\n",
       "</pre>\n"
      ],
      "text/plain": [
       "\u001b[1mExecution logs:\u001b[0m\n",
       "## Search Results\n",
       "\n",
       "[18 Most Popular Deep Learning Frameworks 2025 | DL \n",
       "Frameworks](https://www.weetechsolution.com/blog/most-popular-deep-learning-frameworks)\n",
       "Mar 3, 2025 · Which are the Most Popular Deep Learning Frameworks in 2025? Discover the top AI tools transforming \n",
       "machine learning. Read more! Learn how DL frameworks simplify AI …\n",
       "\n",
       "[Top 10 Popular Java Frameworks For Web Development In \n",
       "2025](https://www.weetechsolution.com/blog/top-java-frameworks-for-web-development)\n",
       "Feb 24, 2023 · Explore the best java frameworks for web development and choose the best framework for your project \n",
       "based on features, architecture, and requirements.\n",
       "\n",
       "[10 Best Agile Frameworks in 2025 for Managing your \n",
       "Project](https://www.weetechsolution.com/blog/best-agile-frameworks-in-2024)\n",
       "Sep 3, 2024 · Image Source – Nimblework Scrum is one of the most popular agile framework which is known for its \n",
       "effectiveness in managing complex tasks. This software tool uses a short time …\n",
       "\n",
       "[10 Best CSS Frameworks For Responsive Web Design in \n",
       "2025](https://www.weetechsolution.com/blog/best-css-frameworks-for-responsive-web-design)\n",
       "May 20, 2022 · Bootstrap is undoubtedly the best CSS, HTML, and JS framework for resting the most responsive web \n",
       "design. You can create a responsive, mobile-first, and impressive web …\n",
       "\n",
       "[DeepSeek vs ChatGPT: What Is the Difference and Which Is \n",
       "Better?](https://www.weetechsolution.com/blog/difference-between-deepseek-and-chatgpt)\n",
       "Jan 29, 2025 · Curious about the differences between DeepSeek and ChatGPT? Discover which AI model stands out in \n",
       "terms of performance, features, pricing and more! In this article, learn about …\n",
       "\n",
       "[Site Reliability Engineer Roadmap 2025: From Beginner to \n",
       "Expert](https://www.weetechsolution.com/blog/site-reliability-engineer-roadmap)\n",
       "Jan 24, 2025 · Site Reliability Engineer is one of the most important professions in contemporary IT and software \n",
       "development that effectively combines development and operation activities to …\n",
       "\n",
       "[Top 41 Python Interview Questions and Answers for \n",
       "Developer](https://www.weetechsolution.com/blog/top-python-interview-questions-and-answers-for-developer)\n",
       "Nov 9, 2023 · This is due to the availability of popular web frameworks like Django and Flask, which greatly \n",
       "simplify the process of building web applications. Python is widely favoured for scripting …\n",
       "\n",
       "[What is AI TRiSM and Its Importance for Business in \n",
       "2025](https://www.weetechsolution.com/blog/what-is-ai-trism-and-its-importance)\n",
       "Feb 24, 2023 · Models based on machine learning, rules, linguistics, knowledge graphs, rules, and analytical models\n",
       "are all part of AI and decision models. 3. Identifying Unusual Patterns in Data …\n",
       "\n",
       "[5 Best Mobile App Development Tool to Use in \n",
       "2025](https://www.weetechsolution.com/blog/best-mobile-app-development-tool-to-use)\n",
       "May 15, 2023 · In addition, when you offer the right set of mobile app development frameworks and tools to the \n",
       "right people, you are bound to receive a successful outcome. Further, I want to …\n",
       "\n",
       "[Strengths and weaknesses of Quantitative and Qualitative \n",
       "Research](https://www.weetechsolution.com/blog/strengths-and-weaknesses-of-quantitative-and-qualitative-research)\n",
       "Oct 31, 2017 · Researchers have two options to conduct their research: Quantitative and Qualitative research \n",
       "method. Quantitative analysis is dependent on creation of Hypothesis and Qualitative …\n",
       "\n",
       "Out: None\n"
      ]
     },
     "metadata": {},
     "output_type": "display_data"
    },
    {
     "data": {
      "text/html": [
       "<pre style=\"white-space:pre;overflow-x:auto;line-height:normal;font-family:Menlo,'DejaVu Sans Mono',consolas,'Courier New',monospace\"><span style=\"color: #7f7f7f; text-decoration-color: #7f7f7f\">[Step 9: Duration 1.46 seconds| Input tokens: 54,850 | Output tokens: 608]</span>\n",
       "</pre>\n"
      ],
      "text/plain": [
       "\u001b[2m[Step 9: Duration 1.46 seconds| Input tokens: 54,850 | Output tokens: 608]\u001b[0m\n"
      ]
     },
     "metadata": {},
     "output_type": "display_data"
    },
    {
     "data": {
      "text/html": [
       "<pre style=\"white-space:pre;overflow-x:auto;line-height:normal;font-family:Menlo,'DejaVu Sans Mono',consolas,'Courier New',monospace\"><span style=\"color: #d4b702; text-decoration-color: #d4b702\">━━━━━━━━━━━━━━━━━━━━━━━━━━━━━━━━━━━━━━━━━━━━━━━━━━━━━ </span><span style=\"font-weight: bold\">Step 10</span><span style=\"color: #d4b702; text-decoration-color: #d4b702\"> ━━━━━━━━━━━━━━━━━━━━━━━━━━━━━━━━━━━━━━━━━━━━━━━━━━━━━</span>\n",
       "</pre>\n"
      ],
      "text/plain": [
       "\u001b[38;2;212;183;2m━━━━━━━━━━━━━━━━━━━━━━━━━━━━━━━━━━━━━━━━━━━━━━━━━━━━━ \u001b[0m\u001b[1mStep 10\u001b[0m\u001b[38;2;212;183;2m ━━━━━━━━━━━━━━━━━━━━━━━━━━━━━━━━━━━━━━━━━━━━━━━━━━━━━\u001b[0m\n"
      ]
     },
     "metadata": {},
     "output_type": "display_data"
    },
    {
     "data": {
      "text/html": [
       "<pre style=\"white-space:pre;overflow-x:auto;line-height:normal;font-family:Menlo,'DejaVu Sans Mono',consolas,'Courier New',monospace\"> ─ <span style=\"font-weight: bold\">Executing parsed code:</span> ──────────────────────────────────────────────────────────────────────────────────────── \n",
       "  <span style=\"color: #f8f8f2; text-decoration-color: #f8f8f2; background-color: #272822\">page_content </span><span style=\"color: #ff4689; text-decoration-color: #ff4689; background-color: #272822\">=</span><span style=\"color: #f8f8f2; text-decoration-color: #f8f8f2; background-color: #272822\"> </span><span style=\"background-color: #272822\">                                                                                                </span>  \n",
       "  <span style=\"color: #f8f8f2; text-decoration-color: #f8f8f2; background-color: #272822\">web_search(</span><span style=\"color: #e6db74; text-decoration-color: #e6db74; background-color: #272822\">\"https://www.simplilearn.com/tutorials/deep-learning-tutorial/deep-learning-frameworks\"</span><span style=\"color: #f8f8f2; text-decoration-color: #f8f8f2; background-color: #272822\">)</span><span style=\"background-color: #272822\">            </span>  \n",
       "  <span style=\"color: #f8f8f2; text-decoration-color: #f8f8f2; background-color: #272822\">print(page_content)</span><span style=\"background-color: #272822\">                                                                                            </span>  \n",
       " ───────────────────────────────────────────────────────────────────────────────────────────────────────────────── \n",
       "</pre>\n"
      ],
      "text/plain": [
       " ─ \u001b[1mExecuting parsed code:\u001b[0m ──────────────────────────────────────────────────────────────────────────────────────── \n",
       "  \u001b[38;2;248;248;242;48;2;39;40;34mpage_content\u001b[0m\u001b[38;2;248;248;242;48;2;39;40;34m \u001b[0m\u001b[38;2;255;70;137;48;2;39;40;34m=\u001b[0m\u001b[38;2;248;248;242;48;2;39;40;34m \u001b[0m\u001b[48;2;39;40;34m                                                                                                \u001b[0m  \n",
       "  \u001b[38;2;248;248;242;48;2;39;40;34mweb_search\u001b[0m\u001b[38;2;248;248;242;48;2;39;40;34m(\u001b[0m\u001b[38;2;230;219;116;48;2;39;40;34m\"\u001b[0m\u001b[38;2;230;219;116;48;2;39;40;34mhttps://www.simplilearn.com/tutorials/deep-learning-tutorial/deep-learning-frameworks\u001b[0m\u001b[38;2;230;219;116;48;2;39;40;34m\"\u001b[0m\u001b[38;2;248;248;242;48;2;39;40;34m)\u001b[0m\u001b[48;2;39;40;34m            \u001b[0m  \n",
       "  \u001b[38;2;248;248;242;48;2;39;40;34mprint\u001b[0m\u001b[38;2;248;248;242;48;2;39;40;34m(\u001b[0m\u001b[38;2;248;248;242;48;2;39;40;34mpage_content\u001b[0m\u001b[38;2;248;248;242;48;2;39;40;34m)\u001b[0m\u001b[48;2;39;40;34m                                                                                            \u001b[0m  \n",
       " ───────────────────────────────────────────────────────────────────────────────────────────────────────────────── \n"
      ]
     },
     "metadata": {},
     "output_type": "display_data"
    },
    {
     "data": {
      "text/html": [
       "<pre style=\"white-space:pre;overflow-x:auto;line-height:normal;font-family:Menlo,'DejaVu Sans Mono',consolas,'Courier New',monospace\"><span style=\"font-weight: bold\">Execution logs:</span>\n",
       "## Search Results\n",
       "\n",
       "[HTTPS FAQs - Transparency Report Help Center - Google \n",
       "Help](https://support.google.com/transparencyreport/answer/7381231?hl=en)\n",
       "HTTPS at Google What is encryption? Encryption is the modern-day method of protecting electronic information, just \n",
       "as safes and combination locks protected information on paper in the past\n",
       "\n",
       "[Clear cache &amp; cookies - Computer - Google Account \n",
       "Help](https://support.google.com/accounts/answer/32050?hl=en&amp;co=GENIE.Platform=Desktop)\n",
       "On your computer, open Chrome. At the top right, click More Delete browsing data. Choose a time range, like Last \n",
       "hour or All time. Select the types of information you want to remove. Click Delete …\n",
       "\n",
       "[Install Drive for desktop - Google Workspace Learning \n",
       "Center](https://support.google.com/a/users/answer/13022292?hl=en)\n",
       "You can find and open your files from Google Drive on your computer with Drive for desktop. You can use Drive for \n",
       "desktop to keep your fil\n",
       "\n",
       "[Browse in Incognito mode - Computer - Google Chrome \n",
       "Help](https://support.google.com/chrome/answer/95464?hl=en&amp;co=GENIE.Platform=Desktop)\n",
       "Open Incognito mode Important: When you use an Incognito window, you can browse more privately. You can switch \n",
       "between Incognito tabs and regular Chrome tabs. On your computer, …\n",
       "\n",
       "[Secure a hacked or compromised Google Account - Google \n",
       "…](https://support.google.com/accounts/answer/6294825?hl=en)\n",
       "Go to the account recovery page, and answer the questions as best you can. These tips can help. Use the account \n",
       "recovery page if: Someone changed your account info, like your password or …\n",
       "\n",
       "[Download and install Google \n",
       "Chrome](https://support.google.com/chrome/answer/95346?hl=en&amp;co=GENIE.Platform=Desktop)\n",
       "How to install Chrome Important: Before you download, you can check if Chrome supports your operating system and \n",
       "other system requirements.\n",
       "\n",
       "[How to recover your Google Account or Gmail](https://support.google.com/accounts/answer/7682439?hl=en)\n",
       "To find your username, follow these steps. You need to know: A phone number or the recovery email address for the \n",
       "account. The full name on your account. Follow the instructions to confirm …\n",
       "\n",
       "[Download the YouTube mobile app - Android - YouTube \n",
       "Help](https://support.google.com/youtube/answer/3227660?hl=en&amp;co=GENIE.Platform=Android)\n",
       "Download the YouTube app for a richer viewing experience on your smartphone.\n",
       "\n",
       "[Add or remove an account on Android - Google Help](https://support.google.com/android/answer/7664951?hl=en)\n",
       "When you add a Google account, the information associated with that account, such as your email and contacts, is \n",
       "automatically added to your phone. When you remove an account, you also …\n",
       "\n",
       "[Sign in with app passwords - Google Account Help](https://support.google.com/accounts/answer/185833?hl=en)\n",
       "Tip: Don't create an app password unless the app or device you want to connect to your account doesn't have \"Sign \n",
       "in with Google.\"\n",
       "\n",
       "Out: None\n",
       "</pre>\n"
      ],
      "text/plain": [
       "\u001b[1mExecution logs:\u001b[0m\n",
       "## Search Results\n",
       "\n",
       "[HTTPS FAQs - Transparency Report Help Center - Google \n",
       "Help](https://support.google.com/transparencyreport/answer/7381231?hl=en)\n",
       "HTTPS at Google What is encryption? Encryption is the modern-day method of protecting electronic information, just \n",
       "as safes and combination locks protected information on paper in the past\n",
       "\n",
       "[Clear cache & cookies - Computer - Google Account \n",
       "Help](https://support.google.com/accounts/answer/32050?hl=en&co=GENIE.Platform=Desktop)\n",
       "On your computer, open Chrome. At the top right, click More Delete browsing data. Choose a time range, like Last \n",
       "hour or All time. Select the types of information you want to remove. Click Delete …\n",
       "\n",
       "[Install Drive for desktop - Google Workspace Learning \n",
       "Center](https://support.google.com/a/users/answer/13022292?hl=en)\n",
       "You can find and open your files from Google Drive on your computer with Drive for desktop. You can use Drive for \n",
       "desktop to keep your fil\n",
       "\n",
       "[Browse in Incognito mode - Computer - Google Chrome \n",
       "Help](https://support.google.com/chrome/answer/95464?hl=en&co=GENIE.Platform=Desktop)\n",
       "Open Incognito mode Important: When you use an Incognito window, you can browse more privately. You can switch \n",
       "between Incognito tabs and regular Chrome tabs. On your computer, …\n",
       "\n",
       "[Secure a hacked or compromised Google Account - Google \n",
       "…](https://support.google.com/accounts/answer/6294825?hl=en)\n",
       "Go to the account recovery page, and answer the questions as best you can. These tips can help. Use the account \n",
       "recovery page if: Someone changed your account info, like your password or …\n",
       "\n",
       "[Download and install Google \n",
       "Chrome](https://support.google.com/chrome/answer/95346?hl=en&co=GENIE.Platform=Desktop)\n",
       "How to install Chrome Important: Before you download, you can check if Chrome supports your operating system and \n",
       "other system requirements.\n",
       "\n",
       "[How to recover your Google Account or Gmail](https://support.google.com/accounts/answer/7682439?hl=en)\n",
       "To find your username, follow these steps. You need to know: A phone number or the recovery email address for the \n",
       "account. The full name on your account. Follow the instructions to confirm …\n",
       "\n",
       "[Download the YouTube mobile app - Android - YouTube \n",
       "Help](https://support.google.com/youtube/answer/3227660?hl=en&co=GENIE.Platform=Android)\n",
       "Download the YouTube app for a richer viewing experience on your smartphone.\n",
       "\n",
       "[Add or remove an account on Android - Google Help](https://support.google.com/android/answer/7664951?hl=en)\n",
       "When you add a Google account, the information associated with that account, such as your email and contacts, is \n",
       "automatically added to your phone. When you remove an account, you also …\n",
       "\n",
       "[Sign in with app passwords - Google Account Help](https://support.google.com/accounts/answer/185833?hl=en)\n",
       "Tip: Don't create an app password unless the app or device you want to connect to your account doesn't have \"Sign \n",
       "in with Google.\"\n",
       "\n",
       "Out: None\n"
      ]
     },
     "metadata": {},
     "output_type": "display_data"
    },
    {
     "data": {
      "text/html": [
       "<pre style=\"white-space:pre;overflow-x:auto;line-height:normal;font-family:Menlo,'DejaVu Sans Mono',consolas,'Courier New',monospace\"><span style=\"color: #7f7f7f; text-decoration-color: #7f7f7f\">[Step 10: Duration 2.22 seconds| Input tokens: 66,976 | Output tokens: 689]</span>\n",
       "</pre>\n"
      ],
      "text/plain": [
       "\u001b[2m[Step 10: Duration 2.22 seconds| Input tokens: 66,976 | Output tokens: 689]\u001b[0m\n"
      ]
     },
     "metadata": {},
     "output_type": "display_data"
    },
    {
     "data": {
      "text/html": [
       "<pre style=\"white-space:pre;overflow-x:auto;line-height:normal;font-family:Menlo,'DejaVu Sans Mono',consolas,'Courier New',monospace\"><span style=\"color: #d4b702; text-decoration-color: #d4b702\">━━━━━━━━━━━━━━━━━━━━━━━━━━━━━━━━━━━━━━━━━━━━━━━━━━━━━ </span><span style=\"font-weight: bold\">Step 11</span><span style=\"color: #d4b702; text-decoration-color: #d4b702\"> ━━━━━━━━━━━━━━━━━━━━━━━━━━━━━━━━━━━━━━━━━━━━━━━━━━━━━</span>\n",
       "</pre>\n"
      ],
      "text/plain": [
       "\u001b[38;2;212;183;2m━━━━━━━━━━━━━━━━━━━━━━━━━━━━━━━━━━━━━━━━━━━━━━━━━━━━━ \u001b[0m\u001b[1mStep 11\u001b[0m\u001b[38;2;212;183;2m ━━━━━━━━━━━━━━━━━━━━━━━━━━━━━━━━━━━━━━━━━━━━━━━━━━━━━\u001b[0m\n"
      ]
     },
     "metadata": {},
     "output_type": "display_data"
    },
    {
     "data": {
      "text/html": [
       "<pre style=\"white-space:pre;overflow-x:auto;line-height:normal;font-family:Menlo,'DejaVu Sans Mono',consolas,'Courier New',monospace\"> ─ <span style=\"font-weight: bold\">Executing parsed code:</span> ──────────────────────────────────────────────────────────────────────────────────────── \n",
       "  <span style=\"color: #f8f8f2; text-decoration-color: #f8f8f2; background-color: #272822\">page_content </span><span style=\"color: #ff4689; text-decoration-color: #ff4689; background-color: #272822\">=</span><span style=\"color: #f8f8f2; text-decoration-color: #f8f8f2; background-color: #272822\"> web_search(</span><span style=\"color: #e6db74; text-decoration-color: #e6db74; background-color: #272822\">\"https://www.upgrad.com/blog/top-deep-learning-frameworks/\"</span><span style=\"color: #f8f8f2; text-decoration-color: #f8f8f2; background-color: #272822\">)</span><span style=\"background-color: #272822\">                         </span>  \n",
       "  <span style=\"color: #f8f8f2; text-decoration-color: #f8f8f2; background-color: #272822\">print(page_content)</span><span style=\"background-color: #272822\">                                                                                            </span>  \n",
       " ───────────────────────────────────────────────────────────────────────────────────────────────────────────────── \n",
       "</pre>\n"
      ],
      "text/plain": [
       " ─ \u001b[1mExecuting parsed code:\u001b[0m ──────────────────────────────────────────────────────────────────────────────────────── \n",
       "  \u001b[38;2;248;248;242;48;2;39;40;34mpage_content\u001b[0m\u001b[38;2;248;248;242;48;2;39;40;34m \u001b[0m\u001b[38;2;255;70;137;48;2;39;40;34m=\u001b[0m\u001b[38;2;248;248;242;48;2;39;40;34m \u001b[0m\u001b[38;2;248;248;242;48;2;39;40;34mweb_search\u001b[0m\u001b[38;2;248;248;242;48;2;39;40;34m(\u001b[0m\u001b[38;2;230;219;116;48;2;39;40;34m\"\u001b[0m\u001b[38;2;230;219;116;48;2;39;40;34mhttps://www.upgrad.com/blog/top-deep-learning-frameworks/\u001b[0m\u001b[38;2;230;219;116;48;2;39;40;34m\"\u001b[0m\u001b[38;2;248;248;242;48;2;39;40;34m)\u001b[0m\u001b[48;2;39;40;34m                         \u001b[0m  \n",
       "  \u001b[38;2;248;248;242;48;2;39;40;34mprint\u001b[0m\u001b[38;2;248;248;242;48;2;39;40;34m(\u001b[0m\u001b[38;2;248;248;242;48;2;39;40;34mpage_content\u001b[0m\u001b[38;2;248;248;242;48;2;39;40;34m)\u001b[0m\u001b[48;2;39;40;34m                                                                                            \u001b[0m  \n",
       " ───────────────────────────────────────────────────────────────────────────────────────────────────────────────── \n"
      ]
     },
     "metadata": {},
     "output_type": "display_data"
    },
    {
     "data": {
      "text/html": [
       "<pre style=\"white-space:pre;overflow-x:auto;line-height:normal;font-family:Menlo,'DejaVu Sans Mono',consolas,'Courier New',monospace\"><span style=\"font-weight: bold\">Execution logs:</span>\n",
       "## Search Results\n",
       "\n",
       "[HTTPS FAQs - Transparency Report Help Center - Google \n",
       "Help](https://support.google.com/transparencyreport/answer/7381231?hl=en)\n",
       "HTTPS at Google What is encryption? Encryption is the modern-day method of protecting electronic information, just \n",
       "as safes and combination locks protected information on paper in the past\n",
       "\n",
       "[Clear cache &amp; cookies - Computer - Google Account \n",
       "Help](https://support.google.com/accounts/answer/32050?hl=en&amp;co=GENIE.Platform=Desktop)\n",
       "On your computer, open Chrome. At the top right, click More Delete browsing data. Choose a time range, like Last \n",
       "hour or All time. Select the types of information you want to remove. Click Delete …\n",
       "\n",
       "[Install Drive for desktop - Google Workspace Learning \n",
       "Center](https://support.google.com/a/users/answer/13022292?hl=en)\n",
       "You can find and open your files from Google Drive on your computer with Drive for desktop. You can use Drive for \n",
       "desktop to keep your fil\n",
       "\n",
       "[Browse in Incognito mode - Computer - Google Chrome \n",
       "Help](https://support.google.com/chrome/answer/95464?hl=en&amp;co=GENIE.Platform=Desktop)\n",
       "Open Incognito mode Important: When you use an Incognito window, you can browse more privately. You can switch \n",
       "between Incognito tabs and regular Chrome tabs. On your computer, …\n",
       "\n",
       "[Secure a hacked or compromised Google Account - Google \n",
       "…](https://support.google.com/accounts/answer/6294825?hl=en)\n",
       "Go to the account recovery page, and answer the questions as best you can. These tips can help. Use the account \n",
       "recovery page if: Someone changed your account info, like your password or …\n",
       "\n",
       "[Download and install Google \n",
       "Chrome](https://support.google.com/chrome/answer/95346?hl=en&amp;co=GENIE.Platform=Desktop)\n",
       "How to install Chrome Important: Before you download, you can check if Chrome supports your operating system and \n",
       "other system requirements.\n",
       "\n",
       "[How to recover your Google Account or Gmail](https://support.google.com/accounts/answer/7682439?hl=en)\n",
       "To find your username, follow these steps. You need to know: A phone number or the recovery email address for the \n",
       "account. The full name on your account. Follow the instructions to confirm …\n",
       "\n",
       "[Download the YouTube mobile app - Android - YouTube \n",
       "Help](https://support.google.com/youtube/answer/3227660?hl=en&amp;co=GENIE.Platform=Android)\n",
       "Download the YouTube app for a richer viewing experience on your smartphone.\n",
       "\n",
       "[Add or remove an account on Android - Google Help](https://support.google.com/android/answer/7664951?hl=en)\n",
       "When you add a Google account, the information associated with that account, such as your email and contacts, is \n",
       "automatically added to your phone. When you remove an account, you also …\n",
       "\n",
       "[Sign in with app passwords - Google Account Help](https://support.google.com/accounts/answer/185833?hl=en)\n",
       "Tip: Don't create an app password unless the app or device you want to connect to your account doesn't have \"Sign \n",
       "in with Google.\"\n",
       "\n",
       "Out: None\n",
       "</pre>\n"
      ],
      "text/plain": [
       "\u001b[1mExecution logs:\u001b[0m\n",
       "## Search Results\n",
       "\n",
       "[HTTPS FAQs - Transparency Report Help Center - Google \n",
       "Help](https://support.google.com/transparencyreport/answer/7381231?hl=en)\n",
       "HTTPS at Google What is encryption? Encryption is the modern-day method of protecting electronic information, just \n",
       "as safes and combination locks protected information on paper in the past\n",
       "\n",
       "[Clear cache & cookies - Computer - Google Account \n",
       "Help](https://support.google.com/accounts/answer/32050?hl=en&co=GENIE.Platform=Desktop)\n",
       "On your computer, open Chrome. At the top right, click More Delete browsing data. Choose a time range, like Last \n",
       "hour or All time. Select the types of information you want to remove. Click Delete …\n",
       "\n",
       "[Install Drive for desktop - Google Workspace Learning \n",
       "Center](https://support.google.com/a/users/answer/13022292?hl=en)\n",
       "You can find and open your files from Google Drive on your computer with Drive for desktop. You can use Drive for \n",
       "desktop to keep your fil\n",
       "\n",
       "[Browse in Incognito mode - Computer - Google Chrome \n",
       "Help](https://support.google.com/chrome/answer/95464?hl=en&co=GENIE.Platform=Desktop)\n",
       "Open Incognito mode Important: When you use an Incognito window, you can browse more privately. You can switch \n",
       "between Incognito tabs and regular Chrome tabs. On your computer, …\n",
       "\n",
       "[Secure a hacked or compromised Google Account - Google \n",
       "…](https://support.google.com/accounts/answer/6294825?hl=en)\n",
       "Go to the account recovery page, and answer the questions as best you can. These tips can help. Use the account \n",
       "recovery page if: Someone changed your account info, like your password or …\n",
       "\n",
       "[Download and install Google \n",
       "Chrome](https://support.google.com/chrome/answer/95346?hl=en&co=GENIE.Platform=Desktop)\n",
       "How to install Chrome Important: Before you download, you can check if Chrome supports your operating system and \n",
       "other system requirements.\n",
       "\n",
       "[How to recover your Google Account or Gmail](https://support.google.com/accounts/answer/7682439?hl=en)\n",
       "To find your username, follow these steps. You need to know: A phone number or the recovery email address for the \n",
       "account. The full name on your account. Follow the instructions to confirm …\n",
       "\n",
       "[Download the YouTube mobile app - Android - YouTube \n",
       "Help](https://support.google.com/youtube/answer/3227660?hl=en&co=GENIE.Platform=Android)\n",
       "Download the YouTube app for a richer viewing experience on your smartphone.\n",
       "\n",
       "[Add or remove an account on Android - Google Help](https://support.google.com/android/answer/7664951?hl=en)\n",
       "When you add a Google account, the information associated with that account, such as your email and contacts, is \n",
       "automatically added to your phone. When you remove an account, you also …\n",
       "\n",
       "[Sign in with app passwords - Google Account Help](https://support.google.com/accounts/answer/185833?hl=en)\n",
       "Tip: Don't create an app password unless the app or device you want to connect to your account doesn't have \"Sign \n",
       "in with Google.\"\n",
       "\n",
       "Out: None\n"
      ]
     },
     "metadata": {},
     "output_type": "display_data"
    },
    {
     "data": {
      "text/html": [
       "<pre style=\"white-space:pre;overflow-x:auto;line-height:normal;font-family:Menlo,'DejaVu Sans Mono',consolas,'Courier New',monospace\"><span style=\"color: #7f7f7f; text-decoration-color: #7f7f7f\">[Step 11: Duration 1.48 seconds| Input tokens: 79,971 | Output tokens: 764]</span>\n",
       "</pre>\n"
      ],
      "text/plain": [
       "\u001b[2m[Step 11: Duration 1.48 seconds| Input tokens: 79,971 | Output tokens: 764]\u001b[0m\n"
      ]
     },
     "metadata": {},
     "output_type": "display_data"
    },
    {
     "data": {
      "text/html": [
       "<pre style=\"white-space:pre;overflow-x:auto;line-height:normal;font-family:Menlo,'DejaVu Sans Mono',consolas,'Courier New',monospace\"><span style=\"color: #d4b702; text-decoration-color: #d4b702\">━━━━━━━━━━━━━━━━━━━━━━━━━━━━━━━━━━━━━━━━━━━━━━━━━━━━━ </span><span style=\"font-weight: bold\">Step 12</span><span style=\"color: #d4b702; text-decoration-color: #d4b702\"> ━━━━━━━━━━━━━━━━━━━━━━━━━━━━━━━━━━━━━━━━━━━━━━━━━━━━━</span>\n",
       "</pre>\n"
      ],
      "text/plain": [
       "\u001b[38;2;212;183;2m━━━━━━━━━━━━━━━━━━━━━━━━━━━━━━━━━━━━━━━━━━━━━━━━━━━━━ \u001b[0m\u001b[1mStep 12\u001b[0m\u001b[38;2;212;183;2m ━━━━━━━━━━━━━━━━━━━━━━━━━━━━━━━━━━━━━━━━━━━━━━━━━━━━━\u001b[0m\n"
      ]
     },
     "metadata": {},
     "output_type": "display_data"
    },
    {
     "data": {
      "text/html": [
       "<pre style=\"white-space:pre;overflow-x:auto;line-height:normal;font-family:Menlo,'DejaVu Sans Mono',consolas,'Courier New',monospace\"> ─ <span style=\"font-weight: bold\">Executing parsed code:</span> ──────────────────────────────────────────────────────────────────────────────────────── \n",
       "  <span style=\"color: #f8f8f2; text-decoration-color: #f8f8f2; background-color: #272822\">page_content </span><span style=\"color: #ff4689; text-decoration-color: #ff4689; background-color: #272822\">=</span><span style=\"color: #f8f8f2; text-decoration-color: #f8f8f2; background-color: #272822\"> </span><span style=\"background-color: #272822\">                                                                                                </span>  \n",
       "  <span style=\"color: #f8f8f2; text-decoration-color: #f8f8f2; background-color: #272822\">web_search(</span><span style=\"color: #e6db74; text-decoration-color: #e6db74; background-color: #272822\">\"https://www.analyticsinsight.net/artificial-intelligence/top-10-deep-learning-frameworks-you-should</span>  \n",
       "  <span style=\"color: #e6db74; text-decoration-color: #e6db74; background-color: #272822\">-know-in-2025\"</span><span style=\"color: #f8f8f2; text-decoration-color: #f8f8f2; background-color: #272822\">)</span><span style=\"background-color: #272822\">                                                                                                </span>  \n",
       "  <span style=\"color: #f8f8f2; text-decoration-color: #f8f8f2; background-color: #272822\">print(page_content)</span><span style=\"background-color: #272822\">                                                                                            </span>  \n",
       " ───────────────────────────────────────────────────────────────────────────────────────────────────────────────── \n",
       "</pre>\n"
      ],
      "text/plain": [
       " ─ \u001b[1mExecuting parsed code:\u001b[0m ──────────────────────────────────────────────────────────────────────────────────────── \n",
       "  \u001b[38;2;248;248;242;48;2;39;40;34mpage_content\u001b[0m\u001b[38;2;248;248;242;48;2;39;40;34m \u001b[0m\u001b[38;2;255;70;137;48;2;39;40;34m=\u001b[0m\u001b[38;2;248;248;242;48;2;39;40;34m \u001b[0m\u001b[48;2;39;40;34m                                                                                                \u001b[0m  \n",
       "  \u001b[38;2;248;248;242;48;2;39;40;34mweb_search\u001b[0m\u001b[38;2;248;248;242;48;2;39;40;34m(\u001b[0m\u001b[38;2;230;219;116;48;2;39;40;34m\"\u001b[0m\u001b[38;2;230;219;116;48;2;39;40;34mhttps://www.analyticsinsight.net/artificial-intelligence/top-10-deep-learning-frameworks-you-should\u001b[0m  \n",
       "  \u001b[38;2;230;219;116;48;2;39;40;34m-know-in-2025\u001b[0m\u001b[38;2;230;219;116;48;2;39;40;34m\"\u001b[0m\u001b[38;2;248;248;242;48;2;39;40;34m)\u001b[0m\u001b[48;2;39;40;34m                                                                                                \u001b[0m  \n",
       "  \u001b[38;2;248;248;242;48;2;39;40;34mprint\u001b[0m\u001b[38;2;248;248;242;48;2;39;40;34m(\u001b[0m\u001b[38;2;248;248;242;48;2;39;40;34mpage_content\u001b[0m\u001b[38;2;248;248;242;48;2;39;40;34m)\u001b[0m\u001b[48;2;39;40;34m                                                                                            \u001b[0m  \n",
       " ───────────────────────────────────────────────────────────────────────────────────────────────────────────────── \n"
      ]
     },
     "metadata": {},
     "output_type": "display_data"
    },
    {
     "data": {
      "text/html": [
       "<pre style=\"white-space:pre;overflow-x:auto;line-height:normal;font-family:Menlo,'DejaVu Sans Mono',consolas,'Courier New',monospace\"><span style=\"font-weight: bold\">Execution logs:</span>\n",
       "## Search Results\n",
       "\n",
       "[10 Deep Learning Frameworks for AI in \n",
       "2025](https://www.analyticsinsight.net/artificial-intelligence/top-10-deep-learning-frameworks-you-should-know-in-2\n",
       "025)\n",
       "Discover the top 10 AI frameworks shaping deep learning in 2025 . From TensorFlow to Hugging Face, explore tools \n",
       "driving innovation.\n",
       "\n",
       "[Best Artificial Intelligence Software: User Reviews from October \n",
       "2025](https://www.g2.com/categories/artificial-intelligence)\n",
       "Looking to explore the latest in Artifical Intelligence (AI) software solutions? Read real user reviews, compare \n",
       "pricing, alternative software products...\n",
       "\n",
       "[Machine Learning (ML) for Natural Language Processing... - \n",
       "Lexalytics](https://www.lexalytics.com/blog/machine-learning-natural-language-processing/)\n",
       "This article explains how machine learning can solve problems in natural language processing and text analytics and\n",
       "why a hybrid ML-NLP approach is best.\n",
       "\n",
       "[Grammar - Learning English Online](https://www.learning-english-online.net/grammar/)\n",
       "Detailed explanations and diverse exercises on English grammar. With many examples of how to form and how to use \n",
       "grammatical structures. Learning English Online.\n",
       "\n",
       "[deeplearning.ai/short-courses/finetuning-large-language-models](https://www.deeplearning.ai/short-courses/finetuni\n",
       "ng-large-language-models/)\n",
       "The site owner hides the web page description.\n",
       "\n",
       "[Font Generator 𝒞𝑜𝓅𝓎 𝒶𝓃𝒹 𝒫𝒶𝓈𝓉𝑒 Stylish...](https://www.fontgen.net/)\n",
       "Discover New Stylish Fonts! Use our Font Generator and Font Changer to transform your text for social media and \n",
       "chats. Copy and paste fancy text for free today!\n",
       "\n",
       "[OSINT Framework](https://osintframework.com/)\n",
       "OSINT Framework . Training. Documentation / Evidence Capture. OpSec. Threat Intelligence . Exploits &amp; Advisories. \n",
       "Malicious File Analysis. AI Tools. Tools. Encoding / Decoding.\n",
       "\n",
       "[Welcome to PyTorch Lightning — PyTorch Lightning...](https://lightning.ai/docs/pytorch/stable/)\n",
       "Animation showing how to convert standard training code to Lightning. PyTorch Lightning is the deep learning \n",
       "framework for professional AI researchers and machine learning engineers...\n",
       "\n",
       "[PoE 2 Builds - Best Endgame Builds &amp; Guides for Each Class](https://mobalytics.gg/poe-2/builds)\n",
       "Explore the best, most effective, and downright broken PoE 2 builds. Comprehensive guides on skill gems, playstyle,\n",
       "items and more.\n",
       "\n",
       "[Книга Фанфиков - более 25000 фэндомов, ориджиналы от...](https://ficbook.net/)\n",
       "Книга Фанфиков - более 25000 фэндомов, ориджиналы от популярных авторов. Рассказы о героях известных фильмов, книг,\n",
       "аниме или игр...\n",
       "\n",
       "Out: None\n",
       "</pre>\n"
      ],
      "text/plain": [
       "\u001b[1mExecution logs:\u001b[0m\n",
       "## Search Results\n",
       "\n",
       "[10 Deep Learning Frameworks for AI in \n",
       "2025](https://www.analyticsinsight.net/artificial-intelligence/top-10-deep-learning-frameworks-you-should-know-in-2\n",
       "025)\n",
       "Discover the top 10 AI frameworks shaping deep learning in 2025 . From TensorFlow to Hugging Face, explore tools \n",
       "driving innovation.\n",
       "\n",
       "[Best Artificial Intelligence Software: User Reviews from October \n",
       "2025](https://www.g2.com/categories/artificial-intelligence)\n",
       "Looking to explore the latest in Artifical Intelligence (AI) software solutions? Read real user reviews, compare \n",
       "pricing, alternative software products...\n",
       "\n",
       "[Machine Learning (ML) for Natural Language Processing... - \n",
       "Lexalytics](https://www.lexalytics.com/blog/machine-learning-natural-language-processing/)\n",
       "This article explains how machine learning can solve problems in natural language processing and text analytics and\n",
       "why a hybrid ML-NLP approach is best.\n",
       "\n",
       "[Grammar - Learning English Online](https://www.learning-english-online.net/grammar/)\n",
       "Detailed explanations and diverse exercises on English grammar. With many examples of how to form and how to use \n",
       "grammatical structures. Learning English Online.\n",
       "\n",
       "[deeplearning.ai/short-courses/finetuning-large-language-models](https://www.deeplearning.ai/short-courses/finetuni\n",
       "ng-large-language-models/)\n",
       "The site owner hides the web page description.\n",
       "\n",
       "[Font Generator 𝒞𝑜𝓅𝓎 𝒶𝓃𝒹 𝒫𝒶𝓈𝓉𝑒 Stylish...](https://www.fontgen.net/)\n",
       "Discover New Stylish Fonts! Use our Font Generator and Font Changer to transform your text for social media and \n",
       "chats. Copy and paste fancy text for free today!\n",
       "\n",
       "[OSINT Framework](https://osintframework.com/)\n",
       "OSINT Framework . Training. Documentation / Evidence Capture. OpSec. Threat Intelligence . Exploits & Advisories. \n",
       "Malicious File Analysis. AI Tools. Tools. Encoding / Decoding.\n",
       "\n",
       "[Welcome to PyTorch Lightning — PyTorch Lightning...](https://lightning.ai/docs/pytorch/stable/)\n",
       "Animation showing how to convert standard training code to Lightning. PyTorch Lightning is the deep learning \n",
       "framework for professional AI researchers and machine learning engineers...\n",
       "\n",
       "[PoE 2 Builds - Best Endgame Builds & Guides for Each Class](https://mobalytics.gg/poe-2/builds)\n",
       "Explore the best, most effective, and downright broken PoE 2 builds. Comprehensive guides on skill gems, playstyle,\n",
       "items and more.\n",
       "\n",
       "[Книга Фанфиков - более 25000 фэндомов, ориджиналы от...](https://ficbook.net/)\n",
       "Книга Фанфиков - более 25000 фэндомов, ориджиналы от популярных авторов. Рассказы о героях известных фильмов, книг,\n",
       "аниме или игр...\n",
       "\n",
       "Out: None\n"
      ]
     },
     "metadata": {},
     "output_type": "display_data"
    },
    {
     "data": {
      "text/html": [
       "<pre style=\"white-space:pre;overflow-x:auto;line-height:normal;font-family:Menlo,'DejaVu Sans Mono',consolas,'Courier New',monospace\"><span style=\"color: #7f7f7f; text-decoration-color: #7f7f7f\">[Step 12: Duration 2.42 seconds| Input tokens: 93,823 | Output tokens: 858]</span>\n",
       "</pre>\n"
      ],
      "text/plain": [
       "\u001b[2m[Step 12: Duration 2.42 seconds| Input tokens: 93,823 | Output tokens: 858]\u001b[0m\n"
      ]
     },
     "metadata": {},
     "output_type": "display_data"
    },
    {
     "data": {
      "text/html": [
       "<pre style=\"white-space:pre;overflow-x:auto;line-height:normal;font-family:Menlo,'DejaVu Sans Mono',consolas,'Courier New',monospace\"><span style=\"color: #d4b702; text-decoration-color: #d4b702\">━━━━━━━━━━━━━━━━━━━━━━━━━━━━━━━━━━━━━━━━━━━━━━━━━━━━━ </span><span style=\"font-weight: bold\">Step 13</span><span style=\"color: #d4b702; text-decoration-color: #d4b702\"> ━━━━━━━━━━━━━━━━━━━━━━━━━━━━━━━━━━━━━━━━━━━━━━━━━━━━━</span>\n",
       "</pre>\n"
      ],
      "text/plain": [
       "\u001b[38;2;212;183;2m━━━━━━━━━━━━━━━━━━━━━━━━━━━━━━━━━━━━━━━━━━━━━━━━━━━━━ \u001b[0m\u001b[1mStep 13\u001b[0m\u001b[38;2;212;183;2m ━━━━━━━━━━━━━━━━━━━━━━━━━━━━━━━━━━━━━━━━━━━━━━━━━━━━━\u001b[0m\n"
      ]
     },
     "metadata": {},
     "output_type": "display_data"
    },
    {
     "data": {
      "text/html": [
       "<pre style=\"white-space:pre;overflow-x:auto;line-height:normal;font-family:Menlo,'DejaVu Sans Mono',consolas,'Courier New',monospace\"> ─ <span style=\"font-weight: bold\">Executing parsed code:</span> ──────────────────────────────────────────────────────────────────────────────────────── \n",
       "  <span style=\"color: #f8f8f2; text-decoration-color: #f8f8f2; background-color: #272822\">page_content </span><span style=\"color: #ff4689; text-decoration-color: #ff4689; background-color: #272822\">=</span><span style=\"color: #f8f8f2; text-decoration-color: #f8f8f2; background-color: #272822\"> web_search(</span><span style=\"color: #e6db74; text-decoration-color: #e6db74; background-color: #272822\">\"https://www.weetechsolution.com/blog/most-popular-deep-learning-frameworks\"</span><span style=\"color: #f8f8f2; text-decoration-color: #f8f8f2; background-color: #272822\">)</span><span style=\"background-color: #272822\">        </span>  \n",
       "  <span style=\"color: #f8f8f2; text-decoration-color: #f8f8f2; background-color: #272822\">print(page_content)</span><span style=\"background-color: #272822\">                                                                                            </span>  \n",
       " ───────────────────────────────────────────────────────────────────────────────────────────────────────────────── \n",
       "</pre>\n"
      ],
      "text/plain": [
       " ─ \u001b[1mExecuting parsed code:\u001b[0m ──────────────────────────────────────────────────────────────────────────────────────── \n",
       "  \u001b[38;2;248;248;242;48;2;39;40;34mpage_content\u001b[0m\u001b[38;2;248;248;242;48;2;39;40;34m \u001b[0m\u001b[38;2;255;70;137;48;2;39;40;34m=\u001b[0m\u001b[38;2;248;248;242;48;2;39;40;34m \u001b[0m\u001b[38;2;248;248;242;48;2;39;40;34mweb_search\u001b[0m\u001b[38;2;248;248;242;48;2;39;40;34m(\u001b[0m\u001b[38;2;230;219;116;48;2;39;40;34m\"\u001b[0m\u001b[38;2;230;219;116;48;2;39;40;34mhttps://www.weetechsolution.com/blog/most-popular-deep-learning-frameworks\u001b[0m\u001b[38;2;230;219;116;48;2;39;40;34m\"\u001b[0m\u001b[38;2;248;248;242;48;2;39;40;34m)\u001b[0m\u001b[48;2;39;40;34m        \u001b[0m  \n",
       "  \u001b[38;2;248;248;242;48;2;39;40;34mprint\u001b[0m\u001b[38;2;248;248;242;48;2;39;40;34m(\u001b[0m\u001b[38;2;248;248;242;48;2;39;40;34mpage_content\u001b[0m\u001b[38;2;248;248;242;48;2;39;40;34m)\u001b[0m\u001b[48;2;39;40;34m                                                                                            \u001b[0m  \n",
       " ───────────────────────────────────────────────────────────────────────────────────────────────────────────────── \n"
      ]
     },
     "metadata": {},
     "output_type": "display_data"
    },
    {
     "data": {
      "text/html": [
       "<pre style=\"white-space:pre;overflow-x:auto;line-height:normal;font-family:Menlo,'DejaVu Sans Mono',consolas,'Courier New',monospace\"><span style=\"font-weight: bold\">Execution logs:</span>\n",
       "## Search Results\n",
       "\n",
       "[18 Most Popular Deep Learning Frameworks 2025 | DL \n",
       "Frameworks](https://www.weetechsolution.com/blog/most-popular-deep-learning-frameworks)\n",
       "Which are the Most Popular Deep Learning Frameworks in 2025? Discover the top AI tools transforming machine \n",
       "learning.\n",
       "\n",
       "[Python Modules, Packages, Libraries, and... | LearnPython. \n",
       "com](https://learnpython.com/blog/python-modules-packages-libraries-frameworks/)\n",
       "Let’s discuss the difference between Python modules, packages, libraries, and frameworks – in simple terms and with\n",
       "multiple examples.\n",
       "\n",
       "[learn \n",
       ".deeplearning.ai/courses/chatgpt-prompt-eng/lesson/dfbds...](https://learn.deeplearning.ai/courses/chatgpt-prompt-e\n",
       "ng/lesson/dfbds/introduction)\n",
       "The site owner hides the web page description.\n",
       "\n",
       "[Top 30 Python Libraries To Know in 2025](https://www.mygreatlearning.com/blog/open-source-python-libraries/)\n",
       "Python Libraries: This article gives you a list of python libraries to learn in 2025 and get more insights about \n",
       "open-source libraries.\n",
       "\n",
       "[Популярные ио игры — Играть бесплатно на Titotu.ru](https://titotu.ru/most-popular)\n",
       "Самые популярные игры ио. Играйте в игры ио где угодно и когда угодно с друзьями или онлайн игроками со всего мира.\n",
       "\n",
       "[Секундочку](https://sam-solutions.com/blog/most-popular-java-frameworks/)\n",
       "Пожалуйста, подождите, пока ваш запрос будет проверен…\n",
       "\n",
       "[Топ-17 самых красивых мест на планете, которые стоит \n",
       "увидеть](https://qeepl.com/ru/blog/most-beautiful-places-in-the-world)\n",
       "Откройте для себя самые красивые места планеты, от загадочных гор до живописных побережий, и откройте уникальные \n",
       "природные чудеса.\n",
       "\n",
       "[Тренажерный зал. 20 советов для новичков](https://blog.fitmost.ru/263/trenazhernyj-zal-20-sovetov-dlya-novichkov)\n",
       "Вы решили попробовать сходить в тренажерный зал или после занятий чувствуете себя не так, как ожидали? Изучите эту \n",
       "подборку. Наши советы подскажут, с чего начать, и...\n",
       "\n",
       "[OSINT Framework](https://osintframework.com/)\n",
       "OSINT Framework . Training. Documentation / Evidence Capture. OpSec. Threat Intelligence. Exploits &amp; Advisories. \n",
       "Malicious File Analysis. AI Tools. Tools. Encoding / Decoding. Classifieds.\n",
       "\n",
       "[Сайты, с помощью которых можно проверить текст на...](https://vk.com/wall-96968888_4042)\n",
       "Показал уникальность текста 10%, дал ссылку на сайт, откуда взят текст.\n",
       "\n",
       "Out: None\n",
       "</pre>\n"
      ],
      "text/plain": [
       "\u001b[1mExecution logs:\u001b[0m\n",
       "## Search Results\n",
       "\n",
       "[18 Most Popular Deep Learning Frameworks 2025 | DL \n",
       "Frameworks](https://www.weetechsolution.com/blog/most-popular-deep-learning-frameworks)\n",
       "Which are the Most Popular Deep Learning Frameworks in 2025? Discover the top AI tools transforming machine \n",
       "learning.\n",
       "\n",
       "[Python Modules, Packages, Libraries, and... | LearnPython. \n",
       "com](https://learnpython.com/blog/python-modules-packages-libraries-frameworks/)\n",
       "Let’s discuss the difference between Python modules, packages, libraries, and frameworks – in simple terms and with\n",
       "multiple examples.\n",
       "\n",
       "[learn \n",
       ".deeplearning.ai/courses/chatgpt-prompt-eng/lesson/dfbds...](https://learn.deeplearning.ai/courses/chatgpt-prompt-e\n",
       "ng/lesson/dfbds/introduction)\n",
       "The site owner hides the web page description.\n",
       "\n",
       "[Top 30 Python Libraries To Know in 2025](https://www.mygreatlearning.com/blog/open-source-python-libraries/)\n",
       "Python Libraries: This article gives you a list of python libraries to learn in 2025 and get more insights about \n",
       "open-source libraries.\n",
       "\n",
       "[Популярные ио игры — Играть бесплатно на Titotu.ru](https://titotu.ru/most-popular)\n",
       "Самые популярные игры ио. Играйте в игры ио где угодно и когда угодно с друзьями или онлайн игроками со всего мира.\n",
       "\n",
       "[Секундочку](https://sam-solutions.com/blog/most-popular-java-frameworks/)\n",
       "Пожалуйста, подождите, пока ваш запрос будет проверен…\n",
       "\n",
       "[Топ-17 самых красивых мест на планете, которые стоит \n",
       "увидеть](https://qeepl.com/ru/blog/most-beautiful-places-in-the-world)\n",
       "Откройте для себя самые красивые места планеты, от загадочных гор до живописных побережий, и откройте уникальные \n",
       "природные чудеса.\n",
       "\n",
       "[Тренажерный зал. 20 советов для новичков](https://blog.fitmost.ru/263/trenazhernyj-zal-20-sovetov-dlya-novichkov)\n",
       "Вы решили попробовать сходить в тренажерный зал или после занятий чувствуете себя не так, как ожидали? Изучите эту \n",
       "подборку. Наши советы подскажут, с чего начать, и...\n",
       "\n",
       "[OSINT Framework](https://osintframework.com/)\n",
       "OSINT Framework . Training. Documentation / Evidence Capture. OpSec. Threat Intelligence. Exploits & Advisories. \n",
       "Malicious File Analysis. AI Tools. Tools. Encoding / Decoding. Classifieds.\n",
       "\n",
       "[Сайты, с помощью которых можно проверить текст на...](https://vk.com/wall-96968888_4042)\n",
       "Показал уникальность текста 10%, дал ссылку на сайт, откуда взят текст.\n",
       "\n",
       "Out: None\n"
      ]
     },
     "metadata": {},
     "output_type": "display_data"
    },
    {
     "data": {
      "text/html": [
       "<pre style=\"white-space:pre;overflow-x:auto;line-height:normal;font-family:Menlo,'DejaVu Sans Mono',consolas,'Courier New',monospace\"><span style=\"color: #7f7f7f; text-decoration-color: #7f7f7f\">[Step 13: Duration 2.96 seconds| Input tokens: 108,528 | Output tokens: 938]</span>\n",
       "</pre>\n"
      ],
      "text/plain": [
       "\u001b[2m[Step 13: Duration 2.96 seconds| Input tokens: 108,528 | Output tokens: 938]\u001b[0m\n"
      ]
     },
     "metadata": {},
     "output_type": "display_data"
    },
    {
     "data": {
      "text/html": [
       "<pre style=\"white-space:pre;overflow-x:auto;line-height:normal;font-family:Menlo,'DejaVu Sans Mono',consolas,'Courier New',monospace\"><span style=\"color: #d4b702; text-decoration-color: #d4b702\">━━━━━━━━━━━━━━━━━━━━━━━━━━━━━━━━━━━━━━━━━━━━━━━━━━━━━ </span><span style=\"font-weight: bold\">Step 14</span><span style=\"color: #d4b702; text-decoration-color: #d4b702\"> ━━━━━━━━━━━━━━━━━━━━━━━━━━━━━━━━━━━━━━━━━━━━━━━━━━━━━</span>\n",
       "</pre>\n"
      ],
      "text/plain": [
       "\u001b[38;2;212;183;2m━━━━━━━━━━━━━━━━━━━━━━━━━━━━━━━━━━━━━━━━━━━━━━━━━━━━━ \u001b[0m\u001b[1mStep 14\u001b[0m\u001b[38;2;212;183;2m ━━━━━━━━━━━━━━━━━━━━━━━━━━━━━━━━━━━━━━━━━━━━━━━━━━━━━\u001b[0m\n"
      ]
     },
     "metadata": {},
     "output_type": "display_data"
    },
    {
     "data": {
      "text/html": [
       "<pre style=\"white-space:pre;overflow-x:auto;line-height:normal;font-family:Menlo,'DejaVu Sans Mono',consolas,'Courier New',monospace\"> ─ <span style=\"font-weight: bold\">Executing parsed code:</span> ──────────────────────────────────────────────────────────────────────────────────────── \n",
       "  <span style=\"color: #f8f8f2; text-decoration-color: #f8f8f2; background-color: #272822\">page_content </span><span style=\"color: #ff4689; text-decoration-color: #ff4689; background-color: #272822\">=</span><span style=\"color: #f8f8f2; text-decoration-color: #f8f8f2; background-color: #272822\"> </span><span style=\"background-color: #272822\">                                                                                                </span>  \n",
       "  <span style=\"color: #f8f8f2; text-decoration-color: #f8f8f2; background-color: #272822\">web_search(</span><span style=\"color: #e6db74; text-decoration-color: #e6db74; background-color: #272822\">\"https://www.simplilearn.com/tutorials/deep-learning-tutorial/deep-learning-frameworks\"</span><span style=\"color: #f8f8f2; text-decoration-color: #f8f8f2; background-color: #272822\">)</span><span style=\"background-color: #272822\">            </span>  \n",
       "  <span style=\"color: #f8f8f2; text-decoration-color: #f8f8f2; background-color: #272822\">print(page_content)</span><span style=\"background-color: #272822\">                                                                                            </span>  \n",
       " ───────────────────────────────────────────────────────────────────────────────────────────────────────────────── \n",
       "</pre>\n"
      ],
      "text/plain": [
       " ─ \u001b[1mExecuting parsed code:\u001b[0m ──────────────────────────────────────────────────────────────────────────────────────── \n",
       "  \u001b[38;2;248;248;242;48;2;39;40;34mpage_content\u001b[0m\u001b[38;2;248;248;242;48;2;39;40;34m \u001b[0m\u001b[38;2;255;70;137;48;2;39;40;34m=\u001b[0m\u001b[38;2;248;248;242;48;2;39;40;34m \u001b[0m\u001b[48;2;39;40;34m                                                                                                \u001b[0m  \n",
       "  \u001b[38;2;248;248;242;48;2;39;40;34mweb_search\u001b[0m\u001b[38;2;248;248;242;48;2;39;40;34m(\u001b[0m\u001b[38;2;230;219;116;48;2;39;40;34m\"\u001b[0m\u001b[38;2;230;219;116;48;2;39;40;34mhttps://www.simplilearn.com/tutorials/deep-learning-tutorial/deep-learning-frameworks\u001b[0m\u001b[38;2;230;219;116;48;2;39;40;34m\"\u001b[0m\u001b[38;2;248;248;242;48;2;39;40;34m)\u001b[0m\u001b[48;2;39;40;34m            \u001b[0m  \n",
       "  \u001b[38;2;248;248;242;48;2;39;40;34mprint\u001b[0m\u001b[38;2;248;248;242;48;2;39;40;34m(\u001b[0m\u001b[38;2;248;248;242;48;2;39;40;34mpage_content\u001b[0m\u001b[38;2;248;248;242;48;2;39;40;34m)\u001b[0m\u001b[48;2;39;40;34m                                                                                            \u001b[0m  \n",
       " ───────────────────────────────────────────────────────────────────────────────────────────────────────────────── \n"
      ]
     },
     "metadata": {},
     "output_type": "display_data"
    },
    {
     "data": {
      "text/html": [
       "<pre style=\"white-space:pre;overflow-x:auto;line-height:normal;font-family:Menlo,'DejaVu Sans Mono',consolas,'Courier New',monospace\"><span style=\"font-weight: bold\">Execution logs:</span>\n",
       "## Search Results\n",
       "\n",
       "[HTTPS FAQs - Transparency Report Help Center - Google \n",
       "Help](https://support.google.com/transparencyreport/answer/7381231?hl=en)\n",
       "HTTPS at Google What is encryption? Encryption is the modern-day method of protecting electronic information, just \n",
       "as safes and combination locks protected information on paper in the past\n",
       "\n",
       "[Clear cache &amp; cookies - Computer - Google Account \n",
       "Help](https://support.google.com/accounts/answer/32050?hl=en&amp;co=GENIE.Platform=Desktop)\n",
       "On your computer, open Chrome. At the top right, click More Delete browsing data. Choose a time range, like Last \n",
       "hour or All time. Select the types of information you want to remove. Click Delete …\n",
       "\n",
       "[Install Drive for desktop - Google Workspace Learning \n",
       "Center](https://support.google.com/a/users/answer/13022292?hl=en)\n",
       "You can find and open your files from Google Drive on your computer with Drive for desktop. You can use Drive for \n",
       "desktop to keep your fil\n",
       "\n",
       "[Browse in Incognito mode - Computer - Google Chrome \n",
       "Help](https://support.google.com/chrome/answer/95464?hl=en&amp;co=GENIE.Platform=Desktop)\n",
       "Open Incognito mode Important: When you use an Incognito window, you can browse more privately. You can switch \n",
       "between Incognito tabs and regular Chrome tabs. On your computer, …\n",
       "\n",
       "[Secure a hacked or compromised Google Account - Google \n",
       "…](https://support.google.com/accounts/answer/6294825?hl=en)\n",
       "Go to the account recovery page, and answer the questions as best you can. These tips can help. Use the account \n",
       "recovery page if: Someone changed your account info, like your password or …\n",
       "\n",
       "[Download and install Google \n",
       "Chrome](https://support.google.com/chrome/answer/95346?hl=en&amp;co=GENIE.Platform=Desktop)\n",
       "How to install Chrome Important: Before you download, you can check if Chrome supports your operating system and \n",
       "other system requirements.\n",
       "\n",
       "[How to recover your Google Account or Gmail](https://support.google.com/accounts/answer/7682439?hl=en)\n",
       "To find your username, follow these steps. You need to know: A phone number or the recovery email address for the \n",
       "account. The full name on your account. Follow the instructions to confirm …\n",
       "\n",
       "[Download the YouTube mobile app - Android - YouTube \n",
       "Help](https://support.google.com/youtube/answer/3227660?hl=en&amp;co=GENIE.Platform=Android)\n",
       "Download the YouTube app for a richer viewing experience on your smartphone.\n",
       "\n",
       "[Add or remove an account on Android - Google Help](https://support.google.com/android/answer/7664951?hl=en)\n",
       "When you add a Google account, the information associated with that account, such as your email and contacts, is \n",
       "automatically added to your phone. When you remove an account, you also …\n",
       "\n",
       "[Sign in with app passwords - Google Account Help](https://support.google.com/accounts/answer/185833?hl=en)\n",
       "Tip: Don't create an app password unless the app or device you want to connect to your account doesn't have \"Sign \n",
       "in with Google.\"\n",
       "\n",
       "Out: None\n",
       "</pre>\n"
      ],
      "text/plain": [
       "\u001b[1mExecution logs:\u001b[0m\n",
       "## Search Results\n",
       "\n",
       "[HTTPS FAQs - Transparency Report Help Center - Google \n",
       "Help](https://support.google.com/transparencyreport/answer/7381231?hl=en)\n",
       "HTTPS at Google What is encryption? Encryption is the modern-day method of protecting electronic information, just \n",
       "as safes and combination locks protected information on paper in the past\n",
       "\n",
       "[Clear cache & cookies - Computer - Google Account \n",
       "Help](https://support.google.com/accounts/answer/32050?hl=en&co=GENIE.Platform=Desktop)\n",
       "On your computer, open Chrome. At the top right, click More Delete browsing data. Choose a time range, like Last \n",
       "hour or All time. Select the types of information you want to remove. Click Delete …\n",
       "\n",
       "[Install Drive for desktop - Google Workspace Learning \n",
       "Center](https://support.google.com/a/users/answer/13022292?hl=en)\n",
       "You can find and open your files from Google Drive on your computer with Drive for desktop. You can use Drive for \n",
       "desktop to keep your fil\n",
       "\n",
       "[Browse in Incognito mode - Computer - Google Chrome \n",
       "Help](https://support.google.com/chrome/answer/95464?hl=en&co=GENIE.Platform=Desktop)\n",
       "Open Incognito mode Important: When you use an Incognito window, you can browse more privately. You can switch \n",
       "between Incognito tabs and regular Chrome tabs. On your computer, …\n",
       "\n",
       "[Secure a hacked or compromised Google Account - Google \n",
       "…](https://support.google.com/accounts/answer/6294825?hl=en)\n",
       "Go to the account recovery page, and answer the questions as best you can. These tips can help. Use the account \n",
       "recovery page if: Someone changed your account info, like your password or …\n",
       "\n",
       "[Download and install Google \n",
       "Chrome](https://support.google.com/chrome/answer/95346?hl=en&co=GENIE.Platform=Desktop)\n",
       "How to install Chrome Important: Before you download, you can check if Chrome supports your operating system and \n",
       "other system requirements.\n",
       "\n",
       "[How to recover your Google Account or Gmail](https://support.google.com/accounts/answer/7682439?hl=en)\n",
       "To find your username, follow these steps. You need to know: A phone number or the recovery email address for the \n",
       "account. The full name on your account. Follow the instructions to confirm …\n",
       "\n",
       "[Download the YouTube mobile app - Android - YouTube \n",
       "Help](https://support.google.com/youtube/answer/3227660?hl=en&co=GENIE.Platform=Android)\n",
       "Download the YouTube app for a richer viewing experience on your smartphone.\n",
       "\n",
       "[Add or remove an account on Android - Google Help](https://support.google.com/android/answer/7664951?hl=en)\n",
       "When you add a Google account, the information associated with that account, such as your email and contacts, is \n",
       "automatically added to your phone. When you remove an account, you also …\n",
       "\n",
       "[Sign in with app passwords - Google Account Help](https://support.google.com/accounts/answer/185833?hl=en)\n",
       "Tip: Don't create an app password unless the app or device you want to connect to your account doesn't have \"Sign \n",
       "in with Google.\"\n",
       "\n",
       "Out: None\n"
      ]
     },
     "metadata": {},
     "output_type": "display_data"
    },
    {
     "data": {
      "text/html": [
       "<pre style=\"white-space:pre;overflow-x:auto;line-height:normal;font-family:Menlo,'DejaVu Sans Mono',consolas,'Courier New',monospace\"><span style=\"color: #7f7f7f; text-decoration-color: #7f7f7f\">[Step 14: Duration 1.89 seconds| Input tokens: 124,058 | Output tokens: 1,019]</span>\n",
       "</pre>\n"
      ],
      "text/plain": [
       "\u001b[2m[Step 14: Duration 1.89 seconds| Input tokens: 124,058 | Output tokens: 1,019]\u001b[0m\n"
      ]
     },
     "metadata": {},
     "output_type": "display_data"
    },
    {
     "data": {
      "text/html": [
       "<pre style=\"white-space:pre;overflow-x:auto;line-height:normal;font-family:Menlo,'DejaVu Sans Mono',consolas,'Courier New',monospace\"><span style=\"color: #d4b702; text-decoration-color: #d4b702\">━━━━━━━━━━━━━━━━━━━━━━━━━━━━━━━━━━━━━━━━━━━━━━━━━━━━━ </span><span style=\"font-weight: bold\">Step 15</span><span style=\"color: #d4b702; text-decoration-color: #d4b702\"> ━━━━━━━━━━━━━━━━━━━━━━━━━━━━━━━━━━━━━━━━━━━━━━━━━━━━━</span>\n",
       "</pre>\n"
      ],
      "text/plain": [
       "\u001b[38;2;212;183;2m━━━━━━━━━━━━━━━━━━━━━━━━━━━━━━━━━━━━━━━━━━━━━━━━━━━━━ \u001b[0m\u001b[1mStep 15\u001b[0m\u001b[38;2;212;183;2m ━━━━━━━━━━━━━━━━━━━━━━━━━━━━━━━━━━━━━━━━━━━━━━━━━━━━━\u001b[0m\n"
      ]
     },
     "metadata": {},
     "output_type": "display_data"
    },
    {
     "data": {
      "text/html": [
       "<pre style=\"white-space:pre;overflow-x:auto;line-height:normal;font-family:Menlo,'DejaVu Sans Mono',consolas,'Courier New',monospace\"> ─ <span style=\"font-weight: bold\">Executing parsed code:</span> ──────────────────────────────────────────────────────────────────────────────────────── \n",
       "  <span style=\"color: #f8f8f2; text-decoration-color: #f8f8f2; background-color: #272822\">page_content </span><span style=\"color: #ff4689; text-decoration-color: #ff4689; background-color: #272822\">=</span><span style=\"color: #f8f8f2; text-decoration-color: #f8f8f2; background-color: #272822\"> web_search(</span><span style=\"color: #e6db74; text-decoration-color: #e6db74; background-color: #272822\">\"https://www.upgrad.com/blog/top-deep-learning-frameworks/\"</span><span style=\"color: #f8f8f2; text-decoration-color: #f8f8f2; background-color: #272822\">)</span><span style=\"background-color: #272822\">                         </span>  \n",
       "  <span style=\"color: #f8f8f2; text-decoration-color: #f8f8f2; background-color: #272822\">print(page_content)</span><span style=\"background-color: #272822\">                                                                                            </span>  \n",
       " ───────────────────────────────────────────────────────────────────────────────────────────────────────────────── \n",
       "</pre>\n"
      ],
      "text/plain": [
       " ─ \u001b[1mExecuting parsed code:\u001b[0m ──────────────────────────────────────────────────────────────────────────────────────── \n",
       "  \u001b[38;2;248;248;242;48;2;39;40;34mpage_content\u001b[0m\u001b[38;2;248;248;242;48;2;39;40;34m \u001b[0m\u001b[38;2;255;70;137;48;2;39;40;34m=\u001b[0m\u001b[38;2;248;248;242;48;2;39;40;34m \u001b[0m\u001b[38;2;248;248;242;48;2;39;40;34mweb_search\u001b[0m\u001b[38;2;248;248;242;48;2;39;40;34m(\u001b[0m\u001b[38;2;230;219;116;48;2;39;40;34m\"\u001b[0m\u001b[38;2;230;219;116;48;2;39;40;34mhttps://www.upgrad.com/blog/top-deep-learning-frameworks/\u001b[0m\u001b[38;2;230;219;116;48;2;39;40;34m\"\u001b[0m\u001b[38;2;248;248;242;48;2;39;40;34m)\u001b[0m\u001b[48;2;39;40;34m                         \u001b[0m  \n",
       "  \u001b[38;2;248;248;242;48;2;39;40;34mprint\u001b[0m\u001b[38;2;248;248;242;48;2;39;40;34m(\u001b[0m\u001b[38;2;248;248;242;48;2;39;40;34mpage_content\u001b[0m\u001b[38;2;248;248;242;48;2;39;40;34m)\u001b[0m\u001b[48;2;39;40;34m                                                                                            \u001b[0m  \n",
       " ───────────────────────────────────────────────────────────────────────────────────────────────────────────────── \n"
      ]
     },
     "metadata": {},
     "output_type": "display_data"
    },
    {
     "data": {
      "text/html": [
       "<pre style=\"white-space:pre;overflow-x:auto;line-height:normal;font-family:Menlo,'DejaVu Sans Mono',consolas,'Courier New',monospace\"><span style=\"font-weight: bold\">Execution logs:</span>\n",
       "## Search Results\n",
       "\n",
       "[Top Deep Learning Frameworks to Learn in 2025 - upGrad](https://www.upgrad.com/blog/top-deep-learning-frameworks/)\n",
       "Jun 23, 2025 · This article ranks the top 15 deep learning frameworks in 2025, emphasizing GPU acceleration and \n",
       "deployment flexibility. Frameworks such as TensorFlow, PyTorch, and Keras are crucial for building high-performance\n",
       "models in areas like autonomous driving and medical imaging.\n",
       "\n",
       "[7 Best Deep Learning Frameworks You Should Know in \n",
       "2025](https://www.geeksforgeeks.org/deep-learning/deep-learning-frameworks/)\n",
       "Sep 13, 2025 · Deep learning frameworks are the backbone of AI development, offering pre-built modules, \n",
       "optimization libraries and deployment tools that make building complex neural networks much faster and easier.\n",
       "\n",
       "[Top 10 Deep Learning Frameworks in 2025: Features, Pros, Cons \n",
       "...](https://www.devopsschool.com/blog/top-10-deep-learning-frameworks-in-2025-features-pros-cons-comparison/)\n",
       "Sep 11, 2025 · This guide explores the top 10 deep learning frameworks in 2025, detailing their features, pros, \n",
       "cons, and a comparison to help you select the best tool for your AI projects.\n",
       "\n",
       "[Top 11 Deep Learning Frameworks in 2025: Comparative Guide \n",
       "...](https://dev.to/marutitech/top-11-deep-learning-frameworks-in-2025-comparative-guide-use-cases-2b74)\n",
       "Jul 22, 2025 · In this post, we present a curated list of the 15 most popular deep learning frameworks shaping the \n",
       "AI landscape in 2025. We'll explore each tool’s unique strengths and innovations to help you choose the perfect \n",
       "foundation for your next AI project. What is a Deep Learning Framework ?\n",
       "\n",
       "[Top Deep Learning Frameworks to Know in 2025 - codewave.com](https://codewave.com/insights/top-dl-frameworks/)\n",
       "Dec 18, 2024 · In this guide, we’ve broken down the top deep learning frameworks for 2025, highlighting the unique \n",
       "features and benefits of each one—so you can find the right tool for your task, without wasting time on frameworks \n",
       "that don’t align with your goals.\n",
       "\n",
       "[18 Most Popular Deep Learning Frameworks in \n",
       "2025](https://www.weetechsolution.com/blog/most-popular-deep-learning-frameworks)\n",
       "Mar 3, 2025 · Which are the Most Popular Deep Learning Frameworks in 2025? Discover the top AI tools transforming \n",
       "machine learning. Read more! Learn how DL frameworks simplify AI development and power the latest Deep Learning \n",
       "Frameworks .\n",
       "\n",
       "[12 Best Java Frameworks for Web Development in 2025](https://radixweb.com/blog/best-java-frameworks)\n",
       "Looking for a Java framework to enable you to build robust, engaging, and adaptive web applications? These 12 Java \n",
       "frameworks are worth looking at!\n",
       "\n",
       "[eArticleBlog - Your pocket guide to Smart Earning.](https://www.earticleblog.com/)\n",
       "Earticleblog empowers you to maximize your earning potential through expert tips on mobile apps, PC programs, and \n",
       "savvy strategies.\n",
       "\n",
       "[Top 100 Universities in USA 2025 with QS &amp; THE \n",
       "Ranking](https://www.gradding.com/blog/study-abroad/top-100-usa-universities)\n",
       "Explore the 100 top universities in USA with their QS World and Times Higher Education ranking, type, and \n",
       "acceptance rate such as MIT, Yale, Harvard, etc.\n",
       "\n",
       "[Top 10 Deep Learning Frameworks in 2025 - 365 Data \n",
       "Science](https://365datascience.com/trending/deep-learning-frameworks/)\n",
       "\n",
       "\n",
       "Out: None\n",
       "</pre>\n"
      ],
      "text/plain": [
       "\u001b[1mExecution logs:\u001b[0m\n",
       "## Search Results\n",
       "\n",
       "[Top Deep Learning Frameworks to Learn in 2025 - upGrad](https://www.upgrad.com/blog/top-deep-learning-frameworks/)\n",
       "Jun 23, 2025 · This article ranks the top 15 deep learning frameworks in 2025, emphasizing GPU acceleration and \n",
       "deployment flexibility. Frameworks such as TensorFlow, PyTorch, and Keras are crucial for building high-performance\n",
       "models in areas like autonomous driving and medical imaging.\n",
       "\n",
       "[7 Best Deep Learning Frameworks You Should Know in \n",
       "2025](https://www.geeksforgeeks.org/deep-learning/deep-learning-frameworks/)\n",
       "Sep 13, 2025 · Deep learning frameworks are the backbone of AI development, offering pre-built modules, \n",
       "optimization libraries and deployment tools that make building complex neural networks much faster and easier.\n",
       "\n",
       "[Top 10 Deep Learning Frameworks in 2025: Features, Pros, Cons \n",
       "...](https://www.devopsschool.com/blog/top-10-deep-learning-frameworks-in-2025-features-pros-cons-comparison/)\n",
       "Sep 11, 2025 · This guide explores the top 10 deep learning frameworks in 2025, detailing their features, pros, \n",
       "cons, and a comparison to help you select the best tool for your AI projects.\n",
       "\n",
       "[Top 11 Deep Learning Frameworks in 2025: Comparative Guide \n",
       "...](https://dev.to/marutitech/top-11-deep-learning-frameworks-in-2025-comparative-guide-use-cases-2b74)\n",
       "Jul 22, 2025 · In this post, we present a curated list of the 15 most popular deep learning frameworks shaping the \n",
       "AI landscape in 2025. We'll explore each tool’s unique strengths and innovations to help you choose the perfect \n",
       "foundation for your next AI project. What is a Deep Learning Framework ?\n",
       "\n",
       "[Top Deep Learning Frameworks to Know in 2025 - codewave.com](https://codewave.com/insights/top-dl-frameworks/)\n",
       "Dec 18, 2024 · In this guide, we’ve broken down the top deep learning frameworks for 2025, highlighting the unique \n",
       "features and benefits of each one—so you can find the right tool for your task, without wasting time on frameworks \n",
       "that don’t align with your goals.\n",
       "\n",
       "[18 Most Popular Deep Learning Frameworks in \n",
       "2025](https://www.weetechsolution.com/blog/most-popular-deep-learning-frameworks)\n",
       "Mar 3, 2025 · Which are the Most Popular Deep Learning Frameworks in 2025? Discover the top AI tools transforming \n",
       "machine learning. Read more! Learn how DL frameworks simplify AI development and power the latest Deep Learning \n",
       "Frameworks .\n",
       "\n",
       "[12 Best Java Frameworks for Web Development in 2025](https://radixweb.com/blog/best-java-frameworks)\n",
       "Looking for a Java framework to enable you to build robust, engaging, and adaptive web applications? These 12 Java \n",
       "frameworks are worth looking at!\n",
       "\n",
       "[eArticleBlog - Your pocket guide to Smart Earning.](https://www.earticleblog.com/)\n",
       "Earticleblog empowers you to maximize your earning potential through expert tips on mobile apps, PC programs, and \n",
       "savvy strategies.\n",
       "\n",
       "[Top 100 Universities in USA 2025 with QS & THE \n",
       "Ranking](https://www.gradding.com/blog/study-abroad/top-100-usa-universities)\n",
       "Explore the 100 top universities in USA with their QS World and Times Higher Education ranking, type, and \n",
       "acceptance rate such as MIT, Yale, Harvard, etc.\n",
       "\n",
       "[Top 10 Deep Learning Frameworks in 2025 - 365 Data \n",
       "Science](https://365datascience.com/trending/deep-learning-frameworks/)\n",
       "\n",
       "\n",
       "Out: None\n"
      ]
     },
     "metadata": {},
     "output_type": "display_data"
    },
    {
     "data": {
      "text/html": [
       "<pre style=\"white-space:pre;overflow-x:auto;line-height:normal;font-family:Menlo,'DejaVu Sans Mono',consolas,'Courier New',monospace\"><span style=\"color: #7f7f7f; text-decoration-color: #7f7f7f\">[Step 15: Duration 2.76 seconds| Input tokens: 140,457 | Output tokens: 1,094]</span>\n",
       "</pre>\n"
      ],
      "text/plain": [
       "\u001b[2m[Step 15: Duration 2.76 seconds| Input tokens: 140,457 | Output tokens: 1,094]\u001b[0m\n"
      ]
     },
     "metadata": {},
     "output_type": "display_data"
    },
    {
     "data": {
      "text/html": [
       "<pre style=\"white-space:pre;overflow-x:auto;line-height:normal;font-family:Menlo,'DejaVu Sans Mono',consolas,'Courier New',monospace\"><span style=\"color: #d4b702; text-decoration-color: #d4b702\">━━━━━━━━━━━━━━━━━━━━━━━━━━━━━━━━━━━━━━━━━━━━━━━━━━━━━ </span><span style=\"font-weight: bold\">Step 16</span><span style=\"color: #d4b702; text-decoration-color: #d4b702\"> ━━━━━━━━━━━━━━━━━━━━━━━━━━━━━━━━━━━━━━━━━━━━━━━━━━━━━</span>\n",
       "</pre>\n"
      ],
      "text/plain": [
       "\u001b[38;2;212;183;2m━━━━━━━━━━━━━━━━━━━━━━━━━━━━━━━━━━━━━━━━━━━━━━━━━━━━━ \u001b[0m\u001b[1mStep 16\u001b[0m\u001b[38;2;212;183;2m ━━━━━━━━━━━━━━━━━━━━━━━━━━━━━━━━━━━━━━━━━━━━━━━━━━━━━\u001b[0m\n"
      ]
     },
     "metadata": {},
     "output_type": "display_data"
    },
    {
     "data": {
      "text/html": [
       "<pre style=\"white-space:pre;overflow-x:auto;line-height:normal;font-family:Menlo,'DejaVu Sans Mono',consolas,'Courier New',monospace\"> ─ <span style=\"font-weight: bold\">Executing parsed code:</span> ──────────────────────────────────────────────────────────────────────────────────────── \n",
       "  <span style=\"color: #f8f8f2; text-decoration-color: #f8f8f2; background-color: #272822\">page_content </span><span style=\"color: #ff4689; text-decoration-color: #ff4689; background-color: #272822\">=</span><span style=\"color: #f8f8f2; text-decoration-color: #f8f8f2; background-color: #272822\"> web_search(</span><span style=\"color: #e6db74; text-decoration-color: #e6db74; background-color: #272822\">\"https://www.upgrad.com/blog/top-deep-learning-frameworks/\"</span><span style=\"color: #f8f8f2; text-decoration-color: #f8f8f2; background-color: #272822\">)</span><span style=\"background-color: #272822\">                         </span>  \n",
       "  <span style=\"color: #f8f8f2; text-decoration-color: #f8f8f2; background-color: #272822\">print(page_content)</span><span style=\"background-color: #272822\">                                                                                            </span>  \n",
       " ───────────────────────────────────────────────────────────────────────────────────────────────────────────────── \n",
       "</pre>\n"
      ],
      "text/plain": [
       " ─ \u001b[1mExecuting parsed code:\u001b[0m ──────────────────────────────────────────────────────────────────────────────────────── \n",
       "  \u001b[38;2;248;248;242;48;2;39;40;34mpage_content\u001b[0m\u001b[38;2;248;248;242;48;2;39;40;34m \u001b[0m\u001b[38;2;255;70;137;48;2;39;40;34m=\u001b[0m\u001b[38;2;248;248;242;48;2;39;40;34m \u001b[0m\u001b[38;2;248;248;242;48;2;39;40;34mweb_search\u001b[0m\u001b[38;2;248;248;242;48;2;39;40;34m(\u001b[0m\u001b[38;2;230;219;116;48;2;39;40;34m\"\u001b[0m\u001b[38;2;230;219;116;48;2;39;40;34mhttps://www.upgrad.com/blog/top-deep-learning-frameworks/\u001b[0m\u001b[38;2;230;219;116;48;2;39;40;34m\"\u001b[0m\u001b[38;2;248;248;242;48;2;39;40;34m)\u001b[0m\u001b[48;2;39;40;34m                         \u001b[0m  \n",
       "  \u001b[38;2;248;248;242;48;2;39;40;34mprint\u001b[0m\u001b[38;2;248;248;242;48;2;39;40;34m(\u001b[0m\u001b[38;2;248;248;242;48;2;39;40;34mpage_content\u001b[0m\u001b[38;2;248;248;242;48;2;39;40;34m)\u001b[0m\u001b[48;2;39;40;34m                                                                                            \u001b[0m  \n",
       " ───────────────────────────────────────────────────────────────────────────────────────────────────────────────── \n"
      ]
     },
     "metadata": {},
     "output_type": "display_data"
    },
    {
     "data": {
      "text/html": [
       "<pre style=\"white-space:pre;overflow-x:auto;line-height:normal;font-family:Menlo,'DejaVu Sans Mono',consolas,'Courier New',monospace\"><span style=\"font-weight: bold\">Execution logs:</span>\n",
       "## Search Results\n",
       "\n",
       "[Expert Courses ₹1699 - Master deep learning basics Ad Viewing ads is privacy protected by DuckDuckGo. Ad clicks \n",
       "are managed by Microsoft's ad network ( more info \n",
       ").](https://duckduckgo.com/y.js?ad_domain=coursera.org&amp;ad_provider=bingv7aa&amp;ad_type=txad&amp;click_metadata=wr6plRVq6oj\n",
       "3jPw-FLkE8g6hYzv8phk1r_I7JP3wg0_Y-1z3-uoniQafYUDP0iuEj3erq9iy9WMRwPxJF9N7lrw_E-dc7f58uLgmoEZwpKpshQWSNOtTHYVgBn5Csh\n",
       "dc.o-EO28rEmiLPEnudfS5PuQ&amp;rut=ab2cf2fb8f3447a1ff3fc63c4e7fea97f2c0914e1c63c139c1e2ada0788f8bcc&amp;u3=https://www.bing.\n",
       "com/aclick?ld=e839yvFGx6Ql7Bu45p4qbZRjVUCUxSwG13Rx517rUpTzvAA-NZ7Q4PZYK5Bk3MJPRbRNDkYu8w8EsAVDo7io2ojeQZe4dDYI-Gx8u\n",
       "ZerMgv5a6NXNFs8syDczEXMSVilk7VLOYEtxRZSg77ao6Knvp7v76DHPpESwIUBZfjpBMO7yuuZGjOGiyfFjKMOi3Bb0e47vyGw&amp;u=aHR0cHMlM2ElM\n",
       "mYlMmZ3d3cuY291cnNlcmEub3JnJTJmc3BlY2lhbGl6YXRpb25zJTJmZGVlcC1sZWFybmluZyUzZnV0bV9tZWRpdW0lM2RzZW0lMjZ1dG1fc291cmNl\n",
       "JTNkYmclMjZ1dG1fY2FtcGFpZ24lM2RiMmNfaW5kaWFfZGVlcC1sZWFybmluZ19kZWVwbGVhcm5pbmctYWlfZnRjb2Zfc3BlY2lhbGl6YXRpb25zX2N\n",
       "4X2RyX2JhdV9iZ19zZW1fcHJfaW5fYWxsX21feF8yNS0wNV94JTI2Y2FtcGFpZ25pZCUzZDY2MzQ2NTY5MSUyNmFkZ3JvdXBpZCUzZDEyNDY4NDc1Mz\n",
       "UwNTY2MTIlMjZkZXZpY2UlM2RjJTI2a2V5d29yZCUzZGRlZXAlMjUyMGxlYXJuaW5nJTI1MjBjb3Vyc2UlMjZtYXRjaHR5cGUlM2RiJTI2bmV0d29ya\n",
       "yUzZHMlMjZkZXZpY2Vtb2RlbCUzZCUyNmFkcG9zaXRpb24lM2QlMjZjcmVhdGl2ZWlkJTNkNzc5MjgxMDM5OTg4MjMlMjZhZGdyb3VwJTNkYjJjX2lu\n",
       "ZGlhX2RlZXAtbGVhcm5pbmdfZGVlcGxlYXJuaW5nLWFpX2N4X2JhdV9iZ19pbl94X3hfcHItZXhfeF9oeWJfeF94X3NwZWNpYWxpemF0aW9uc19jbGF\n",
       "zcyUyNnF1ZXJ5c3RyaW5nJTNkaHR0cHMlMjUyMHVwZ3JhZGUlMjUyMGJsb2clMjUyMHRvcCUyNTIwZGVlcCUyNTIwbGVhcm5pbmclMjUyMGZyYW1ld2\n",
       "9ya3MlMjZ0YXJnZXRpZCUzZGt3ZC03NzkyODM1MzM3OTA2NCUzYWxvYy05MCUyNmJpZG1hdGNodHlwZSUzZGJiJTI2ZXh0ZW5zaW9uaWQlM2QlMjZtc\n",
       "2Nsa2lkJTNkZjA0Mjg4OGMwNDI3MTQxZTQ5YTZlMDYwYjcyMjhjZmElMjZ1dG1fdGVybSUzZGRlZXAlMjUyMGxlYXJuaW5nJTI1MjBjb3Vyc2UlMjZ1\n",
       "dG1fY29udGVudCUzZGIyY19pbmRpYV9kZWVwLWxlYXJuaW5nX2RlZXBsZWFybmluZy1haV9jeF9iYXVfYmdfaW5feF94X3ByLWV4X3hfaHliX3hfeF9\n",
       "zcGVjaWFsaXphdGlvbnNfY2xhc3M&amp;rlid=f042888c0427141e49a6e060b7228cfa&amp;vqd=4-225544173146377288805271108603620828757&amp;iu\n",
       "rl={1}IG=F4DBA7A3EA9040F0B4E01CF3A2234C25&amp;CID=3A344316217F60142A4C5592201F614B&amp;ID=DevEx,5046.1)\n",
       "Master the fundamentals of deep learning with a certificate from DeepLearning .AI. ₹1699 for expert-led, \n",
       "career-boosting courses. Enroll today.\n",
       "\n",
       "[Top Deep Learning Frameworks to Learn in 2025 - upGrad](https://www.upgrad.com/blog/top-deep-learning-frameworks/)\n",
       "Explore the top 15 deep learning frameworks you need to know in 2025. Learn their unique features and how to choose\n",
       "the right one for your AI projects.\n",
       "\n",
       "[7 Best Deep Learning Frameworks You Should Know in \n",
       "2025](https://www.geeksforgeeks.org/deep-learning/deep-learning-frameworks/)\n",
       "Your All-in-One Learning Portal: GeeksforGeeks is a comprehensive educational platform that empowers learners \n",
       "across domains-spanning computer science and programming, school education, upskilling, commerce, software tools, \n",
       "competitive exams, and more.\n",
       "\n",
       "[Top 10 Deep Learning Frameworks in 2025 - 365 Data \n",
       "Science](https://365datascience.com/trending/deep-learning-frameworks/)\n",
       "Which are the top 10 deep learning frameworks in 2025? Explore the primary function and characteristics of \n",
       "TensorFlow, Keras, PyTorch, Caffe, etc.\n",
       "\n",
       "[Top Deep Learning Frameworks to Know in 2025 - codewave.com](https://codewave.com/insights/top-dl-frameworks/)\n",
       "Explore top DL frameworks in 2025 like TensorFlow, PyTorch, and more. Find tools for scalability, mobile apps, and \n",
       "cloud integration. Choose wisely!\n",
       "\n",
       "[18 Most Popular Deep Learning Frameworks 2025 | DL \n",
       "Frameworks](https://www.weetechsolution.com/blog/most-popular-deep-learning-frameworks)\n",
       "Which are the Most Popular Deep Learning Frameworks in 2025? Discover the top AI tools transforming machine \n",
       "learning . Read more! Learn how DL frameworks simplify AI development and power the latest Deep Learning Frameworks\n",
       ".\n",
       "\n",
       "[Top 10 Deep Learning Frameworks Tools in 2025: Features, Pros, Cons \n",
       "...](https://www.bestdevops.com/top-10-deep-learning-frameworks-tools-in-2025-features-pros-cons-comparison/)\n",
       "As of 2025, the demand for effective deep learning frameworks continues to soar as businesses leverage these tools \n",
       "to drive innovations. But with so many deep learning frameworks available, how do you choose the best one for your \n",
       "needs? In this post, we will explore the top 10 deep learning frameworks of 2025.\n",
       "\n",
       "[Top 11 Deep Learning Frameworks in 2025: Comparative Guide &amp; Use \n",
       "Cases](https://dev.to/marutitech/top-11-deep-learning-frameworks-in-2025-comparative-guide-use-cases-2b74)\n",
       "As we move halfway into 2025, the deep learning ecosystem is more vibrant and diverse than ever before. A new \n",
       "generation of software libraries is making it simpler to design, train, and deploy powerful neural networks. \n",
       "Whether you're targeting cloud infrastructure, edge devices, or research-grade experimentation, these platforms \n",
       "offer sophisticated support for distributed training, hardware ...\n",
       "\n",
       "[Advanced Guide to Deep Learning Frameworks in 2025: XGBoost, \n",
       "LightGBM](https://mlforeveryone.com/discover-the-top-deep-learning-frameworks/)\n",
       "Discover the top deep learning frameworks of 2025 in this expert guide. Compare TensorFlow, PyTorch, Keras, \n",
       "XGBoost, and LightGBM to find the best AI tool for your machine learning projects.\n",
       "\n",
       "[5 Best Deep Learning Frameworks to Know in 2025 - \n",
       "hyperstack.cloud](https://www.hyperstack.cloud/blog/case-study/top-deep-learning-frameworks-you-should-know)\n",
       "Discover the top 5 deep learning frameworks for 2024, from TensorFlow to PyTorch, and learn how to choose the right\n",
       "one for your ML projects.\n",
       "\n",
       "Out: None\n",
       "</pre>\n"
      ],
      "text/plain": [
       "\u001b[1mExecution logs:\u001b[0m\n",
       "## Search Results\n",
       "\n",
       "[Expert Courses ₹1699 - Master deep learning basics Ad Viewing ads is privacy protected by DuckDuckGo. Ad clicks \n",
       "are managed by Microsoft's ad network ( more info \n",
       ").](https://duckduckgo.com/y.js?ad_domain=coursera.org&ad_provider=bingv7aa&ad_type=txad&click_metadata=wr6plRVq6oj\n",
       "3jPw-FLkE8g6hYzv8phk1r_I7JP3wg0_Y-1z3-uoniQafYUDP0iuEj3erq9iy9WMRwPxJF9N7lrw_E-dc7f58uLgmoEZwpKpshQWSNOtTHYVgBn5Csh\n",
       "dc.o-EO28rEmiLPEnudfS5PuQ&rut=ab2cf2fb8f3447a1ff3fc63c4e7fea97f2c0914e1c63c139c1e2ada0788f8bcc&u3=https://www.bing.\n",
       "com/aclick?ld=e839yvFGx6Ql7Bu45p4qbZRjVUCUxSwG13Rx517rUpTzvAA-NZ7Q4PZYK5Bk3MJPRbRNDkYu8w8EsAVDo7io2ojeQZe4dDYI-Gx8u\n",
       "ZerMgv5a6NXNFs8syDczEXMSVilk7VLOYEtxRZSg77ao6Knvp7v76DHPpESwIUBZfjpBMO7yuuZGjOGiyfFjKMOi3Bb0e47vyGw&u=aHR0cHMlM2ElM\n",
       "mYlMmZ3d3cuY291cnNlcmEub3JnJTJmc3BlY2lhbGl6YXRpb25zJTJmZGVlcC1sZWFybmluZyUzZnV0bV9tZWRpdW0lM2RzZW0lMjZ1dG1fc291cmNl\n",
       "JTNkYmclMjZ1dG1fY2FtcGFpZ24lM2RiMmNfaW5kaWFfZGVlcC1sZWFybmluZ19kZWVwbGVhcm5pbmctYWlfZnRjb2Zfc3BlY2lhbGl6YXRpb25zX2N\n",
       "4X2RyX2JhdV9iZ19zZW1fcHJfaW5fYWxsX21feF8yNS0wNV94JTI2Y2FtcGFpZ25pZCUzZDY2MzQ2NTY5MSUyNmFkZ3JvdXBpZCUzZDEyNDY4NDc1Mz\n",
       "UwNTY2MTIlMjZkZXZpY2UlM2RjJTI2a2V5d29yZCUzZGRlZXAlMjUyMGxlYXJuaW5nJTI1MjBjb3Vyc2UlMjZtYXRjaHR5cGUlM2RiJTI2bmV0d29ya\n",
       "yUzZHMlMjZkZXZpY2Vtb2RlbCUzZCUyNmFkcG9zaXRpb24lM2QlMjZjcmVhdGl2ZWlkJTNkNzc5MjgxMDM5OTg4MjMlMjZhZGdyb3VwJTNkYjJjX2lu\n",
       "ZGlhX2RlZXAtbGVhcm5pbmdfZGVlcGxlYXJuaW5nLWFpX2N4X2JhdV9iZ19pbl94X3hfcHItZXhfeF9oeWJfeF94X3NwZWNpYWxpemF0aW9uc19jbGF\n",
       "zcyUyNnF1ZXJ5c3RyaW5nJTNkaHR0cHMlMjUyMHVwZ3JhZGUlMjUyMGJsb2clMjUyMHRvcCUyNTIwZGVlcCUyNTIwbGVhcm5pbmclMjUyMGZyYW1ld2\n",
       "9ya3MlMjZ0YXJnZXRpZCUzZGt3ZC03NzkyODM1MzM3OTA2NCUzYWxvYy05MCUyNmJpZG1hdGNodHlwZSUzZGJiJTI2ZXh0ZW5zaW9uaWQlM2QlMjZtc\n",
       "2Nsa2lkJTNkZjA0Mjg4OGMwNDI3MTQxZTQ5YTZlMDYwYjcyMjhjZmElMjZ1dG1fdGVybSUzZGRlZXAlMjUyMGxlYXJuaW5nJTI1MjBjb3Vyc2UlMjZ1\n",
       "dG1fY29udGVudCUzZGIyY19pbmRpYV9kZWVwLWxlYXJuaW5nX2RlZXBsZWFybmluZy1haV9jeF9iYXVfYmdfaW5feF94X3ByLWV4X3hfaHliX3hfeF9\n",
       "zcGVjaWFsaXphdGlvbnNfY2xhc3M&rlid=f042888c0427141e49a6e060b7228cfa&vqd=4-225544173146377288805271108603620828757&iu\n",
       "rl={1}IG=F4DBA7A3EA9040F0B4E01CF3A2234C25&CID=3A344316217F60142A4C5592201F614B&ID=DevEx,5046.1)\n",
       "Master the fundamentals of deep learning with a certificate from DeepLearning .AI. ₹1699 for expert-led, \n",
       "career-boosting courses. Enroll today.\n",
       "\n",
       "[Top Deep Learning Frameworks to Learn in 2025 - upGrad](https://www.upgrad.com/blog/top-deep-learning-frameworks/)\n",
       "Explore the top 15 deep learning frameworks you need to know in 2025. Learn their unique features and how to choose\n",
       "the right one for your AI projects.\n",
       "\n",
       "[7 Best Deep Learning Frameworks You Should Know in \n",
       "2025](https://www.geeksforgeeks.org/deep-learning/deep-learning-frameworks/)\n",
       "Your All-in-One Learning Portal: GeeksforGeeks is a comprehensive educational platform that empowers learners \n",
       "across domains-spanning computer science and programming, school education, upskilling, commerce, software tools, \n",
       "competitive exams, and more.\n",
       "\n",
       "[Top 10 Deep Learning Frameworks in 2025 - 365 Data \n",
       "Science](https://365datascience.com/trending/deep-learning-frameworks/)\n",
       "Which are the top 10 deep learning frameworks in 2025? Explore the primary function and characteristics of \n",
       "TensorFlow, Keras, PyTorch, Caffe, etc.\n",
       "\n",
       "[Top Deep Learning Frameworks to Know in 2025 - codewave.com](https://codewave.com/insights/top-dl-frameworks/)\n",
       "Explore top DL frameworks in 2025 like TensorFlow, PyTorch, and more. Find tools for scalability, mobile apps, and \n",
       "cloud integration. Choose wisely!\n",
       "\n",
       "[18 Most Popular Deep Learning Frameworks 2025 | DL \n",
       "Frameworks](https://www.weetechsolution.com/blog/most-popular-deep-learning-frameworks)\n",
       "Which are the Most Popular Deep Learning Frameworks in 2025? Discover the top AI tools transforming machine \n",
       "learning . Read more! Learn how DL frameworks simplify AI development and power the latest Deep Learning Frameworks\n",
       ".\n",
       "\n",
       "[Top 10 Deep Learning Frameworks Tools in 2025: Features, Pros, Cons \n",
       "...](https://www.bestdevops.com/top-10-deep-learning-frameworks-tools-in-2025-features-pros-cons-comparison/)\n",
       "As of 2025, the demand for effective deep learning frameworks continues to soar as businesses leverage these tools \n",
       "to drive innovations. But with so many deep learning frameworks available, how do you choose the best one for your \n",
       "needs? In this post, we will explore the top 10 deep learning frameworks of 2025.\n",
       "\n",
       "[Top 11 Deep Learning Frameworks in 2025: Comparative Guide & Use \n",
       "Cases](https://dev.to/marutitech/top-11-deep-learning-frameworks-in-2025-comparative-guide-use-cases-2b74)\n",
       "As we move halfway into 2025, the deep learning ecosystem is more vibrant and diverse than ever before. A new \n",
       "generation of software libraries is making it simpler to design, train, and deploy powerful neural networks. \n",
       "Whether you're targeting cloud infrastructure, edge devices, or research-grade experimentation, these platforms \n",
       "offer sophisticated support for distributed training, hardware ...\n",
       "\n",
       "[Advanced Guide to Deep Learning Frameworks in 2025: XGBoost, \n",
       "LightGBM](https://mlforeveryone.com/discover-the-top-deep-learning-frameworks/)\n",
       "Discover the top deep learning frameworks of 2025 in this expert guide. Compare TensorFlow, PyTorch, Keras, \n",
       "XGBoost, and LightGBM to find the best AI tool for your machine learning projects.\n",
       "\n",
       "[5 Best Deep Learning Frameworks to Know in 2025 - \n",
       "hyperstack.cloud](https://www.hyperstack.cloud/blog/case-study/top-deep-learning-frameworks-you-should-know)\n",
       "Discover the top 5 deep learning frameworks for 2024, from TensorFlow to PyTorch, and learn how to choose the right\n",
       "one for your ML projects.\n",
       "\n",
       "Out: None\n"
      ]
     },
     "metadata": {},
     "output_type": "display_data"
    },
    {
     "data": {
      "text/html": [
       "<pre style=\"white-space:pre;overflow-x:auto;line-height:normal;font-family:Menlo,'DejaVu Sans Mono',consolas,'Courier New',monospace\"><span style=\"color: #7f7f7f; text-decoration-color: #7f7f7f\">[Step 16: Duration 2.05 seconds| Input tokens: 157,842 | Output tokens: 1,149]</span>\n",
       "</pre>\n"
      ],
      "text/plain": [
       "\u001b[2m[Step 16: Duration 2.05 seconds| Input tokens: 157,842 | Output tokens: 1,149]\u001b[0m\n"
      ]
     },
     "metadata": {},
     "output_type": "display_data"
    },
    {
     "data": {
      "text/html": [
       "<pre style=\"white-space:pre;overflow-x:auto;line-height:normal;font-family:Menlo,'DejaVu Sans Mono',consolas,'Courier New',monospace\"><span style=\"color: #d4b702; text-decoration-color: #d4b702\">━━━━━━━━━━━━━━━━━━━━━━━━━━━━━━━━━━━━━━━━━━━━━━━━━━━━━ </span><span style=\"font-weight: bold\">Step 17</span><span style=\"color: #d4b702; text-decoration-color: #d4b702\"> ━━━━━━━━━━━━━━━━━━━━━━━━━━━━━━━━━━━━━━━━━━━━━━━━━━━━━</span>\n",
       "</pre>\n"
      ],
      "text/plain": [
       "\u001b[38;2;212;183;2m━━━━━━━━━━━━━━━━━━━━━━━━━━━━━━━━━━━━━━━━━━━━━━━━━━━━━ \u001b[0m\u001b[1mStep 17\u001b[0m\u001b[38;2;212;183;2m ━━━━━━━━━━━━━━━━━━━━━━━━━━━━━━━━━━━━━━━━━━━━━━━━━━━━━\u001b[0m\n"
      ]
     },
     "metadata": {},
     "output_type": "display_data"
    },
    {
     "data": {
      "text/html": [
       "<pre style=\"white-space:pre;overflow-x:auto;line-height:normal;font-family:Menlo,'DejaVu Sans Mono',consolas,'Courier New',monospace\"> ─ <span style=\"font-weight: bold\">Executing parsed code:</span> ──────────────────────────────────────────────────────────────────────────────────────── \n",
       "  <span style=\"color: #f8f8f2; text-decoration-color: #f8f8f2; background-color: #272822\">page_content </span><span style=\"color: #ff4689; text-decoration-color: #ff4689; background-color: #272822\">=</span><span style=\"color: #f8f8f2; text-decoration-color: #f8f8f2; background-color: #272822\"> web_search(</span><span style=\"color: #e6db74; text-decoration-color: #e6db74; background-color: #272822\">\"https://www.upgrad.com/blog/top-deep-learning-frameworks/\"</span><span style=\"color: #f8f8f2; text-decoration-color: #f8f8f2; background-color: #272822\">)</span><span style=\"background-color: #272822\">                         </span>  \n",
       "  <span style=\"color: #f8f8f2; text-decoration-color: #f8f8f2; background-color: #272822\">print(page_content)</span><span style=\"background-color: #272822\">                                                                                            </span>  \n",
       " ───────────────────────────────────────────────────────────────────────────────────────────────────────────────── \n",
       "</pre>\n"
      ],
      "text/plain": [
       " ─ \u001b[1mExecuting parsed code:\u001b[0m ──────────────────────────────────────────────────────────────────────────────────────── \n",
       "  \u001b[38;2;248;248;242;48;2;39;40;34mpage_content\u001b[0m\u001b[38;2;248;248;242;48;2;39;40;34m \u001b[0m\u001b[38;2;255;70;137;48;2;39;40;34m=\u001b[0m\u001b[38;2;248;248;242;48;2;39;40;34m \u001b[0m\u001b[38;2;248;248;242;48;2;39;40;34mweb_search\u001b[0m\u001b[38;2;248;248;242;48;2;39;40;34m(\u001b[0m\u001b[38;2;230;219;116;48;2;39;40;34m\"\u001b[0m\u001b[38;2;230;219;116;48;2;39;40;34mhttps://www.upgrad.com/blog/top-deep-learning-frameworks/\u001b[0m\u001b[38;2;230;219;116;48;2;39;40;34m\"\u001b[0m\u001b[38;2;248;248;242;48;2;39;40;34m)\u001b[0m\u001b[48;2;39;40;34m                         \u001b[0m  \n",
       "  \u001b[38;2;248;248;242;48;2;39;40;34mprint\u001b[0m\u001b[38;2;248;248;242;48;2;39;40;34m(\u001b[0m\u001b[38;2;248;248;242;48;2;39;40;34mpage_content\u001b[0m\u001b[38;2;248;248;242;48;2;39;40;34m)\u001b[0m\u001b[48;2;39;40;34m                                                                                            \u001b[0m  \n",
       " ───────────────────────────────────────────────────────────────────────────────────────────────────────────────── \n"
      ]
     },
     "metadata": {},
     "output_type": "display_data"
    },
    {
     "data": {
      "text/html": [
       "<pre style=\"white-space:pre;overflow-x:auto;line-height:normal;font-family:Menlo,'DejaVu Sans Mono',consolas,'Courier New',monospace\"><span style=\"font-weight: bold\">Execution logs:</span>\n",
       "## Search Results\n",
       "\n",
       "[Top Deep Learning Frameworks to Learn in 2025](https://www.upgrad.com/blog/top-deep-learning-frameworks/)\n",
       "Explore the top 15 deep learning frameworks you need to know in 2025. Learn their unique features and how to choose\n",
       "the right one for your AI projects.\n",
       "\n",
       "[12 Best Java Frameworks for Web Development in 2025](https://radixweb.com/blog/best-java-frameworks)\n",
       "Looking for a Java framework to enable you to build robust, engaging, and adaptive web applications? These 12 Java \n",
       "frameworks are worth looking at!\n",
       "\n",
       "[eArticleBlog - Your pocket guide to Smart Earning.](https://www.earticleblog.com/)\n",
       "Earticleblog empowers you to maximize your earning potential through expert tips on mobile apps, PC programs, and \n",
       "savvy strategies.\n",
       "\n",
       "[Top 100 Universities in USA 2025 with QS &amp; THE \n",
       "Ranking](https://www.gradding.com/blog/study-abroad/top-100-usa-universities)\n",
       "Explore the 100 top universities in USA with their QS World and Times Higher Education ranking, type, and \n",
       "acceptance rate such as MIT, Yale, Harvard, etc.\n",
       "\n",
       "[Top 30 Python Libraries To Know in 2025](https://www.mygreatlearning.com/blog/open-source-python-libraries/)\n",
       "Python Libraries: This article gives you a list of python libraries to learn in 2025 and get more insights about \n",
       "open-source libraries.\n",
       "\n",
       "[learn \n",
       ".deeplearning.ai/courses/chatgpt-prompt-eng/lesson/dfbds...](https://learn.deeplearning.ai/courses/chatgpt-prompt-e\n",
       "ng/lesson/dfbds/introduction)\n",
       "The site owner hides the web page description.\n",
       "\n",
       "[ml : active learning](https://the-learning-machine.com/article/ml/active-learning)\n",
       "This article is currently under review to ensure that it meets our rigorous standards. We will make the content \n",
       "available soon.\n",
       "\n",
       "[Interview Questions, Quiz (MCQ), Free Online Tutorials: Free Time...](https://www.freetimelearning.com/)\n",
       "Free Time Learning : W3Schools Web Development Tutorials, Online MCQ or Quiz, Interview Questions, Tutorialspoint, \n",
       "Great Learning .\n",
       "\n",
       "[Relax FM Chillout — слушать онлайн](https://top-radio.ru/web/relax-fm-chillout)\n",
       "Relax FM Chillout слушайте онлайн радиостанцию бесплатно в хорошем качестве на ТОП-РАДИО.\n",
       "\n",
       "[OSINT Framework](https://osintframework.com/)\n",
       "OSINT Framework . Training. Documentation / Evidence Capture. OpSec. Threat Intelligence. Exploits &amp; Advisories. \n",
       "Malicious File Analysis. AI Tools. Tools. Encoding / Decoding. Classifieds.\n",
       "\n",
       "Out: None\n",
       "</pre>\n"
      ],
      "text/plain": [
       "\u001b[1mExecution logs:\u001b[0m\n",
       "## Search Results\n",
       "\n",
       "[Top Deep Learning Frameworks to Learn in 2025](https://www.upgrad.com/blog/top-deep-learning-frameworks/)\n",
       "Explore the top 15 deep learning frameworks you need to know in 2025. Learn their unique features and how to choose\n",
       "the right one for your AI projects.\n",
       "\n",
       "[12 Best Java Frameworks for Web Development in 2025](https://radixweb.com/blog/best-java-frameworks)\n",
       "Looking for a Java framework to enable you to build robust, engaging, and adaptive web applications? These 12 Java \n",
       "frameworks are worth looking at!\n",
       "\n",
       "[eArticleBlog - Your pocket guide to Smart Earning.](https://www.earticleblog.com/)\n",
       "Earticleblog empowers you to maximize your earning potential through expert tips on mobile apps, PC programs, and \n",
       "savvy strategies.\n",
       "\n",
       "[Top 100 Universities in USA 2025 with QS & THE \n",
       "Ranking](https://www.gradding.com/blog/study-abroad/top-100-usa-universities)\n",
       "Explore the 100 top universities in USA with their QS World and Times Higher Education ranking, type, and \n",
       "acceptance rate such as MIT, Yale, Harvard, etc.\n",
       "\n",
       "[Top 30 Python Libraries To Know in 2025](https://www.mygreatlearning.com/blog/open-source-python-libraries/)\n",
       "Python Libraries: This article gives you a list of python libraries to learn in 2025 and get more insights about \n",
       "open-source libraries.\n",
       "\n",
       "[learn \n",
       ".deeplearning.ai/courses/chatgpt-prompt-eng/lesson/dfbds...](https://learn.deeplearning.ai/courses/chatgpt-prompt-e\n",
       "ng/lesson/dfbds/introduction)\n",
       "The site owner hides the web page description.\n",
       "\n",
       "[ml : active learning](https://the-learning-machine.com/article/ml/active-learning)\n",
       "This article is currently under review to ensure that it meets our rigorous standards. We will make the content \n",
       "available soon.\n",
       "\n",
       "[Interview Questions, Quiz (MCQ), Free Online Tutorials: Free Time...](https://www.freetimelearning.com/)\n",
       "Free Time Learning : W3Schools Web Development Tutorials, Online MCQ or Quiz, Interview Questions, Tutorialspoint, \n",
       "Great Learning .\n",
       "\n",
       "[Relax FM Chillout — слушать онлайн](https://top-radio.ru/web/relax-fm-chillout)\n",
       "Relax FM Chillout слушайте онлайн радиостанцию бесплатно в хорошем качестве на ТОП-РАДИО.\n",
       "\n",
       "[OSINT Framework](https://osintframework.com/)\n",
       "OSINT Framework . Training. Documentation / Evidence Capture. OpSec. Threat Intelligence. Exploits & Advisories. \n",
       "Malicious File Analysis. AI Tools. Tools. Encoding / Decoding. Classifieds.\n",
       "\n",
       "Out: None\n"
      ]
     },
     "metadata": {},
     "output_type": "display_data"
    },
    {
     "data": {
      "text/html": [
       "<pre style=\"white-space:pre;overflow-x:auto;line-height:normal;font-family:Menlo,'DejaVu Sans Mono',consolas,'Courier New',monospace\"><span style=\"color: #7f7f7f; text-decoration-color: #7f7f7f\">[Step 17: Duration 2.75 seconds| Input tokens: 177,755 | Output tokens: 1,204]</span>\n",
       "</pre>\n"
      ],
      "text/plain": [
       "\u001b[2m[Step 17: Duration 2.75 seconds| Input tokens: 177,755 | Output tokens: 1,204]\u001b[0m\n"
      ]
     },
     "metadata": {},
     "output_type": "display_data"
    },
    {
     "data": {
      "text/html": [
       "<pre style=\"white-space:pre;overflow-x:auto;line-height:normal;font-family:Menlo,'DejaVu Sans Mono',consolas,'Courier New',monospace\"><span style=\"color: #d4b702; text-decoration-color: #d4b702\">━━━━━━━━━━━━━━━━━━━━━━━━━━━━━━━━━━━━━━━━━━━━━━━━━━━━━ </span><span style=\"font-weight: bold\">Step 18</span><span style=\"color: #d4b702; text-decoration-color: #d4b702\"> ━━━━━━━━━━━━━━━━━━━━━━━━━━━━━━━━━━━━━━━━━━━━━━━━━━━━━</span>\n",
       "</pre>\n"
      ],
      "text/plain": [
       "\u001b[38;2;212;183;2m━━━━━━━━━━━━━━━━━━━━━━━━━━━━━━━━━━━━━━━━━━━━━━━━━━━━━ \u001b[0m\u001b[1mStep 18\u001b[0m\u001b[38;2;212;183;2m ━━━━━━━━━━━━━━━━━━━━━━━━━━━━━━━━━━━━━━━━━━━━━━━━━━━━━\u001b[0m\n"
      ]
     },
     "metadata": {},
     "output_type": "display_data"
    },
    {
     "data": {
      "text/html": [
       "<pre style=\"white-space:pre;overflow-x:auto;line-height:normal;font-family:Menlo,'DejaVu Sans Mono',consolas,'Courier New',monospace\"> ─ <span style=\"font-weight: bold\">Executing parsed code:</span> ──────────────────────────────────────────────────────────────────────────────────────── \n",
       "  <span style=\"color: #f8f8f2; text-decoration-color: #f8f8f2; background-color: #272822\">page_content </span><span style=\"color: #ff4689; text-decoration-color: #ff4689; background-color: #272822\">=</span><span style=\"color: #f8f8f2; text-decoration-color: #f8f8f2; background-color: #272822\"> web_search(</span><span style=\"color: #e6db74; text-decoration-color: #e6db74; background-color: #272822\">\"https://www.upgrad.com/blog/top-deep-learning-frameworks/\"</span><span style=\"color: #f8f8f2; text-decoration-color: #f8f8f2; background-color: #272822\">)</span><span style=\"background-color: #272822\">                         </span>  \n",
       "  <span style=\"color: #f8f8f2; text-decoration-color: #f8f8f2; background-color: #272822\">print(page_content)</span><span style=\"background-color: #272822\">                                                                                            </span>  \n",
       " ───────────────────────────────────────────────────────────────────────────────────────────────────────────────── \n",
       "</pre>\n"
      ],
      "text/plain": [
       " ─ \u001b[1mExecuting parsed code:\u001b[0m ──────────────────────────────────────────────────────────────────────────────────────── \n",
       "  \u001b[38;2;248;248;242;48;2;39;40;34mpage_content\u001b[0m\u001b[38;2;248;248;242;48;2;39;40;34m \u001b[0m\u001b[38;2;255;70;137;48;2;39;40;34m=\u001b[0m\u001b[38;2;248;248;242;48;2;39;40;34m \u001b[0m\u001b[38;2;248;248;242;48;2;39;40;34mweb_search\u001b[0m\u001b[38;2;248;248;242;48;2;39;40;34m(\u001b[0m\u001b[38;2;230;219;116;48;2;39;40;34m\"\u001b[0m\u001b[38;2;230;219;116;48;2;39;40;34mhttps://www.upgrad.com/blog/top-deep-learning-frameworks/\u001b[0m\u001b[38;2;230;219;116;48;2;39;40;34m\"\u001b[0m\u001b[38;2;248;248;242;48;2;39;40;34m)\u001b[0m\u001b[48;2;39;40;34m                         \u001b[0m  \n",
       "  \u001b[38;2;248;248;242;48;2;39;40;34mprint\u001b[0m\u001b[38;2;248;248;242;48;2;39;40;34m(\u001b[0m\u001b[38;2;248;248;242;48;2;39;40;34mpage_content\u001b[0m\u001b[38;2;248;248;242;48;2;39;40;34m)\u001b[0m\u001b[48;2;39;40;34m                                                                                            \u001b[0m  \n",
       " ───────────────────────────────────────────────────────────────────────────────────────────────────────────────── \n"
      ]
     },
     "metadata": {},
     "output_type": "display_data"
    },
    {
     "data": {
      "text/html": [
       "<pre style=\"white-space:pre;overflow-x:auto;line-height:normal;font-family:Menlo,'DejaVu Sans Mono',consolas,'Courier New',monospace\"><span style=\"font-weight: bold\">Execution logs:</span>\n",
       "## Search Results\n",
       "\n",
       "[Top Deep Learning Frameworks to Learn in 2025](https://www.upgrad.com/blog/top-deep-learning-frameworks/)\n",
       "Explore the top 15 deep learning frameworks you need to know in 2025. Learn their unique features and how to choose\n",
       "the right one for your AI projects.\n",
       "\n",
       "[12 Best Java Frameworks for Web Development in 2025](https://radixweb.com/blog/best-java-frameworks)\n",
       "Looking for a Java framework to enable you to build robust, engaging, and adaptive web applications? These 12 Java \n",
       "frameworks are worth looking at!\n",
       "\n",
       "[eArticleBlog - Your pocket guide to Smart Earning.](https://www.earticleblog.com/)\n",
       "Earticleblog empowers you to maximize your earning potential through expert tips on mobile apps, PC programs, and \n",
       "savvy strategies.\n",
       "\n",
       "[Top 100 Universities in USA 2025 with QS &amp; THE \n",
       "Ranking](https://www.gradding.com/blog/study-abroad/top-100-usa-universities)\n",
       "Explore the 100 top universities in USA with their QS World and Times Higher Education ranking, type, and \n",
       "acceptance rate such as MIT, Yale, Harvard, etc.\n",
       "\n",
       "[Top 30 Python Libraries To Know in 2025](https://www.mygreatlearning.com/blog/open-source-python-libraries/)\n",
       "Python Libraries: This article gives you a list of python libraries to learn in 2025 and get more insights about \n",
       "open-source libraries.\n",
       "\n",
       "[learn \n",
       ".deeplearning.ai/courses/chatgpt-prompt-eng/lesson/dfbds...](https://learn.deeplearning.ai/courses/chatgpt-prompt-e\n",
       "ng/lesson/dfbds/introduction)\n",
       "The site owner hides the web page description.\n",
       "\n",
       "[ml : active learning](https://the-learning-machine.com/article/ml/active-learning)\n",
       "This article is currently under review to ensure that it meets our rigorous standards. We will make the content \n",
       "available soon.\n",
       "\n",
       "[Interview Questions, Quiz (MCQ), Free Online Tutorials: Free Time...](https://www.freetimelearning.com/)\n",
       "Free Time Learning : W3Schools Web Development Tutorials, Online MCQ or Quiz, Interview Questions, Tutorialspoint, \n",
       "Great Learning .\n",
       "\n",
       "[Relax FM Chillout — слушать онлайн](https://top-radio.ru/web/relax-fm-chillout)\n",
       "Relax FM Chillout слушайте онлайн радиостанцию бесплатно в хорошем качестве на ТОП-РАДИО.\n",
       "\n",
       "[OSINT Framework](https://osintframework.com/)\n",
       "OSINT Framework . Training. Documentation / Evidence Capture. OpSec. Threat Intelligence. Exploits &amp; Advisories. \n",
       "Malicious File Analysis. AI Tools. Tools. Encoding / Decoding. Classifieds.\n",
       "\n",
       "Out: None\n",
       "</pre>\n"
      ],
      "text/plain": [
       "\u001b[1mExecution logs:\u001b[0m\n",
       "## Search Results\n",
       "\n",
       "[Top Deep Learning Frameworks to Learn in 2025](https://www.upgrad.com/blog/top-deep-learning-frameworks/)\n",
       "Explore the top 15 deep learning frameworks you need to know in 2025. Learn their unique features and how to choose\n",
       "the right one for your AI projects.\n",
       "\n",
       "[12 Best Java Frameworks for Web Development in 2025](https://radixweb.com/blog/best-java-frameworks)\n",
       "Looking for a Java framework to enable you to build robust, engaging, and adaptive web applications? These 12 Java \n",
       "frameworks are worth looking at!\n",
       "\n",
       "[eArticleBlog - Your pocket guide to Smart Earning.](https://www.earticleblog.com/)\n",
       "Earticleblog empowers you to maximize your earning potential through expert tips on mobile apps, PC programs, and \n",
       "savvy strategies.\n",
       "\n",
       "[Top 100 Universities in USA 2025 with QS & THE \n",
       "Ranking](https://www.gradding.com/blog/study-abroad/top-100-usa-universities)\n",
       "Explore the 100 top universities in USA with their QS World and Times Higher Education ranking, type, and \n",
       "acceptance rate such as MIT, Yale, Harvard, etc.\n",
       "\n",
       "[Top 30 Python Libraries To Know in 2025](https://www.mygreatlearning.com/blog/open-source-python-libraries/)\n",
       "Python Libraries: This article gives you a list of python libraries to learn in 2025 and get more insights about \n",
       "open-source libraries.\n",
       "\n",
       "[learn \n",
       ".deeplearning.ai/courses/chatgpt-prompt-eng/lesson/dfbds...](https://learn.deeplearning.ai/courses/chatgpt-prompt-e\n",
       "ng/lesson/dfbds/introduction)\n",
       "The site owner hides the web page description.\n",
       "\n",
       "[ml : active learning](https://the-learning-machine.com/article/ml/active-learning)\n",
       "This article is currently under review to ensure that it meets our rigorous standards. We will make the content \n",
       "available soon.\n",
       "\n",
       "[Interview Questions, Quiz (MCQ), Free Online Tutorials: Free Time...](https://www.freetimelearning.com/)\n",
       "Free Time Learning : W3Schools Web Development Tutorials, Online MCQ or Quiz, Interview Questions, Tutorialspoint, \n",
       "Great Learning .\n",
       "\n",
       "[Relax FM Chillout — слушать онлайн](https://top-radio.ru/web/relax-fm-chillout)\n",
       "Relax FM Chillout слушайте онлайн радиостанцию бесплатно в хорошем качестве на ТОП-РАДИО.\n",
       "\n",
       "[OSINT Framework](https://osintframework.com/)\n",
       "OSINT Framework . Training. Documentation / Evidence Capture. OpSec. Threat Intelligence. Exploits & Advisories. \n",
       "Malicious File Analysis. AI Tools. Tools. Encoding / Decoding. Classifieds.\n",
       "\n",
       "Out: None\n"
      ]
     },
     "metadata": {},
     "output_type": "display_data"
    },
    {
     "data": {
      "text/html": [
       "<pre style=\"white-space:pre;overflow-x:auto;line-height:normal;font-family:Menlo,'DejaVu Sans Mono',consolas,'Courier New',monospace\"><span style=\"color: #7f7f7f; text-decoration-color: #7f7f7f\">[Step 18: Duration 1.69 seconds| Input tokens: 198,399 | Output tokens: 1,259]</span>\n",
       "</pre>\n"
      ],
      "text/plain": [
       "\u001b[2m[Step 18: Duration 1.69 seconds| Input tokens: 198,399 | Output tokens: 1,259]\u001b[0m\n"
      ]
     },
     "metadata": {},
     "output_type": "display_data"
    },
    {
     "data": {
      "text/html": [
       "<pre style=\"white-space:pre;overflow-x:auto;line-height:normal;font-family:Menlo,'DejaVu Sans Mono',consolas,'Courier New',monospace\"><span style=\"color: #d4b702; text-decoration-color: #d4b702\">━━━━━━━━━━━━━━━━━━━━━━━━━━━━━━━━━━━━━━━━━━━━━━━━━━━━━ </span><span style=\"font-weight: bold\">Step 19</span><span style=\"color: #d4b702; text-decoration-color: #d4b702\"> ━━━━━━━━━━━━━━━━━━━━━━━━━━━━━━━━━━━━━━━━━━━━━━━━━━━━━</span>\n",
       "</pre>\n"
      ],
      "text/plain": [
       "\u001b[38;2;212;183;2m━━━━━━━━━━━━━━━━━━━━━━━━━━━━━━━━━━━━━━━━━━━━━━━━━━━━━ \u001b[0m\u001b[1mStep 19\u001b[0m\u001b[38;2;212;183;2m ━━━━━━━━━━━━━━━━━━━━━━━━━━━━━━━━━━━━━━━━━━━━━━━━━━━━━\u001b[0m\n"
      ]
     },
     "metadata": {},
     "output_type": "display_data"
    },
    {
     "data": {
      "text/html": [
       "<pre style=\"white-space:pre;overflow-x:auto;line-height:normal;font-family:Menlo,'DejaVu Sans Mono',consolas,'Courier New',monospace\"> ─ <span style=\"font-weight: bold\">Executing parsed code:</span> ──────────────────────────────────────────────────────────────────────────────────────── \n",
       "  <span style=\"color: #f8f8f2; text-decoration-color: #f8f8f2; background-color: #272822\">page_content </span><span style=\"color: #ff4689; text-decoration-color: #ff4689; background-color: #272822\">=</span><span style=\"color: #f8f8f2; text-decoration-color: #f8f8f2; background-color: #272822\"> </span><span style=\"background-color: #272822\">                                                                                                </span>  \n",
       "  <span style=\"color: #f8f8f2; text-decoration-color: #f8f8f2; background-color: #272822\">web_search(</span><span style=\"color: #e6db74; text-decoration-color: #e6db74; background-color: #272822\">\"https://www.analyticsinsight.net/artificial-intelligence/top-10-deep-learning-frameworks-you-should</span>  \n",
       "  <span style=\"color: #e6db74; text-decoration-color: #e6db74; background-color: #272822\">-know-in-2025\"</span><span style=\"color: #f8f8f2; text-decoration-color: #f8f8f2; background-color: #272822\">)</span><span style=\"background-color: #272822\">                                                                                                </span>  \n",
       "  <span style=\"color: #f8f8f2; text-decoration-color: #f8f8f2; background-color: #272822\">print(page_content)</span><span style=\"background-color: #272822\">                                                                                            </span>  \n",
       " ───────────────────────────────────────────────────────────────────────────────────────────────────────────────── \n",
       "</pre>\n"
      ],
      "text/plain": [
       " ─ \u001b[1mExecuting parsed code:\u001b[0m ──────────────────────────────────────────────────────────────────────────────────────── \n",
       "  \u001b[38;2;248;248;242;48;2;39;40;34mpage_content\u001b[0m\u001b[38;2;248;248;242;48;2;39;40;34m \u001b[0m\u001b[38;2;255;70;137;48;2;39;40;34m=\u001b[0m\u001b[38;2;248;248;242;48;2;39;40;34m \u001b[0m\u001b[48;2;39;40;34m                                                                                                \u001b[0m  \n",
       "  \u001b[38;2;248;248;242;48;2;39;40;34mweb_search\u001b[0m\u001b[38;2;248;248;242;48;2;39;40;34m(\u001b[0m\u001b[38;2;230;219;116;48;2;39;40;34m\"\u001b[0m\u001b[38;2;230;219;116;48;2;39;40;34mhttps://www.analyticsinsight.net/artificial-intelligence/top-10-deep-learning-frameworks-you-should\u001b[0m  \n",
       "  \u001b[38;2;230;219;116;48;2;39;40;34m-know-in-2025\u001b[0m\u001b[38;2;230;219;116;48;2;39;40;34m\"\u001b[0m\u001b[38;2;248;248;242;48;2;39;40;34m)\u001b[0m\u001b[48;2;39;40;34m                                                                                                \u001b[0m  \n",
       "  \u001b[38;2;248;248;242;48;2;39;40;34mprint\u001b[0m\u001b[38;2;248;248;242;48;2;39;40;34m(\u001b[0m\u001b[38;2;248;248;242;48;2;39;40;34mpage_content\u001b[0m\u001b[38;2;248;248;242;48;2;39;40;34m)\u001b[0m\u001b[48;2;39;40;34m                                                                                            \u001b[0m  \n",
       " ───────────────────────────────────────────────────────────────────────────────────────────────────────────────── \n"
      ]
     },
     "metadata": {},
     "output_type": "display_data"
    },
    {
     "data": {
      "text/html": [
       "<pre style=\"white-space:pre;overflow-x:auto;line-height:normal;font-family:Menlo,'DejaVu Sans Mono',consolas,'Courier New',monospace\"><span style=\"font-weight: bold\">Execution logs:</span>\n",
       "## Search Results\n",
       "\n",
       "[Top 10 Deep Learning Frameworks You Should Know in \n",
       "2025](https://www.analyticsinsight.net/artificial-intelligence/top-10-deep-learning-frameworks-you-should-know-in-2\n",
       "025)\n",
       "Sep 20, 2025 · Discover the top 10 AI frameworks shaping deep learning in 2025 . From TensorFlow to Hugging Face, \n",
       "explore tools driving innovation.\n",
       "\n",
       "[7 Best Deep Learning Frameworks You Should Know in \n",
       "2025](https://www.geeksforgeeks.org/deep-learning/deep-learning-frameworks/)\n",
       "Sep 13, 2025 · Deep learning frameworks are the backbone of AI development, offering pre-built modules, \n",
       "optimization libraries and deployment tools that make building complex neural networks much faster and easier.\n",
       "\n",
       "[Top 10 Deep Learning Frameworks in 2025 - 365 Data Science Top Deep Learning Frameworks to Learn in 2025 - upGrad \n",
       "Top 10 Most Popular Machine Learning Frameworks in 2025 ... Top Deep Learning Frameworks to Know in 2025 - \n",
       "codewave.com](https://365datascience.com/trending/deep-learning-frameworks/)\n",
       "See full list on 365datascience.com The machine learning process involves taking data to construct a model in order\n",
       "to analyze or infer information, and ultimately, make a prediction. Deep learning expands regular ML to \n",
       "continuously add to the model’s capabilities of understanding complex data features. This enables DL algorithms to \n",
       "input not only numbers, but also images, text, soun... See full list on 365datascience.com A deep learning \n",
       "framework is a software library that equips data science and ML professionals with the tools to train deep learning\n",
       "models. These packages feature layers, activation functions, optimizers, and loss functions, utilized to create \n",
       "various types of deep neural network architectures. Deep learning frameworks typically have a programming ... See \n",
       "full list on 365datascience.com There are several deep learning frameworks suitable for people with little \n",
       "experience with machine learning technology. While there are plenty of libraries available, we’ll examine ten of \n",
       "the best ones. See full list on 365datascience.com In this article, we’ve explored the definition of deep learning \n",
       "and the best deep learning frameworks you should know . Choosing which package to work with depends on your \n",
       "personal or business needs. If you ’re just getting started with deep learning and AI, pick a user-friendly library\n",
       "like TensorFlow—one of the most popular deep learning frameworks ... See full list on 365datascience.com Jun 23, \n",
       "2025 · Explore the top 15 deep learning frameworks you need to know in 2025 . Learn their unique features and how \n",
       "to choose the right one for your AI projects. Discover the top 10 most popular deep learning frameworks in 2025 , \n",
       "including TensorFlow, PyTorch, MXNet, Detectron2, SpeechBrain, and MONAI. Learn about their technical details, \n",
       "applications, and how they are shaping the future of AI in computer vision, speech recognition, medical imaging, \n",
       "and more. Dec 18, 2024 · In this guide, we’ve broken down the top deep learning frameworks for 2025 , highlighting \n",
       "the unique features and benefits of each one—so you can find the right tool for your task, without wasting time on \n",
       "frameworks that don’t align with your goals.\n",
       "\n",
       "[Top Deep Learning Frameworks to Learn in 2025 - upGrad](https://www.upgrad.com/blog/top-deep-learning-frameworks/)\n",
       "Jun 23, 2025 · Explore the top 15 deep learning frameworks you need to know in 2025 . Learn their unique features \n",
       "and how to choose the right one for your AI projects.\n",
       "\n",
       "[Top 10 Most Popular Machine Learning Frameworks in 2025 \n",
       "...](https://zediot.com/blog/top-10-most-popular-machine-learning-frameworks/)\n",
       "Discover the top 10 most popular deep learning frameworks in 2025 , including TensorFlow, PyTorch, MXNet, \n",
       "Detectron2, SpeechBrain, and MONAI. Learn about their technical details, applications, and how they are shaping the\n",
       "future of AI in computer vision, speech recognition, medical imaging, and more.\n",
       "\n",
       "[Top Deep Learning Frameworks to Know in 2025 - codewave.com](https://codewave.com/insights/top-dl-frameworks/)\n",
       "Dec 18, 2024 · In this guide, we’ve broken down the top deep learning frameworks for 2025 , highlighting the unique\n",
       "features and benefits of each one—so you can find the right tool for your task, without wasting time on frameworks \n",
       "that don’t align with your goals.\n",
       "\n",
       "[Best Artificial Intelligence Software: User Reviews from October \n",
       "2025](https://www.g2.com/categories/artificial-intelligence)\n",
       "Looking to explore the latest in Artifical Intelligence (AI) software solutions? Read real user reviews, compare \n",
       "pricing, alternative software products...\n",
       "\n",
       "[Machine Learning (ML) for Natural Language Processing... - \n",
       "Lexalytics](https://www.lexalytics.com/blog/machine-learning-natural-language-processing/)\n",
       "This article explains how machine learning can solve problems in natural language processing and text analytics and\n",
       "why a hybrid ML-NLP approach is best.\n",
       "\n",
       "[Grammar - Learning English Online](https://www.learning-english-online.net/grammar/)\n",
       "Detailed explanations and diverse exercises on English grammar. With many examples of how to form and how to use \n",
       "grammatical structures. Learning English Online.\n",
       "\n",
       "[Top 8 Deep Learning Frameworks You Should Know | \n",
       "2025](https://www.simplilearn.com/tutorials/deep-learning-tutorial/deep-learning-frameworks)\n",
       "\n",
       "\n",
       "Out: None\n",
       "</pre>\n"
      ],
      "text/plain": [
       "\u001b[1mExecution logs:\u001b[0m\n",
       "## Search Results\n",
       "\n",
       "[Top 10 Deep Learning Frameworks You Should Know in \n",
       "2025](https://www.analyticsinsight.net/artificial-intelligence/top-10-deep-learning-frameworks-you-should-know-in-2\n",
       "025)\n",
       "Sep 20, 2025 · Discover the top 10 AI frameworks shaping deep learning in 2025 . From TensorFlow to Hugging Face, \n",
       "explore tools driving innovation.\n",
       "\n",
       "[7 Best Deep Learning Frameworks You Should Know in \n",
       "2025](https://www.geeksforgeeks.org/deep-learning/deep-learning-frameworks/)\n",
       "Sep 13, 2025 · Deep learning frameworks are the backbone of AI development, offering pre-built modules, \n",
       "optimization libraries and deployment tools that make building complex neural networks much faster and easier.\n",
       "\n",
       "[Top 10 Deep Learning Frameworks in 2025 - 365 Data Science Top Deep Learning Frameworks to Learn in 2025 - upGrad \n",
       "Top 10 Most Popular Machine Learning Frameworks in 2025 ... Top Deep Learning Frameworks to Know in 2025 - \n",
       "codewave.com](https://365datascience.com/trending/deep-learning-frameworks/)\n",
       "See full list on 365datascience.com The machine learning process involves taking data to construct a model in order\n",
       "to analyze or infer information, and ultimately, make a prediction. Deep learning expands regular ML to \n",
       "continuously add to the model’s capabilities of understanding complex data features. This enables DL algorithms to \n",
       "input not only numbers, but also images, text, soun... See full list on 365datascience.com A deep learning \n",
       "framework is a software library that equips data science and ML professionals with the tools to train deep learning\n",
       "models. These packages feature layers, activation functions, optimizers, and loss functions, utilized to create \n",
       "various types of deep neural network architectures. Deep learning frameworks typically have a programming ... See \n",
       "full list on 365datascience.com There are several deep learning frameworks suitable for people with little \n",
       "experience with machine learning technology. While there are plenty of libraries available, we’ll examine ten of \n",
       "the best ones. See full list on 365datascience.com In this article, we’ve explored the definition of deep learning \n",
       "and the best deep learning frameworks you should know . Choosing which package to work with depends on your \n",
       "personal or business needs. If you ’re just getting started with deep learning and AI, pick a user-friendly library\n",
       "like TensorFlow—one of the most popular deep learning frameworks ... See full list on 365datascience.com Jun 23, \n",
       "2025 · Explore the top 15 deep learning frameworks you need to know in 2025 . Learn their unique features and how \n",
       "to choose the right one for your AI projects. Discover the top 10 most popular deep learning frameworks in 2025 , \n",
       "including TensorFlow, PyTorch, MXNet, Detectron2, SpeechBrain, and MONAI. Learn about their technical details, \n",
       "applications, and how they are shaping the future of AI in computer vision, speech recognition, medical imaging, \n",
       "and more. Dec 18, 2024 · In this guide, we’ve broken down the top deep learning frameworks for 2025 , highlighting \n",
       "the unique features and benefits of each one—so you can find the right tool for your task, without wasting time on \n",
       "frameworks that don’t align with your goals.\n",
       "\n",
       "[Top Deep Learning Frameworks to Learn in 2025 - upGrad](https://www.upgrad.com/blog/top-deep-learning-frameworks/)\n",
       "Jun 23, 2025 · Explore the top 15 deep learning frameworks you need to know in 2025 . Learn their unique features \n",
       "and how to choose the right one for your AI projects.\n",
       "\n",
       "[Top 10 Most Popular Machine Learning Frameworks in 2025 \n",
       "...](https://zediot.com/blog/top-10-most-popular-machine-learning-frameworks/)\n",
       "Discover the top 10 most popular deep learning frameworks in 2025 , including TensorFlow, PyTorch, MXNet, \n",
       "Detectron2, SpeechBrain, and MONAI. Learn about their technical details, applications, and how they are shaping the\n",
       "future of AI in computer vision, speech recognition, medical imaging, and more.\n",
       "\n",
       "[Top Deep Learning Frameworks to Know in 2025 - codewave.com](https://codewave.com/insights/top-dl-frameworks/)\n",
       "Dec 18, 2024 · In this guide, we’ve broken down the top deep learning frameworks for 2025 , highlighting the unique\n",
       "features and benefits of each one—so you can find the right tool for your task, without wasting time on frameworks \n",
       "that don’t align with your goals.\n",
       "\n",
       "[Best Artificial Intelligence Software: User Reviews from October \n",
       "2025](https://www.g2.com/categories/artificial-intelligence)\n",
       "Looking to explore the latest in Artifical Intelligence (AI) software solutions? Read real user reviews, compare \n",
       "pricing, alternative software products...\n",
       "\n",
       "[Machine Learning (ML) for Natural Language Processing... - \n",
       "Lexalytics](https://www.lexalytics.com/blog/machine-learning-natural-language-processing/)\n",
       "This article explains how machine learning can solve problems in natural language processing and text analytics and\n",
       "why a hybrid ML-NLP approach is best.\n",
       "\n",
       "[Grammar - Learning English Online](https://www.learning-english-online.net/grammar/)\n",
       "Detailed explanations and diverse exercises on English grammar. With many examples of how to form and how to use \n",
       "grammatical structures. Learning English Online.\n",
       "\n",
       "[Top 8 Deep Learning Frameworks You Should Know | \n",
       "2025](https://www.simplilearn.com/tutorials/deep-learning-tutorial/deep-learning-frameworks)\n",
       "\n",
       "\n",
       "Out: None\n"
      ]
     },
     "metadata": {},
     "output_type": "display_data"
    },
    {
     "data": {
      "text/html": [
       "<pre style=\"white-space:pre;overflow-x:auto;line-height:normal;font-family:Menlo,'DejaVu Sans Mono',consolas,'Courier New',monospace\"><span style=\"color: #7f7f7f; text-decoration-color: #7f7f7f\">[Step 19: Duration 3.12 seconds| Input tokens: 219,774 | Output tokens: 1,353]</span>\n",
       "</pre>\n"
      ],
      "text/plain": [
       "\u001b[2m[Step 19: Duration 3.12 seconds| Input tokens: 219,774 | Output tokens: 1,353]\u001b[0m\n"
      ]
     },
     "metadata": {},
     "output_type": "display_data"
    },
    {
     "data": {
      "text/html": [
       "<pre style=\"white-space:pre;overflow-x:auto;line-height:normal;font-family:Menlo,'DejaVu Sans Mono',consolas,'Courier New',monospace\"><span style=\"color: #d4b702; text-decoration-color: #d4b702\">━━━━━━━━━━━━━━━━━━━━━━━━━━━━━━━━━━━━━━━━━━━━━━━━━━━━━ </span><span style=\"font-weight: bold\">Step 20</span><span style=\"color: #d4b702; text-decoration-color: #d4b702\"> ━━━━━━━━━━━━━━━━━━━━━━━━━━━━━━━━━━━━━━━━━━━━━━━━━━━━━</span>\n",
       "</pre>\n"
      ],
      "text/plain": [
       "\u001b[38;2;212;183;2m━━━━━━━━━━━━━━━━━━━━━━━━━━━━━━━━━━━━━━━━━━━━━━━━━━━━━ \u001b[0m\u001b[1mStep 20\u001b[0m\u001b[38;2;212;183;2m ━━━━━━━━━━━━━━━━━━━━━━━━━━━━━━━━━━━━━━━━━━━━━━━━━━━━━\u001b[0m\n"
      ]
     },
     "metadata": {},
     "output_type": "display_data"
    },
    {
     "data": {
      "text/html": [
       "<pre style=\"white-space:pre;overflow-x:auto;line-height:normal;font-family:Menlo,'DejaVu Sans Mono',consolas,'Courier New',monospace\"> ─ <span style=\"font-weight: bold\">Executing parsed code:</span> ──────────────────────────────────────────────────────────────────────────────────────── \n",
       "  <span style=\"color: #f8f8f2; text-decoration-color: #f8f8f2; background-color: #272822\">page_content </span><span style=\"color: #ff4689; text-decoration-color: #ff4689; background-color: #272822\">=</span><span style=\"color: #f8f8f2; text-decoration-color: #f8f8f2; background-color: #272822\"> web_search(</span><span style=\"color: #e6db74; text-decoration-color: #e6db74; background-color: #272822\">\"https://www.weetechsolution.com/blog/most-popular-deep-learning-frameworks\"</span><span style=\"color: #f8f8f2; text-decoration-color: #f8f8f2; background-color: #272822\">)</span><span style=\"background-color: #272822\">        </span>  \n",
       "  <span style=\"color: #f8f8f2; text-decoration-color: #f8f8f2; background-color: #272822\">print(page_content)</span><span style=\"background-color: #272822\">                                                                                            </span>  \n",
       " ───────────────────────────────────────────────────────────────────────────────────────────────────────────────── \n",
       "</pre>\n"
      ],
      "text/plain": [
       " ─ \u001b[1mExecuting parsed code:\u001b[0m ──────────────────────────────────────────────────────────────────────────────────────── \n",
       "  \u001b[38;2;248;248;242;48;2;39;40;34mpage_content\u001b[0m\u001b[38;2;248;248;242;48;2;39;40;34m \u001b[0m\u001b[38;2;255;70;137;48;2;39;40;34m=\u001b[0m\u001b[38;2;248;248;242;48;2;39;40;34m \u001b[0m\u001b[38;2;248;248;242;48;2;39;40;34mweb_search\u001b[0m\u001b[38;2;248;248;242;48;2;39;40;34m(\u001b[0m\u001b[38;2;230;219;116;48;2;39;40;34m\"\u001b[0m\u001b[38;2;230;219;116;48;2;39;40;34mhttps://www.weetechsolution.com/blog/most-popular-deep-learning-frameworks\u001b[0m\u001b[38;2;230;219;116;48;2;39;40;34m\"\u001b[0m\u001b[38;2;248;248;242;48;2;39;40;34m)\u001b[0m\u001b[48;2;39;40;34m        \u001b[0m  \n",
       "  \u001b[38;2;248;248;242;48;2;39;40;34mprint\u001b[0m\u001b[38;2;248;248;242;48;2;39;40;34m(\u001b[0m\u001b[38;2;248;248;242;48;2;39;40;34mpage_content\u001b[0m\u001b[38;2;248;248;242;48;2;39;40;34m)\u001b[0m\u001b[48;2;39;40;34m                                                                                            \u001b[0m  \n",
       " ───────────────────────────────────────────────────────────────────────────────────────────────────────────────── \n"
      ]
     },
     "metadata": {},
     "output_type": "display_data"
    },
    {
     "data": {
      "text/html": [
       "<pre style=\"white-space:pre;overflow-x:auto;line-height:normal;font-family:Menlo,'DejaVu Sans Mono',consolas,'Courier New',monospace\"><span style=\"font-weight: bold\">Execution logs:</span>\n",
       "## Search Results\n",
       "\n",
       "[18 Most Popular Deep Learning Frameworks 2025 | DL \n",
       "Frameworks](https://www.weetechsolution.com/blog/most-popular-deep-learning-frameworks)\n",
       "Mar 3, 2025 · Which are the Most Popular Deep Learning Frameworks in 2025? Discover the top AI tools transforming \n",
       "machine learning. Read more! Learn how DL frameworks simplify AI development and power the latest Deep Learning \n",
       "Frameworks .\n",
       "\n",
       "[7 Best Deep Learning Frameworks You Should Know in \n",
       "2025](https://www.geeksforgeeks.org/deep-learning/deep-learning-frameworks/)\n",
       "Sep 13, 2025 · Deep learning frameworks are the backbone of AI development, offering pre-built modules, \n",
       "optimization libraries and deployment tools that make building complex neural networks much faster and easier.\n",
       "\n",
       "[Top 10 Deep Learning Frameworks in 2025 - 365 Data Science Top 10 Most Popular Machine Learning Frameworks in 2025\n",
       "... Top Deep Learning Frameworks to Know in 2025 - codewave.com Top Deep Learning Frameworks to Learn in 2025 - \n",
       "upGrad Top 11 Deep Learning Frameworks – Best Neural Network &amp; ML \n",
       "...](https://365datascience.com/trending/deep-learning-frameworks/)\n",
       "See full list on 365datascience. com The machine learning process involves taking data to construct a model in \n",
       "order to analyze or infer information, and ultimately, make a prediction. Deep learning expands regular ML to \n",
       "continuously add to the model’s capabilities of understanding complex data features. This enables DL algorithms to \n",
       "input not only numbers, but also images, text, soun... See full list on 365datascience. com A deep learning \n",
       "framework is a software library that equips data science and ML professionals with the tools to train deep learning\n",
       "models. These packages feature layers, activation functions, optimizers, and loss functions, utilized to create \n",
       "various types of deep neural network architectures. Deep learning frameworks typically have a programming ... See \n",
       "full list on 365datascience. com There are several deep learning frameworks suitable for people with little \n",
       "experience with machine learning technology. While there are plenty of libraries available, we’ll examine ten of \n",
       "the best ones. See full list on 365datascience. com In this article, we’ve explored the definition of deep learning\n",
       "and the best deep learning frameworks you should know. Choosing which package to work with depends on your personal\n",
       "or business needs. If you’re just getting started with deep learning and AI, pick a user-friendly library like \n",
       "TensorFlow —one of the most popular deep learning frameworks... See full list on 365datascience. com Discover the \n",
       "top 10 most popular deep learning frameworks in 2025, including TensorFlow, PyTorch, MXNet, Detectron2, \n",
       "SpeechBrain, and MONAI. Learn about their technical details, applications, and how they are shaping the future of \n",
       "AI in computer vision, speech recognition, medical imaging, and more. Dec 18, 2024 · In this guide, we’ve broken \n",
       "down the top deep learning frameworks for 2025, highlighting the unique features and benefits of each one—so you \n",
       "can find the right tool for your task, without wasting time on frameworks that don’t align with your goals. Jun 23,\n",
       "2025 · This article ranks the top 15 deep learning frameworks in 2025, emphasizing GPU acceleration and deployment \n",
       "flexibility. Frameworks such as TensorFlow, PyTorch, and Keras are crucial for building high-performance models in \n",
       "areas like autonomous driving and medical imaging. In this post, we present a curated list of 15 most popular deep \n",
       "learning frameworks shaping the AI landscape in 2025. We'll explore each tool’s unique strengths and innovations to\n",
       "help you choose the perfect foundation for your next AI project.\n",
       "\n",
       "[Top 10 Most Popular Machine Learning Frameworks in 2025 \n",
       "...](https://zediot.com/blog/top-10-most-popular-machine-learning-frameworks/)\n",
       "Discover the top 10 most popular deep learning frameworks in 2025, including TensorFlow, PyTorch, MXNet, \n",
       "Detectron2, SpeechBrain, and MONAI. Learn about their technical details, applications, and how they are shaping the\n",
       "future of AI in computer vision, speech recognition, medical imaging, and more.\n",
       "\n",
       "[Top Deep Learning Frameworks to Know in 2025 - codewave.com](https://codewave.com/insights/top-dl-frameworks/)\n",
       "Dec 18, 2024 · In this guide, we’ve broken down the top deep learning frameworks for 2025, highlighting the unique \n",
       "features and benefits of each one—so you can find the right tool for your task, without wasting time on frameworks \n",
       "that don’t align with your goals.\n",
       "\n",
       "[Top Deep Learning Frameworks to Learn in 2025 - upGrad](https://www.upgrad.com/blog/top-deep-learning-frameworks/)\n",
       "Jun 23, 2025 · This article ranks the top 15 deep learning frameworks in 2025, emphasizing GPU acceleration and \n",
       "deployment flexibility. Frameworks such as TensorFlow, PyTorch, and Keras are crucial for building high-performance\n",
       "models in areas like autonomous driving and medical imaging.\n",
       "\n",
       "[Top 11 Deep Learning Frameworks – Best Neural Network &amp; ML \n",
       "...](https://marutitech.com/top-8-deep-learning-frameworks/)\n",
       "In this post, we present a curated list of 15 most popular deep learning frameworks shaping the AI landscape in \n",
       "2025. We'll explore each tool’s unique strengths and innovations to help you choose the perfect foundation for your\n",
       "next AI project.\n",
       "\n",
       "[Python Modules, Packages, Libraries, and... | LearnPython. \n",
       "com](https://learnpython.com/blog/python-modules-packages-libraries-frameworks/)\n",
       "Let’s discuss the difference between Python modules, packages, libraries, and frameworks – in simple terms and with\n",
       "multiple examples.\n",
       "\n",
       "[learn \n",
       ".deeplearning.ai/courses/chatgpt-prompt-eng/lesson/dfbds...](https://learn.deeplearning.ai/courses/chatgpt-prompt-e\n",
       "ng/lesson/dfbds/introduction)\n",
       "The site owner hides the web page description.\n",
       "\n",
       "[Top 30 Python Libraries To Know in 2025](https://www.mygreatlearning.com/blog/open-source-python-libraries/)\n",
       "Python Libraries: This article gives you a list of python libraries to learn in 2025 and get more insights about \n",
       "open-source libraries.\n",
       "\n",
       "Out: None\n",
       "</pre>\n"
      ],
      "text/plain": [
       "\u001b[1mExecution logs:\u001b[0m\n",
       "## Search Results\n",
       "\n",
       "[18 Most Popular Deep Learning Frameworks 2025 | DL \n",
       "Frameworks](https://www.weetechsolution.com/blog/most-popular-deep-learning-frameworks)\n",
       "Mar 3, 2025 · Which are the Most Popular Deep Learning Frameworks in 2025? Discover the top AI tools transforming \n",
       "machine learning. Read more! Learn how DL frameworks simplify AI development and power the latest Deep Learning \n",
       "Frameworks .\n",
       "\n",
       "[7 Best Deep Learning Frameworks You Should Know in \n",
       "2025](https://www.geeksforgeeks.org/deep-learning/deep-learning-frameworks/)\n",
       "Sep 13, 2025 · Deep learning frameworks are the backbone of AI development, offering pre-built modules, \n",
       "optimization libraries and deployment tools that make building complex neural networks much faster and easier.\n",
       "\n",
       "[Top 10 Deep Learning Frameworks in 2025 - 365 Data Science Top 10 Most Popular Machine Learning Frameworks in 2025\n",
       "... Top Deep Learning Frameworks to Know in 2025 - codewave.com Top Deep Learning Frameworks to Learn in 2025 - \n",
       "upGrad Top 11 Deep Learning Frameworks – Best Neural Network & ML \n",
       "...](https://365datascience.com/trending/deep-learning-frameworks/)\n",
       "See full list on 365datascience. com The machine learning process involves taking data to construct a model in \n",
       "order to analyze or infer information, and ultimately, make a prediction. Deep learning expands regular ML to \n",
       "continuously add to the model’s capabilities of understanding complex data features. This enables DL algorithms to \n",
       "input not only numbers, but also images, text, soun... See full list on 365datascience. com A deep learning \n",
       "framework is a software library that equips data science and ML professionals with the tools to train deep learning\n",
       "models. These packages feature layers, activation functions, optimizers, and loss functions, utilized to create \n",
       "various types of deep neural network architectures. Deep learning frameworks typically have a programming ... See \n",
       "full list on 365datascience. com There are several deep learning frameworks suitable for people with little \n",
       "experience with machine learning technology. While there are plenty of libraries available, we’ll examine ten of \n",
       "the best ones. See full list on 365datascience. com In this article, we’ve explored the definition of deep learning\n",
       "and the best deep learning frameworks you should know. Choosing which package to work with depends on your personal\n",
       "or business needs. If you’re just getting started with deep learning and AI, pick a user-friendly library like \n",
       "TensorFlow —one of the most popular deep learning frameworks... See full list on 365datascience. com Discover the \n",
       "top 10 most popular deep learning frameworks in 2025, including TensorFlow, PyTorch, MXNet, Detectron2, \n",
       "SpeechBrain, and MONAI. Learn about their technical details, applications, and how they are shaping the future of \n",
       "AI in computer vision, speech recognition, medical imaging, and more. Dec 18, 2024 · In this guide, we’ve broken \n",
       "down the top deep learning frameworks for 2025, highlighting the unique features and benefits of each one—so you \n",
       "can find the right tool for your task, without wasting time on frameworks that don’t align with your goals. Jun 23,\n",
       "2025 · This article ranks the top 15 deep learning frameworks in 2025, emphasizing GPU acceleration and deployment \n",
       "flexibility. Frameworks such as TensorFlow, PyTorch, and Keras are crucial for building high-performance models in \n",
       "areas like autonomous driving and medical imaging. In this post, we present a curated list of 15 most popular deep \n",
       "learning frameworks shaping the AI landscape in 2025. We'll explore each tool’s unique strengths and innovations to\n",
       "help you choose the perfect foundation for your next AI project.\n",
       "\n",
       "[Top 10 Most Popular Machine Learning Frameworks in 2025 \n",
       "...](https://zediot.com/blog/top-10-most-popular-machine-learning-frameworks/)\n",
       "Discover the top 10 most popular deep learning frameworks in 2025, including TensorFlow, PyTorch, MXNet, \n",
       "Detectron2, SpeechBrain, and MONAI. Learn about their technical details, applications, and how they are shaping the\n",
       "future of AI in computer vision, speech recognition, medical imaging, and more.\n",
       "\n",
       "[Top Deep Learning Frameworks to Know in 2025 - codewave.com](https://codewave.com/insights/top-dl-frameworks/)\n",
       "Dec 18, 2024 · In this guide, we’ve broken down the top deep learning frameworks for 2025, highlighting the unique \n",
       "features and benefits of each one—so you can find the right tool for your task, without wasting time on frameworks \n",
       "that don’t align with your goals.\n",
       "\n",
       "[Top Deep Learning Frameworks to Learn in 2025 - upGrad](https://www.upgrad.com/blog/top-deep-learning-frameworks/)\n",
       "Jun 23, 2025 · This article ranks the top 15 deep learning frameworks in 2025, emphasizing GPU acceleration and \n",
       "deployment flexibility. Frameworks such as TensorFlow, PyTorch, and Keras are crucial for building high-performance\n",
       "models in areas like autonomous driving and medical imaging.\n",
       "\n",
       "[Top 11 Deep Learning Frameworks – Best Neural Network & ML \n",
       "...](https://marutitech.com/top-8-deep-learning-frameworks/)\n",
       "In this post, we present a curated list of 15 most popular deep learning frameworks shaping the AI landscape in \n",
       "2025. We'll explore each tool’s unique strengths and innovations to help you choose the perfect foundation for your\n",
       "next AI project.\n",
       "\n",
       "[Python Modules, Packages, Libraries, and... | LearnPython. \n",
       "com](https://learnpython.com/blog/python-modules-packages-libraries-frameworks/)\n",
       "Let’s discuss the difference between Python modules, packages, libraries, and frameworks – in simple terms and with\n",
       "multiple examples.\n",
       "\n",
       "[learn \n",
       ".deeplearning.ai/courses/chatgpt-prompt-eng/lesson/dfbds...](https://learn.deeplearning.ai/courses/chatgpt-prompt-e\n",
       "ng/lesson/dfbds/introduction)\n",
       "The site owner hides the web page description.\n",
       "\n",
       "[Top 30 Python Libraries To Know in 2025](https://www.mygreatlearning.com/blog/open-source-python-libraries/)\n",
       "Python Libraries: This article gives you a list of python libraries to learn in 2025 and get more insights about \n",
       "open-source libraries.\n",
       "\n",
       "Out: None\n"
      ]
     },
     "metadata": {},
     "output_type": "display_data"
    },
    {
     "data": {
      "text/html": [
       "<pre style=\"white-space:pre;overflow-x:auto;line-height:normal;font-family:Menlo,'DejaVu Sans Mono',consolas,'Courier New',monospace\"><span style=\"color: #7f7f7f; text-decoration-color: #7f7f7f\">[Step 20: Duration 3.69 seconds| Input tokens: 242,572 | Output tokens: 1,433]</span>\n",
       "</pre>\n"
      ],
      "text/plain": [
       "\u001b[2m[Step 20: Duration 3.69 seconds| Input tokens: 242,572 | Output tokens: 1,433]\u001b[0m\n"
      ]
     },
     "metadata": {},
     "output_type": "display_data"
    },
    {
     "data": {
      "text/html": [
       "<pre style=\"white-space:pre;overflow-x:auto;line-height:normal;font-family:Menlo,'DejaVu Sans Mono',consolas,'Courier New',monospace\"><span style=\"color: #800000; text-decoration-color: #800000; font-weight: bold\">Reached max steps.</span>\n",
       "</pre>\n"
      ],
      "text/plain": [
       "\u001b[1;31mReached max steps.\u001b[0m\n"
      ]
     },
     "metadata": {},
     "output_type": "display_data"
    },
    {
     "data": {
      "text/html": [
       "<pre style=\"white-space:pre;overflow-x:auto;line-height:normal;font-family:Menlo,'DejaVu Sans Mono',consolas,'Courier New',monospace\"><span style=\"color: #7f7f7f; text-decoration-color: #7f7f7f\">[Step 21: Duration 5.43 seconds| Input tokens: 264,855 | Output tokens: 1,926]</span>\n",
       "</pre>\n"
      ],
      "text/plain": [
       "\u001b[2m[Step 21: Duration 5.43 seconds| Input tokens: 264,855 | Output tokens: 1,926]\u001b[0m\n"
      ]
     },
     "metadata": {},
     "output_type": "display_data"
    },
    {
     "data": {
      "text/plain": [
       "'Based on the information gathered from various sources, here are some of the most popular deep learning frameworks in 2025:\\n\\n1. **TensorFlow**: Known for its scalability and flexibility, TensorFlow is widely used for building and deploying machine learning models. It is particularly popular for its support for distributed computing and its extensive ecosystem of tools and libraries.\\n\\n2. **PyTorch**: PyTorch is favored for its dynamic computation graph and ease of use, making it a popular choice for research and prototyping. It is also known for its strong community support and integration with other libraries.\\n\\n3. **Keras**: Keras is a high-level neural networks API that runs on top of TensorFlow. It is known for its user-friendly interface and simplicity, making it a good choice for beginners and those looking to quickly prototype models.\\n\\n4. **MXNet**: MXNet is a scalable deep learning framework that supports both imperative and declarative programming. It is known for its efficiency and performance, particularly in distributed training.\\n\\n5. **Caffe**: Caffe is a deep learning framework known for its speed and modularity. It is particularly popular for its ease of use and extensive pre-trained models.\\n\\n6. **Detectron2**: Detectron2 is a PyTorch-based library for object detection and segmentation. It is known for its high performance and ease of use.\\n\\n7. **SpeechBrain**: SpeechBrain is a deep learning toolkit for speech processing. It is known for its flexibility and support for a wide range of tasks, including speech recognition and synthesis.\\n\\n8. **MONAI**: MONAI is a deep learning framework specifically designed for medical imaging. It is known for its comprehensive set of tools and pre-trained models for medical image analysis.\\n\\n9. **Hugging Face**: Hugging Face is known for its transformers library, which provides pre-trained models for natural language processing tasks. It is widely used for tasks such as text classification, translation, and question answering.\\n\\n10. **JAX**: JAX is a numerical computing library that provides composable transformations of Python+XLA functions, including differentiation, parallelization, and more. It is known for its flexibility and performance.\\n\\nThese frameworks are shaping the AI landscape in 2025 by providing powerful tools for building, training, and deploying deep learning models across various domains such as computer vision, natural language processing, speech recognition, and medical imaging.'"
      ]
     },
     "execution_count": 6,
     "metadata": {},
     "output_type": "execute_result"
    }
   ],
   "source": [
    "from smolagents import OpenAIServerModel, DuckDuckGoSearchTool, CodeAgent, Tool\n",
    "import os\n",
    "import re\n",
    "\n",
    "OPENROUTER_API_KEY = os.environ[\"OPENROUTER_API_KEY\"]\n",
    "\n",
    "class UnitConversionTool(Tool):\n",
    "    name = \"UnitConversionTool\"\n",
    "    description = \"Converts units of length and weight\"\n",
    "    inputs = {\n",
    "        \"query\" : {\n",
    "            \"type\":\"string\",\n",
    "            \"description\":\"Conversion query\"\n",
    "        }\n",
    "    }\n",
    "    output_type = \"string\"\n",
    "\n",
    "    def forward(self, query:str) -> str :\n",
    "        query = query.lower().replace(\"convert\",\"\").strip() #NOrmalize the query\n",
    "        pattern = r\"([\\d\\.]+)\\s*([a-zA-Z]+)\\s*(?:to|in)\\s*([a-zA-Z]+)\"\n",
    "        match = re.match(pattern, query)\n",
    "\n",
    "        if not match :\n",
    "            return \"Invalid query format. Use like '5km to miles'\"\n",
    "        \n",
    "        value, from_unit, to_unit = match.groups()\n",
    "        value = float(value)\n",
    "\n",
    "        # Map aliases\n",
    "        aliases = {\"meters\": \"m\", \"meter\": \"m\", \"kilometers\": \"km\", \"km\": \"km\",\n",
    "                    \"miles\": \"mi\", \"mile\": \"mi\", \"grams\": \"g\", \"kilograms\": \"kg\",\n",
    "                    \"kg\": \"kg\", \"pounds\": \"lb\", \"lb\": \"lb\", \"ounces\": \"oz\", \"oz\": \"oz\"}\n",
    "        \n",
    "        from_unit = aliases.get(from_unit)\n",
    "        to_unit = aliases.get(to_unit)\n",
    "\n",
    "        # Conversion factors\n",
    "        factors = {\n",
    "                (\"m\", \"km\"): 0.001, (\"km\", \"m\"): 1000,\n",
    "                (\"m\", \"mi\"): 0.000621371, (\"mi\", \"m\"): 1609.34,\n",
    "                (\"km\", \"mi\"): 0.621371, (\"mi\", \"km\"): 1.60934,\n",
    "                (\"kg\", \"lb\"): 2.20462, (\"lb\", \"kg\"): 0.453592,\n",
    "                (\"kg\", \"g\"): 1000, (\"g\", \"kg\"): 0.001,\n",
    "                (\"lb\", \"g\"): 453.592, (\"g\", \"lb\"): 0.00220462,\n",
    "                (\"oz\", \"g\"): 28.3495, (\"g\", \"oz\"): 0.035274\n",
    "            }\n",
    "\n",
    "        if (from_unit, to_unit) not in factors :\n",
    "            return f\"Conversion from {from_unit} to {to_unit} is not supported.\"\n",
    "        \n",
    "        result = value * factors[(from_unit, to_unit)]\n",
    "        return f\"{value} {from_unit} = {result:.4f} {to_unit}\"\n",
    "    \n",
    "devstral = OpenAIServerModel(\n",
    "    model_id=\"mistralai/devstral-small-2505\",\n",
    "    api_base=\"https://openrouter.ai/api/v1\",\n",
    "    api_key=OPENROUTER_API_KEY\n",
    ")\n",
    "\n",
    "code_agent = CodeAgent(\n",
    "    model= devstral,\n",
    "    tools = [DuckDuckGoSearchTool(), UnitConversionTool()],\n",
    "    additional_authorized_imports=[\"math\", \"re\", \"datetime\"]\n",
    ")\n",
    "\n",
    "user_query = input(\"Enter user query : \")\n",
    "code_agent.run(user_query)\n"
   ]
  },
  {
   "cell_type": "code",
   "execution_count": 1,
   "id": "a28f4e18",
   "metadata": {},
   "outputs": [],
   "source": [
    "import os, json, pickle, base64\n",
    "\n",
    "# Get secrets from environment\n",
    "credentials_data = os.getenv(\"GMAIL_CREDENTIALS_JSON\")\n"
   ]
  },
  {
   "cell_type": "code",
   "execution_count": 5,
   "id": "2478df59",
   "metadata": {},
   "outputs": [
    {
     "name": "stdout",
     "output_type": "stream",
     "text": [
      "Please visit this URL to authorize this application: https://accounts.google.com/o/oauth2/auth?response_type=code&client_id=960072319553-amgvgitqqde2l5bucsao6bnp1rtqu9q8.apps.googleusercontent.com&redirect_uri=http%3A%2F%2Flocalhost%3A37721%2F&scope=https%3A%2F%2Fwww.googleapis.com%2Fauth%2Fgmail.modify+https%3A%2F%2Fwww.googleapis.com%2Fauth%2Fcalendar&state=GY4gqIelif1gvLqDUgQYNQwhAAB8NC&access_type=offline\n"
     ]
    },
    {
     "ename": "KeyboardInterrupt",
     "evalue": "",
     "output_type": "error",
     "traceback": [
      "\u001b[31m---------------------------------------------------------------------------\u001b[39m",
      "\u001b[31mKeyboardInterrupt\u001b[39m                         Traceback (most recent call last)",
      "\u001b[36mCell\u001b[39m\u001b[36m \u001b[39m\u001b[32mIn[5]\u001b[39m\u001b[32m, line 15\u001b[39m\n\u001b[32m     13\u001b[39m \u001b[38;5;66;03m# Use from_client_config instead of from_client_secrets_file\u001b[39;00m\n\u001b[32m     14\u001b[39m flow = InstalledAppFlow.from_client_config(creds_dict, SCOPES)\n\u001b[32m---> \u001b[39m\u001b[32m15\u001b[39m creds = \u001b[43mflow\u001b[49m\u001b[43m.\u001b[49m\u001b[43mrun_local_server\u001b[49m\u001b[43m(\u001b[49m\u001b[43mport\u001b[49m\u001b[43m=\u001b[49m\u001b[32;43m0\u001b[39;49m\u001b[43m)\u001b[49m\n\u001b[32m     17\u001b[39m \u001b[38;5;28;01mwith\u001b[39;00m \u001b[38;5;28mopen\u001b[39m(\u001b[33m\"\u001b[39m\u001b[33mtoken.pkl\u001b[39m\u001b[33m\"\u001b[39m, \u001b[33m\"\u001b[39m\u001b[33mwb\u001b[39m\u001b[33m\"\u001b[39m) \u001b[38;5;28;01mas\u001b[39;00m token:\n\u001b[32m     18\u001b[39m     pickle.dump(creds, token)\n",
      "\u001b[36mFile \u001b[39m\u001b[32m/usr/local/python/3.12.1/lib/python3.12/site-packages/google_auth_oauthlib/flow.py:453\u001b[39m, in \u001b[36mInstalledAppFlow.run_local_server\u001b[39m\u001b[34m(self, host, bind_addr, port, authorization_prompt_message, success_message, open_browser, redirect_uri_trailing_slash, timeout_seconds, token_audience, browser, **kwargs)\u001b[39m\n\u001b[32m    450\u001b[39m     \u001b[38;5;28mprint\u001b[39m(authorization_prompt_message.format(url=auth_url))\n\u001b[32m    452\u001b[39m local_server.timeout = timeout_seconds\n\u001b[32m--> \u001b[39m\u001b[32m453\u001b[39m \u001b[43mlocal_server\u001b[49m\u001b[43m.\u001b[49m\u001b[43mhandle_request\u001b[49m\u001b[43m(\u001b[49m\u001b[43m)\u001b[49m\n\u001b[32m    455\u001b[39m \u001b[38;5;66;03m# Note: using https here because oauthlib is very picky that\u001b[39;00m\n\u001b[32m    456\u001b[39m \u001b[38;5;66;03m# OAuth 2.0 should only occur over https.\u001b[39;00m\n\u001b[32m    457\u001b[39m authorization_response = wsgi_app.last_request_uri.replace(\u001b[33m\"\u001b[39m\u001b[33mhttp\u001b[39m\u001b[33m\"\u001b[39m, \u001b[33m\"\u001b[39m\u001b[33mhttps\u001b[39m\u001b[33m\"\u001b[39m)\n",
      "\u001b[36mFile \u001b[39m\u001b[32m/usr/local/python/3.12.1/lib/python3.12/socketserver.py:297\u001b[39m, in \u001b[36mBaseServer.handle_request\u001b[39m\u001b[34m(self)\u001b[39m\n\u001b[32m    294\u001b[39m selector.register(\u001b[38;5;28mself\u001b[39m, selectors.EVENT_READ)\n\u001b[32m    296\u001b[39m \u001b[38;5;28;01mwhile\u001b[39;00m \u001b[38;5;28;01mTrue\u001b[39;00m:\n\u001b[32m--> \u001b[39m\u001b[32m297\u001b[39m     \u001b[38;5;28;01mif\u001b[39;00m \u001b[43mselector\u001b[49m\u001b[43m.\u001b[49m\u001b[43mselect\u001b[49m\u001b[43m(\u001b[49m\u001b[43mtimeout\u001b[49m\u001b[43m)\u001b[49m:\n\u001b[32m    298\u001b[39m         \u001b[38;5;28;01mreturn\u001b[39;00m \u001b[38;5;28mself\u001b[39m._handle_request_noblock()\n\u001b[32m    299\u001b[39m     \u001b[38;5;28;01melse\u001b[39;00m:\n",
      "\u001b[36mFile \u001b[39m\u001b[32m/usr/local/python/3.12.1/lib/python3.12/selectors.py:415\u001b[39m, in \u001b[36m_PollLikeSelector.select\u001b[39m\u001b[34m(self, timeout)\u001b[39m\n\u001b[32m    413\u001b[39m ready = []\n\u001b[32m    414\u001b[39m \u001b[38;5;28;01mtry\u001b[39;00m:\n\u001b[32m--> \u001b[39m\u001b[32m415\u001b[39m     fd_event_list = \u001b[38;5;28;43mself\u001b[39;49m\u001b[43m.\u001b[49m\u001b[43m_selector\u001b[49m\u001b[43m.\u001b[49m\u001b[43mpoll\u001b[49m\u001b[43m(\u001b[49m\u001b[43mtimeout\u001b[49m\u001b[43m)\u001b[49m\n\u001b[32m    416\u001b[39m \u001b[38;5;28;01mexcept\u001b[39;00m \u001b[38;5;167;01mInterruptedError\u001b[39;00m:\n\u001b[32m    417\u001b[39m     \u001b[38;5;28;01mreturn\u001b[39;00m ready\n",
      "\u001b[31mKeyboardInterrupt\u001b[39m: "
     ]
    }
   ],
   "source": [
    "import os, json, pickle\n",
    "from google_auth_oauthlib.flow import InstalledAppFlow\n",
    "\n",
    "SCOPES = [\n",
    "    'https://www.googleapis.com/auth/gmail.modify',\n",
    "    'https://www.googleapis.com/auth/calendar'\n",
    "]\n",
    "\n",
    "# Load credentials from environment (as JSON string)\n",
    "creds_json = os.getenv(\"GMAIL_CREDENTIALS_JSON\")\n",
    "creds_dict = json.loads(creds_json)\n",
    "\n",
    "# Use from_client_config instead of from_client_secrets_file\n",
    "flow = InstalledAppFlow.from_client_config(creds_dict, SCOPES)\n",
    "creds = flow.run_local_server(port=0)\n",
    "\n",
    "with open(\"token.pkl\", \"wb\") as token:\n",
    "    pickle.dump(creds, token)\n",
    "\n",
    "print(\"✅ OAuth successful! token.pkl saved.\")\n"
   ]
  }
 ],
 "metadata": {
  "kernelspec": {
   "display_name": "Python 3",
   "language": "python",
   "name": "python3"
  },
  "language_info": {
   "codemirror_mode": {
    "name": "ipython",
    "version": 3
   },
   "file_extension": ".py",
   "mimetype": "text/x-python",
   "name": "python",
   "nbconvert_exporter": "python",
   "pygments_lexer": "ipython3",
   "version": "3.12.1"
  }
 },
 "nbformat": 4,
 "nbformat_minor": 5
}
